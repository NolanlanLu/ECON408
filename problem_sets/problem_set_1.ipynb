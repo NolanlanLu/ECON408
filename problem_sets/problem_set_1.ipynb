{
  "cells": [
    {
      "cell_type": "markdown",
      "metadata": {},
      "source": [
        "# ECON408: Assignment 1\n",
        "\n",
        "Jesse Perla, UBC"
      ],
      "id": "c4aa0262-8fdd-4083-b536-4b533c9c8907"
    },
    {
      "cell_type": "markdown",
      "metadata": {},
      "source": [
        "## Student Name/Number: (doubleclick to edit)"
      ],
      "id": "cb05a4af-034f-4a25-a148-9ff6c3bbc46c"
    },
    {
      "cell_type": "markdown",
      "metadata": {},
      "source": [
        "### Instructions\n",
        "\n",
        "-   Edit the above cell to include your name and student number.\n",
        "-   Submit just this `ipynb` to Canvas. Do not rename, it associates\n",
        "    your student number with the submission automatically."
      ],
      "id": "3fac8fe8-67ed-4147-84d6-48e55ee2bc68"
    },
    {
      "cell_type": "code",
      "execution_count": 1,
      "metadata": {},
      "outputs": [],
      "source": [
        "using Distributions, Plots, LaTeXStrings, LinearAlgebra, Statistics, Random"
      ],
      "id": "c5725185"
    },
    {
      "cell_type": "markdown",
      "metadata": {},
      "source": [
        "## Question 1\n",
        "\n",
        "Create the following variables:\n",
        "\n",
        "-   `D`: A floating point number with the value 10,000\n",
        "-   `r`: A floating point number with the value 0.025 (i.e., 2.5% net\n",
        "    interest rate)\n",
        "\n",
        "Compute the present discounted value of a payment (`D`) made in `t`\n",
        "years, assuming an interest rate of `r = 2.5%`. Save this value to a new\n",
        "variable called `PDV` and print your output.\n",
        "\n",
        "Hint: The formula is\n",
        "\n",
        "$$\n",
        "\\text{PDV}(D, t) = \\frac{D}{(1 + r)^t}\n",
        "$$\n",
        "\n",
        "For $t = 10$, calculate this PDV"
      ],
      "id": "1db6c5e8-5e2f-4c31-a441-9570d846b185"
    },
    {
      "cell_type": "code",
      "execution_count": 2,
      "metadata": {},
      "outputs": [],
      "source": [
        "# add code here"
      ],
      "id": "1b3002df"
    },
    {
      "cell_type": "markdown",
      "metadata": {},
      "source": [
        "## Question 2\n",
        "\n",
        "Now assume that you have an asset the pays $D$ every year from\n",
        "$t = 0,\\ldots T$. Write code which will price this as the PDV of all\n",
        "payoffs,\n",
        "\n",
        "$$\n",
        "P_T(D) = \\sum_{t=0}^{T}\\left(\\frac{1}{1+r}\n",
        "\\right)^t D\n",
        "$$\n",
        "\n",
        "### Part (a)\n",
        "\n",
        "Derive the analytic solution for the limit of\n",
        "$P_{\\infty}(D) \\equiv \\lim_{T\\to \\infty} P_T(D)$"
      ],
      "id": "392a27aa-9568-473b-a034-6be91e46d48c"
    },
    {
      "cell_type": "markdown",
      "metadata": {},
      "source": [
        "(doubleclick here to modify. Add other cells as required. No need to\n",
        "show all of your steps)\n",
        "\n",
        "$$\n",
        "P_{\\infty}(D) = ?\n",
        "$$"
      ],
      "id": "c90638dc-5282-43c2-91b1-dc57579f1ee2"
    },
    {
      "cell_type": "markdown",
      "metadata": {},
      "source": [
        "### Part (b)\n",
        "\n",
        "Plot the price as the horizon increases\n",
        "\n",
        "-   On the x-axis plot $T = 1, \\ldots 30$\n",
        "-   On the y-axis plot $P_T(D)$ at that horizon\n",
        "-   Plot a horizontal line at the asymptotic $P_{\\infty}$ you calculated"
      ],
      "id": "e8089cbe-acd4-48a2-9a87-65032c1debbd"
    },
    {
      "cell_type": "code",
      "execution_count": 5,
      "metadata": {},
      "outputs": [
        {
          "output_type": "display_data",
          "metadata": {},
          "data": {
            "text/plain": [
              "10000"
            ]
          }
        }
      ],
      "source": [
        "T_max = 30\n",
        "T = 1:T_max\n",
        "r = 0.025\n",
        "D = 10_000\n",
        "\n",
        "# add code here"
      ],
      "id": "fa2b2cf5"
    },
    {
      "cell_type": "markdown",
      "metadata": {},
      "source": [
        "## Question 3\n",
        "\n",
        "Now instead of having constant dividends, assume that dividends follow\n",
        "the process\n",
        "\n",
        "$$\\log D_{t+1} = \\log D_t + \\sigma w_{t+1}\n",
        "$$\n",
        "\n",
        "Where\n",
        "\n",
        "-   $w_{t+1} \\sim N(0,1)$ are IID unit random normals\n",
        "-   $D_0 = 1.0$\n",
        "-   $\\sigma = 0.001$\n",
        "\n",
        "### Part (a)\n",
        "\n",
        "Write code to simulate a sequence of dividends with the process and\n",
        "initial condition for $t = 0, \\ldots T = 30$."
      ],
      "id": "b857e10d-ef3e-4c37-9c05-8fd7be2272a8"
    },
    {
      "cell_type": "code",
      "execution_count": 8,
      "metadata": {},
      "outputs": [
        {
          "output_type": "display_data",
          "metadata": {},
          "data": {
            "text/plain": [
              "0.001"
            ]
          }
        }
      ],
      "source": [
        "T = 30\n",
        "D_0 = 1.0\n",
        "sigma = 0.001\n",
        "# reminder, can draw from N(0,1) with randn()\n",
        "\n",
        "# add code here for simulation"
      ],
      "id": "df3c208b"
    },
    {
      "cell_type": "markdown",
      "metadata": {},
      "source": [
        "### Part (b)\n",
        "\n",
        "Plot three simulated sequences of dividends (i.e, the $D_{t}$ for\n",
        "$t = 0, \\ldots 30$) on the same graph with the shared x-axis."
      ],
      "id": "4cd855b2-d0bd-4272-9145-e328d3691a04"
    },
    {
      "cell_type": "code",
      "execution_count": 10,
      "metadata": {},
      "outputs": [],
      "source": [
        "# add code here for plotting using your functions above"
      ],
      "id": "a9ce0cd1"
    },
    {
      "cell_type": "markdown",
      "metadata": {},
      "source": [
        "## Question 4\n",
        "\n",
        "Using the simulated sequences of dividends from Question 3, calculate\n",
        "the $P_T$ assuming perfect foresight (i.e., they were able to know the\n",
        "sequence of $w_{t+1}$ even for $t \\geq 0$). The formula remains the\n",
        "same, except where $\\{D_0, \\ldots D_T\\}$ is an argument which allows for\n",
        "time-dependent dividends\n",
        "\n",
        "$$\n",
        "P_T(\\{D_t\\}_{t=0}^T) = \\sum_{t=0}^{T}\\left(\\frac{1}{1+r}\n",
        "\\right)^t D_t\n",
        "$$\n",
        "\n",
        "All from the same $D_0 = 1.0$ initial condition calculate the\n",
        "$P_T(\\{D^n_t\\}_{t=0}^T)$ for $n = 1, \\ldots N$ simulated sequences of\n",
        "dividends (i.e. see Question 3)\n",
        "\n",
        "### Part (a)\n",
        "\n",
        "Calculate the $P_T$ above given a dividend sequence"
      ],
      "id": "75ffd041-d407-4895-9e05-284207f499c2"
    },
    {
      "cell_type": "code",
      "execution_count": 12,
      "metadata": {},
      "outputs": [
        {
          "output_type": "display_data",
          "metadata": {},
          "data": {
            "text/plain": [
              "0.001"
            ]
          }
        }
      ],
      "source": [
        "T = 30\n",
        "D_0 = 1.0\n",
        "sigma = 0.001\n",
        "# add code here for calculating P_T and check results"
      ],
      "id": "c4802109"
    },
    {
      "cell_type": "markdown",
      "metadata": {},
      "source": [
        "### Part (b)\n",
        "\n",
        "Plot a histogram of the prices for $N = 100$ simulations and compare to\n",
        "the deterministic case, which is nested if $\\sigma = 0$. (Hint: see [our\n",
        "lectures](https://jlperla.github.io/ECON408/lectures/intro.html#/more-plotting-examples)\n",
        "or [Julia By\n",
        "Example](https://julia.quantecon.org/getting_started_julia/julia_by_example.html)\n",
        "for more on histograms)"
      ],
      "id": "b21ea2b9-a191-45d9-b866-ec8bc8c3351b"
    },
    {
      "cell_type": "code",
      "execution_count": 14,
      "metadata": {},
      "outputs": [
        {
          "output_type": "display_data",
          "metadata": {},
          "data": {
            "text/plain": [
              "100"
            ]
          }
        }
      ],
      "source": [
        "N = 100\n",
        "# add code here for plotting using your functions above\n",
        "# hint: use the `histogram` function"
      ],
      "id": "8ae00505"
    }
  ],
  "nbformat": 4,
  "nbformat_minor": 5,
  "metadata": {
    "kernelspec": {
      "name": "julia-1.10",
      "display_name": "Julia 1.10.0",
      "language": "julia"
    },
    "language_info": {
      "name": "julia",
      "file_extension": ".jl",
      "mimetype": "application/julia",
      "version": "1.10.0"
    }
  }
}