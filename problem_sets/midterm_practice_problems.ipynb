{
  "cells": [
    {
      "cell_type": "markdown",
      "metadata": {},
      "source": [
        "# ECON408: Midterm Practice Problems\n",
        "\n",
        "Jesse Perla, UBC"
      ],
      "id": "98b88570-01ae-4cea-b1c1-bd284622f827"
    },
    {
      "cell_type": "markdown",
      "metadata": {},
      "source": [
        "## Student Name/Number: (doubleclick to edit)"
      ],
      "id": "5d393354-c001-49d1-92ae-2826b12b4525"
    },
    {
      "cell_type": "markdown",
      "metadata": {},
      "source": [
        "### Instructions\n",
        "\n",
        "The following are example directions for an exam.\n",
        "\n",
        "-   Ensure you modify the field above with your **name and student\n",
        "    number above immediately**\n",
        "-   The exam has **XXXXX questions**, each with multiple parts for a\n",
        "    total of **XXXXX points**. You may not finish the exam, so best to\n",
        "    do your best answering all questions to the extent possible and not\n",
        "    get stuck on any one question.\n",
        "-   **Execute the file** to begin, which will also check your setup. To\n",
        "    do this in Jupyter, in the menu go `> Run > Run All Cells` or the\n",
        "    equivalent buttons\n",
        "-   Edit this file directly, and in-place as an `ipynb` file, which we\n",
        "    will automatically download at the end of the exam time directly. In\n",
        "    particular\n",
        "    -   **DO NOT** rename this file with your name. It is automatically\n",
        "        associated with your canvas account\n",
        "    -   **DO NOT** save-as the file, move it, or export to pdf or html\n",
        "    -   **DO NOT** add any additional packages\n",
        "-   **Save** the notebook as you are working\n",
        "    -   We will only grade what is saved at the end of the exam in this\n",
        "        exact file, and it is your responsibility to ensure the file is\n",
        "        saved\n",
        "    -   We will **not** execute the notebook, so ensure all code,\n",
        "        figures, etc. are ready as-is upon saving for submission\n",
        "-   Ensure you **edit the results in the code blocks or markup blocks\n",
        "    indicated** as we will not grade anything outside of those\n",
        "    -   You will not be judged on code quality directly, but code\n",
        "        clarity may be required for us to ensure you understood the\n",
        "        problem directly\n",
        "    -   If a question requires math, you can try to put latex inside of\n",
        "        the cells but will not be judged on whether you write latex\n",
        "        vs. math in text that doesn’t quite match latex. But it should\n",
        "        be clear\n",
        "-   The exam is **closed book** except for a **one page, one-sided\n",
        "    cheat-sheet** with anything on it.\n",
        "    -   If you need to look up any documentation for a function in the\n",
        "        Jupyterhub menu, use `Settings/Show Contextual Help`, and then\n",
        "        select the function of interest.\n",
        "-   Accessing the internet **is not permitted**, though feel free to use\n",
        "    the internal help in Jupyter."
      ],
      "id": "a520c6f1-5a76-4863-8f03-b8c0a0e183bc"
    },
    {
      "cell_type": "code",
      "execution_count": 1,
      "metadata": {},
      "outputs": [],
      "source": [
        "# Packages available\n",
        "# DO NOT MODIFY OR ADD PACKAGES\n",
        "using Distributions, Plots, LaTeXStrings, LinearAlgebra, Statistics, Random"
      ],
      "id": "5bcb4f9a"
    },
    {
      "cell_type": "markdown",
      "metadata": {},
      "source": [
        "## Short Question 1\n",
        "\n",
        "Given a stochastic process $X_t$, write a paragraph describe what\n",
        "economists mean by rational expectations? Explain this from the context\n",
        "of an agent making forecasts and biases in their forecasts."
      ],
      "id": "7025490e-83cf-4b5d-858f-a806389a9df1"
    },
    {
      "cell_type": "markdown",
      "metadata": {},
      "source": [
        "(double click to edit your answer)"
      ],
      "id": "a7f39d96-3d9a-4cfb-ac9f-16293347218d"
    },
    {
      "cell_type": "markdown",
      "metadata": {},
      "source": [
        "## Short Question 2\n",
        "\n",
        "Explain what a power-law tail means for a CDF $F(x)$ and counter-cdf\n",
        "$1-F(x)$. For a stochastic process $X_t$, what features of that\n",
        "stochastic process might lead to a power-law tail in the stationary\n",
        "distribution?"
      ],
      "id": "8136738b-b28e-4e80-8ff9-37bc8249a936"
    },
    {
      "cell_type": "markdown",
      "metadata": {},
      "source": [
        "(double click to edit your answer)"
      ],
      "id": "e5cde06b-962d-4461-850f-550140974349"
    },
    {
      "cell_type": "markdown",
      "metadata": {},
      "source": [
        "## Short Question 3\n",
        "\n",
        "What is a state space model? Explain what type of problem a Kalman\n",
        "Filter solves. What are the key assumptions on the stochastic processes,\n",
        "priors, etc. that make it applicable?"
      ],
      "id": "cda8fe2f-2278-4326-a5e5-e6e164128f80"
    },
    {
      "cell_type": "markdown",
      "metadata": {},
      "source": [
        "(double click to edit your answer)"
      ],
      "id": "f0d13287-7ecd-4666-a7dc-bc61420e40c1"
    },
    {
      "cell_type": "markdown",
      "metadata": {},
      "source": [
        "## Short Question 4\n",
        "\n",
        "What is the definition of a Martingale? Take the following stochastic\n",
        "process\n",
        "\n",
        "$$\n",
        "X_{t+1} = a + X_t + \\epsilon_{t+1}\n",
        "$$ for some $\\epsilon_{t+1}$ which is IID. What values of $a$ and\n",
        "properties of $\\epsilon_{t+1}$ would make this a martingale? If the\n",
        "variance of $\\epsilon_{t+1}$ is $\\sigma^2$, then in that case would you\n",
        "expect there to be a stationary distribution? Why or Why not?"
      ],
      "id": "c9e9b34e-498a-475b-ad05-94241fad36b7"
    },
    {
      "cell_type": "markdown",
      "metadata": {},
      "source": [
        "(double click to edit your answer)"
      ],
      "id": "ad01ca7f-9d5d-433f-8278-9882348b793c"
    },
    {
      "cell_type": "markdown",
      "metadata": {},
      "source": [
        "## Question 1\n",
        "\n",
        "Following the notes on [AR(1)\n",
        "processes](https://julia.quantecon.org/introduction_dynamics/ar1_processes.html)\n",
        "rather than plotting the distribution as normal instead lets see what\n",
        "the stationary distribution looks like with simulation.\n",
        "\n",
        "### Part (a)\n",
        "\n",
        "From $X_0 = 1.0$ simulate up to $T=2000$ using the process\n",
        "\n",
        "$$\n",
        "X_t = a X_{t-1} + b + c W_t\n",
        "$$\n",
        "\n",
        "Where $a=0.98, b=0.1, c=0.02$."
      ],
      "id": "594f7821-1242-4576-8c36-bbccfc6ba6e3"
    },
    {
      "cell_type": "code",
      "execution_count": 2,
      "metadata": {},
      "outputs": [
        {
          "output_type": "display_data",
          "metadata": {},
          "data": {
            "text/plain": [
              "0.02"
            ]
          }
        }
      ],
      "source": [
        "T = 2000\n",
        "X_0 = 1.0\n",
        "a = 0.98\n",
        "b = 0.1\n",
        "c = 0.02\n",
        "# Add code here"
      ],
      "id": "c6dbe1db"
    },
    {
      "cell_type": "markdown",
      "metadata": {},
      "source": [
        "### Part (b)\n",
        "\n",
        "On the same graph plot the histogram of those simulated values (i.e.,\n",
        "$\\{X_0, \\ldots X_T\\}$) then plot the density of the stationary\n",
        "distribution calculated in closed from in [those\n",
        "notes](https://julia.quantecon.org/introduction_dynamics/ar1_processes.html#equation-mu-sig-star)\n",
        "(i.e. create a normal distribution with $\\mu^* = b/(1-a)$ and\n",
        "$v^* = c^2/(1 - a^2)$\n",
        "\n",
        "Hint: `histogram(X, normed=true)` normalizes the empirical draws so they\n",
        "are a proper PMF."
      ],
      "id": "544743f8-af71-403e-a489-dde442926f30"
    },
    {
      "cell_type": "code",
      "execution_count": 4,
      "metadata": {},
      "outputs": [],
      "source": [
        "# Add code here"
      ],
      "id": "8ada7ad1"
    },
    {
      "cell_type": "markdown",
      "metadata": {},
      "source": [
        "### Part (c)\n",
        "\n",
        "Now, do the same plot using the 10th to 500th observations (i.e.,\n",
        "$\\{X_{10}, \\ldots X_{500}\\}$)"
      ],
      "id": "c0c24e20-129b-462f-8e59-eab200331fcb"
    },
    {
      "cell_type": "code",
      "execution_count": 6,
      "metadata": {},
      "outputs": [],
      "source": [
        "# Add code here"
      ],
      "id": "949e8224"
    },
    {
      "cell_type": "markdown",
      "metadata": {},
      "source": [
        "And then a separate plot using the rest"
      ],
      "id": "1154380a-d68c-4e46-b062-890a24cf31d9"
    },
    {
      "cell_type": "code",
      "execution_count": 7,
      "metadata": {},
      "outputs": [],
      "source": [
        "# Add code here"
      ],
      "id": "959b1fcd"
    },
    {
      "cell_type": "markdown",
      "metadata": {},
      "source": [
        "Compare how these line? Explain why each is better or worse?"
      ],
      "id": "0bc4a0ff-41c7-4181-a349-73797febb888"
    },
    {
      "cell_type": "markdown",
      "metadata": {},
      "source": [
        "(double click to edit your answer)"
      ],
      "id": "4bcef023-1a8d-4968-a472-a02aa297c37d"
    },
    {
      "cell_type": "markdown",
      "metadata": {},
      "source": [
        "### Part (d)\n",
        "\n",
        "Change the `c` parameter to be `0.2`.\n",
        "\n",
        "Now repeat the display of the two histograms (1) split of the 10th to\n",
        "500th ; and (2) the remainder"
      ],
      "id": "feaf1f3c-97e0-446a-acae-8b6ea1379125"
    },
    {
      "cell_type": "code",
      "execution_count": 10,
      "metadata": {},
      "outputs": [
        {
          "output_type": "display_data",
          "metadata": {},
          "data": {
            "text/plain": [
              "0.2"
            ]
          }
        }
      ],
      "source": [
        "T = 2000\n",
        "X_0 = 1.0\n",
        "a = 0.98\n",
        "b = 0.1\n",
        "c = 0.2\n",
        "# Add code here, creating new cells as required"
      ],
      "id": "6c9b5ee7"
    },
    {
      "cell_type": "markdown",
      "metadata": {},
      "source": [
        "Compare this to part (d)? Has the results changed and if so, then why?"
      ],
      "id": "82b0c3b3-e071-4deb-beeb-5caf89a20aef"
    },
    {
      "cell_type": "markdown",
      "metadata": {},
      "source": [
        "(double click to edit your answer)"
      ],
      "id": "00db58b5-5165-4239-8583-4363d464f426"
    },
    {
      "cell_type": "markdown",
      "metadata": {},
      "source": [
        "## Question 2\n",
        "\n",
        "In this problem we will examine wealth dynamics for a simpler setup. Log\n",
        "income, $\\log y_t$ follows an AR(1) process,\n",
        "\n",
        "$$\n",
        "\\log y_{t+1} = \\mu_y + \\rho_y \\log y_t + \\sigma_y \\epsilon_{1,t+1}\n",
        "$$\n",
        "\n",
        "and\n",
        "\n",
        "$$\n",
        "\\log R_{t+1} = \\mu_r + \\sigma_r \\epsilon_{2,t+1}\n",
        "$$\n",
        "\n",
        "where $\\epsilon_{1,t+1} \\sim N(0,1)$ and $\\epsilon_{2,t+1} \\sim N(0,1)$\n",
        "are IID shocks.\n",
        "\n",
        "As in the wealth dynamics problem from before, the evolution of wealth\n",
        "is given by\n",
        "\n",
        "$$\n",
        "w_{t+1} = R_{t+1}s(w_t) + y_{t+1}\n",
        "$$\n",
        "\n",
        "where $s(w_t)$ is the exogenously given savings function from before,\n",
        "\n",
        "$$\n",
        "s(w) =  s_0 w \\cdot \\mathbb 1\\{w \\geq \\hat w\\} = \\begin{cases} s_0 w & w \\geq \\hat{w}\\\\\n",
        "0 & w < \\hat{w}\n",
        "\\end{cases}\n",
        "$$\n",
        "\n",
        "For a constant $s_0 \\in (0,1)$ which is savings rate and $\\hat{w}\\geq 0$\n",
        "is a minimum wealth threshold below which they do not save and instead\n",
        "consumer all of their income (since $w_{t+1} = y_{t+1}$ in that case).\n",
        "\n",
        "As before, take the lorenz and gini code as given,"
      ],
      "id": "9308b5c4-e44a-4d03-9775-32d1e7c8d8eb"
    },
    {
      "cell_type": "code",
      "execution_count": 13,
      "metadata": {},
      "outputs": [
        {
          "output_type": "display_data",
          "metadata": {},
          "data": {
            "text/plain": [
              "gini (generic function with 1 method)"
            ]
          }
        }
      ],
      "source": [
        "function lorenz(v)  # assumed sorted vector\n",
        "    S = cumsum(v)  # cumulative sums: [v[1], v[1] + v[2], ... ]\n",
        "    F = (1:length(v)) / length(v)\n",
        "    L = S ./ S[end]\n",
        "    return (; F, L) # returns named tuple\n",
        "end\n",
        "# Assumes that v is sorted!\n",
        "gini(v) = (2 * sum(i * y for (i,y) in enumerate(v))/sum(v)\n",
        "           - (length(v) + 1))/length(v)"
      ],
      "id": "2c8edc79"
    },
    {
      "cell_type": "markdown",
      "metadata": {},
      "source": [
        "Take the following simpler structure for holding the parameters of the\n",
        "model"
      ],
      "id": "5040ec3e-c9db-4430-a929-566429df4d94"
    },
    {
      "cell_type": "code",
      "execution_count": 14,
      "metadata": {},
      "outputs": [
        {
          "output_type": "display_data",
          "metadata": {},
          "data": {
            "text/plain": [
              "simple_wealth_dynamics_model (generic function with 1 method)"
            ]
          }
        }
      ],
      "source": [
        "function simple_wealth_dynamics_model(;\n",
        "                 w_hat=1.0, # savings parameter\n",
        "                 s_0=0.75, # savings parameter\n",
        "                 mu_y=0.1, # labor income parameter\n",
        "                 sigma_y=0.1, # labor income parameter\n",
        "                 rho_y=0.9, # labor income parameter\n",
        "                 mu_r=0.0, # rate of return parameter\n",
        "                 sigma_r=0.2, # rate of return parameter\n",
        "                 )\n",
        "    return (;w_hat, s_0, mu_y, sigma_y, rho_y, mu_r, sigma_r)\n",
        "end"
      ],
      "id": "ca927a87"
    },
    {
      "cell_type": "markdown",
      "metadata": {},
      "source": [
        "and a modified version of the `simulate_panel` function"
      ],
      "id": "7ea00043-3179-4ebc-8cd9-a765ac19d903"
    },
    {
      "cell_type": "code",
      "execution_count": 15,
      "metadata": {},
      "outputs": [
        {
          "output_type": "display_data",
          "metadata": {},
          "data": {
            "text/plain": [
              "simulate_panel (generic function with 1 method)"
            ]
          }
        }
      ],
      "source": [
        "function simulate_panel(N, T, p; y_0 = p.mu_y/(1-p.rho_y), w_0 = p.mu_y/(1-p.rho_y))\n",
        "    # Setup initial conditions\n",
        "    w = w_0 * ones(N) # start at same w_0\n",
        "    logy = log.(y_0 * ones(N)) # start at same y_0\n",
        "    logR = zeros(N) # not used in this exact example, but could be generalized\n",
        "    \n",
        "    # Preallocate next period states and R intermediates\n",
        "    w_p = similar(w)\n",
        "    logR_p = similar(w)\n",
        "    logy_p = similar(w)    \n",
        "\n",
        "\n",
        "    # Temporary used in calculations\n",
        "    savings_proportion = similar(w) # include constant and R_{t+1}\n",
        "\n",
        "    for t in 1:T\n",
        "        R_shock = randn(N)\n",
        "        y_shock = randn(N)\n",
        "        @inbounds for i in 1:N\n",
        "            logy_p[i] = p.mu_y + p.rho_y*logy[i] + p.sigma_y*y_shock[i]\n",
        "            logR_p[i] = p.mu_r + p.sigma_r*R_shock[i] # no autocorrelation but could reference logR[i]\n",
        "            savings_proportion[i]  = (w[i] >= p.w_hat) ? p.s_0 * exp(logR_p[i]) : 0.0\n",
        "            w_p[i] = savings_proportion[i]*w[i] + exp(logy_p[i])\n",
        "        end\n",
        "        # Step forward\n",
        "        w .= w_p\n",
        "        logy .= logy_p\n",
        "        logR .= logR_p\n",
        "    end    \n",
        "    sort!(w) # sorts the wealth so we can calculate gini/lorenz        \n",
        "    F, L = lorenz(w)\n",
        "    return (;w, y = exp.(logy_p), F, L, gini = gini(w))\n",
        "end"
      ],
      "id": "cacda3ae"
    },
    {
      "cell_type": "markdown",
      "metadata": {},
      "source": [
        "The following code shows a basic simulation,"
      ],
      "id": "edba2675-80b5-4088-b95e-0644d43b5abe"
    },
    {
      "cell_type": "code",
      "execution_count": 16,
      "metadata": {},
      "outputs": [
        {
          "output_type": "stream",
          "name": "stdout",
          "text": [
            "(res.gini, mean(res.w), mean(res.y)) = (0.1726829054942962, 11.934608559955212, 2.80140998089156)"
          ]
        }
      ],
      "source": [
        "p = simple_wealth_dynamics_model()# Or simple_wealth_dynamics_model(;w_hat = 2.0) to swap out a single parameter, etc.\n",
        "N = 10_000\n",
        "T = 200\n",
        "w_0 = 10.0\n",
        "\n",
        "res = simulate_panel(N, T, p; w_0) # uses the default y_0 but overrides the w_0 default\n",
        "@show res.gini, mean(res.w), mean(res.y); # show some of the results"
      ],
      "id": "23018661"
    },
    {
      "cell_type": "markdown",
      "metadata": {},
      "source": [
        "### Part (a)\n",
        "\n",
        "Using the above code and default parameter values, simulate the model to\n",
        "see the difference in the gini coefficients where you change the\n",
        "variance on the returns `sigma_r` 10 points between `0.0` to `0.3`.\n",
        "\n",
        "Using your simulations, plot the gini coefficient as a function of\n",
        "`sigma_r` and comment on the results."
      ],
      "id": "812fcbec-9e57-4bc7-8836-e0f0524fe206"
    },
    {
      "cell_type": "code",
      "execution_count": 18,
      "metadata": {},
      "outputs": [
        {
          "output_type": "stream",
          "name": "stdout",
          "text": [
            "res.gini = 0.2380215813039962"
          ]
        }
      ],
      "source": [
        "# Modify/add code here, creating new cells as required\n",
        "sigma_r_values = range(0.0, 0.3, 10)\n",
        "N = 10_000\n",
        "T = 200\n",
        "\n",
        "# simple_wealth_dynamics_model(;sigma_r = sigma_r_values[1]) # etc. to create modified models\n",
        "res = simulate_panel(N, T, simple_wealth_dynamics_model(;sigma_r = sigma_r_values[end])) # for example, this swaps the sigma_r with the last value in the range\n",
        "@show res.gini;"
      ],
      "id": "241afa65"
    },
    {
      "cell_type": "markdown",
      "metadata": {},
      "source": [
        "Can you provide a brief interpretation of the results?"
      ],
      "id": "4596eb85-fbd5-4191-b62e-4a959f47fd0c"
    },
    {
      "cell_type": "markdown",
      "metadata": {},
      "source": [
        "(double click to edit your answer)"
      ],
      "id": "89237082-629f-4888-ad1e-658d1cb2fa06"
    },
    {
      "cell_type": "markdown",
      "metadata": {},
      "source": [
        "### Part (b)\n",
        "\n",
        "Now, take the same model and lets shut off all variation on the income\n",
        "process to leave it as a fixed value so $y_{t+1} = y_t$ by setting\n",
        "`sigma_y = 0, rho_y = 1, mu_y = 0` and then initializing all of the\n",
        "agents with the `y_0  = 0.5` and `w_0 = 2.0`\n",
        "\n",
        "Calculate the gini coefficient for the same range of `sigma_r` values as\n",
        "above and plot the results."
      ],
      "id": "05bb6126-b952-4c5e-83eb-95129a657636"
    },
    {
      "cell_type": "code",
      "execution_count": 20,
      "metadata": {},
      "outputs": [
        {
          "output_type": "display_data",
          "metadata": {},
          "data": {
            "text/plain": [
              "2.0"
            ]
          }
        }
      ],
      "source": [
        " # Modify/add code here, creating new cells as required\n",
        "p = simple_wealth_dynamics_model(;sigma_y = 0.0, rho_y = 1.0, mu_y = 0.0)\n",
        "N = 10_000\n",
        "T = 1000\n",
        "y_0 = 5.0\n",
        "w_0 = 2.0\n",
        "# res = simulate_panel(N, T, p; y_0, w_0)  # adapt this, passing in the y_0 and w_0"
      ],
      "id": "b47a319d"
    },
    {
      "cell_type": "markdown",
      "metadata": {},
      "source": [
        "Can you provide a brief interpretation of the results?"
      ],
      "id": "a6554224-9dfb-495a-9bf6-f076b98e864a"
    },
    {
      "cell_type": "markdown",
      "metadata": {},
      "source": [
        "(double click to edit your answer)"
      ],
      "id": "6d98117f-1907-4a3b-9ea7-d725409a0456"
    }
  ],
  "nbformat": 4,
  "nbformat_minor": 5,
  "metadata": {
    "kernelspec": {
      "name": "julia-1.10",
      "display_name": "Julia 1.10.0",
      "language": "julia"
    },
    "language_info": {
      "name": "julia",
      "file_extension": ".jl",
      "mimetype": "application/julia",
      "version": "1.10.0"
    }
  }
}