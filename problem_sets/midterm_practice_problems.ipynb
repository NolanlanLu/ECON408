{
  "cells": [
    {
      "cell_type": "markdown",
      "metadata": {},
      "source": [
        "# ECON408: Midterm Practice Problems\n",
        "\n",
        "Jesse Perla, UBC"
      ],
      "id": "35c2bd1c-b18a-456b-8e17-30b52d0e4636"
    },
    {
      "cell_type": "markdown",
      "metadata": {},
      "source": [
        "## Student Name/Number: (doubleclick to edit)"
      ],
      "id": "ce60145a-326a-48b4-9cd8-c26b71c43b19"
    },
    {
      "cell_type": "markdown",
      "metadata": {},
      "source": [
        "### Instructions\n",
        "\n",
        "-   Edit the above cell to include your name and student number.\n",
        "-   Submit just this `ipynb` to Canvas. Do not rename, it associates\n",
        "    your student number with the submission automatically."
      ],
      "id": "45850431-bd07-4957-a844-eaec4b879168"
    },
    {
      "cell_type": "code",
      "execution_count": 1,
      "metadata": {},
      "outputs": [],
      "source": [
        "using Distributions, Plots, LaTeXStrings, LinearAlgebra, Statistics, Random"
      ],
      "id": "c8f35881"
    },
    {
      "cell_type": "markdown",
      "metadata": {},
      "source": [
        "## Short Question 1\n",
        "\n",
        "Given a stochastic process $X_t$, write a paragraph describe what\n",
        "economists mean by rational expectations? Explain this from the context\n",
        "of an agent making forecasts and biases in their forecasts."
      ],
      "id": "21aa0ecf-f59b-45cb-9bd2-c88172d7b34c"
    },
    {
      "cell_type": "markdown",
      "metadata": {},
      "source": [
        "(double click to edit your answer)"
      ],
      "id": "39987e17-0341-4b21-9557-5c10d3deee11"
    },
    {
      "cell_type": "markdown",
      "metadata": {},
      "source": [
        "## Short Question 2\n",
        "\n",
        "Explain what a power-law tail means for a CDF $F(x)$ and counter-cdf\n",
        "$1-F(x)$. For a stochastic process $X_t$, what features of that\n",
        "stochastic process might lead to a power-law tail in the stationary\n",
        "distribution?"
      ],
      "id": "97809e1c-8faa-4cf8-827a-3003b7d22d86"
    },
    {
      "cell_type": "markdown",
      "metadata": {},
      "source": [
        "(double click to edit your answer)"
      ],
      "id": "7c3ee27b-5fa3-4a34-8725-7a62afc3b628"
    },
    {
      "cell_type": "markdown",
      "metadata": {},
      "source": [
        "## Short Question 3\n",
        "\n",
        "What is a state space model? Explain what type of problem a Kalman\n",
        "Filter solves. What are the key assumptions on the stochastic processes,\n",
        "priors, etc. that make it applicable?"
      ],
      "id": "44c3d8eb-d139-4abb-b294-ba54d04cba3f"
    },
    {
      "cell_type": "markdown",
      "metadata": {},
      "source": [
        "(double click to edit your answer)"
      ],
      "id": "eab5ec51-7b93-45b4-ad8d-3a03e6daf507"
    },
    {
      "cell_type": "markdown",
      "metadata": {},
      "source": [
        "## Short Question 4\n",
        "\n",
        "What is the definition of a Martingale? Take the following stochastic\n",
        "process\n",
        "\n",
        "$$\n",
        "X_{t+1} = a + X_t + \\epsilon_{t+1}\n",
        "$$ for some $\\epsilon_{t+1}$ which is IID. What values of $a$ and\n",
        "properties of $\\epsilon_{t+1}$ would make this a martingale? If the\n",
        "variance of $\\epsilon_{t+1}$ is $\\sigma^2$, then in that case would you\n",
        "expect there to be a stationary distribution? Why or Why not?"
      ],
      "id": "d8c8fa58-84c0-477a-856c-dfd964f097de"
    },
    {
      "cell_type": "markdown",
      "metadata": {},
      "source": [
        "(double click to edit your answer)"
      ],
      "id": "2814a28e-511e-4ab3-a24b-48af4a715c09"
    },
    {
      "cell_type": "markdown",
      "metadata": {},
      "source": [
        "## Question 1\n",
        "\n",
        "Following the notes on [AR(1)\n",
        "processes](https://julia.quantecon.org/introduction_dynamics/ar1_processes.html)\n",
        "rather than plotting the distribution as normal instead lets see what\n",
        "the stationary distribution looks like with simulation.\n",
        "\n",
        "### Part (a)\n",
        "\n",
        "From $X_0 = 1.0$ simulate up to $T=2000$ using the process\n",
        "\n",
        "$$\n",
        "X_t = a X_{t-1} + b + c W_t\n",
        "$$\n",
        "\n",
        "Where $a=0.98, b=0.1, c=0.02$."
      ],
      "id": "143521c5-e4f4-4b3f-bebb-e8bbcd81156b"
    },
    {
      "cell_type": "code",
      "execution_count": 2,
      "metadata": {},
      "outputs": [
        {
          "output_type": "display_data",
          "metadata": {},
          "data": {
            "text/plain": [
              "0.02"
            ]
          }
        }
      ],
      "source": [
        "T = 2000\n",
        "X_0 = 1.0\n",
        "a = 0.98\n",
        "b = 0.1\n",
        "c = 0.02\n",
        "# Add code here"
      ],
      "id": "8ec7b06b"
    },
    {
      "cell_type": "markdown",
      "metadata": {},
      "source": [
        "### Part (b)\n",
        "\n",
        "On the same graph plot the histogram of those simulated values (i.e.,\n",
        "$\\{X_0, \\ldots X_T\\}$) then plot the density of the stationary\n",
        "distribution calculated in closed from in [those\n",
        "notes](https://julia.quantecon.org/introduction_dynamics/ar1_processes.html#equation-mu-sig-star)\n",
        "(i.e. create a normal distribution with $\\mu^* = b/(1-a)$ and\n",
        "$v^* = c^2/(1 - a^2)$\n",
        "\n",
        "Hint: `histogram(X, normed=true)` normalizes the empirical draws so they\n",
        "are a proper PMF."
      ],
      "id": "81c2f0e2-4185-4a0c-848c-cbdd8deeba41"
    },
    {
      "cell_type": "code",
      "execution_count": 4,
      "metadata": {},
      "outputs": [],
      "source": [
        "# Add code here"
      ],
      "id": "84f54ef1"
    },
    {
      "cell_type": "markdown",
      "metadata": {},
      "source": [
        "### Part (c)\n",
        "\n",
        "Now, do the same plot using the 10th to 500th observations (i.e.,\n",
        "$\\{X_{10}, \\ldots X_{500}\\}$)"
      ],
      "id": "0281df79-7332-4ae1-9b62-fdabf34dd237"
    },
    {
      "cell_type": "code",
      "execution_count": 6,
      "metadata": {},
      "outputs": [],
      "source": [
        "# Add code here"
      ],
      "id": "833c9905"
    },
    {
      "cell_type": "markdown",
      "metadata": {},
      "source": [
        "And then a separate plot using the rest"
      ],
      "id": "a688e16a-eb96-4e02-b1d8-e04bb9f547b5"
    },
    {
      "cell_type": "code",
      "execution_count": 7,
      "metadata": {},
      "outputs": [],
      "source": [
        "# Add code here"
      ],
      "id": "0908c200"
    },
    {
      "cell_type": "markdown",
      "metadata": {},
      "source": [
        "Compare how these line? Explain why each is better or worse?"
      ],
      "id": "54cb43a8-b182-403f-9155-4236d62f145d"
    },
    {
      "cell_type": "markdown",
      "metadata": {},
      "source": [
        "(double click to edit your answer)"
      ],
      "id": "da49a1b6-08db-4f12-b086-13475883e487"
    },
    {
      "cell_type": "markdown",
      "metadata": {},
      "source": [
        "### Part (d)\n",
        "\n",
        "Change the `c` parameter to be `0.2`.\n",
        "\n",
        "Now repeat the display of the two histograms (1) split of the 10th to\n",
        "500th ; and (2) the remainder"
      ],
      "id": "36b72949-959a-44e1-8e5b-3e8809d6a139"
    },
    {
      "cell_type": "code",
      "execution_count": 10,
      "metadata": {},
      "outputs": [
        {
          "output_type": "display_data",
          "metadata": {},
          "data": {
            "text/plain": [
              "0.2"
            ]
          }
        }
      ],
      "source": [
        "T = 2000\n",
        "X_0 = 1.0\n",
        "a = 0.98\n",
        "b = 0.1\n",
        "c = 0.2\n",
        "# Add code here, creating new cells as required"
      ],
      "id": "ceada31c"
    },
    {
      "cell_type": "markdown",
      "metadata": {},
      "source": [
        "Compare this to part (d)? Has the results changed and if so, then why?"
      ],
      "id": "affdbd2e-60b5-48fc-be8e-1f683dced02d"
    },
    {
      "cell_type": "markdown",
      "metadata": {},
      "source": [
        "(double click to edit your answer)"
      ],
      "id": "3cbc7451-7fbb-4124-b6ce-e79756bee1a6"
    },
    {
      "cell_type": "markdown",
      "metadata": {},
      "source": [
        "## Question 2\n",
        "\n",
        "In this problem we will examine wealth dynamics for a simpler setup. Log\n",
        "income, $\\log y_t$ follows an AR(1) process,\n",
        "\n",
        "$$\n",
        "\\log y_{t+1} = \\mu_y + \\rho_y \\log y_t + \\sigma_y \\epsilon_{1,t+1}\n",
        "$$\n",
        "\n",
        "and\n",
        "\n",
        "$$\n",
        "\\log R_{t+1} = \\mu_r + \\sigma_r \\epsilon_{2,t+1}\n",
        "$$\n",
        "\n",
        "where $\\epsilon_{1,t+1} \\sim N(0,1)$ and $\\epsilon_{2,t+1} \\sim N(0,1)$\n",
        "are IID shocks.\n",
        "\n",
        "As in the wealth dynamics problem from before, the evolution of wealth\n",
        "is given by\n",
        "\n",
        "$$\n",
        "w_{t+1} = R_{t+1}s(w_t) + y_{t+1}\n",
        "$$\n",
        "\n",
        "where $s(w_t)$ is the exogenously given savings function from before,\n",
        "\n",
        "$$\n",
        "s(w) =  s_0 w \\cdot \\mathbb 1\\{w \\geq \\hat w\\} = \\begin{cases} s_0 w & w \\geq \\hat{w}\\\\\n",
        "0 & w < \\hat{w}\n",
        "\\end{cases}\n",
        "$$\n",
        "\n",
        "For a constant $s_0 \\in (0,1)$ which is savings rate and $\\hat{w}\\geq 0$\n",
        "is a minimum wealth threshold below which they do not save and instead\n",
        "consumer all of their income (since $w_{t+1} = y_{t+1}$ in that case).\n",
        "\n",
        "As before, take the lorenz and gini code as given,"
      ],
      "id": "b997ef2b-d4ac-4356-9098-c66860bea0e9"
    },
    {
      "cell_type": "code",
      "execution_count": 13,
      "metadata": {},
      "outputs": [
        {
          "output_type": "display_data",
          "metadata": {},
          "data": {
            "text/plain": [
              "gini (generic function with 1 method)"
            ]
          }
        }
      ],
      "source": [
        "function lorenz(v)  # assumed sorted vector\n",
        "    S = cumsum(v)  # cumulative sums: [v[1], v[1] + v[2], ... ]\n",
        "    F = (1:length(v)) / length(v)\n",
        "    L = S ./ S[end]\n",
        "    return (; F, L) # returns named tuple\n",
        "end\n",
        "# Assumes that v is sorted!\n",
        "gini(v) = (2 * sum(i * y for (i,y) in enumerate(v))/sum(v)\n",
        "           - (length(v) + 1))/length(v)"
      ],
      "id": "8612f26b"
    },
    {
      "cell_type": "markdown",
      "metadata": {},
      "source": [
        "Take the following simpler structure for holding the parameters of the\n",
        "model"
      ],
      "id": "75e2d71f-a1a6-4110-b886-9421b9095779"
    },
    {
      "cell_type": "code",
      "execution_count": 14,
      "metadata": {},
      "outputs": [
        {
          "output_type": "display_data",
          "metadata": {},
          "data": {
            "text/plain": [
              "simple_wealth_dynamics_model (generic function with 1 method)"
            ]
          }
        }
      ],
      "source": [
        "function simple_wealth_dynamics_model(;\n",
        "                 w_hat=1.0, # savings parameter\n",
        "                 s_0=0.75, # savings parameter\n",
        "                 mu_y=0.1, # labor income parameter\n",
        "                 sigma_y=0.1, # labor income parameter\n",
        "                 rho_y=0.9, # labor income parameter\n",
        "                 mu_r=0.0, # rate of return parameter\n",
        "                 sigma_r=0.2, # rate of return parameter\n",
        "                 )\n",
        "    return (;w_hat, s_0, mu_y, sigma_y, rho_y, mu_r, sigma_r)\n",
        "end"
      ],
      "id": "d4e19954"
    },
    {
      "cell_type": "markdown",
      "metadata": {},
      "source": [
        "and a modified version of the `simulate_panel` function"
      ],
      "id": "07c79824-12cb-479f-a830-a7f029039884"
    },
    {
      "cell_type": "code",
      "execution_count": 15,
      "metadata": {},
      "outputs": [
        {
          "output_type": "display_data",
          "metadata": {},
          "data": {
            "text/plain": [
              "simulate_panel (generic function with 1 method)"
            ]
          }
        }
      ],
      "source": [
        "function simulate_panel(N, T, p; y_0 = p.mu_y/(1-p.rho_y), w_0 = p.mu_y/(1-p.rho_y))\n",
        "    # Setup initial conditions\n",
        "    w = w_0 * ones(N) # start at same w_0\n",
        "    logy = log.(y_0 * ones(N)) # start at same y_0\n",
        "    logR = zeros(N) # not used in this exact example, but could be generalized\n",
        "    \n",
        "    # Preallocate next period states and R intermediates\n",
        "    w_p = similar(w)\n",
        "    logR_p = similar(w)\n",
        "    logy_p = similar(w)    \n",
        "\n",
        "\n",
        "    # Temporary used in calculations\n",
        "    savings_proportion = similar(w) # include constant and R_{t+1}\n",
        "\n",
        "    for t in 1:T\n",
        "        R_shock = randn(N)\n",
        "        y_shock = randn(N)\n",
        "        @inbounds for i in 1:N\n",
        "            logy_p[i] = p.mu_y + p.rho_y*logy[i] + p.sigma_y*y_shock[i]\n",
        "            logR_p[i] = p.mu_r + p.sigma_r*R_shock[i] # no autocorrelation but could reference logR[i]\n",
        "            savings_proportion[i]  = (w[i] >= p.w_hat) ? p.s_0 * exp(logR_p[i]) : 0.0\n",
        "            w_p[i] = savings_proportion[i]*w[i] + exp(logy_p[i])\n",
        "        end\n",
        "        # Step forward\n",
        "        w .= w_p\n",
        "        logy .= logy_p\n",
        "        logR .= logR_p\n",
        "    end    \n",
        "    sort!(w) # sorts the wealth so we can calculate gini/lorenz        \n",
        "    F, L = lorenz(w)\n",
        "    return (;w, y = exp.(logy_p), F, L, gini = gini(w))\n",
        "end"
      ],
      "id": "8b43925f"
    },
    {
      "cell_type": "markdown",
      "metadata": {},
      "source": [
        "The following code shows a basic simulation,"
      ],
      "id": "3cb31c15-d2ae-4851-a4ed-215cb840a49b"
    },
    {
      "cell_type": "code",
      "execution_count": 16,
      "metadata": {},
      "outputs": [
        {
          "output_type": "stream",
          "name": "stdout",
          "text": [
            "(res.gini, mean(res.w), mean(res.y)) = (0.16906036675535943, 11.793935371079193, 2.7780747281098623)"
          ]
        }
      ],
      "source": [
        "p = simple_wealth_dynamics_model()# Or simple_wealth_dynamics_model(;w_hat = 2.0) to swap out a single parameter, etc.\n",
        "N = 10_000\n",
        "T = 200\n",
        "w_0 = 10.0\n",
        "\n",
        "res = simulate_panel(N, T, p; w_0) # uses the default y_0 but overrides the w_0 default\n",
        "@show res.gini, mean(res.w), mean(res.y); # show some of the results"
      ],
      "id": "cb276e64"
    },
    {
      "cell_type": "markdown",
      "metadata": {},
      "source": [
        "### Part (a)\n",
        "\n",
        "Using the above code and default parameter values, simulate the model to\n",
        "see the difference in the gini coefficients where you change the\n",
        "variance on the returns `sigma_r` 10 points between `0.0` to `0.3`.\n",
        "\n",
        "Using your simulations, plot the gini coefficient as a function of\n",
        "`sigma_r` and comment on the results."
      ],
      "id": "1ce78a76-37bc-4f70-9da3-66c77438b738"
    },
    {
      "cell_type": "code",
      "execution_count": 18,
      "metadata": {},
      "outputs": [
        {
          "output_type": "stream",
          "name": "stdout",
          "text": [
            "res.gini = 0.23761959411007538"
          ]
        }
      ],
      "source": [
        "# Modify/add code here, creating new cells as required\n",
        "sigma_r_values = range(0.0, 0.3, 10)\n",
        "N = 10_000\n",
        "T = 200\n",
        "\n",
        "# simple_wealth_dynamics_model(;sigma_r = sigma_r_values[1]) # etc. to create modified models\n",
        "res = simulate_panel(N, T, simple_wealth_dynamics_model(;sigma_r = sigma_r_values[end])) # for example, this swaps the sigma_r with the last value in the range\n",
        "@show res.gini;"
      ],
      "id": "19f6d361"
    },
    {
      "cell_type": "markdown",
      "metadata": {},
      "source": [
        "Can you provide a brief interpretation of the results?"
      ],
      "id": "1a519bf3-46dc-4384-969d-3ca8f3472f53"
    },
    {
      "cell_type": "markdown",
      "metadata": {},
      "source": [
        "(double click to edit your answer)"
      ],
      "id": "e115a020-b0f1-48f5-bb1b-9d5216f8c767"
    },
    {
      "cell_type": "markdown",
      "metadata": {},
      "source": [
        "### Part (b)\n",
        "\n",
        "Now, take the same model and lets shut off all variation on the income\n",
        "process to leave it as a fixed value so $y_{t+1} = y_t$ by setting\n",
        "`sigma_y = 0, rho_y = 1, mu_y = 0` and then initializing all of the\n",
        "agents with the `y_0  = 0.5` and `w_0 = 2.0`\n",
        "\n",
        "Calculate the gini coefficient for the same range of `sigma_r` values as\n",
        "above and plot the results."
      ],
      "id": "06d433f7-4449-49f4-8da1-f07f2b15b861"
    },
    {
      "cell_type": "code",
      "execution_count": 20,
      "metadata": {},
      "outputs": [
        {
          "output_type": "display_data",
          "metadata": {},
          "data": {
            "text/plain": [
              "2.0"
            ]
          }
        }
      ],
      "source": [
        " # Modify/add code here, creating new cells as required\n",
        "p = simple_wealth_dynamics_model(;sigma_y = 0.0, rho_y = 1.0, mu_y = 0.0)\n",
        "N = 10_000\n",
        "T = 1000\n",
        "y_0 = 5.0\n",
        "w_0 = 2.0\n",
        "# res = simulate_panel(N, T, p; y_0, w_0)  # adapt this, passing in the y_0 and w_0"
      ],
      "id": "f8151d3d"
    },
    {
      "cell_type": "markdown",
      "metadata": {},
      "source": [
        "Can you provide a brief interpretation of the results?"
      ],
      "id": "fa5125ae-798c-40bf-a834-2c173fd8c47a"
    },
    {
      "cell_type": "markdown",
      "metadata": {},
      "source": [
        "(double click to edit your answer)"
      ],
      "id": "8610360e-bfc3-4419-9ab4-5de604724502"
    }
  ],
  "nbformat": 4,
  "nbformat_minor": 5,
  "metadata": {
    "kernelspec": {
      "name": "julia-1.10",
      "display_name": "Julia 1.10.0",
      "language": "julia"
    },
    "language_info": {
      "name": "julia",
      "file_extension": ".jl",
      "mimetype": "application/julia",
      "version": "1.10.0"
    }
  }
}