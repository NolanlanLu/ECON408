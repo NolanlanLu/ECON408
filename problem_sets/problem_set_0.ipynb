{
  "cells": [
    {
      "cell_type": "markdown",
      "metadata": {},
      "source": [
        "# ECON408: Assignment 0\n",
        "\n",
        "Jesse Perla, UBC\n",
        "\n",
        "## Setup"
      ],
      "id": "38ec945a-cada-431e-a0f2-e03e1f383164"
    },
    {
      "cell_type": "code",
      "execution_count": 1,
      "metadata": {},
      "outputs": [],
      "source": [
        "using Distributions, Plots, LaTeXStrings, LinearAlgebra, Statistics, Random"
      ],
      "id": "bfefaad0"
    },
    {
      "cell_type": "markdown",
      "metadata": {},
      "source": [
        "# Q1\n",
        "\n",
        "Install Julia following instructions in lecture notes/etc. and clone\n",
        "this repository so you can open the notebooks in this repository\n",
        "\n",
        "## Q2\n",
        "\n",
        "Edit the markdown cell below to add some math text wit the Pythagorean\n",
        "theorem (e.g. $x^2 + y^2 = z^2$)"
      ],
      "id": "6da80070-3bfd-4ee5-8fc5-5eefeecd2d0d"
    },
    {
      "cell_type": "markdown",
      "metadata": {},
      "source": [
        "**(double click to enter your answer here)**"
      ],
      "id": "42c9e6c8-0b7a-467a-9d1e-a8e0d2928aac"
    },
    {
      "cell_type": "markdown",
      "metadata": {},
      "source": [
        "## Q3\n",
        "\n",
        "Create a function which which takes the sides of the rectangle and\n",
        "calculates the hypotenuse (i.e., code up $z(x,y) = \\sqrt{x^2 + y^2}$)\n",
        "and calculate $z(3,4)$"
      ],
      "id": "c059f620-b086-4a24-b82a-e05dc02effb6"
    },
    {
      "cell_type": "code",
      "execution_count": 2,
      "metadata": {},
      "outputs": [],
      "source": [
        "# Modify your code here."
      ],
      "id": "f9f44edd"
    },
    {
      "cell_type": "markdown",
      "metadata": {},
      "source": [
        "## Q4\n",
        "\n",
        "Plot $f(x) = x^2$ for a grid of 20 points of $x \\in [0,1]$. You can make\n",
        "a grid with `range(0, 1, 20)`"
      ],
      "id": "1d3d818a-d595-4e8a-bd9d-5476ee3e2091"
    },
    {
      "cell_type": "code",
      "execution_count": 4,
      "metadata": {},
      "outputs": [],
      "source": [
        "# Modify your code here."
      ],
      "id": "2fb19ef1"
    },
    {
      "cell_type": "markdown",
      "metadata": {},
      "source": [
        "## Q3\n",
        "\n",
        "Write a function that draws a 100 random normal variables (use\n",
        "`randn(100)`) and manually calculates the mean and variance. By manually\n",
        "I mean using sums/etc. to implement the standard formulas for mean and\n",
        "variance of your choosing."
      ],
      "id": "a3458549-71b7-4636-9d2a-76c1e203d592"
    },
    {
      "cell_type": "code",
      "execution_count": 6,
      "metadata": {},
      "outputs": [],
      "source": [
        "# Modify your code here."
      ],
      "id": "0b833eed"
    }
  ],
  "nbformat": 4,
  "nbformat_minor": 5,
  "metadata": {
    "kernelspec": {
      "name": "julia-1.10",
      "display_name": "Julia 1.10.0",
      "language": "julia"
    }
  }
}