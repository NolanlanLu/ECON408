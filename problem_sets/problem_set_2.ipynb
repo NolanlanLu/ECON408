{
  "cells": [
    {
      "cell_type": "markdown",
      "metadata": {},
      "source": [
        "# ECON408: Assignment 2\n",
        "\n",
        "Jesse Perla, UBC"
      ],
      "id": "efff0018-ed89-4256-91a8-24e531d32be3"
    },
    {
      "cell_type": "markdown",
      "metadata": {},
      "source": [
        "## Student Name/Number: (doubleclick to edit)"
      ],
      "id": "1f4384de-6561-4f77-afa3-1c3284f8786e"
    },
    {
      "cell_type": "markdown",
      "metadata": {},
      "source": [
        "### Instructions\n",
        "\n",
        "-   Edit the above cell to include your name and student number.\n",
        "-   Submit just this `ipynb` to Canvas. Do not rename, it associates\n",
        "    your student number with the submission automatically."
      ],
      "id": "7016f25e-fa25-4f67-9500-b4e18888bbbe"
    },
    {
      "cell_type": "code",
      "execution_count": 1,
      "metadata": {},
      "outputs": [],
      "source": [
        "using Distributions, Plots, LaTeXStrings, LinearAlgebra, Statistics, Random"
      ],
      "id": "2def01a6"
    },
    {
      "cell_type": "markdown",
      "metadata": {},
      "source": [
        "## Question 1\n",
        "\n",
        "Using the code in [Keynesian Multiplier\n",
        "example](https://jlperla.github.io/ECON408/lectures/geometric_series_fixed_points.html#/keynesian-multipliers)\n",
        "or looking at the lecture notes on [Geometric\n",
        "Series](https://julia.quantecon.org/tools_and_techniques/geom_series.html).\n",
        "\n",
        "Consider if the true government expenditures are $g + \\sigma \\epsilon$\n",
        "where $\\epsilon \\sim N(0, 1)$ i.e., a unit normal and with\n",
        "$\\sigma = 0.01$. Consequently the law of motion for `y_t` becomes\n",
        "\n",
        "$$\n",
        "y_t = b y_{t-1} + i + (g + \\sigma \\epsilon_{t})\n",
        "$$\n",
        "\n",
        "### Part (a)\n",
        "\n",
        "Take the code (copied below) which generates the time-path of aggregate\n",
        "output from the initial condition (i.e., the `calculate_y` function) and\n",
        "change it code so that it implements the new process with the random\n",
        "$\\epsilon$"
      ],
      "id": "0ad79837-bc21-436d-adb0-78ce558f035b"
    },
    {
      "cell_type": "code",
      "execution_count": 2,
      "metadata": {},
      "outputs": [
        {
          "output_type": "display_data",
          "metadata": {},
          "data": {
            "text/html": [
              "<img src=\"data:image/png;base64,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\" />"
            ]
          }
        }
      ],
      "source": [
        "# modify the original code below\n",
        "\n",
        "# Function that calculates a path of y\n",
        "function calculate_y(i, b, g, T, y_init)\n",
        "    y = zeros(T+1)\n",
        "    y[1] = y_init\n",
        "    for t = 2:(T+1)\n",
        "        y[t] = b * y[t-1] + i + g\n",
        "    end\n",
        "  return y\n",
        "end\n",
        "\n",
        "# Initial values\n",
        "i_0 = 0.3\n",
        "g_0 = 0.3\n",
        "b = 2/3 # proportion of income to consumption\n",
        "y_init = 0\n",
        "T = 100\n",
        "\n",
        "plt = plot(0:T, calculate_y(i_0, b, g_0, T, y_init),\n",
        "           title= \"Path of Aggregate Output Over Time\",\n",
        "           ylim= (0.5, 1.9), xlabel = L\"t\", ylabel = L\"y_t\")\n",
        "hline!([i_0 / (1 - b) + g_0 / (1 - b)], linestyle=:dash, seriestype=\"hline\",\n",
        "       legend = false)"
      ],
      "id": "1432309c"
    },
    {
      "cell_type": "markdown",
      "metadata": {},
      "source": [
        "### Part (b)\n",
        "\n",
        "Redo the “Changing Consumption as a Fraction of Income” figure with the\n",
        "random simulations by modifying the original code below"
      ],
      "id": "1c85b7dd-b6cc-4e0c-971e-e7776a343e01"
    },
    {
      "cell_type": "code",
      "execution_count": 4,
      "metadata": {},
      "outputs": [],
      "source": [
        "# modify the original code below:\n",
        "# Changing fraction of consumption\n",
        "bs = round.([1/3, 2/3, 5/6, 0.9], digits = 2)\n",
        "\n",
        "plt = plot(title= \"Changing Consumption as a Fraction of Income\",\n",
        "           xlabel = L\"t\", ylabel = L\"y_t\", legend = :topleft)\n",
        "[plot!(plt, 0:T, calculate_y(i_0, b, g_0, T, y_init), label=L\"b = %$b\")\n",
        " for b in bs]\n",
        "plt"
      ],
      "id": "dfe8f0a9"
    },
    {
      "cell_type": "markdown",
      "metadata": {},
      "source": [
        "### Part (c)\n",
        "\n",
        "Redo the “An Increase in Investment on Output” and “An Increase in\n",
        "Government Spending on Output” figures by modifying the original code\n",
        "below"
      ],
      "id": "fc418621-71e3-4f23-a55b-fda652b146cb"
    },
    {
      "cell_type": "code",
      "execution_count": 6,
      "metadata": {},
      "outputs": [],
      "source": [
        "# modify the original code below:\n",
        "x = 0:T\n",
        "y_0 = calculate_y(i_0, b, g_0, T, y_init)\n",
        "l = @layout [a ; b]\n",
        "\n",
        "# Changing initial investment:\n",
        "i_1 = 0.4\n",
        "y_1 = calculate_y(i_1, b, g_0, T, y_init)\n",
        "plt_1 = plot(x,y_0, label = L\"i=0.3\", linestyle= :dash,\n",
        "             title= \"An Increase in Investment on Output\",\n",
        "             xlabel = L\"t\", ylabel = L\"y_t\", legend = :bottomright)\n",
        "plot!(plt_1, x, y_1, label = L\"i=0.4\")\n",
        "\n",
        "# Changing government spending\n",
        "g_1 = 0.4\n",
        "y_1 = calculate_y(i_0, b, g_1, T, y_init)\n",
        "plt_2 = plot(x,y_0, label = L\"g=0.3\", linestyle= :dash,\n",
        "             title= \"An Increase in Government Spending on Output\",\n",
        "             xlabel = L\"t\", ylabel = L\"y_t\", legend = :bottomright)\n",
        "plot!(plt_2, x, y_1, label=L\"g=0.4\")\n",
        "plot(plt_1, plt_2, layout = l)"
      ],
      "id": "a3cb0bfc"
    },
    {
      "cell_type": "markdown",
      "metadata": {},
      "source": [
        "Reusable functions, do not modify without clearly annotating your\n",
        "changes."
      ],
      "id": "8a495e90-cddd-47e1-8c4a-d0e5819214ec"
    },
    {
      "cell_type": "code",
      "execution_count": 8,
      "metadata": {},
      "outputs": [
        {
          "output_type": "display_data",
          "metadata": {},
          "data": {
            "text/plain": [
              "ts_plot (generic function with 1 method)"
            ]
          }
        }
      ],
      "source": [
        "# Iterates a function from an initial condition \n",
        "function iterate_map(f, x0, T)\n",
        "    x = zeros(T + 1)\n",
        "    x[1] = x0\n",
        "    for t in 2:(T + 1)\n",
        "        x[t] = f(x[t - 1])\n",
        "    end\n",
        "    return x\n",
        "end\n",
        "\n",
        "function plot45(f, xmin, xmax, x0, T; num_points = 100, label = L\"h(k)\",\n",
        "                xlabel = \"k\", size = (600, 500))\n",
        "    # Plot the function and the 45 degree line\n",
        "    x_grid = range(xmin, xmax, num_points)\n",
        "    plt = plot(x_grid, f.(x_grid); xlim = (xmin, xmax), ylim = (xmin, xmax),\n",
        "               linecolor = :black, lw = 2, label, size)\n",
        "    plot!(x_grid, x_grid; linecolor = :blue, lw = 2, label = nothing)\n",
        "\n",
        "    # Iterate map and add ticks\n",
        "    x = iterate_map(f, x0, T)\n",
        "    if !isnothing(xlabel) && T > 1\n",
        "      xticks!(x, [L\"%$(xlabel)_{%$i}\" for i in 0:T])\n",
        "      yticks!(x, [L\"%$(xlabel)_{%$i}\" for i in 0:T])\n",
        "    end\n",
        "\n",
        "    # Plot arrows and dashes\n",
        "    for i in 1:T\n",
        "        plot!([x[i], x[i]], [x[i], x[i + 1]], arrow = :closed, linecolor = :black,\n",
        "              alpha = 0.5, label = nothing)\n",
        "        plot!([x[i], x[i + 1]], [x[i + 1], x[i + 1]], arrow = :closed,\n",
        "              linecolor = :black, alpha = 0.5, label = nothing)\n",
        "        plot!([x[i + 1], x[i + 1]], [0, x[i + 1]], linestyle = :dash,\n",
        "              linecolor = :black, alpha = 0.5, label = nothing)\n",
        "    end\n",
        "    plot!([x[1], x[1]], [0, x[1]], linestyle = :dash, linecolor = :black,\n",
        "          alpha = 0.5, label = nothing)\n",
        "end\n",
        "\n",
        "\n",
        "function ts_plot(f, x0, T; xlabel=L\"t\", label=L\"k_t\")\n",
        "    x = iterate_map(f, x0, T)\n",
        "    plot(0:T, x; xlabel, label)\n",
        "    plot!(0:T, x; seriestype=:scatter, mc=:blue, alpha=0.7, label=nothing)\n",
        "end"
      ],
      "id": "99e53f99"
    },
    {
      "cell_type": "markdown",
      "metadata": {},
      "source": [
        "## Question 2\n",
        "\n",
        "Take the Solow growth model in [our\n",
        "lectures](https://jlperla.github.io/ECON408/lectures/deterministic_dynamics.html#/solow-growth-model)\n",
        "with the code above.\n",
        "\n",
        "In this question we will explore the depreciation parameter, $\\delta$.\n",
        "The baseline parameters are the same and given in the code below.\n",
        "\n",
        "Recall that the steady state is\n",
        "\n",
        "$$\n",
        "k^* = \\left(\\frac{s A}{\\delta}\\right)^{1/(1-\\alpha)}\n",
        "$$\n",
        "\n",
        "### Part (a)\n",
        "\n",
        "With `k_0=0.25` use the `plot45` contrasting the `delta = 0.1` and\n",
        "`delta = 0.001` to the existing `delta = 0.4`. Adapt the range and\n",
        "domain as required."
      ],
      "id": "de46ff79-ed76-4074-9101-d3810de0aab5"
    },
    {
      "cell_type": "code",
      "execution_count": 9,
      "metadata": {},
      "outputs": [
        {
          "output_type": "display_data",
          "metadata": {},
          "data": {
            "text/plain": [
              "5"
            ]
          }
        }
      ],
      "source": [
        "h(k; p) = (1 / (1 + p.g_N)) * (\n",
        "   p.s * p.z_bar * k^p.alpha\n",
        "   + (1 - p.delta) * k)\n",
        "k_bar(p) = (p.s * p.z_bar /\n",
        "      (p.g_N + p.delta))^(1/(1-p.alpha))\n",
        "\n",
        "p_baseline = (;z_bar = 2.0, s = 0.3, alpha = 0.3,\n",
        "     delta = 0.4, g_N = 0.0)\n",
        "k_0 = 0.25\n",
        "k_min = 0.0\n",
        "k_max = 3.0\n",
        "T = 5\n",
        "\n",
        "# add code here and new cells as required."
      ],
      "id": "f20b7e5e"
    },
    {
      "cell_type": "markdown",
      "metadata": {},
      "source": [
        "### Part (b)\n",
        "\n",
        "Plot the time series with `ts_plot` for those same cases"
      ],
      "id": "53591f8b-1b94-40be-b7b1-0391572447f0"
    },
    {
      "cell_type": "code",
      "execution_count": 13,
      "metadata": {},
      "outputs": [
        {
          "output_type": "display_data",
          "metadata": {},
          "data": {
            "text/plain": [
              "4.0"
            ]
          }
        }
      ],
      "source": [
        "k_0 = 0.25\n",
        "\n",
        "p_baseline = (;z_bar = 2.0, s = 0.3, alpha = 0.3,\n",
        "     delta = 0.4, g_N = 0.0)\n",
        "k_min = 0.0\n",
        "k_max = 4.0\n",
        "\n",
        "# add code here and new cells as required."
      ],
      "id": "ad2c49d6"
    },
    {
      "cell_type": "markdown",
      "metadata": {},
      "source": [
        "### Part (c)\n",
        "\n",
        "Can you interpret the results? What is happening as $\\delta \\to 0$ and\n",
        "why?"
      ],
      "id": "c766ee6f-22f6-4d8a-88e7-34e45d3e15fa"
    },
    {
      "cell_type": "markdown",
      "metadata": {},
      "source": [
        "(double click to edit your answer)"
      ],
      "id": "f96e5c89-33cf-4f77-81fd-dc5b7934bad8"
    },
    {
      "cell_type": "markdown",
      "metadata": {},
      "source": [
        "## Question 2\n",
        "\n",
        "Take the Solow growth model in [our\n",
        "lectures](https://jlperla.github.io/ECON408/lectures/deterministic_dynamics.html#/solow-growth-model)\n",
        "\n",
        "In this question we will explore the $\\alpha$ parameter. The baseline\n",
        "parameters are the same and given in the code below.\n",
        "\n",
        "### Part (a)\n",
        "\n",
        "Find the new $k^*$ using the formula for the steady state for the case\n",
        "of `alpha = 0.8` and `alpha = 0.99` contrasting with the `alpha = 0.3`\n",
        "default. Hint: it might diverge"
      ],
      "id": "534e48e6-9c0d-4fa2-9d9e-882cb8fb6cd9"
    },
    {
      "cell_type": "code",
      "execution_count": 17,
      "metadata": {},
      "outputs": [
        {
          "output_type": "display_data",
          "metadata": {},
          "data": {
            "text/plain": [
              "4.0"
            ]
          }
        }
      ],
      "source": [
        "p_baseline = (;z_bar = 2.0, s = 0.3, alpha = 0.3,\n",
        "     delta = 0.4, g_N = 0.0)\n",
        "k_min = 0.0\n",
        "k_max = 4.0\n",
        "# Add code here"
      ],
      "id": "e15fe21f"
    },
    {
      "cell_type": "markdown",
      "metadata": {},
      "source": [
        "### Part (b)\n",
        "\n",
        "Plot `ts_plot` and `plot45` for these cases, starting at `k_0=0.25` as\n",
        "before for `alpha = 0.8` and `alpha = 0.99`."
      ],
      "id": "1571c7d0-9f3e-4127-a276-473927e30c39"
    },
    {
      "cell_type": "code",
      "execution_count": 19,
      "metadata": {},
      "outputs": [
        {
          "output_type": "display_data",
          "metadata": {},
          "data": {
            "text/plain": [
              "(z_bar = 2.0, s = 0.3, alpha = 0.3, delta = 0.4, g_N = 0.0)"
            ]
          }
        }
      ],
      "source": [
        "k_0 = 0.25\n",
        "k_min = 0.0\n",
        "k_max = 3.0\n",
        "p_baseline = (;z_bar = 2.0, s = 0.3, alpha = 0.3,\n",
        "     delta = 0.4, g_N = 0.0)\n",
        "# Add code and create new cells as required"
      ],
      "id": "bb2418ef"
    },
    {
      "cell_type": "markdown",
      "metadata": {},
      "source": [
        "### Part (c)\n",
        "\n",
        "What is your interpretation? What is happening to the steady state and\n",
        "convergence?"
      ],
      "id": "67948d6f-eaba-4c23-8017-258a65fc9577"
    },
    {
      "cell_type": "markdown",
      "metadata": {},
      "source": [
        "(double click to edit your answer)"
      ],
      "id": "8c81bd11-10f5-4008-86fd-41bcb2c0a477"
    },
    {
      "cell_type": "markdown",
      "metadata": {},
      "source": [
        "### Part (d)\n",
        "\n",
        "Now take the same case with `alpha=0.8` but now have a higher\n",
        "depreciation rate, `delta=0.8`. Plot `ts_plot` and `plot45` as before"
      ],
      "id": "152da9c9-1021-42e5-b0dc-a57f2a104def"
    },
    {
      "cell_type": "code",
      "execution_count": 24,
      "metadata": {},
      "outputs": [
        {
          "output_type": "display_data",
          "metadata": {},
          "data": {
            "text/plain": [
              "(z_bar = 2.0, s = 0.3, alpha = 0.3, delta = 0.4, g_N = 0.0)"
            ]
          }
        }
      ],
      "source": [
        "k_0 = 0.25\n",
        "p_baseline = (;z_bar = 2.0, s = 0.3, alpha = 0.3,\n",
        "     delta = 0.4, g_N = 0.0)  # for reference\n",
        "# Add code and create new cells as required"
      ],
      "id": "0292781a"
    },
    {
      "cell_type": "markdown",
      "metadata": {},
      "source": [
        "Try to guess what would happen as $\\alpha \\to 1$, and how it depends on\n",
        "$\\delta$."
      ],
      "id": "8099bd8b-e94c-4b8d-bf0d-c92714e06e5e"
    },
    {
      "cell_type": "markdown",
      "metadata": {},
      "source": [
        "(double click to edit your answer)"
      ],
      "id": "bfd7ba6d-bcdf-4aa9-a154-c4fe6f4b16f6"
    }
  ],
  "nbformat": 4,
  "nbformat_minor": 5,
  "metadata": {
    "kernelspec": {
      "name": "julia-1.10",
      "display_name": "Julia 1.10.0",
      "language": "julia"
    },
    "language_info": {
      "name": "julia",
      "file_extension": ".jl",
      "mimetype": "application/julia",
      "version": "1.10.0"
    }
  }
}