{
  "cells": [
    {
      "cell_type": "markdown",
      "metadata": {},
      "source": [
        "# ECON408: Assignment 3\n",
        "\n",
        "Jesse Perla, UBC"
      ],
      "id": "1be172e5-d5be-47b0-ae38-aacd9df5f79a"
    },
    {
      "cell_type": "markdown",
      "metadata": {},
      "source": [
        "## Student Name/Number: (doubleclick to edit)"
      ],
      "id": "5892cb8a-c8f1-45b1-b9fb-29abcfda969e"
    },
    {
      "cell_type": "markdown",
      "metadata": {},
      "source": [
        "### Instructions\n",
        "\n",
        "-   Edit the above cell to include your name and student number.\n",
        "-   Submit just this `ipynb` to Canvas. Do not rename, it associates\n",
        "    your student number with the submission automatically."
      ],
      "id": "34519e6a-db9a-4b57-a163-4ad5621fe7c7"
    },
    {
      "cell_type": "code",
      "execution_count": 1,
      "metadata": {},
      "outputs": [],
      "source": [
        "using Distributions, Plots, LaTeXStrings, LinearAlgebra, Statistics, Random"
      ],
      "id": "dc9e5c02"
    },
    {
      "cell_type": "markdown",
      "metadata": {},
      "source": [
        "## Question 1\n",
        "\n",
        "Following the notes on [AR(1)\n",
        "processes](https://jlperla.github.io/ECON408/lectures/stochastic_dynamics.html#/title-slide)\n",
        "rather than plotting the distribution as normal instead lets see what\n",
        "the stationary distribution looks like with simulation.\n",
        "\n",
        "### Part (a)\n",
        "\n",
        "From $X_0 = 1.0$ simulate up to $T=1000$ using the process\n",
        "\n",
        "$$\n",
        "X_t = a X_{t-1} + b + c W_t\n",
        "$$\n",
        "\n",
        "Where $a=0.9, b=0.1, c=0.5$."
      ],
      "id": "e97d41f7-ac88-4334-8497-fe23e3b4c472"
    },
    {
      "cell_type": "code",
      "execution_count": 2,
      "metadata": {},
      "outputs": [
        {
          "output_type": "display_data",
          "metadata": {},
          "data": {
            "text/plain": [
              "0.5"
            ]
          }
        }
      ],
      "source": [
        "T = 1000\n",
        "X_0 = 1.0\n",
        "a = 0.9\n",
        "b = 0.1\n",
        "c = 0.5\n",
        "# Add code here"
      ],
      "id": "c48491e0"
    },
    {
      "cell_type": "markdown",
      "metadata": {},
      "source": [
        "### Part (b)\n",
        "\n",
        "On the same graph plot the histogram of those simulated values (i.e.,\n",
        "$\\{X_0, \\ldots X_T\\}$) then plot the density of the stationary\n",
        "distribution calculated in closed from in [those\n",
        "notes](https://julia.quantecon.org/introduction_dynamics/ar1_processes.html#equation-mu-sig-star)\n",
        "(i.e. create a normal distribution with $\\mu^* = b/(1-a)$ and\n",
        "$v^* = c^2/(1 - a^2)$\n",
        "\n",
        "Hint: `histogram(X, normed=true)` normalizes the empirical draws so they\n",
        "are a proper PMF."
      ],
      "id": "65ae78cb-4408-4e8c-8640-5758e3603485"
    },
    {
      "cell_type": "code",
      "execution_count": 4,
      "metadata": {},
      "outputs": [],
      "source": [
        "# Add code here"
      ],
      "id": "e87b12df"
    },
    {
      "cell_type": "markdown",
      "metadata": {},
      "source": [
        "### Part (c)\n",
        "\n",
        "What happens if you discard the first 200 observations from that\n",
        "simulation (i.e., $\\{X_{199}, \\ldots X_T\\}$))?"
      ],
      "id": "9db8d710-dd03-4ac5-ba80-64ed91dc7da6"
    },
    {
      "cell_type": "code",
      "execution_count": 6,
      "metadata": {},
      "outputs": [],
      "source": [
        "# Add code here"
      ],
      "id": "e29c5f9b"
    },
    {
      "cell_type": "markdown",
      "metadata": {},
      "source": [
        "Do these line up approximately? Explain why it may be better or worse?"
      ],
      "id": "d15dfb41-74f2-44ab-b019-dfa23a4c1166"
    },
    {
      "cell_type": "markdown",
      "metadata": {},
      "source": [
        "(double click to edit your answer)"
      ],
      "id": "2035b37a-a550-43d2-8cf7-77b140f42b52"
    },
    {
      "cell_type": "markdown",
      "metadata": {},
      "source": [
        "Reusable functions, do not modify without clearly annotating your\n",
        "changes."
      ],
      "id": "9fdba276-89dd-4f8d-acbb-dd8625438977"
    },
    {
      "cell_type": "code",
      "execution_count": 8,
      "metadata": {},
      "outputs": [
        {
          "output_type": "display_data",
          "metadata": {},
          "data": {
            "text/plain": [
              "gini (generic function with 1 method)"
            ]
          }
        }
      ],
      "source": [
        "function lorenz(v)  # assumed sorted vector\n",
        "    S = cumsum(v)  # cumulative sums: [v[1], v[1] + v[2], ... ]\n",
        "    F = (1:length(v)) / length(v)\n",
        "    L = S ./ S[end]\n",
        "    return (; F, L) # returns named tuple\n",
        "end\n",
        "# Assumes that v is sorted!\n",
        "gini(v) = (2 * sum(i * y for (i,y) in enumerate(v))/sum(v)\n",
        "           - (length(v) + 1))/length(v)"
      ],
      "id": "a75c20d8"
    },
    {
      "cell_type": "markdown",
      "metadata": {},
      "source": [
        "## Question 2\n",
        "\n",
        "You can create a Pareto distribution with tail parameter `a` and draw\n",
        "from it with"
      ],
      "id": "eb1277de-51aa-4fe8-a114-6fe76d88ef09"
    },
    {
      "cell_type": "code",
      "execution_count": 9,
      "metadata": {},
      "outputs": [
        {
          "output_type": "display_data",
          "metadata": {},
          "data": {
            "text/plain": [
              "3-element Vector{Float64}:\n",
              " 1.020632110453245\n",
              " 3.345907772494828\n",
              " 1.3865928191713668"
            ]
          }
        }
      ],
      "source": [
        "a = 1.5\n",
        "d = Pareto(a)\n",
        "rand(d, 3)"
      ],
      "id": "f1b05c5e"
    },
    {
      "cell_type": "markdown",
      "metadata": {},
      "source": [
        "The gini coefficient of a Pareto distribution is given by\n",
        "\n",
        "$$\n",
        "G = \\frac{1}{2a - 1}\n",
        "$$\n",
        "\n",
        "### Part (a)\n",
        "\n",
        "Draw `N=1000` observations from the Pareto distribution for `a = 1.5`\n",
        "and calculate the gini coefficient. Compare to the closed-form solution"
      ],
      "id": "10c609fd-ee03-476b-ad0a-5bc2aadf1e0c"
    },
    {
      "cell_type": "code",
      "execution_count": 10,
      "metadata": {},
      "outputs": [
        {
          "output_type": "display_data",
          "metadata": {},
          "data": {
            "text/plain": [
              "1.5"
            ]
          }
        }
      ],
      "source": [
        "N = 1000\n",
        "a = 1.5\n",
        "# your code here"
      ],
      "id": "22f9b12e"
    },
    {
      "cell_type": "markdown",
      "metadata": {},
      "source": [
        "### Part (b)\n",
        "\n",
        "Given a pdf $f(x)$ the cumulative distribution function is given by\n",
        "$F(x) = \\int_{-\\infty}^x f(y) dy$. The complementary cumulative\n",
        "distribution function (CCDF) is given by $F^c(x) = 1 - F(x)$. It starts\n",
        "at $1$ at the minimum of the support of the distribution and then drops\n",
        "to $0$ at the maximum of the support.\n",
        "\n",
        "Take the following code which calculates the CCDF for a distribution and\n",
        "a range of values `x`.\n",
        "\n",
        "For this, plot the relationship between the `log(x)` and\n",
        "`log(ccdf(d,x))` for the distribution below (this is called a [log-log\n",
        "plot](https://en.wikipedia.org/wiki/Log%E2%80%93log_plot)). Describe\n",
        "what you know about this relationship?"
      ],
      "id": "f29ac390-74cd-457d-bb59-e1aa95911fbb"
    },
    {
      "cell_type": "code",
      "execution_count": 12,
      "metadata": {},
      "outputs": [
        {
          "output_type": "display_data",
          "metadata": {},
          "data": {
            "text/plain": [
              "1.0:0.09090909090909091:10.0"
            ]
          }
        }
      ],
      "source": [
        "ccdf(d, x) = 1 - cdf(d, x)\n",
        "\n",
        "N = 1000\n",
        "a = 1.5\n",
        "d = Pareto(a)\n",
        "max_x = 10.0\n",
        "num_points = 100\n",
        "x = range(support(d).lb, max_x, num_points)  # from the lower bound of support to max_x\n",
        "\n",
        "# edit your code here"
      ],
      "id": "5cd5fb3f"
    },
    {
      "cell_type": "markdown",
      "metadata": {},
      "source": [
        "### Part (b)\n",
        "\n",
        "For the above case, numerically calculate the slope of this line\n",
        "(easiest is just rise over run). Compare it to the tail parameter `a`."
      ],
      "id": "810c7343-a21b-491a-ac50-1eb756f45382"
    },
    {
      "cell_type": "code",
      "execution_count": 14,
      "metadata": {},
      "outputs": [],
      "source": [
        "# your code here"
      ],
      "id": "78a91c8d"
    },
    {
      "cell_type": "markdown",
      "metadata": {},
      "source": [
        "### Part (c)\n",
        "\n",
        "Do we will do the [empirical\n",
        "counterpart](https://en.wikipedia.org/wiki/Empirical_distribution_function).\n",
        "Given unweighted vector $\\{X_n\\}_{n=1}^N$ of observations, we can define\n",
        "the empirical CDF as\n",
        "\n",
        "$$\n",
        "\\hat{F}(x) = \\frac{\\text{number of observations } X_n \\leq x}{N}\n",
        "$$\n",
        "\n",
        "With the equivalent CCDF as $1 - \\hat{F}(x)$.\n",
        "\n",
        "The code below calculates the empirical CDF for some simulated data.\n",
        "Adapt it to (1) draw `N` draws from the Pareto distribution above with\n",
        "`a = 1.5`; (2) plot the same log-log plot as above; and (3) overlay the\n",
        "plot with the theoretical log-log plot from the previous part to compare\n",
        "the two."
      ],
      "id": "9594bc42-ef58-439f-bda6-e8a4c5ac04d9"
    },
    {
      "cell_type": "code",
      "execution_count": 16,
      "metadata": {},
      "outputs": [
        {
          "output_type": "display_data",
          "metadata": {},
          "data": {
            "text/html": [
              "<img src=\"data:image/png;base64,iVBORw0KGgoAAAANSUhEUgAAAoUAAAHMCAIAAAAs9EW6AAAABmJLR0QA/wD/AP+gvaeTAAAgAElEQVR4nO3dd3wU1f7/8TO7m0J6IIROIIQgTXpRQFqkKIYmigpXr6IX8KLXi5V78fLzWsCvFREURRRBbCBSpAhIgITeCSUQIEAKJCG97s6c3x+rezG0JWwyW17Pv2Yms8kn5zEz7z1nmiKlFAAAQFcGvQsAAADkMQAAToA8BgBAf+QxAAD6I48BANAfeQwAgP7IYwAA9EceAwCgP/IYAAD9OUse5+Tk6F0CAAC6cYo8zsrK6t69u50rFxcXV2kxLoSmsKEpbGgKG5rChqawceamcIo8tlgsFovFzpU1TavSYlwITWFDU9jQFDY0hQ1NYePMTeEUeQwAgIcjjwEA0B95DACA/shjAAD0Rx4DAKA/R+ZxXl7elZeuFRUVlZeXO/CvAADgfuzK44ULF/bp0yc8PPztt9++6gpJSUlt27Zt3759o0aN1q5da11YVFQUGxvbvHnzBg0aXOuDAABA2JnH9erV+/e//92nT5+SkpKrrvDMM8888sgjp0+fXrhw4aOPPmrtEH/wwQdSytTU1IMHD7777ruHDx92ZOEAALgRu/K4f//+MTExgYGBV/1pVlbWhg0bxo8fL4To27dvrVq1Nm7cKIRYvHjx+PHjFUWpV6/esGHDFi9e7MC6AQBwJ6Zb/xXnzp0LDQ0NCQmxzjZr1iwlJUUIkZKS0qxZM+vCyMjI6/ePS0tL169fb5vt0qVLcHDwrdcGAIBNvlkxl/1piSZEXrmssFqZKoqveGhkkUWUq79Pt6ul1PZ1cG0OyOOSkhJvb2/brI+PT3FxsZSytLTUttzX17eoqOhav6G8vDw/P3/27Nm2Jc8++2ynTp2uuvJ1fo+noSlsaAobmsKGprBxraYotohyTck3i4O5SnKBIbtMalLJN4tyTSm2iGKLLJdKfrnQhJLzR7KapVJkqZipJapSpgohRKBJGv8YC5bSpCjlihDBXhX/rrdR+F8RiTWM0sdYcWGgSTwepfavexOP3jQYDH5+ftdfxwF5XLdu3UuXLmmaZjAYhBCZmZn16tVTFKVOnTpZWVmRkZG2hdf6Dd7e3uHh4UuXLrXzLwYEBNimS0tL09LSbu0/cFXFxcVOvps1bdpUUZTq+VuXbxUejqawoSls9GqKfdlyT5ZMypNnC0VOmdSEsGiiwCyEEMUWYc3L3HIphTBrosQigryFEMLXKEK8lTahSpuaSv0gEeQlfIzCzyT8TIqPQQR5C6MiQn2ESRGBXn86wtQwCd8r4vNyhYWFTrtVVD6Py8vLzWazv79/REREWFhYQkJCz5498/Pz9+zZc8cddwghevbsuXHjxq5duwohNm7cOGnSJIdVfZkPP/zwo48+qlu3blX8cicnpay2tKuEkydPLl++/K677tK7EABVrsQizhXJrFKRVSozS0V6sTicI7ddlDV9RI86ym0hSp96irdBBHoJk0EYFBH8R+7WMCpC/B6xHs6uPP71119//PHH+Pj4AwcOpKWl/e1vf+vYseMXX3yxcOHCrVu3Go3GKVOmPPbYY+PHj1++fPmoUaMiIiKEEC+88MKAAQMsFsuJEyfy8/NHjhxZFf+A2WyeOHHilClTquKX41bExsaazWa9qwDgeMUW8XOKdq5InCuUpwvk0VyRUy4b+SvhNUS4rxLmK8JrKA9GKu92MzTw9/iYtZtdeRwRERETExMTE2OdDQ8PF0LExMRERUVZl4wfP75FixYJCQkTJ04cNWqUdWGnTp3i4+OXLVt2xx13zJw58/JzzAAAV5FbLk7lyx2Z8nieTC8WacXyVL5oW1N0D1c6hCnDmhhuCxbk7q2zK4+jo6Ojo6MrLIyKirLlsRCib9++ffv2rbDObbfd9vLLL99iiQCA6pFvFl8maZvSZUaxvFQmsstkiUWE+CgN/UXX2krrUKV/fVHfz1DfT6nrJ0hgx3LA9VwAADcQly7Hx6tdwpTHow2NA0QtH1HTR6lBSlQXWhoAPFeRRaQUytMF4sskbUuG9sVdpnsa0e/VB3kMAJ4oOV8+sklNzpeNA5TG/sq9jZWFfbyuvNcW1YY8BgBPkVsuzhTIUwVy2wW5KFl7pZ1xUmveuussyOOqtWbNmrNnz9pm27dvb70huxL27t27YMGCDz74oMLypUuXpqSkPPfcc3b+ntLS0vvuu+/XX3+98keJiYm//PJLQUFBs2bNhg8fHhQUdP78+V9++UUIERwc3Lhx49tvv93f39+68u7du/fu3Wv77H333XedR74A0NHZImVFsvbJMa3UIpsGKk0ClS61lY33mG4LYWjaiZDHVWvmzJlms7ldu3bW2YYNG1b6VwUGBl55lbsQIjw8XMqKD4q7DlVVN23adOXyGTNmzJgx48knn2zUqNGOHTv+/e9/nzt3LjExccqUKePGjSstLf3qq68SEhLefvvtp556Sgjx008/rVy58u6777Z+/Frv/gKgrw8Oa/930PuhZnLVQGMrAtiJkcdVbsSIERMmTLh8yZ49e4KDg5OTkw8fPjx48OBWrVqtX7/+8OHDAwcObNmypRDi0KFDBoPh4sWL+/fv7927d8eOHYUQwcHBrVu3FkIUFhbGxcV16tRpyZIlHTt2rFu3rq3PWlZWtmrVqpSUlKZNmw4ePNjHx+fQoUPx8fFms7lnz54dOnS4VpE7duyYNm3a/v37W7RoYV0yefJk60Tt2rWnT59und6yZUv//v3btWvXrVs3IUS3bt3eeecdxzYXgFsnhdiVKXdlyvWp8nCOjB9Y3qSWv95F4QY4c1Ad5B+ss59++unw4cNXrlyZn5/fq1ev559/funSpXl5eb169Tp//rwQYvHixSNGjFiwYIEQYvjw4dYnex88eHDq1KlCiPT09LFjxz788MO5ubnFxcW//PLLp59+KoQoKCjo0qXLkiVLTCbTunXrTp48KYR47bXXCgsLy8vLH3zwwSVLllyrwlWrVsXGxtrCWAhhezfX5Xr16nXvvfd+//33tv/LYrFYLBZVVa9cGYAuNCm6LrP8PUFNzpdjopRDI01hPjcxhAa9uGf/+K+b1fNF1b39KUJ8cZex4RUPqfnnP/9peyjKZ5999sADDwghunfv/tFHHwkhjhw5cvHiRWv0JiUlrV69+sknnxRC1K9ff/78+UKI1q1bT548ecSIEZf/zry8vK+++qpRo0ZCiMTEROvCjz76qFWrVosWLbp8zR9++EEIUVRU1KxZs48//vhaTy09efLkVQP4Si1atDh16pR1+uuvv7ZmfIMGDQ4dOmTPxwFUqUtl4m9b1Qb+yrK7/3epdKGOBcFu7pnHr7QzFFT7g5MVIer5XeXczHvvvVdhvFoI0bZtW+tEnTp1rI/7tk5nZ2dbp22XfXXr1u3YsWMVOqB16tSxhvHlDhw4UOERaZqm/fOf/1y9enVoaKiiKLm5udcqPiQkJD8///r/oFVOTo7trWF/+ctf5s6da8+nAFSpY7ny5V1awgXNy6Dc00iZ3YP7llyPe+ZxdLCzX7NgfTelEEJRlMunbWPaBQUFtgl/f3+j8U97l5fXFa/uFCI4ODgvL+/yJWvWrNmxY8eRI0eMRmNcXJz1Oqyrat++/Ycffmh7aea1lJWVrV+//sUXX7zBvwegumhSbEqXkxLUR6IMC/p4BV3l2ADXwPnjKldaWpr3B/svQl66dGl6eroQYtasWYMHD7bnIyNHjpw7d25qaqoQIj8/v6CgoLS01JqvZrP5ww8/vM5nH3744fLy8kmTJlm/B2RkZIwfP976I1VVc3JyLly4kJCQMGzYMH9//7Fjx9r5XwCoCvEX5H/2qI/Gqf1WWep9Y566R53R1TilvYEwdmnu2T92HuHh4e+///77779vnR05cuT7778fFhYWHBxsXVKrVq2QkBDrdM2aNUNDQ63TAwYMGD58+MWLFyMiIr755hshhK+vb506dYQQXl5ejRs3tv2JwMDAmjVrCiEGDhw4efLkXr16mUwmk8m0fPnyIUOGfPnll5GRkQEBAY888oh1RNpgMFz+cauAgIC4uLjJkyc3aNDA19c3MDDwiSeeEEL4+fmpqtq5c2c/P78mTZr07t3773//u3W8OiQkRNO0qmo4AFdQpXh2m7o5Q14okZPbGu9pJBoHGFqGKCG8PM8tKDd162oVycjI6NGjR3Jysj0rFxYWBgQE2GZff/11g8HgZu8/njJlire397Rp0244gHxVqqpePr5dYfZmP15psbGxzz77bP/+/W/9V91Qha3Ck9EUNm7TFGWq2Jstt1+UG1K1jBLxTV9jVJBiuJmTcm7TFLfOmZuC/rFTq0QYCyEqpOnNhqtDwhiAQ2SXie4/W+r5ie7hypO3GXrVNdT00bsmVA3y2Bk9/vjjlUtiAO7kwCU5MV4d29zwagcOCO6PPHZGUVFRepcAQE/lmhi6znI8T0zraBjbnDD2COQxADiXZSnalF1a+1rKiQeMRme/eRMOQx4DgBPZny2fjteWxBi7hxPFnoVhEABwFoVm8bet6uudDYSxB3KH/vHhw4etT2mGU0lLS9O7BMBlpBXLr0/I9w+rj0UbHoump+SJXD6Pe/bsefDgQc/MY0fdKFxFWrRocdUXNgO43KZ0+dBGSw2T0jFM2TPM1OCKd9LAQ7h8Hvfp06dPnz56V6EPZ76xHcB1bEyTSXkyvVimFovlKdqKAaZuDFB7PJfPYwBwFXnlYneW/O6UtvOi7FtfaeivNA8Wf7vN1KU2YQzyGACqRXK+7L1KbRsq2tVSfrrb2DSQDMafkMcAUOVSi+RTW9WXbjdMas21Wrg6tgwAqEKlqhi/Ve36s9opTBnXgkMuron+MQA4WJFFHL4kTxXIUwVi7jGtX33l1IMmH+e9GQJOgTwGAIc5kSdf2qVtTtdahyqRQUpkoLI0xtgpjFPFuDHyGAAc4Ld0+UyCWq6JvzQ3fNfPy4uRadwk8hgAbokU4odT2su7tPe6G4ZFkMOoJPIYAG7Ju4e0H09rn/Uy9q/PuDQqjzwGgMo7eEm+f0hb1NfYpx5hjFvC0AoAVEa+WSw8qQ1YbZl1p4Ewxq2jfwwAN+1SmRi42tIsSPm8l2lIY8IYDkAeA8BNyC4Ta85pU/doT95meKUdQ4xwGPIYAOz15BZ1+Vnt7gaGj+80Dm5EtxiORB4DwI1ZNPHaPnVTujz/EPcWo0qwWQHAjf2cov2aKrcPNRHGqCJsWQBwY7uz5IORhlo+etcB90UeA8D1WDSxIU3+dEbyGGpUKc4fA8A1Hc+TozaotXzEa50MveqSx6hC5DEAXN2FEjFojfpmZ8NDzRhKRJVjIwOAqzhVIF/aqfaqoxDGqB5sZwDwJ2WqmJmo9VqhRgSI1ztzkEQ1YbwaAP4nt1w8sVktU2X8fcYmgZwwRvXhqx8A/G7ecS36e3M9P/FDfxNhjGpG/xgAhCbF3GPaG/u1/SNM9f1IYuiAPAYA8d992pYM7dfBRsIYemG8GoCnO5YrfzitPX+78bYQwhi6IY8BeK4Cs1iWog1frz4ebYipTxhDT4xXA/Bcf09QzxXKf7U3jImicwKdkccAPJFFE8vPautTZeL9phBvvasByGMAnkYK8cFh7e0D6u01lW/6GgljOAnyGIBneWOftiFN2znM1MifE8ZwIuQxAA9SYhHfJGuL+hoJYzgbLmEA4CnWp8qOyyz3NFI61CKM4XToHwPwCPlmMWqD5ecBprt4jTGcEv1jAG6uVBVzjmptfrQ828ZAGMNp0T8G4Lb2Zcs5R7XlKVqfeoZ1g3n8FpwaeQzADWWUiOd3eG2+qE5pb/hvJ686NfQuCLgR8hiAW/kmWfvXbs2iiVGNtWOjfPw4yMFFsKkCcCuv7tG+72fsUlspLCwljOFC2FoBuIkii/jkqFbTR3SuzXliuB7yGICb6LvKUs9PmdfLSBrDFZHHANzBrkx5rlDuGGoijOGiuP8YgMtbeVaO2qB+cAc9Y7gw8hiAy/vsuDajq+HBSA5ocGFsvgBc25rzcm+WHN6EoxlcG+ePAbiwMZvUQ5fkj/2N3sQxXBx5DMBVJebIzenyyP2mAC+9SwFuGV8pAbiq/+7T/tXBQBjDPZDHAFzS1gwZl6491IyDGNwEmzIAl/T5cW1GV2MQnWO4C/IYgOspU8WGNNk9nPuN4T7IYwCuZ9peNSpIRAeTx3AfXF8NwMV8fETblC7XDOLwBbfCBg3AlaQXizf3a1vvMwZ7610K4FCMVwNwGVKI0Rstz7YxNA1kpBruhjwG4BryykXsOotZE5PbcuCCG2KzBuAa1p7XVCk2DTHxFie4JfIYgGv4NVWOjjTwnGq4KzZtAC6gwCxWn5d3cMMx3Bd5DMAFLDqptQgWzbnhGO6L+50AOLu15+X7h7VFfY16FwJUIfrHAJzdm/vVqR0MncPoHMOdkccAnNqlMpGYI8dEcbCCm2MTB+C8zhTI2HWWp1txpIL7YysH4Lz6/aIOb2J4tSNnjuH+7L2ea/bs2R9//LGiKM8888xTTz1V4afjxo1LSUmxzf71r399+OGHt2/fPnXqVNvCb7/9tlatWrdeMQAP8dMZLdCLp3HBU9iVx3FxcW+99db69eullDExMa1aterZs+flKzz33HOlpaVCiJKSkpiYmLfeeksIkZmZWVhYOGvWLOs6QUFBji4egNtafU5O2qatHEDPGJ7Crjz+/PPPn3rqqRYtWgghxo0bN2/evAp53Lp1a+vEokWLoqOjO3fubJ0NCgrq1KmTQwsG4P5+OqNNjFe/629qX4trquEp7BoISkpKatOmjXW6TZs2SUlJ11pz3rx5Tz75pG1227Zt4eHh7dq1mz179vX/hKZpOZfRNM2ewgC4n3NFctI2be1g0111CWN4ELv6x3l5ef7+/tbpgICA3Nzcq652+vTpbdu2ff/999bZDh067Nq1KyIiYu/evaNGjapZs+bo0aOv+sHy8vLU1NSOHTvalsyaNat3795XXbmoqMiemj0BTWFDU9i4QVP0Xuk9obkW6V1aWHhLv8cNmsJRaAobvZrCYDD4+fldfx278rh27dq2DM7Nza1du/ZVV/viiy+GDh0aFhZmnW3YsKF14s4775w4ceKKFSuulcfe3t6NGjVKTk62pxghREBAgJ1ruj2awoamsHHdptCkWHlWK1LVKZ19HdI1dt2mcDiawsZpm8Ku8er27dvv2LHDOr1jx44OHTpcuY6maQsWLHjiiSeu+huys7NtPWwAuKpvT2mv7NKW9DcxTg0PZFf/eMKECT179uzQoYOUcsGCBQkJCUKIEydO3H333WfOnLGus3btWillv379bJ+aOXOmn59fw4YN9+zZ89lnn23YsKEK6gfgPlafk+NbGnpy2hgeya48btWq1YoVKz777DNFUVauXGm90Do4OPjy8efy8vKZM2cajf+7OaFly5ZLly5dt25dw4YNExIS2rZt6/DqAbiHck2MXG+5UCI+78UNTvBQipRS7xpERkZGjx497Dx/XFhY6LSj/9WMprChKWxctClGrldr+ohPexoNjusbu2hTVAWawsaZm4L3LQLQ2ZrzMilPbh9qcmAYAy6HB9EB0JMU4r1D6v/rZPCndwDPRh4D0NP0A5pFE4MaciyCp+MbKQDdrDon3z+krr/H5MehCB6P76QA9JFZKiZsVb/uY7q9JueNAfIYgB4OXZKP/GZ5LFoZ2JAwBoQgjwFUv+9OaYPXqrERhmkdudsY+B0nbQBUq0OX5Es7td/uMTYPpmcM/A/9YwDVx6yJ1/Zpf29tIIyBCshjANVn/FZVEeLZ1hx5gIoYrwZQHc4XyTGbVE2KVQNNXsQxcAV2CwDV4c39WvtaStwQU6CX3qUATon+MYAqtyldxqXLhFhebAxcE/1jAFXLoonJO9S3uhiCvfUuBXBi5DGAqrX4lBbqLe6L4GgDXA/j1QCq0JkC+dZ+7bNeRkaqgevjGyuAKvTsdm1MlKFHHeIYuAHyGEAV2p8tH4smjIEbI48BVJVPjmp1a4j6fuQxcGOcPwZQJY7kyukHtOUDeGMEYBfyGIDjPbVVXZ8qX25naMu7jQH7kMcAHGzHRbk+VR4bZfLmhBhgN/IYgCPtz5bD11sW9iGMgZvDHgPAkXZkypFNDP3qM0wN3BzyGIDDqFK8c1B7MJIDC3DT2G0AOMzuTFnTR/SsS+cYuGnkMQCHmRCvjm/JUQWoDPYcAI6RlCfLVPHXaI4qQGWw5wBwjPgLsls4I9VAJZHHABygyCLWnJedwshjoJLIYwC36uuTWtR3ZpMiHmOwGqgsngcCoPKKLeKh39TzRXLrfaZmQXSOgcojjwFU3tcnNR+D2DXUZCCLgVvD4BKAylt6WhsTpRDGwK0jjwFU0qKTWlaZGNSIwwjgAIxXA6iMb5K1V/dos3sYeW8E4BDkMYCbVmIRf09QVw003cENx4CD8M0WwE1bckbrFKYQxoADkccAbtrSM/LZ1ka9qwDcCnkM4KYdyJZta+pdBOBeyGMAN2fHRWkyiIgABqsBRyKPAdycF3aqM7py6AAcjJ0KwE2IvyBzy0VsYw4dgIOxUwG4CR8c1p5sYeCBXIDDkccA7JVbLuLStfEtOW4Ajsd+BcBeXxzX7mlk8OKwAVQBdiwAdilVxdxj2qTWHDSAKsGuBcAub+1Xb6+pdAzj1DFQJXh+NYAbK1PFnKPa4ZFepDFQRegfA7ixhIuyVagSXkPvOgD3RR4DuIEFJ7RHfrM80YLDBVCFGK8GcD1FFjF5h5pwn6l5MGPVQBXiCy+A6/l7gnpfYwNhDFQ1+scArimvXKw6q6WM9tK7EMD90T8GcE07M2W7WkoNvrcDVY88BnBNS05r9zflKAFUB/Y0AFdn1kTCRdm1NmeOgepAHgO4urGb1NuClfa1yGOgOnBeCMBVbEiTh3PkjqEm0hioHvSPAVzF96e0f7Qx+PONHagu5DGAP7FoYtpedXmKdldd+sZA9SGPAfzJt6e0707JTUNM0TwDBKhGjEYB+J+Xd6m/psqv+xhbEMZA9SKPAfxucbI277h2bJRXLR+9SwE8D+PVAIQQYukZbcpu7cf+JsIY0AX9YwBCCPGfPdq3fY3dwhmmBvRB/xiAOJIr882iQxhhDOiGPAY8XVapeGWX9s82Bm+OB4B+2P8Aj/bGfq3tEnN9PzGhFUcDQE+cPwY817ki+fERdfcwUwN/RqoBnfGNGPBQuzLlncvVf7QxEsaAM6B/DHioWUe0aR0NT7TgSzngFNgVAU+UbxZrzmuxERwBAGfB3gh4opmHtfubGmr76l0HgD+Qx4AnWn1eG9WU3R9wIuyQgMdZnqKdKRC963EZF+BEyGPAs+zPls9u15YPMJLGgFMhjwEPklIoY9epE1oaOvFoTMDJkMeAB3nvkDaksfLi7ez4gNPh/mPAU+SbxeJkLekBL70LAXAVfE0GPMWCE9rQCEOIt951ALga8hjwFCtStPu5xwlwVuycgEcoVcWeLNmzLpdxAU6KPAY8wpyj2t0NDf5cMQI4K/ZOwP3llYtZidrSu416FwLgmugfA+5vfpLWo47SriaD1YDzIo8B97fyrPZYNDs74NTYRQE3tzFNphSKO+vQOQacGnkMuLl/7VY/vMPoy7ljwLnZez3XvHnzVq5cWadOnZdffrlJkyYVfjp79uyzZ89apzt16jRq1Cjr9A8//PDtt9+GhoY+99xzrVu3dlDNAOy1J0teKBEDGtA5BpydXf3jefPmvffee5MmTWrYsGG/fv3MZnOFFRYuXGixWCIjIyMjI2vXrm1duHLlysmTJz/11FPt27fv169fbm6ug2sHcCNrz8sxUYqJgTDA6dnVP545c+Zbb73Vr1+/fv36LV++fPny5SNHjqywzpAhQ/r06XP5kg8//HDq1KkDBw4cOHDg2rVrFy1a9PTTTzuqbgD2OJIrh0fQOQZcwI2/NlsslsTExC5dulhnu3TpcuDAgStXe/XVV4cMGTJt2rSCggLrkoMHD97wUwCqzrFcuTFN61GX3jHgAm7cP7506ZKqqsHBwdbZ0NDQixcvVlhn4sSJjRo1klK+8847Q4YM2bRpkxAiKyvL9qmQkJC9e/de60+Ul5efPXs2NDTUOmswGL766qsKvW2boqKiG9bsIWgKG5rC5vKm+NdOrxdaagFqWWGhjhXphq3Chqaw0aspDAaDn5/f9de5cR6HhIQoilJYWGj9Xfn5+bVq1aqwzpgxY6wTXbt2rVmz5qlTp5o1axYcHFz4x2Hgqp+y8fb2btiwoS2wTSZTYGDgdUoKCAi4YdkegqawoSlsbE1xKM/yQQ/vAH/PHa9mq7ChKWyctiluPJDl7e3dpEmTxMRE6+zhw4ebN29+nZVNJlN5ebkQokWLFrZPJSYmXudTQgiDwRD6h+uHMQB7nC+SZapo6MFhDLgWu04sjRs37r///W96evqSJUsOHTpkvZhr7dq1r7zyihAiOzt74cKFp0+fPnny5Pjx4yMjI6Ojo62fmjFjxtmzZzds2LBmzZqxY8dW6X8C4HIJF+Qd4QppDLgKu66vfuGFF3Jycvr161enTp2ff/7Z2n9VVdV645OiKMuWLZs+fbrJZOratevq1auNRqMQ4vHHH09NTR08eHBwcPDixYsbNGhQpf8JgMttzpB38XZFwHUoUkq9axAZGRk9evRITk62Z+XCwkKnHf2vZjSFDU1hY22KZSnaX+PUwyNNDTx4vJqtwoamsHHmpuBGCMDdxKXLZxK0JTEeHcaAy+H9x4BbUaV4bLP6bT8jL5AAXAv9Y8CtzDtpbBuqEMaAy6F/DLiV946a4obwPRtwPey3gPtIypOqlM2C6BwDroc8BtxEsUX8JU79x22q3oUAqAzyGHATMw6otwUr46PJY8Alcf4YcAdJefLz43LTvUYjY9WAa6J/DLiDmYnaP9oYmgeTxoCrIo8BlyeFWHJae7Q5uzPgwtiBAZeXmCNr+SrhNfSuA8AtII8B11ZiEfm6YGMAABr3SURBVKM2qP9sy74MuDb2YcC1fZCo3RmuPB7Nvgy4Nq6vBlzYxRLxxXFt2d1GvQsBcKv4Tg24qpwy0eVny5goQ+tQLqsGXB55DLiqF3eqI5so/+nIXgy4A8arAZeUVSpWnNXOjPbSuxAAjsE3a8Al/Zau9ahj8OXEMeAuyGPAJa06K4c14bQx4D7IY8D15JSJnZmyfU3yGHAf5DHgYvZny47LLAMaKi1CyGPAfXA9F+Bintii/l9Xw/1N+TINuBV2acCVqFIk5UnCGHA/7NWAK3lpp3pPI3ZbwA0xXg24jHyz+DJJOzaKe44BN8QXbcA1WDQxdpM6prkhzFfvUgBUAfIYcA2/nNNyy+S73XgCCOCeGK8GXIAqxaRt2tyeRiO3OAFuiv4x4AJ+TZXNg8TAhqQx4LbIY8AFJOfLDrUIY8CdkceAszt4SX6ZpLXl6ZiAWyOPAae2J0sOXqM+08YwJoq9FXBnXM8FOLUFJ7TJbQ1jCWPA3bGTA86ryCJ+OiPva8xINeD+yGPAeT27TY2NUJoHk8eA+2O8GnBSSXnyl3Pa4ZE8HRPwCPSPAWdUbBFPbFHf7Gys6aN3KQCqBXkMOJ30YtFuqaVzmPJoNHso4CkYrwacztIzWnSweL87j6oGPAh5DDgXTYpPj2lzexLGgGdhNAxwIpoUozaoUUFKt3CuqQY8C/1jwInEX5An8uXeYSbSGPA09I8BJ7IsRRsdaTCxXwKeh/4x4CzeOqD9nCJ3DOXMMeCJyGPAKRSaxbsH1ZMPeoV4610KAD0wLgY4hUtlMsxXIYwBj0UeA05h7XnJG44BT0YeA/orMIvPjmvPtGZ/BDwX+z+gs8Qc2fx7c7uaSs+69I8Bz8X1XICeii1i5Hr1jc7GJ1rw5RjwaBwCAD09uNFydwOFMAZA/xjQR1qx/L+DWkaxWD6AG44B0D8G9HC6QLZbagnwEqsG8mhMAELQPwZ08Vic+v86Gie24gsxgN9xOACqW2qRPJorH45i7wPwPxwRgGq1KV12WmZ5q4uRR3EBuBx5DFSrBSe0Ke25uwlARRwUgOqzK1NuSJOPRbPfAaiI4wJQTZLz5XPb1WkdDUFeepcCwPmQx0B12Johe620PBhpoHMM4Kq43wmoDj+c1ia0NE7ijREAroE8BqqWJsXUPeoPp7X9wxmnBnBNfFsHqtauTLnsjNw11BReQ+9SADgx8hioWnOPaY9EGRr481hMANdDHgNVaNU5uTtLPsNpYwA3wmECqEKv7lE/uMMYwIljADdCHgNVpdAszhTI3nUZqQZwY+QxUCUKzeLetZaRTQ0G4hiAHchjoEq8skttFarM7WnUuxAAroH7jwHH++Wc/OWc3DeC/QuAvegfAw72TbL27Db187uMPKcagP3IY8CRzJp456A2p4exbz3OGwO4CeQx4Eg9Vlg611ZiGhDGAG4OeQw4zLaLUgjBNVwAKoE8Bhzm06Pag5HsUwAqg2MH4Bjni+SvqXJiS/YpAJXBsQNwjEUn5aCGSg1ucQJQKRw8AAc4VSBnJmoJsZw5BlBJ9I+BW6JKseikNmStOrGVISKAy6oBVBL9Y+CWvLRT3ZMlP+9lvLMOYQyg8shjoPIKzWJxstwWa2xMzxjArWG8Gqi8HZmyTaggjAHcOvIYqLyFJ7V7GrETAXAADiVA5e3JkoMa0TkG4ADkMVAZP6dobZdYAkyiCYPVAByB67mAm3bgknw0Tl09yHRHOGEMwDHIY+Dm/GWTuj1TzrrTSBgDcCDyGLBXgVnMPqJtuSBPPmAyksUAHIo8BuxSYhFD1loa+iu/DjYSxgAczt48Pnv27DfffKMoysMPP9yoUaMKPz1//vyaNWtSU1MjIyMffPBBb29vIURKSsratWtt64wZM8bPz89RdQPVbM5RLchbLOxLFgOoEnZdX52amtq5c+fCwsL8/PzOnTunp6dXWGHIkCG7d+8OCAhYsGDBXXfdZTabhRAHDx6cPn36qT9YLBbHlw9Uiy+StHnHtTk9CGMAVcWu/vGcOXPuu+++119/XQiRlpb26aefTps27fIVduzY4ePjI4SYNGlS/fr19+7d261bNyFE8+bNp0+f7viqgeqSlCdf3Kntz5ZxQ4wN/YljAFXFrv5xfHx8v379rNP9+vWLj4+vsII1jIUQ5eXlxcXFoaGh1tmUlJSXXnrpnXfeSUtLc1DBQLWauke7vaY48YCJdzcBqFJ29Y8vXLgQFhZmnQ4LC7tyvNrm6aefHjFiRHR0tBCidu3aI0aMaNKkyd69e1u3br19+/YWLVpc9VPl5eUZGRm2yDeZTK+88kqXLl2uunJRUZE9NXsCmsKmipricK4Sl+b1USdzWbEsq4o/UAXYKmxoChuawkavpjAYDDe8gsquPPbz8ystLbVOl5SUBAQEXHW1l19+OTk52XYNV/fu3bt3726dllJ+9NFHs2bNuuoHvb29Q0JCpkyZYqu7a9eu/v7+16rnWgV4IJrCxuFNcSxXjtyszu9tDA/2duxvrmpsFTY0hQ1NYeO0TWFXHkdERCQnJ1unT506FRERceU606ZN27Rp07p1666ao5GRkfv27bvOn/D19Y2JibGnGKB6PLVVfaebYTCPpwZQLew6f/zwww/Pnz+/qKiosLBw/vz5Dz/8sBAiMzPz1Vdfta7wxhtvfP/994sXL1ZVNScnp7y8XAixb9++kpISIURKSsoXX3zRp0+fqvonAEeLvyBP5sv7m/KAdwDVxK7DzfDhw/v27RsREdGkSZMBAwbExsYKIXJycj7//HPrCkuWLCkrK4uJiencuXPnzp03bNgghFi6dGndunXDw8M7d+48cuTIp556qur+DcCxXt2jfnyn0Ys4BlBdFCmlnata7yr28vK6qT9QUlJSo0aN66+TkZHRo0cP25D49RUWFjrt6H81oylsHNsUOWWi2ffm1Ie8arjg8+vYKmxoChuawsaZm+Imjjc3m8RWNwxjwNm8d1gdE2VwxTAG4Lo45AB/kpwvPz+m7RjKrgGgWnF+DPiTJWfkI1GGxjz9A0D1Io+BP/npjHZfY/YLANWN4w7wP18kaRZN3FWPzjGA6sZJMuB3r+/TvjulfduPlzgB0AF5DIhCs5hxUP34iJY0yivMV+9qAHgkxqsBMWqD5UKJ2BFrIowB6IX+MTzd2UJ5LE/8MohhagB6on8MT7fyrBzYQCGMAeiLPIan25EpO9cmjgHojDyGR0srlivPaiObsCMA0BmHIXiunDLx1zj12TbGUB+9SwHg8chjeKiNabL1EnOjAOXZ1uwFAPTH9dXwRHuz5Es71U97Gnk0JgAnwcEIHufz49rIDergRso9jdj+ATgL+sfwLGZN/HeftmKA8faaXFMNwInQP4BnmZ+kdQpTCGMAzoY8hmeJS5ejIwljAE6HPIYHkUJsSNN61CGPATgd8hgeZEuGrO+nNPAnjwE4HfIYHmRmovZcW7Z5AM6IYxM8xbuHtOO58oGmbPMAnBH3O8H9aVJ8mKjNTNT2DDP5GPWuBgCuhjyGm1OleGabejxXrh1kDPPVuxoAuAbyGG5ucbK2/aKMu9cU4KV3KQBwbeQx3FmBWby0U1s50EgYA3ByXNsCt1VkERPj1b71lQ61uMEJgLOjfwy39eFhLbdcftWbjRyAC+BQBfd0pkDOTFS3xZpq+uhdCgDYgfFquKdvT8kHIg1NAxmpBuAayGO4oZ9TtNlHtJFN2LwBuAzGq+FWDufIifHq6QLxVW9j73p0jgG4DPIY7qPQLJ7YrA5rYnihrcFE3xiAS+GgBTeRViwn71Bvr6m80o4wBuB6OG7B5a05L5v85N1zhVqmig/u4PnUAFwS49VwYYcuyU+PaSvOynl3WIZG+eldDgBUHv1juKqsUjHsV7W+n7J/uKl/XU3vcgDgltA/hqu6b53l8RaGKe0NQohCs97VAMCtoX8Ml7T6nLxUJl5pxwYMwE3QP4brOZkvH99s+THGZOAGYwDugu4FXIwU4i+b1De6GHvUIY0BuA/yGK7ErIlXdqnlmng8mk0XgFthvBqu4UKJ2JslfzitpRXLXwez3QJwNxzX4Bo6LbN0ra20DhWvdTKG8gpFAG6HPIZTO5Yr3z6o7c2SDf3F0hievQXAbXESDs5rzXl571r19prK4n7G+Pv47gjAnXGMg5M6misf+c2y7G5Tr7pcRw3A/dE/hjPaly17r7RM72IkjAF4CPrHcDqv79PmHtNm9zDe35TviwA8BXkMJ1JiEQ/9pp7MlwdGmLiIGoBHof8BJ3L/BkvjAHGQMAbgeegfw1kUmMXOTLnsbp5KDcAT0T+Gs/julNattuLFJgnAI3Hwg7PYkiEf5anUADwVhz/ob3eWnLxD/eWc1sifoWoAHorzx9CTRRMT4tXNGXJcC8O+4aaG5DEAT0UeQzeZpeKBDZYgb+XACJMvj6YG4NnIY1S3rFJxOEduvyg/OKxObmt8/naupwYA8hjV6GKJmHtMe++w2iVMaRWqbI81NQkkiwFACPIY1ebAJfnSTjXIS9kyxNQ6lBgGgD8hj1HlEi7Iuce0zRlybJTyrw5Gby7qB4ArkMeoWsdyZew6yyvtjW91Mdbz07saAHBW5DGqyoFLcs4R7Zdz8v07jGOj6BQDwPVwlESV2JohB6+xtAxRDo40EcYAcEP0j+FIRRbxz+3q8hQtzFeZ29M0pDHXbQGAXchjOMxXJ7Tnd6gDGxoO3+9VixcmAsDNII/hGAcvyX/t1nYPM0UE0CcGgJtGHuNW/ZYuZx/RtmRoc3saCWMAqBwutMEtmXtMG7dZfTBSOT7KKzaCzQkAKon+MSovrVhO3aPuG26q70e3GABuCR0aVJImxYR47fm2RsIYAG4d/WNUhiZF7DpLmSYmteZFiQDgAOQxKmPSNtWgKOsGG+kaA4BDkMe4OZoUHyVqWzLk9lgTYQwAjkIew14phTLhgnxtn9bYX6weaPRj2wEAx+GYihv4Ikn7Llnbly1DfJTOYcqcHsY+9egYA4CDkce4pjMF8rnt2oUS+WYXY8cwJchL74IAwH2Rx/iffLNIuCCXp2jHcuWpAlFskVM7GCe0NJq4LQ4Aqhh57NGKLGJ3ptyZKfdkyT1ZMrdcdqmtxDY2jG1uiAxU6tTQuz4A8BjksSfKN4uVZ7XV5+Sa81r7Wkr3cGV0M+XtrobGPH0aAHRCHnuEece10wXyQonILBVZpfJkvuxf3zCgoTK7h1cgZ4UBwAmQx24utUi+f1jbnCEfaWZoGSJq11Dq1BCN/ZVQ3k8MAM6EPHZnMb9YkvLEiKbK6kGmWgQwADgx8titnMiTX53QdmXKc0XiXJGMClJSHuIpWgDgAshj13axRMw5qp0ukOeL5OkCYVDEQ82UqR2MjQJEfT/Fi/uUAMBFkMeu6v3D2tdJ3qcLzY9FGwY1VBoFGJoEiAb+dIYBwCWRx64nMUd+flzbmiHndDV3buDPK5YAwA2Qx04tr1xsztAulYlLZSKnTOaUibRisfWC9ni0Yd1gk5e5lDAGAPdgbx5nZWVt2bIlPDz8zjvvVJSrhMDZs2d37doVFRXVrl0728K8vLy4uLjAwMDevXsbDJzMtEtqkUzMFcdz5aZ0uTlD61XXUM9P1PQRod5K00DR30fM6GqKClKEEIVmvWsFADiIXXm8f//+gQMHDh48+ODBg23btv3qq68qrLBixYonn3xyyJAhmzZtevTRR6dOnSqEOH36dM+ePfv27Xv69OmgoKBVq1YRydeXWy4WJ2uv7VW7hhtaBIuHmikL+nj5M4QBAB7AroP9a6+99vzzz7/wwgtFRUXNmzffv39/+/btL19hypQpn3zyybBhw86fP9+yZcuJEyfWqlXr7bffHj169Lvvvms2m9u1a7du3bpBgwZVzX/hAspUUWz5fbrQIs2auFAi0ork+SJxplAezZXH80SJRXYMUzbca2oVwjA0AHgWu/J4zZo1M2bMEEL4+/vHxMSsXr368jw+d+5cUlLSPffcI4Ro2LBhmzZtfvvtt/vvv3/16tULFy4UQnh5ed17771r1qyp6jzOKbtsulxeuVwKkXv59B/rFFtEmVphQpZpN/iRqon8P0aMS1VR8kfc5pulKoUQQpMir1z4mYSP8fcfBXsr1iECL4Oo5yca+SsN/UWLYCU2wtAqhPc3AIDnunEe5+TklJSU1K1b1zpbv379tLS0y1dIT0+vVauWt7f35StIKTMyMi7/VEJCwrX+hNlsvnTp0gsvvGBbMnbs2BYtWlx15bKyMi8vr5XnxJPbDEKInDLhbRD+fzyE2UuR/n88AMPbKGyDvV6KtK3jbRD/W8cg/UxCCOFlEAFev//Uzyi8hQjw+v3j3gbhZ5KXf9DbKPyMv2e5v0l42+LWS1h/r8kgKvFc6LKyG6/z5/XLvLx4/LQQNMVlaAobmsKGprDRqykURbGl5LXcOI+NRqMQQtM066yqqibTnz5lMBhsP7WuYDQaFUUxGo3X+VSFP2EymSIjI21LgoKCrnWy2WAwGAyG2AgRG3HVn19rpPdml99wNf2HlK1NoXcVToGmsKEpbGgKG5rCRq+muOp10BXcOI+DgoICAgJSU1ODg4OFEOfPn+/YsePlK9SvX//SpUslJSU1atSwrtCgQQMhRL169VJTU6Ojoy9feFUGgyEoKGjChAk3LEYI4eXlxRc9K5rChqawoSlsaAobmsLGmZvCrq8Jw4YNW7x4sRAiOzt7/fr1Q4cOFUKcPn06Li5OCFG/fv0OHTr88MMPQoijR4+ePHmyf//+1k998803QoiioqLly5dbPwUAAK5k1/Vc//nPf2JiYrZv356UlPTEE09Yu7xr165duHDh1q1bhRDvvPPOAw88sHjx4v3798+YMSMwMFAI8fzzz/ft27dPnz5paWm9e/fu1atXlf4nAAC4LkVKeeO1hCgrKztw4ECdOnUiIn4/bVtaWlpaWhoSEmKdLSgoOHLkSEREhO0aLiGExWLZv39/SEhIVFTUdX55RkZGjx49kpOT7amksLAwICDAnjXdHk1hQ1PY0BQ2NIUNTWHjzE1h78MmfHx8unbtevkSX19fX19f22xgYGC3bt0q/naTqXPnzrdYIgAAbs/1rrj76aefLly4oHcVTmHp0qWZmZl6V+EUlixZkpWVpXcVTuHHH3/Mzs7Wuwqn8MMPP1y6dEnvKpzC999/n5OTo3cVTuG7775z2qZwvTxetGjR0aNH9a7CKXz99dfHjh3TuwqnsGDBguPHj+tdhVP46quvkpKS9K7CKXz55ZcnTpzQuwqnMH/+/JMnT+pdhVP44osvTp06pXcVV+d6eQwAgPshjwEA0J+zvDxISmnnmL7ZbC4oKHDaEwDViaawoSlsLBYLTWFFU9jQFDYWiyU/P7/6m8LHx8fPz+/669h7v1OVyszMjIiIuPxq7esoLi728fGxPsXTw9EUNjSFDU1hU1xc7Ovry3MiBU1xGb2aIiAg4NChQ9bHXF6LU+QxAAAejq9LAADojzwGAEB/5DEAAPojjwEA0B95DACA/pzl/uObZbFYNm7cePToUSll9+7du3fvrndFejp48GB8fHx5efldd93VoUMHvcvRU3Fx8f79+1NTUwcMGHD9Wwvc0oEDB9atWxceHj569GgfHx+9y9GN2WxOTEw8efJk586dmzRponc5erp06dK6devOnTvXtGnToUOHenl56V2RbhITExMSEnJycpo0aTJ06FAn3EFctX988eLFWbNm5eTkZGdnjxo1avr06XpXpJv4+Pj777//5MmTmZmZgwYNmj17tt4V6Sk6Ovof//jHI488cvbsWb1rqW7r1q0bMGCA2Wz+8ccf7733Xr3L0dPQoUPHjBkzYcKEuLg4vWvRWUxMzKpVq0pKSmbNmtW7d+/y8nK9K9LNnDlzjh49arFY5s6de+eddzpjU0jXt2LFittuu03vKnRTUlKiqqp1eunSpS1atNC3Hn2ZzWYpZUhIyMGDB/Wupbr17t17/vz5Ukqz2RwREbFlyxa9K9KNdTPo37//l19+qXctOisqKrJOlJWV1alTZ/PmzfrW4wwsFkvNmjV3796tdyEVuWr/2MZiscTFxbVv317vQnRz+bNmioqKAgMD9a1HXyaTq56CuUWapsXHx999991CCJPJ1Ldv382bN+tdlG48djO4ku0ZjVLK0tLSoKAgfetxBrt27TIajU2bNtW7kIqceqstKCgoKiqqsNDf398WOZGRkefPn2/SpMmmTZuqu7jqVVxcnJ+fX2Ghr69vSEiIbTY7O/tf//rXzJkzq7e06lZYWFhYWFhhoZ+fn4cfaLKysiwWS1hYmHU2PDw8IyND35LgVF588cXevXu3a9dO70L09OKLL86ePdtsNn/99dc1a9bUu5yKnDqPZ82aNX/+/AoLH3vssSlTplinT506VVxc/MYbbwwbNmznzp3VXmD1+fbbb688Rz548OAPP/zQOp2Xlzdo0KBx48YNHTq02qurVvPnz//oo48qLLz//vvffPNNXepxEjVq1BBClJeXW69SKS0tveHD6+E5ZsyYsXnz5t9++03vQnT29ttvT58+fcuWLSNHjmzdunXr1q31ruhP3OH51dnZ2WFhYfn5+R47VFtQUDBo0KA+ffq88cYbetfiFEJDQzdv3ty2bVu9C6lWoaGhcXFxt99+uxAiNjZ24MCBTz/9tN5F6SkmJmbs2LGPPvqo3oXo7IMPPpg3b97GjRtr166tdy3OYvDgwcOGDfvb3/6mdyF/4qrnj8+ePZudnS2EkFJ+/fXXzZo189gwLi4ujo2N7datG2Hs4UaPHj1nzhwhxIkTJzZv3jxy5Ei9K4L+Pvvss08++WTdunUeHsZSygMHDlinjx49umvXLiccunfV/vGvv/766KOPGo3G0tLSqKiojz/+uGPHjnoXpY9169aNHj3aNuvj45Oenq5jPfoaPHjwjh07bLNZWVme8465CxcujBgxIjU1tbi4+M033xw3bpzeFenmpZde+uyzz2yzGzdu9NhLPm+77baLFy/aZj/55JMHHnhAx3r0omlau3btMjIyfH19pZSvvPKKE44euWoeW+Xn5/v6+np7e+tdCOAs8vLyatSowU4BXKm0tNRisQQEBOhdyNW5dh4DAOAePGUoDwAAZ0YeAwCgP/IYAAD9kccAAOiPPAYAQH/kMQAA+iOPAQDQH3kMAID+yGMAAPRHHgMAoD/yGAAA/f1/ztBpAcYJNc0AAAAASUVORK5CYII=\" />"
            ]
          }
        }
      ],
      "source": [
        "# your code to adapt\n",
        "N = 1000\n",
        "x = sort(randn(N))  # this draws normals, adapt to our areto\n",
        "F_hat(x) = (1:length(x)) ./ length(x) # the cdf values at the x values are just the counts normalized by the total number of observations  No need to modify.\n",
        "plot(x, F_hat(x), label=\"Empirical CDF\") # adapt to do the log-log plot "
      ],
      "id": "5f565c53"
    },
    {
      "cell_type": "markdown",
      "metadata": {},
      "source": [
        "This shows methods for understanding the tail behavior of distributions.\n",
        "If it approaches a straight line, then it is called a power-law tail.\n",
        "\n",
        "### Part (d)\n",
        "\n",
        "Now lets do the same empirical check on the tail behavior with a\n",
        "LogNormal distribution - which does not have a power-law tail and the\n",
        "[Frechet](https://en.wikipedia.org/wiki/Fr%C3%A9chet_distribution)\n",
        "distribution - which does.\n",
        "\n",
        "First, adapt your code above to (1) draw `N=1000` elements from the\n",
        "`LogNormal(0.0, 0.5)` (2) plot the pdf to get a feel for the\n",
        "distribution on a reasonable range, then finally (3) plot the\n",
        "theoretical and empirical log-log plots as you did before."
      ],
      "id": "8a14b1c0-a8fc-46ed-acb7-c40581bcdbde"
    },
    {
      "cell_type": "code",
      "execution_count": 18,
      "metadata": {},
      "outputs": [
        {
          "output_type": "display_data",
          "metadata": {},
          "data": {
            "text/plain": [
              "LogNormal{Float64}(μ=0.0, σ=0.5)"
            ]
          }
        }
      ],
      "source": [
        "# your code to adapt\n",
        "N = 1000\n",
        "d = LogNormal(0.0, 0.5)\n",
        "# add code here to plot the pdf\n",
        "# add code for the log-log plot"
      ],
      "id": "ae521001"
    },
    {
      "cell_type": "code",
      "execution_count": 19,
      "metadata": {},
      "outputs": [],
      "source": [
        "# your code to adapt\n",
        "# add code for the log-log plot"
      ],
      "id": "11c7e119"
    },
    {
      "cell_type": "markdown",
      "metadata": {},
      "source": [
        "Next do the same thing except with a `Frechet(1.5, 1)` (which has a tail\n",
        "parameter of 1.5)."
      ],
      "id": "10ef5d99-adc2-4fae-ad7b-fc6ec9792b1d"
    },
    {
      "cell_type": "code",
      "execution_count": 22,
      "metadata": {},
      "outputs": [
        {
          "output_type": "display_data",
          "metadata": {},
          "data": {
            "text/plain": [
              "Frechet{Float64}(α=1.5, θ=1.0)"
            ]
          }
        }
      ],
      "source": [
        "# your code to adapt\n",
        "N = 1000\n",
        "d = Frechet(1.5, 1.0)\n",
        "# add code here to plot the pdf\n",
        "# add code for the log-log plot"
      ],
      "id": "18863696"
    },
    {
      "cell_type": "code",
      "execution_count": 23,
      "metadata": {},
      "outputs": [],
      "source": [
        "# your code to adapt\n",
        "# add code for the log-log plot"
      ],
      "id": "0e6f63a9"
    },
    {
      "cell_type": "markdown",
      "metadata": {},
      "source": [
        "### Part (e)\n",
        "\n",
        "Comparing your answers in Part (d) and (c) what do you notice is\n",
        "different theoretically between the log-log plots of distributions with\n",
        "and without power-law tails? Play around with it and see if you feel you\n",
        "could just look at an empirical plot and tell if it is a power-law tail\n",
        "or not?"
      ],
      "id": "46118e01-f60e-4891-9c41-0acfbc8e9067"
    },
    {
      "cell_type": "markdown",
      "metadata": {},
      "source": [
        "(double click to edit your answer)"
      ],
      "id": "837a8c79-c91e-466c-bf3a-1260e6626911"
    }
  ],
  "nbformat": 4,
  "nbformat_minor": 5,
  "metadata": {
    "kernelspec": {
      "name": "julia-1.10",
      "display_name": "Julia 1.10.0",
      "language": "julia"
    },
    "language_info": {
      "name": "julia",
      "file_extension": ".jl",
      "mimetype": "application/julia",
      "version": "1.10.0"
    }
  }
}