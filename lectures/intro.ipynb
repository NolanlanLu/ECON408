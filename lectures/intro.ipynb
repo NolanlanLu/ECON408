{
  "cells": [
    {
      "cell_type": "markdown",
      "metadata": {},
      "source": [
        "# ECON408: Computational Methods in Macroeconomics\n",
        "\n",
        "Course Overview and Computational Environment\n",
        "\n",
        "Jesse Perla (University of British Columbia)\n",
        "\n",
        "# Course Overview and Objectives\n",
        "\n",
        "## Course Structure and Prerequisites\n",
        "\n",
        "-   “Macroconomics on a computer”. Mostly macro-finance and macro-labor\n",
        "    -   Not an intro to programming course or stats/econometrics class\n",
        "    -   Less programming than ECON323, more math and theory\n",
        "-   Build experience with computational tools and structural models in\n",
        "    macroeconomics which can help you conduct “counterfactuals”\n",
        "    -   Not much data or empirics\n",
        "    -   Complement to other courses focusing on “field” topics,\n",
        "        empirics, estimation, inference, datascience, etc.\n",
        "\n",
        "## Prerequisites\n",
        "\n",
        "-   You need to have\n",
        "    -   One of ECON 301, ECON 304, ECON 308\n",
        "    -   One of ECON 323, CPSC 103, CPSC 110, MATH 210, COMM 337\n",
        "    -   One of MATH 221, MATH 223.\n",
        "-   **Not negotiable** to have intermediate micro (i.e., macro optional)\n",
        "-   **Not negotiable** to have the formal programming class in some\n",
        "    general purpose language (e.g., Stata and R don’t count, self-study\n",
        "    isn’t enough)\n",
        "-   Math requirement you can talk to me, especially if you took ECON307\n",
        "    or have significant background in linear algebra and multivariate\n",
        "    calculus\n",
        "\n",
        "## Assessments\n",
        "\n",
        "-   Grading:\n",
        "    -   6-8 problem sets: 20% (total)\n",
        "    -   Midterm exam: 30%\n",
        "    -   Final exam: 50%\n",
        "-   Midterm and final examinations will be done in a computer lab or on\n",
        "    your own computer in class. Not testing programming skills\n",
        "-   Problem sets will start off short and easy to help those with less\n",
        "    programming experience, and then build in (economics) complexity.\n",
        "-   **See syllabus** for missed exam policies\n",
        "\n",
        "# Programming Languages\n",
        "\n",
        "## Which Language?\n",
        "\n",
        "-   Plenty of great languages used in economics and finance: Matlab,\n",
        "    Python, Julia, Fortran, C++, Stata, Dynare, R, Stan…\n",
        "    -   All are great for some things, and terrible for others\n",
        "    -   Some are highly specialized and less general purpose than others\n",
        "        (e.g. Stata and R)\n",
        "-   I love specialized languages! But…\n",
        "    -   My philosophy is you will need to learn **at least** two general\n",
        "        purpose programming languages over your career.\n",
        "\n",
        "## Benefits of Learning more Languages\n",
        "\n",
        "Plan for your longrun career, languages come and go…\n",
        "\n",
        "-   The 2nd language makes you a better programmer at both\n",
        "-   The 3rd is even easier as you learn similarities and differences\n",
        "-   Grad School/job applications everyone says they know Python\n",
        "    -   Differentiator to credibly claim you know another serious\n",
        "        language\n",
        "    -   Increasingly important to **signal** computational\n",
        "        sophistication to get jobs\n",
        "    -   Julia is as good as any for that purpose\n",
        "\n",
        "## Advantages of Learning Julia for Economics and Finance\n",
        "\n",
        "-   Python is great for datascience and ML, but “ugly”, verbose, and\n",
        "    slow to use directly for many simulations and computational methods\n",
        "    -   Python wrappers for high-performance code used in ML are great\n",
        "    -   But when an appropriate framework doesn’t exist, writing fast\n",
        "        code yourself in Python is much harder than in Julia\n",
        "    -   Performance in Python usually means C++ or frameworks like JAX\n",
        "-   Julia (and Matlab) is more natural for programming mathematics than\n",
        "    Python. Easier to learn than alternative Python packages.\n",
        "-   Many in economists and finance research use Julia for computational\n",
        "    methods, so it helps you to work as as RA or to get a job as a\n",
        "    predoc\n",
        "\n",
        "## Don’t Worry If You are New to Programming\n",
        "\n",
        "-   Costs of learning languages has decreasing returns to scale\n",
        "    -   Learning the **first programming language is the hardest**\n",
        "-   Julia will come easily if you have the prerequisities (i.e. a course\n",
        "    using Matlab or Python, sadly R is not sufficient preparation)\n",
        "-   Submitting your code in Matlab or Python is not possible given the\n",
        "    course structure and infrastructure\n",
        "\n",
        "# Quantitative, Empirical, and Theoretical Economics\n",
        "\n",
        "## Why Isn’t Big Data ML/Statistics Enough?\n",
        "\n",
        "-   Going well before the big data/ML revolution economists asked\n",
        "    whether they could just use statistical models with enough data\n",
        "    -   Answer: only if you had the right (statistical) model for a\n",
        "        particular experiment, but historical data doesn’t have\n",
        "        variation in crucial directions\n",
        "    -   The right “statistical model” would need to reflect that humans\n",
        "        adapt and make forecasts - responding to policy and incentives\n",
        "    -   Especially difficult in macro because of dynamics and GE effects\n",
        "    -   Cowles Commision, Lucas Critique, Policy Ineffectiveness\n",
        "        Proposition (Sargent and Wallace), Time Inconsistency (Kydland\n",
        "        and Prescott)\n",
        "-   Having more data and fancier statistics doesn’t solve these problems\n",
        "\n",
        "## Forecasts and Distributions\n",
        "\n",
        "-   Summary: conducting experiments with a data generating process (DGP)\n",
        "    is fine, but how to find the right one **for a given problem**?  \n",
        "-   Think probabilistically: the world is a joint distribution of\n",
        "    observables, unobservables (i.e., latent variables), shocks, and\n",
        "    parameters\n",
        "-   Joint distributions let you calculate conditional expectations and\n",
        "    conduct “experiments” by conditioning on different events\n",
        "-   Statistics and machine learning is often criticized as being only\n",
        "    about “prediction” and sometimes “inference”\n",
        "    -   This isn’t quite true, but lets us ask what prediction really\n",
        "        means\n",
        "\n",
        "## Counterfactuals: “What If?”\n",
        "\n",
        "-   Most interesting problems in economics are about counterfactuals\n",
        "    -   What would unemployment have been if the government had not\n",
        "        intervened during the recession?\n",
        "    -   What would have been her income if she had not gone to college,\n",
        "        or if she wasn’t subjected to gender bias?\n",
        "-   By definition these are not observable. If we had the data already\n",
        "    we wouldn’t need to ponder these “What if?”\n",
        "-   How can you answer a question with data that doesn’t exist?"
      ],
      "id": "4cf92edd-44c6-4918-ab31-a94e7e0cba2a"
    },
    {
      "cell_type": "raw",
      "metadata": {
        "raw_mimetype": "text/html"
      },
      "source": [
        "<center>"
      ],
      "id": "c0ac3887-931b-408b-8549-6671d5e0b359"
    },
    {
      "cell_type": "markdown",
      "metadata": {},
      "source": [
        "**YOU HAVE TO MAKE SOMETHING UP**"
      ],
      "id": "bd369c04-ced5-44cc-ad9b-cff4937913c6"
    },
    {
      "cell_type": "raw",
      "metadata": {
        "raw_mimetype": "text/html"
      },
      "source": [
        "</center>"
      ],
      "id": "45c74984-b3ec-47bd-9141-bcbb025c681e"
    },
    {
      "cell_type": "markdown",
      "metadata": {},
      "source": [
        "## The Role of Theory\n",
        "\n",
        "-   There is no data interpretation without some theory - even if it is\n",
        "    sometimes implicit. Interpreting empirical results require\n",
        "    self-reflection\n",
        "-   The role of both data and theory is then to help constrain the set\n",
        "    of possible counterfactuals for the “what if?”\n",
        "-   So any criticisms of ML or statistics as “merely prediction” are\n",
        "    basically a statement on whether the theory makes sense\n",
        "    -   i.e., if you fit $y = f(X) + \\epsilon$ on data to find a\n",
        "        $\\hat{f}(X)$ function, then theory tells you if you made the\n",
        "        right assumptions (e.g., that the $X$ data is representative and\n",
        "        wouldn’t change for your counterfactual of interest, etc)\n",
        "\n",
        "## Approach in this Course\n",
        "\n",
        "-   Always remember: you need assumptions in one form or another because\n",
        "    the counterfactuals are inherently not in the data\n",
        "-   Broadly there are three approaches to conducting counterfactuals.\n",
        "    They are not mutually exclusive\n",
        "    1.  Structural models emphasize theory as structure on the joint\n",
        "        distribution\n",
        "    2.  Causal inference using matching, instrumental variables, etc.\n",
        "        which use theoretical assumptions on independence to adjust for\n",
        "        bias and missing unobservable (latent) variables\n",
        "    3.  Randomized Experiments/Treatment Effects where you can get good\n",
        "        data which truly randomizes some sort of “treatment”.\n",
        "-   In this course we will focus on **simulations and structural\n",
        "    models** - sometimes called “quantitative economics”\n",
        "\n",
        "## Macroeconomic Models Require Lots of Tools\n",
        "\n",
        "-   Conducting macroeconomic counterfactuals requires a lot of tools\n",
        "    because\n",
        "    -   Macroeconomic decisions are dynamic and often stochastic\n",
        "    -   Agents are forward looking\n",
        "    -   Agents interact through markets and prices, which creates\n",
        "        “general equilibrium” effects (i.e., which are inherently\n",
        "        nonlinear)\n",
        "    -   Heterogeneity leads to the distributional being crucial\n",
        "    -   Agent’s may respond to policies by thinking through the dynamic\n",
        "        effects\n",
        "-   We formalize these assumptions with math, but we are rarely able to\n",
        "    solve them analytically. Use a computer!\n",
        "\n",
        "## Tools Topics\n",
        "\n",
        "See Syllabus for more details\n",
        "\n",
        "1.  Linear algebra and basic scientific computing\n",
        "2.  Geometric Series and Discrete Time Dynamics\n",
        "3.  Basic Stochastic Processes\n",
        "4.  Linear State Space Models\n",
        "5.  Markov Chains\n",
        "6.  Dynamic Programming\n",
        "\n",
        "## Applications Topics\n",
        "\n",
        "The tools are interleaved with applications such as\n",
        "\n",
        "1.  Marginal Propensity to Consume\n",
        "2.  Dynamics of Wealth and Distributions\n",
        "3.  Permanent Income Model\n",
        "4.  Models of Unemployment\n",
        "5.  Asset Pricing\n",
        "6.  Lucas Trees and No-arbitrage Option Pricing\n",
        "7.  Recursive Equilibria and the McCall Search Model\n",
        "8.  Time permitting: Rational Expectations and Firm Equilibria, Growth\n",
        "    Models\n",
        "\n",
        "# Computational Environment\n",
        "\n",
        "## Setup\n",
        "\n",
        "-   You can install Julia on your laptop by following [these\n",
        "    instructions](https://julia.quantecon.org/getting_started_julia/getting_started.html)\n",
        "-   While one can use Julia entirely from just Jupyter notebooks, we\n",
        "    will also introduce basic [GitHub](https://github.com/) and [VS\n",
        "    Code](https://code.visualstudio.com/) usage as well to help broaden\n",
        "    your exposure to computational tools.\n",
        "-   So my suggestion is to challenge yourself to learn VS Code, GitHub,\n",
        "    and other tools. Further **signalling** for RA/predoc/etc. jobs\n",
        "\n",
        "## Summary of Installation\n",
        "\n",
        "1.  Install\n",
        "    [Git](https://git-scm.com/book/en/v2/Getting-Started-Installing-Git/)\n",
        "2.  Install [Anaconda](https://www.anaconda.com/download)\n",
        "3.  Install Julia with\n",
        "    [juliaup](https://github.com/JuliaLang/juliaup#installation)\n",
        "    -   Windows: easiest method is `winget install julia -s msstore` in\n",
        "        a Windows terminal\n",
        "    -   Linux/Mac: in a terminal use\n",
        "        `curl -fsSL https://install.julialang.org | sh`\n",
        "4.  Install [Visual Studio Code (VS\n",
        "    Code)](https://code.visualstudio.com/)\n",
        "5.  Install the [VS Code\n",
        "    Julia](https://marketplace.visualstudio.com/items?itemName=julialang.language-julia)\n",
        "    extension\n",
        "\n",
        "## Install Packages\n",
        "\n",
        "1.  Open the command palette with `<Ctrl+Shift+P>` or `<Cmd+Shift+P>` on\n",
        "    mac and type `> Git: Clone` and choose\n",
        "    `https://github.com/quantecon/lecture-julia.notebooks`\n",
        "\n",
        "2.  Instantiate packages, in VSCode or\n",
        "\n",
        "    -   Run a terminal in that directory\n",
        "    -   Then `julia` and `]` enters package mode\n",
        "    -   `] add IJulia`, which adds to global environment\n",
        "    -   `] activate`, which chooses the `Project.toml` file\n",
        "    -   `] instantiate`\n",
        "\n",
        "3.  Then use VS Code or `jupyter lab` to open\n",
        "\n",
        "## Julia Environment Basics\n",
        "\n",
        "-   Project files keep track of dependencies and make things\n",
        "    reproducible\n",
        "    -   Similar to Python’s virtual environments but easier to use\n",
        "-   VS Code and Jupyter will automatically activate a `Project.toml`\n",
        "    -   In REPL or Jupyter enter `]` for managing packages\n",
        "    -   Can manually activate with `] activate` or\n",
        "        `] activate path/to/project`\n",
        "    -   On commandline, can use `julia --project`\n",
        "    -   If a file doesn’t exist, then `]activate` creates one for the\n",
        "        folder\n",
        "-   With activated project, use `] instantiate` to install all the\n",
        "    packages\n",
        "-   For this course: no package management required after instantiation\n",
        "\n",
        "## Reproducibility\n",
        "\n",
        "-   **ALWAYS** use a `Project.toml` file\n",
        "    -   Keep your global environment as clean\n",
        "    -   Enough to do `] add IJulia`\n",
        "-   Associated with `Project.toml` is a `Manifest.toml` file which\n",
        "    establishes the exact versions for reproducibility\n",
        "    -   `] instantiate` will install the exact versions\n",
        "    -   Less important for us, but very useful for reproducibility in\n",
        "        research to distribute with project\n",
        "\n",
        "## Instantiate This Repo\n",
        "\n",
        "-   Ensure you have cloned this repo,\n",
        "    `https://github.com/jlperla/ECON408`\n",
        "    -   Use VS Code or `git clone`\n",
        "-   If you previously installed the `lecture-julia.notebooks` repo you\n",
        "    won’t need to do `] instantiate` again\n",
        "-   Access all lectures as `.ipynb` in the `/lectures` directory\n",
        "\n",
        "# Crash Course on Julia\n",
        "\n",
        "## Introductory Lectures\n",
        "\n",
        "-   Assuming you are familiar with Matlab or Python, Julia will be easy\n",
        "    to learn\n",
        "-   See QuantEcon lectures\n",
        "    -   [Julia by\n",
        "        Example](https://julia.quantecon.org/getting_started_julia/julia_by_example.html)\n",
        "    -   [Essentials](https://julia.quantecon.org/julia_essentials.html)\n",
        "    -   [Fundamental\n",
        "        Types](https://julia.quantecon.org/getting_started_julia/fundamental_types.html)\n",
        "\n",
        "## Using Packages\n",
        "\n",
        "-   First ensure your project is activated and packages instantiated"
      ],
      "id": "69d50f98-6848-485a-99d2-1ef8dc7a89a2"
    },
    {
      "cell_type": "code",
      "execution_count": 1,
      "metadata": {},
      "outputs": [],
      "source": [
        "using LinearAlgebra, Statistics, Plots"
      ],
      "id": "880d051e"
    },
    {
      "cell_type": "markdown",
      "metadata": {},
      "source": [
        "## Plotting Random Numbers"
      ],
      "id": "7a29c082-314e-4b22-82bf-4069b9400649"
    },
    {
      "cell_type": "code",
      "execution_count": 2,
      "metadata": {
        "output-location": "column"
      },
      "outputs": [
        {
          "output_type": "display_data",
          "metadata": {},
          "data": {
            "text/html": [
              "<img src=\"data:image/png;base64,iVBORw0KGgoAAAANSUhEUgAAAoUAAAHMCAIAAAAs9EW6AAAABmJLR0QA/wD/AP+gvaeTAAAgAElEQVR4nOy9eZQk2VXm+T3f1wiPNSMyMnKprEqVqkqlpQRCCG1IgmrRozktCTGjmWmgB+iBg3qYAfWhoWlmujk96jP0gs7hTCPQDAimm0USQiAhpKoSRZXUo61KVVlrLpV7ZmTsvrubmdubP8zDw9zsvWfPNg/3yPf7R5WpSA+LcHO779773e8SSikUCoVCoVAcKImDvgCFQqFQKBQqHisUCoVCMQaoeKxQKBQKxcGj4rFCoVAoFAePiscKhUKhUBw8Kh4rFAqFQnHwqHisUCgUCsXBo+KxQqFQKBQHj4rHCoVCoVAcPKOLx5TSarU6sm+nUCgUCsUEMbp4/MQTT/zkT/6k+GtardZoLkYREvVOTQq9Xq/b7R70VSikUB+rSSGmd2p08VjXdcMwxF9jmuZoLkYREvVOTQqUUuVRPymoj9WkENM7pfrHCoVCoVAcPCoeKxQKhUJx8Kh4rFAoFArFwaPisUKhUCgUB4+KxwqFQqFQHDwqHisUCoVCcfCoeKxQKBQKxcGj4rFCoVAoFAePiscKhUKhUBw8Kh4rFArFpPLSrjJfOzyoeKxQKBSTyuv/3FAB+dCg4rFCoVBMJN0eOj20PNYCKCYGFY8VCoViIrEicV0/6OtQRISKxwqFQjGRtAwKoKGrivUhQcVjhUKhmEis/Lih8uPDgorHCoVCMZG0eoCKx4cIFY8VCoViImlb+bHScx0WVDxWKBSKiWSvXq36x4cEFY8VCoViIlH66kOGiscKhUIxkezpqw/6OhQRoeKxQqFQTCQt1T8+XKh4rFAoFBNJu4dUQvWPDw8qHisUCsVE0jIwn1X16sODiscKhUIxkbQMLOaJiseHBhWPFQqFYiJpG3Qxr/rHhwcVjxUKhWIiafWwkCOqf3xoUPFYoVAoJpKWgcW86h8fHlQ8VigUiomkZWAxR1S9+tCg4rFCoVBMJG0Di3nlz3V4UPFYoVAoJpKWQRdzav748KDisUKhUEwkLQNH1LzTIULFY4VCoZhIWgbKGfQoVIJ8OEiF/PeNRuPLX/7yhQsX5ubmPvCBD1QqlUguS6FQKBRiWgbySRRTaBkohn2WKw6esPnxz/zMz/zRH/2RpmmPPfbY/ffff+vWrUguS6FQKBRiWj0UUqSUViXrQ0LYM9UnP/nJfD5v/fe73vWuz3zmMz//8z8f+qoUCoVC4UHboIUUSmk0dHokTw76chRhCZsfD4IxgHq9Pj09HfIFFQqFQiGDVa8updTI0yEhsp7D7/7u7zYajQ996EO8L7h9+/a3v/3t97///dYfCSEf+9jHlpeX7V/TbDajuh5FrKh3alIw9jjoC1F44/dj1aPZTquRT6Q3aloja8Z0VQo3AR6AqVQql8t5fE3Q6xnic5/73G/8xm88+uij2WyW9zVzc3MnT578uZ/7OeuPhJBTp06lUs4LKJVKkVySIm7UOxU315v0n37T/E/vTIZ5ESsYez4IFGOC/MdKM5FJ6KVSqZLr9dKZUknVq0dKHA/ACOLxF77whY985CN/8zd/c/fdd4u+Uyo1Pz//7ne/O/x3VCjuBC7V8cyWmmRRsGnqKKQI0O8fAyoeTzxh4/FXvvKVn/7pn/6rv/qr++67L5ILUigUFpsd2u4d9EUoxpV2jxZSQD8eH/TVKKIgrJ7rd37ndzqdzrvf/e7Z2dnZ2dlf//Vfj+SyFArFZgdtQ+XHCjYtA/14rPRch4Ww+fGnP/3pSK5DoVA42OyipWRYCg6DeFxMqxVPhwTll6lQjClbql6t4DOIx+U0mmqlxKFAxWOFYkzZ7EA3YagxFgULa/gYQCkFlR8fDlQ8VijGlM0OBaBSZAWTlmHXVx/01SiiQMVjhWJM2eoCUC1kBZt2j+b79Wqi9FyHAxWPFYoxZaODmSw6PdUaVDAY7HQq9uePFROPiscKxZiy1aHHikTlxwom9nknVa8+HKh4rFCMI7oJQjCdQVvFYwWLloG9erXScx0SVDxWKMaRzQ7msiSfVHouBZuWgXxS6bkOFSoeKxTjyFaXzuVQSKl6tYKNtfwYQClN6jH3j3U1dDcSVDxWKMaRzQ7ms8inlGWmgk27N7r+8Q/8pXGloe7D2FHxWKEYR9bbdCGv6tUKLgM9VyqBHkWs0fJyg+504/wGCgAqHisU44ktPz7oS1GMJYN4DKCQinFO3aTY7qoW9ShQ8VihGEc2u5jLkXxS+YEo2Az8uQCU0iS+eLnVhWGiqe7D+FHxWKEYR7Y6dD6HQkrVqxVsWga1/KthjTzFJulab1MATaVjiB8VjxWKcWSzg/kc8imi6tUKJvZ6dawrJTY6AFR+PApUPFYoxpHNDp3vzx+rvETBYKCvBlBKo67F9Y36+bHqH8ePiscKxTiy1YVVr1b9YwWTgT8XrP5xzPmxsgAbASoejxH/7Fu9v72lkiEF0K9XE6WvVvCw67li7R9vdOh8TuXHo0DF4zHiO5v067dVPFYAwHaXzmah5o8VPFoGLdrq1fHpq2+3cVeZKD3XCFDxeIxYb+P5HXXTK9A2kEsiQZSeS8GlZWCgr45Vz7XexqkyUXquEaDi8Rix0cFzKh4r+hVCAiCfREvlJQoWPYrU3vO7GOf88UaHniqrevUoUPF4jKjp9EqDGsq6/Y5nq4u5HAA1f6xgo5lI2x7e5TTiWymx0cHJcox6McUAFY/HhV0NU2lyqkzO11Q+dKez0cGClR8rPZeCRctAcU/MBaCYinE++HabniyRZswrpBRQ8Xh82GjTxTwemCGqZK3YaNP5HACl51Kwae0tW7Qox6bn0k1Qirmc8gMZBSoejwvrHSzkcP8MUZIuhbVMAkBezR8rWNiHjxGnvtqSMpTizL8VA1Q8Hhc2OnQhR+6fwXM7B30pioNmq0vncgRAQemrFSzsZpkASmkSU/94vY3FPIpppecaBSoejwsbbVj1apUfKyzzavTr1ep+UDhpGygk9/9YSsWVH693sJgjxZSadxoFKh6PC+sdLOTIyTJZa1GVEt3hWOZcAHJJpedSMGj1HPlxXPPH6226mEcxFaP/l2KAisfjwkaHLuRAgDPT5OWquvXvaDY71OofJwgooO4GhQO7WSbi7R9jMY9sEpqaw4wfFY/HhY02FvIAVMlagc1u/2YAkE1CUxJrxTAtg+aH9NVx+YFstKk1epdOQFchOWZUPB4XNjp0MUcAJbFWYHPPnwtAPkmUxFrhwKnniq2ebM19AFAt5BGg4vG4sN7u3/cPzBIlsb7Dqesop/v/XUgpSZfCiSMepxIwaCx9jfU2FvMEQDHOFVIKCxWPx4WNDhbyBMADM8rF+o6mqmEqTQa9QWXRpXDTHo7HQFyrstc7dLGfH6sR5NhR8XgsoEBNp9MZADhaIDWNBu4G/eijvfic5RUjYKtLZ7P7f4zpOauYaNo95JPE/jcxtZA39/KEWFc6KixUPB4LHCnRfTPkhd2AKfJjN82trkqvJxhrEn2AssxUuHH4ZQJxjSRttPtS/6I6F8aPisdjgWVePSCMi3VdV2WlyWazi4GYC6perWDRctWryzGMILcNZJL9rY5KzzUCVDweCwYiRovAEuuWAd1UznaTzWCZhEU+SVR+rHDg8K9GPPXk9b2hD8SWfyvsqHg8Fljm1YM/3j9DntsOcutXNQAqP55sNrv9ZRIW+RRahnoOKoZoDftlAijF0D9et7VOimn1YIkdFY8ZVDXUR5tibnb2/R/Qr1cHeZ2qRqHi8YSz3aGz2f3DmdJzKdy0e0P+XABKKUS+UmKjs986ic8iWzFAxWMG//653n98caRWNOtt2PPj+RxMSre7vl+nnx+rstIkYzfngqXnUvFYMYxbzxVLvdqma1H58QhQ8ZjBrobmaCuEgyG/AcFayFUdUPnxhLPRdum5VP9YMYxbzxXHSonbbdj6x0T1TeJGxWMGNQ3d0T4BB+bVAx6YDRSPVb168tns0qH+cVKtQFY4YcXj6PvHGx1bfpxSQtHYUfGYQU1HZ8Tx2KZjtLi/EiweA1DtxslmsPzYQvllKtww9NUx6J83OhjU7YqxrXRUDFDxmEFNG/UG4o3hRzCAB2bJ2UDxuKDGEiacLdsyCfT11Qd4OYpxpG049VzldPQq1I0Otcy5AJRUfhw/Kh4zqOnojnaz2MC0fcADM+SFQPXqowW1DmiCMSm6w6vm88lRV2sU4w/DnysGvdXttj0/Vn4gsaPiMYOaNtInoN28ekA5jXyK3G77e6mqhqMF1T+eYLa7mMkOncxUfqxw454/Lseir97PE4qpUatc70BUPGZQ19EZ4RPQYV49IMCip6qGo0WiykqTy2aHOjoXBeWXqXBh0L6N5YBSmkTeqNrV6MyetFDtdxoBKh4zqGm0M0IFzfqwefWAB/y7dKn8eNLZdCkJlF+mwoFmIu16cpdSEeutqhrKaQzyhKLa7xQ/Kh47MSkaxkjr1RvD5tUD7p8hz/vc8lTV6HKBqLLS5LLZHRJzQfllKly4h50AlKLWc623h4Y+VH48AlQ8dtIwYNIRx2PqEHNZBHCxruoqP55s3PmxqlcrHLjF1YjBn2u9M7T3s5RWjbDYUfHYSV2jSTLSJ6D7EWxxX4W8VPUXj2sajhbUx2aC2epg1qHnSio9l2KIlkHzSedfltMkWv/qzeG5O6XnGgEqHjup6pjPjXTeyW5KZyefQibh78y7q1GVH080Gx3qaF7kU2reSTFEy0Ax7fzLyOeDb7dxxJYfpxPQRjsFegei4rGTmobFPBlxvZrZPwYwlyVbXR9n0raB+ZwaE5xgmHoulR8r7LiHnQCkEjAoIkxgHUtuAGQTozYSvtNQ8dhJTcdiDp0RVmY22mDqqwHM5bDVkX2dtoF8yrKZVWWlScVRJITyy1S4aPWcZpkW0UoN7ObVFiVlCRIzKh47qWt0xPnxeocusOrVAGazZEt662JVx3SGZJOjNhdTRMhmF/ZlErD2O6mHoMJGi6XnAlBKkwgl1us282oL1UKOGxWPndR1zGVH2inh6bkAzGWx1ZH9AFS1vslXRnV6JpatDuaGb4a4300K/MbT6naZJNosPRf6Fl2RxcuN9r55tUUcK5YVdlQ8dlLVMJUBQZSdGDHrbRxhzTsBmMthWz4/1jCdBoCCclicWNz1agBJgvgq1mst/MunVVdwkmDquQAUI7UEWe8M6bkAFNQIcsyoeOykpqOcJtnkiJQLlnn1VIb9/875qVfXNExnCIBiiqgW8iSimyAEGdeHMhfnSomLNaqbMcZ7ReQw/UAQdf663nb20dQK5LhR8dhJXadTaeSSI2ohVzVMZxjm1RZzOcjrqwf1auWkM6FsdjCXZU6+xSixvlCjgBqpmiRaBjj1ahJVPDYpmgbKw1m40nPFDeuU5Ydbt2598YtffOaZZ+65556PfOQjkVzTwVLTMJWJNyOxs97mDjuh3z+Wfamqjn48jmHzmmIEuJdJWBRSaBsU4B3bQnGx3o/HxbAPA8WIaBnIM/Vc/d3nEdwn213G0XBPzxXLfahA+Pz4W9/61uOPP37t2rUvfelLkVzQgVPTMZVGLjmikSeBmAt9fbV8fgyr7q02h9t57CadlORvq4vZLOPvYxUEXKwBGOmAnyIk7Z5z+bFFhBbWG6yjodJzxU3YePy+973vU5/61MMPPxzJ1YwDdZ1OZUhuVKZIGx3KNOey8KnnolNpArU5fJiPfL33os+1HAcFU8wFIJ9EfCueLtZoOqHq1ZNEW9A/juiDv84yRVCNsLhR/WMnVW0vPx7JE+o23wwElp5Lvl6toZIB+unUZESgEXC9SSfFVGjDNfFpEesI8oUaPT010oF7RUj4eq7I+se329Q99FFIKW/8eBldy+jGjRtf+tKXZmZmrD8mEoknnnhidXXV/jXNZpPSAw4k1W42qXfSSG/Xu/VM7HOZ16upKYJ6nf24zZjY6mTr9brMS20205lyr143MzS91TDr9RgfsePwTsnQMEhNz27VW/X8BIzYXq+mSgnGzZCmma16t14I8iMYhmEYhq6zn6NVnaRJZjZtbte79dQE/IoON5Ifq2o7TbReve58v9K91E6H+zDxxbXdZCVBHC+VMlM73Whef9IJ8ABMpVL5PD/3sr4mxCX5Y2Vl5eGHH/785z8v+BpCSKlUGtklMWkYxnKlVMwYiWymXI5duVCjvfsrpFzmvk89queL5ZREIaNFe0vT2XKZVPK9XoqUyzEWP8bhnZLhxi4FjESmMIK3MjwN2nvNNONmKOd6JBPwbrTicS7HFim8tEHvqfTySYzmbleIkfxY6YneXDnrfr/mSub6LhU8TOSpo7fiuhXniuZ2LZrXn3RiegCqerWTmk7LI5x3EphXW8xkya4m9VL7805ppefqc70JAJ0Jma7lifvyybgaEBdr9HSZjOxuV0RCy6BM/+oI9VzrbUbrRD1Y4iZsPN7d3X3kkUdeeumlzc3NRx555Pz585Fc1gFibWXIJUf0EBeYV1vIjyBXtb15p5TSc/W50aJAjGKoaNns0HnW/HEhFdePcKGG01NkZGoJRSRw+8epyPTP6x3ncidE7f+lcBM2Hq+trX3iE5+4cePGiRMnPvGJT3zjG9+I5LIOim4PuSRgOSKN5M4TzzvBzwiyNakF62Oj/LkAADdbwOSYXWx1nebVFvnY5p1eqdPTU8glrflmxWTA01eXM6Qe0Qd/o00XXHW7UlrpueIlbP/43nvv/dM//dNILmUcqOkoZwiAEc47Mc6hduZy1giyd2+vqtG+X2b64P2ruz3sak7/29FzvUnnsiM6WoVnu4sZXn4cz49woUb/p1cncqmJGdFWgO/PFW1+zKhXq/1OMaP6x0PUNGqlmKOp4FGgqtEKywJiwKx0ftzcc5kfhzHB/+ec+Qv/38E/4280cXqKTEq9uqHTEuuEnE/G9SNcVPXqCYS/bzGyevKGy7wa4/FgOdyoeDxEbc9ycjRPKLF5tcVcVsoSpNtDJtFPosehf/zoTXq1cfBH6etNevfkDNc2OXXIfCqWenLLQLtH57Kjm7ZXRELLoMz9TlH5ZxkmDAq3ZEztk4gbFY+HqGl9C/XRKE432nRemByjv+JJYiRxb7kT+jLIg4yFFHj8lnmtcYCX0Odmi56emgx9dY8iQZBgnc7yyVgaEJa4GqM6fSrEbHfxji+zwqyLdi/efRIbHTB94orR5d8KJioeD1HT6VSGAMiORF+93vEYdoKlr5aoVw+GnQAUkgdcVnp2m64Uya5GjQN1mNBNtAwcyZOJ8Odq6GAWqwHk41EzXKzTu6etu51MSov9EPPkmnmhLjUCrplIs57cpYiEnOsdylR+qEWucaPi8RA1DYP+8Qge4hsduugypXMwK7cCebDcCWOw3+mxm/RdR8lSgdxqH+Sn92aLLhdILhmj2WSENHRaSrNvhpjy4ws1nC73X79rqufsAfPEGu2Y3vFYNxkbsi1SCegU4d/I9TaYpvrFOPeaKKDisYO63q9Xx+rgP2Cj7THshH7/2Ge9+qDbPH97i75jOXG8iIMtWd9s4WgB+SiGd/X4E/2mgRKnWlmIZ//xxRo9PdWvV0/EkeVw8+Rt2u3B81zEE1dbRBIymcudAKQSMKKI9woeKh4PUdMxNZh3iv8J5TnsBF/16r2n+cHquXoUX1sz37ZMVkvkWvMgP7w3mvRYkeRDN0cNE6f/JPZfaEPnxuN8Cu0Yuif78XhU030hqes482eH8+DQMnCuSqfT3oNn7R5bXG0RyUoJgWlgflTGDHcmKh4PMeJ5p40OZe7zsTMnV6+uaY569YEFwqc26d3TZCqN1SKuNQ/qKgDgehMrhQikeTUd15ux98IbBrd/HNP88cUa7p4CJkfPtdWh56v0+oEe8mLiGxv0jfOklPa+V1sGe/mxRfgWMgW+cM28t8IO+cU0UZKu+FDxeIiajqkMAGRHshGWuWTUQSWLXU2yXt3/7/jsI2R49CZ911ECYLVIrh3oyNP1Jj1WJNkkOuFOJzWNUqAWcwugrkPQP468e6Kb2OzQ5UK/Xj0RkjfLyP2pzUMYj59Yo29dSmQT1FNG2tTZQ3EW4UeQf/NZ0zDx4dPs0FBUu1zjRMXjIfb1XKlRzDt5mlcDIHLtvaq+3z+2/uegBDpfvWm+czkBYLVEDjY/vtHCSjECcbIViasSp6IwNHQqqldHfcC6XKcnyv3Z90nZJ2HF4+8cznhsvnVJypil3fOKxyEOjt/epB9/3vx/35lKch5LyhIkVlQ8HqK+1z/Oj2TeydO82kJmBLmm0anM/h/jtsx8bC2xw6qiaya+vUm//4iVH+Ng8+ObTbpSJOGTy5oG7AWD+GgaKPLmnWLQV1+s4/Tewr6Y/EYip6bRhRye2pqAS/WFYeKpTfq9C0Tm4GUtvOERZgS5quG/faz3ybcllwvcr4nKckTBRMXjIaxlixhd/xie807or3jy+JqqhmlbdhW3pOvfv5j8199l/IK+uU4fmCHW+d1Tz1WNOcJdb2KlEIEZ5F5+HMlFcRHouQqp6P0yL9To6an+f09K/3hXwzuWE09tHvR1RM3TW/RV0ySfQi5BPd9onlmmRZj+8T9+sveBU+SHVkRPJJUfx4qKx0PY54/jfkLRYRMPAXNZ4imxrmr9zN4ibuf3poH/+JK53nb+/WO36A8e7d9UU2l0e9zGpElx8o/1+NqWdM/WIPyqrppGMYp6NUqc52wc+etAXI3JicdVDaenkEniVuugL8XFZy6ZgW/mJ2/Tty7tGaV53astgxb4806BVyD/3svmlQb9Vw/xXxoAUFQrnuJExeMhBnquEexbrGqYSnuYV1vMZr1XIDtCe9ybw1s98veOJf7PZ51PoK/eNN95dP9nWikSnhr2WpPualjvxBXktjqYyZAEQS50cmnlx3HXq0X94xj0XBdruHsC4/F0hrxhjoxhC/mffdt8uRrwqiwxF4CsxBvd8uwf+39wPb9Df/075n9+Z5Jp+2VH7XKNFRWPh6hpmEqPaCJzo00XJJrHAOZy3isl7P5ciL+s1NDxL96Q+MMLQyly28Cz2/RNC/vxWDDydK4KAO4MOyquN+mxIhCFFKCmg4ygXs33A0mQ6NV5k1ivtg6dD82TMWwh1zUaLGunwNdvm5bkQuZebQn7xwHmjzs9/DeP9X7rzYmTZe/sQNWrY0XF4yEa+/3j2BWnGxLm1RaS9Wp7PC7E/LFp9XCiRH7iTOI3z+7/mr6+Th+aJ1lbxUvQQj5XpQA25FZJBuBGCyvFaJYl1DS6kB9J/5j/nM1GOpJkUlxv0uPFQX48Gfpq69D5hvlxzI/rOtYCucO+vEsX82Q2C8hNUrQ4S8AsAvSPv7VB53L44CmpWHDgXryHGxWP97FSEGvBTi5+ffWGxLCTxVxOsl5t7x/H6/zeMlBM4Zdek/zU+f0U+as3zUHz2GK1SHiWmeeqNJ/CemwG1zeadKUIAJnQkaym43iRxN0/bhrc+WNEvQL5RosuFUhq772anPwY0xny0DwZtxHkHkXLwFqg/PiJtX7zGEAuKeHPJdZz+a9X327TEyWpBxGA0hjscj3EqHi8T01HOTO6jtpWF3OS9eqst2XmwHnbIlbnd+tZmCCYz+EnziT+7V6K/NhN+s7loQ/2ahG8/PjlKv3eBbIeW35smYFgbxo7zPO7pmG1ROLOj+v8/jGiHkG+sOfMZZFNojsJKyl3unQmg4UcCLAWW6cjAA0dFAHz4yfW6FuP+HjsePhz+ReO3GpBMODkoJA64F2uhxsVj/ep7xWrAaQTsa8QcFSYBcx6zR/rJlIE9kgY66ZSu6P9L74m+QfnzY0O6jrOVelD88PxuMTVc52r4geOkI3Y8uObLazsPWVCFntrOlaLsderm/x5J/RHkCP7XV2s0btszcJJ2ScxkFs+NE+eHqcUua5TIKDq+8nb9Af28uNsgsrUqwX7JMr+9dXrHcrc5sSkdEfWq2+3cak+ivtNxeN9BsNOFiRmiytHhVmAp57LvtzJItYVTw2bY99CDj9+T+I3n+09sUbffGS/BGqxylnx1O1hp0tfMxtvfryy1x/Nh+uP1jR6vERkXEvDIPCvhuWBGl3B5mKNDsTVABJkMpb2DI6w49ZCrutIJYLkx9Zp9djgRpWwBRT3j2W8gxystcDcdsykmLoT/UD+5BXzPzw3il3uKh7vMzh9W8Rt6rvTxYxcfuxZr3bPMRdTpBXbxTcNao8cH30w+anz5h9fdDaPARzn6Lku1OjdU2QxH2N+fL0JS18NIBuu+1DVRpEfC/xAEHUKe8E27GSRIqPYKRmSnS6dyRAAD41ZPK5pOFEiAfJje/MYcrb54ni8XMBNnya1a+2+jbkMcRv/jSctI0blqR0Vj/ep6/1hJ4u4Lazl69WeZ173SxXTMbZ5mjryyf0Xn8/hH96T+MMLpqN5DCCXRIIwClznqvTMNFnMIb78+GaLHi0M8uNQKyXq+ij6xw0dRb5OpxCpIOBijd41NfQ34V2+R0DTQDENYOxGnhoG7p7Cbf+Hyydv0x84sv+m55PUc7GmeN/iUp74TdNlttoMKKbuxP1ObYNuxOaUYOdOjMcferTHLLnUNGqXRMUt6drVUJGrV1vPSkHx3DF8jJjHBJuuSdlfejD59mXy4Czjx2FueTpXxZlpspgnMc0fNw0kCXJ7bbZcuGLvXv/4wPZJAMhHapl5qT7UP8YkjDxpJtKJvkjiSB49OqKURYa6TueyJJ3wfWZ6Ym2/eYwo9Fz5FCj8PbjW2liScO21KN6Req6WgU2VH8dBy8BnLptXWHsO3PXqWEeeJM0yLSoZIvCHcrei447HDse+hRz+9kdSCdaHmrnl6VyVnpnGXBbbPntdktxo0pWCPe0IdbSqa3S5EG9aQAGDQuCOVIjOMnO9jXKa5IbfwREM+IWkOnx+Haupp5qGctp3brrTxXqb2jcNZ5Nh9VywUuSW7GVQYLtLJQc9cNB6rifW6E88fgDHxnZP1QZc3C8AACAASURBVKvj4aVdalJcZ7VYHFXfuPPjnS5msrJfLA5d7np1IV49lyiTc8AceXq5Ss9MkwRBPh55iL15jHD9YytIJQkyiRj1BG1hUxCRWmZeqNG7p5x/mY3fIDYku11asd3kY+WaaU0bLhf8SayfvG1+/5GhQ6yMZqW1V7TnsVzwMQy200UlI+Xaa3Gw/lxfu02/vn4Ab3rLwEabjuAb33Hx+MVdij1Zo4OahnLaX+0oDPL1aliWIPwDmmO5Eyzb93jzY9mbk2kJcq5K75kmABZzJI7GzI0WHWhWES4/ru9NpU9nYmwhN3SRGQginT++WN/fJGF//TGvV+8OHzrHqoVs3SS+ElMATw6LuSDn+uKZHy8XyC3py7jdpvLiahz0Pomnt+grNW/LlMhp96CZARd1+OJOjMcLOdxgHWPrOp0aYf/YV716NksEKxcdy50Q836npu6RzNlZLTnz450uUon+aNlCLhYL6xtNHC0OSfMCB7Oa1r8rKpkYW8gNg/KWH1tEuALZvtlpwPhbdNX0oZv8DfMYp/yYltNY8pOYAvjO5pDZO4CcRL1arOcCsJz3kabfbvsYdkL8i+PEfHeLLuZxPujejsBYb8pm/JKuOzAe490rCWZ+XGf0j+O6DJOiJ+wXOpgTrniqMeadYqxXNw0UU77y46EvtsTV1n8v5kkcK55uNOmKzXIozEqJgapgOhPjiifxsBMiXYF8cdicy2L847GjXn20QLo96rkXPBLW2vj486JpMKtevZT3kZgC2NGcDn0yXXyxngvAUoHckm5j327TI9JiLhxovbqhY7tL37OSsGqco6Rl0GwSG/Fbwt2B8Zi+e4XcYNarhy0ncykSX0etrg/Vxj2Zy2FbUK8eub5aMJnjwL3i6VyNvmo/HscilBgsk7AIE2wGLjEh69XbXfz1Ne5zRLxMApHWq2806WrRnR+Pu77afZO/YW5Ekq6Xdul/uugdj301bmHbJjcgm6BS9WrhreKrjb3WwpKf/DhBQOnBuMc8s00fnCWvrpAXd0f9rds9HCuSzfgPf3dWPNZN3GzRtxwhTD1XTaNTzv5xXDferjZ02PdEPIJcc/tzxSmDbOhUvn+8UnSefuz58UIulpGnG3vLFi1CxeO9Mul0uHr1IzfMf+NaFz2gIVwmgUj9MpklyonQVzvi8cgk1jWNio9i1vF6qeCvf1zT6dTwT5RPeavqNBMZ4WPbf//YR2KAqEfh5Xl6i75+jry6goPIj3G8iPjMiwbcWfH4fI3eVSarrghhwZp3iutKdjVUpMXV6K944v6/VY069Vxx7ndqeik87aQTKKXJju3iz1VxZrr/34t5xKHnut6Efd4pjLmVvX8cpl793A7d5b+DTS/Jej46v0zmI3j869Xuob6RuWbWdI+jWF2j5TSW8rjl53DpdtrKeanoDROeZbXlvI80fa2NJellEhZRSbp61N9sxdObVjwmo4/HbQPHSyo/jpoXd+irK6SQAgXjAe3wr443HnfhKz+eFVpmMvy54jzDNnUf+mq4JF3D+bFIz/Vnl8y/W/P92TNM1HVqnyULIx6294/D1Kuf3UaV//QRm1ejP38c/LsP0E0YlFHwnIR47BwiGJnEuqZ5vPV79Woiv3JRt9mbDMh5+WW2et5Syrjz46gkXf/3y+b/+g0f99zTW/T18+SuMrlcpyMu5bQMHC+p/DhqXtjFfTMEwLEiueG6ZR0CzpjzYyo/7ASvevWuKx6nEohPBdlw+XOJOVbctwShwGWbOdRijghWIP/5ZfrbL/h2Vb7l8uPNhmiODsLAdCbUCuRnt+ku/x2sa0PaBTdRzR/znr85iUrpweKe1z9WJC2DiletREJVR8uAxr8TrUNbJYOaTiWX0FRdzWNIPHNawuXHFtMZNHRIRixfyxYtChFpU756i8orpDQTl+r0VdMklcBqiVweybalAS2DniiREVh03Vnx+KVd+uoKAKwUGZYg9RH6ZcqbV1uIVzw5ThIW8V1/y6AF4QSkg+NFDCTW15t0IU8GwnKxnutqg37xmuk3L7zZxMrwIyaMvrqu0/Kgfxy0TNfQUdepQbmmp54tgHyKRFLw4JkVj39+zLzJXzdHvht/ilzXKIAaP0Vu6CilCID5nOxT277ddUA2QcUubC2DisVcFvJOtOsdyC9btChF5OHz+C26I33AfWGHvqpCkgQA7quQF0Zbsu70sFoiI7DourPi8Qu79NWVfn7sHnnq9GA3EYxVcbqr+atXz2WJoF496HHaKabisgRp6BAPyzpYtW15OlfFGduwzUJOtHLxagMPzJAv3/CXIts3LVrkQphP2fTVwevVz+3Q+2fIdIbUOA+yhk7FkvWo/DJvt8HOj8c+HrtFEhiVS5f1rgmqI4PgupSH5KyRQ61ikUt5+HN5+rhZLOWllj9SoKpRX0IWRKQVPV+ldZ3uSNc2LDGX9d+vrmDEEusexVI8ShcHd1A8Niku1ftrX1cK5MZwftx2TRHkUqGWAonZdSmixcxkscOpdhomEgRu7+j4Vjw1DRSk548BHLNtQbY3jwFUsqhqbCM63cSuRn/m3sRnL/v7KW60sFIc+psw+yRqegTzTme36WtmSCUDXsnaswUQab2a8fcTMO/EKim9qkLO12J/Slrvu+Dd7/T6Tw/5FnJ9WK1iQeAxSiRetjhguSC1/HGrg9msD7NMi1I6Aq3o42v0760mgsbjkUq6LEH7fG4UKyXuoHh8uUGPFvqV0mNFp2VmTXe2c2KuV/s7liYJkhz/ZPeVW8Q3gtz0GpZ1sFq058dD8ZgAU2l2nLvRpMeK5H0nEn99zfS1mtexTALh/DJre95ngmjqydkd+sAsEVS8Pf1Aopo/FubHYz3vtKuhknVe+VR6FC6GNR2FFPe96/SQ3aurSSam6LsdMN6IrNDCWjoeQ0bStdamvoaPLSJ5sDx+i77vONmVrld/1x6PZ0Yaj62B7/kcUf5cvrlQo7/1HPvh/eKemAvWUOzw+bGmOWcBx0pfDWAuS5gtZJ7vZlSyCzdNuYfCALslyLkqfVVl6DG0mAdT0nWlgeMlzGXx2jny2E0fn4QbraFlEgg7f0z369VBH/1nt+mDs1Z+zP4Cbz+QiPwy+fnxRNary2lSj3kPJoCaRleLhHcas3v7LMklpmA9cCzEb0TLQD7pndBK5se8w5mYqOLxO4+SVEKkkhtgUjy3Qx/Ye3qfmSLnqqPY7mDRNlBIEWvmW+Zqw3DY4vGLu/Rjz7DP+S/s9MVc4ObHQ18vPqiGZEfDjOuwL2Yux7bM5EnD4ht5aui06GfeablAbu9tR3l5uH8MYJEz8nS1SU+UCID3n0x89rKPz8G1xtAyCYTXV2cAoBKiXm31jysZbkLg7QcS0fzxWpvtxxRmBdZocHeUAJRHlR+vlsDr/dt975el82O33ZiFuHHQ8vI5H1yGTBv7Vov6FVcjCi/eV+o0n8LRAqlkiGAof8CFGj1WJIN3P5/CTMafNWkYBgal8zmRiCcSDls8bhtYa+NplsTjxT0xF6x5p+H+sVteEXe92n3YF8MbQebG49g2sbR7yPnJjxMEc1my0YZmYrNDjxYd+TF7xdOVOo7vxeO/uGIa0hHZ3T/Oh5AC1DSbf3WgevWNJp1Kk6k0Klmuo4jnCstCiJUYdrjzTuO9b5GnPx9NPK5qWC1yT2N1m8/uUgGy/WOdPeGWS4qEezLzx5BO0/0uk7AIvzvu8Vv07csEwIzcBnR789hilJKudq+/UGs+F7uk67DF404PBPjSdY94XMmgoVP7I76uUUc7R2b3WWD8zjuBP4Ls9i2yKKbQiEGP1qNIEqePgSerJVxt0os1elfZqR9ZyIEpsb7WpMdLAHAkj3umydduy/4s666QE0YMNWjPBz6fnd3BA7ODDjT7a2Tq1e0o+ru8eacx37fIu8mnMqOIx3Wdrha5Z6m6tt/7l18pUR925x0gLoQwiwRuJPvH6226GKhe3Qin53r8Fn3bEgEwm8WORM3pmS36uuF4fN8MeWFnRPnx4He+kIt95OmwxeOWgTcukC9dZyRT56r7awxgtVhsJR13+SjeenU3SL2a3T/mFL5iqlc3DX/DTharRXK9Sd3NYwALnFnJy/V+vRp+StZbXUxniKPFFqYYW7NNpQeb9Hh2mz44CwDTGcLPjz30XFHdjWuc/DibGGt9NW8+sJwm9dh8YQc0dRwtkhqn11C3DUbLr5RgzjsByAnfaEnpxnJeKj++1cJyID1XK9yt8vhaPx7PZIiMxPqpLfqG4Xh87wgl1gMN3UIu9pWLhy0et3v4waPk5Sp1PPhutmglQ+y3ssMSpOYaPxirfRLgjyDzUu1CPCsXmzqKfjZTWawWca3BaB4DWORUga42cXyv7PzBU+TPL0spOK4Pb5KwCKyvNikokNr7lASz6LKGnSDcoOzZPwZAwLUTkcQwoZvs41QuNdb6aoFIIu71f90esklMp7nzTjWbs8eRvMhvbuhfcRzZxLUcST3XfA5bXe/PSwCzTADFdCg/kGtNmiT9VpRgjNPOM1v0wdnh/Hi08dj6nc/nYllGZ+fQxWMDpRR521Li0WETiRd2MBBzWTgsQdwLEOPrH1NAM/dnJCThrUCuckaZY3pUNXQpRYkDyxLk/PCwkwXPouumzdZjtUiO5PHNde9P4I0mVhjLBAM2Rx1jwYKHsoCz2/Q1g3q1oH/s9VsNX1Je79AFjhlTmJGwEVDVwPSXTRAQQF5bEADLF0xQ27B3gtMJpBJSnzvemKL4sdP2Wn5skSCYlkg9AyyTQOgHy1dv0rcv9X/wGYl69c0WLaSIwyr13gp5aVTxuN3b13Op/NgfnR7Np/DwMeJoIb+4SwfDThbHirBLuuqu3WfxxWPPZiGTuRxPz8WWhhXTJBLbdwdNn+bVFtbI0zlWPF5gWVhvdDCd2bfVBPD+U1Il6xtNuuJ6xORSAYuxteG2ZSXrOx4bJi436D1TluMmVxPU7nn3BfPJsJaZAv3OmM877XbZQ30ASmk04kyRLfM7wbZNhzJrWW7rInfeSSjca8vpuSCn9A6WH5fCCUUHYi4AMxn2DKedp7fw+nnnRVYyIES08i5CWvv9Y5Uf+6RtIJ/sx2P7zfjiLr13uHO5UhjKj9316gg3wDvgiVPEzGYJ8/4bCIAdlGKqV/scPrZYLZJrDcqMx4t5xrzT1UZfzDXgAyeJjFHXRgduiUpgMVRt+FErSJJ4nKvRU2ViVbwrGTDnnXSvjbYWhVTYFcjrbcYvxyLMSsoR4B5HHDCV5nZ2I/vWGUxluPNOjeHS2pLcusM65yfKi/XV0p8+zxHkHkXL8NhiwiSknmvQPIZcvfq7W/S1s4yb9r5RpchWTIEfc/LAHLp43EM+hZUimc3iue39d8surrZYKcJuCVJzjR/ElzH4XX5sMceZDeDquaKwmXXTNPrW+b5YLZEXdykF41IXc4x5p6uNfTGXxZlpkkvimW2PT2C3R92xLfBb6TilTac99uC6sZxArP/mzTs1dIjNqy3CjyDzzEAw/vkx31827pEn6x4QuJc7NkMs5eXyY868k7gr4Scee0isNzuY97lJwiJMvfp6kxomTu6td5vNwrOo7h52shiZa+agJrGQi33l4qGLx0Z/J4SjZO2Ox47+8cAWcUB8jr67XecmVxlE9eoR9o+bOhVvImIyn0O7B3dyDKCURstwKpUscy4HHzhFPnvJo2TNzDUzQcXJjp1CggFiHme3932FeO4HDcNj+Ngi/ApkUb06aEl/NNQ4JnQYQTzW6VSGVPhSPke9eqmAWxL5sfuBY+HtzyV3Gl4uQJwfBzPLBFAKcdC3F6sBzGSJZ//46U36+jnG348sHg9+5wt5bMZcIT908XjvLPPwamIw9bTdRZIQh57ZYQlS050rkrKx6at3/ZtzQTR/zB4FKcSz36lhBGl+E+BYkbyKFY/BKsW782MA7z+Z+IxXyVozkXEJ5awXCvBeOrxIeVbbAp7dxmvn9qtzzHo1zxrCQS70Som1Nl3i16vjm+4Lz47mXH48oJwhkaz/42EtwC7xo75DKS3bP3Y9cCzE8VhG9ze4DHF+vNbCUiFIfhzmwfL4Gn2HPR5nPOrVuxqahnNdm8XIJF1tmz+Xyo/90TaQSxIAbzlCntmi1gf1xV3qEFej35zf7zG7u7D52ByLeI7TYqxjqft2cHe+LYqpWPY7NfUg/WMAq0Xcw4nHi65dZlebWHXF4wdnyU7XQ1KhcXqxweKNI1JWMvDbqnxuh96/d+9lEtBMxjvYlNtfWQg9UM4zA0E/2I/vvBPvJgcwlUYtzhFk6x4gQJpjttwwfPePKdCj+3N0dsTzTp57su2XIU7TBc0LMaUQi+MGTiAWM171arcTyID7ZsgLI7HoGvhzTaXRYD2BI+SwxWNLXw0gk8BblxKP3TTBKlYDSBDrvNP/o1tekUogpnWLfpcfDyinGUvRufNOsfWPA9SrAbzlCPm+RfZHa8FlYX2lTk+46tUApjMemiatx8iPEbT74Owf8weWmNR11PWh0z1zl7vnskWLfDKsZaZAT5tNQhvj/Jh3kyOKevX1JhVk2IPCMk8eX9eG+8deiSmEJzCxvlrejcczPw5mlokQ58JbLbQNnJ7yUa9+mh+Pl/KoaTQmi347LZsn2rSc4XZgDls8HpxlADy82m8hv7DDiMcAVgr7WyVqOi27PvAJEtaBgYnf5ccD5rLELemquSa1LOLqHwfScwH4lw8l7UdjO4suF4WrTXrclR/DSjGFYUMzwfTVCKZXcvSPBaIeJvalNBaVLGOlREOnnmYgsPrH4VJYwSOYBKrnj4wq3z8nfDz+te+Yn+brEmp6v5rFU/PVdJRt17YskR9bPWnm/5UXtsmaXj5u+5fh5aQdbNgJAAFIoAfj47fMty0PfccpL4EkT8xlMZqSddtAYS+mxG3RddjisV1/+N5V8tfXKVjDxxZ2SVedNROcTcQiOt3tUl4zTMxs1jlyZ1JQCqZjT0x+mY1Aei4xi8ODfW0DhsmuT2aSHivPmP1j9C1BfH+QHDKiStZf//jZbaevENPCWrJ/HH4A71aLLvNbhhm55XcHwg5/JKGUJiHj8e02FUyyVvdqJNMZRnUKrtLaUoF4rpSoaVxFp9jbtSF9Gl7KE/H88a0WAix3sgi2/dPRPAaQIMgIn7FPbTqdMu3cO01eqsYej+07POK26Dps8bjT6+urAawWST6Jl3bpi7tg58d7I0/WjoSE60vy8YhOeRNKnsy5Fn7VdLjTeouY9jsF868WszCcH19t0lWWggMSMUM3kXG/kUGHhZzzx2m2IIvHc9uu/JhV8ZbsH4dcgdyj6PRE32icR5BrGtvNClb/ONz88UZbtGXItuCLPX1eHy5vVDKo6VScPvKGndCfP+b+w6Yu5c8FIJ1ARugUtt6hi4HmnQCU0iSAB8vfDTePLWazXB8xClxuUHt928Fotkq0bZr2hZgtug5bPHbsP3n4GPn0JdrQ2cqFQX5c05xmmRYxWVjvdtnmf564LTMFexuLKcTizyUXPHzhyI+vNnCizI/H4no1t38cqF49HAb81qvP7vSdMgew69WS/eNw88ee86bjPPIkkECWQ6942uiwN7VYDIwteRZdDVdw9VwEVOcfo8Xzx10/PrviTvZaK4hZpkUAregLu7TDmnicyWKHc5za7mImQ1in6z73VsgIti62DDrogar82B/t3pDf+sOrif/rRfNeVnIMYKXQt8ysB5o9CEwwfTVYK54EextjuvimEWSfhJiFHLGvXLzSoMddOyEsJOrVDD8QBO8fD71TAsNLJs+7+sdMB+yG7r1MAqFXIHvqaWNdoBIGk6JHkeY8q8L3j9c7VLBnfmBsyTyNmRSmq2G05OVVaXlwMhFMtXV7yPp5YC/nRSPIgfvHCDSC/L8/ZX70QcbVz2S4EmvPO/a+CkYwgmz3KF2I2aLrsMXj1rDf+tuXSFVjN49hy4+rHMvJMHv6BAiGKcW4VzyJ9yinSPRW+/ITkPIs5jFUr25QXn7MmzkZIJh3CvBWOm4MwYImN9ebdDpDHIkv01GkaUj9SkOOJK21wRs+Hrz+eI4gO1R1DsrpUPPHdR1tQ1iv3usuMeMxs7ax5OVVKTxGE9670JRYAmZnucBtIev8TV8yFHxqRZ/fod/coP/oVax4zK9Xe2bwJ0rkZovqMYse7Jqkec4yuqg4bPG4O1yuzCbxjmXCbB7D1j/mCWryqVhGkKt8NYeYuZy7Xi2Sascx8tQKOu8kwLHi6WoD3Pw4QcT1at1kJ1L5QMmlY94plUCPyipLz27jAddBkGnR5bn82CLk/PF6m/KGjy3Ek68HiCCbhDUEGGL+eKNDc0mPerX1cJhKk6or8Nc16m51LRcgtgQRKPjyKa5/ddPwt1pNYNG10aHBzDIt/K6U+PWnzF99XYJ5UBbUqz0z+ATBqTK5UIs3Rbb3QBdyUPmxLNTS4g//5b/7vuR/fzf7xzxaIDet/jHnAB5TyXdXoxX//lwAZrPO7oW49F1MRb/iqRGHnmt4xdOVBnvYCf16dbD54yDFWPeNUZZW857doQ/OOv+SuVJCMh6LlT6eeM6bBt5KGTfief2Q9eqNNs5Mi7YM1TRq9Y8rWYZwjBlZl/JEPPIkyPgF9eqG7u8oLBhBDtM8hrVSQvrB8t0t+t0t+uP3sB/Cwnq194T0CFwz7T3QeZbZfoSEjcfr6+s//MM/PDs7e/fdd3/5y1+O5JoC0zH2xdUDzkyThRz769MJFNOoatwDeFwt2KCSqNfNkm9t0B99tPf8nqpQXK8uxLDiKQ49Vy6JHsWg7nS1AbdZpkUmAXF5Ktp6tfvGEOzdc+AWV0NQ85QYYimE03N5Zhu50PuVY0J8k5fTqPtfSj1gvUPPTBOBa+PAAIfZ++fEY4/+MU+wAuEi6qZPq9olfv/4dhuBm8fo67lkv/h/e8r81dcleO3/GZangoVMh/tNC+TJtXjjccugE5Mf//Iv//Lp06c3Nzd/7/d+78Mf/nC7LeGkHhvtnqzZ+gBr62KNM4AUx0oJ+Q0tbk6WyYsfTP1Xx8l//ZXehx7tnavSqi6sV6fQivr6Gz6bWJIMdpmZFOsdro7Dc94pwnhMAcMlI5KXWD+zTV/rGp2ssGZmGrrUPomQ88drLYj3B2QTY6qvFteT5CsWTG63cbSAJOe+0kykE/2SG3PeiR2PvXY5OCyv7QiqFJJ1lAFH+fnxrTZdDmTOZVFMy7ZOntqkL+zS/4FToYRwxdNa2+OOBfCeY+SRm7HXq239Yw/lfEhCxWNd1//4j//4F3/xFxOJxDve8Y7Tp09/4QtfiOrKAtA2qDs/FnOsSK43ue2cOBSn4o6vJ+kE/uE9iec+kHrLEfKuL/Y+8ZIpaK0V0wx3xpC0fDaxJFnMYb1DAdxq0aU8d8gh42XrqPXY/eMAw7XMSgBzgNgNBS7V6WmXKq3CWinRkJ0/JqH6xx3KW37cf/3UmOqrBe4ZAKYyqIfoH1tjYLNZdsnaPvDGLI3UWb5+nislrJ3KTARTbU0DBT/5hmDTlGATtgylFCTnj3/9qd4/f12C6dRtIbCwXm973LEA7quQ3S5uSizwCEzPpp+fy2JrbOvVa2truq7fdddd1h/PnDnzyiuv8L7YNM1qtfqdPZ566inTjFgYZy0/9sVKETdaNNjus2Ds8p3/5Mkl8T8/kHjpR1M/f1/i7cuC/Dj6FU/dno8JSHkW830vceamxQFSfiAsuzLxWCcTpqmh5MjT7Tbmc8T9GGL6c8n2j8P5ZUr1j8c0PxbVq3lbOiSxZG6znOXidjNaZmmEX68WfVOBvYmgJteUq6MMEBwLAi9btJD0GvrWBj1fxX/HT47Rt7Dm1aulHLbfvUIeucF9/1/cpf/j3wW/rR31tlQCqXhMG/uvH+YfNxqNbDZLSP/GKhQK9Xqd98W3b99+4YUXPvrRj1p/JIT89m//9rFjx+xf02w2Wf9Ulq0aySDVaPgoKCymU6/soKZjpkwbDeevOWmmqi3G34fh5m5iKpX0dZEC/vEpAGg02P9vBuntRq/RiOzco5lIkUyj0Qj5TrmZSaWu7pqNafPcZuJoNsH9/RjJehuCd6TTyxrtZsMVt0gvVWuj4cdVaK1Gysl0Y/iXWyCp2zXT81f64lZiNc94l9M62e44X7OmZRJat9HwiCm0Sxpdf7c3AGOPm83MFBV9l6SZ2m16/2ijZ72RKhA0GtwQl0tkNncbfs/iFjcb6e+p9KZTyes72vGU82df2yWlZP93ntKx08k43rvNRjIP4ri2oom1lvMr7ex00inDcL8XzWYTWdI2nHeIxVYzmaXO7yWm28ts1xruDs71Wvots8GfDEkjudkRfQwtfvWb6X96X6/dFN2xWYNstth39c1mdoq2PD8Xb51L/PWV5PuX2QeE338x+ciNpK9fmp2qTnLDD4G5TObKVqNCfT8AU6lULseRMg2+xvcF2jhy5Eiz2ex0Ota32draevDBB3lfvLy8/OY3v/nzn/+8+DVLJX5y5EWiTUvZXqnkY7b31Iz55Bo1KRZKpFRy3rblXI8mGX8fBn2XzuRNXxcZmEq+10umI7z+nS5KacN6j8K8U26Olns1SkqlxHrPPD1DSyX2jVvK90hK9I4YVK+Ui+40Yjpv7mjcl2W/VJtOZ3uOH3Oh2OskvG+J9XXzrgp1v8tHc6gbuuM1Wz19scK4ZgfzBtXg7/bGXjzOZHOtnr5U4YyRAQDKuR7SEd/tkdBB73iRCN676axhZkulQAnfjm6sVjKLBbOdYHxSjAat5Pq/86NZxnunJcyZAuO+yiZ1kivx2hAt0zgynSmxRIv5YrHTc36X/sUkzArrewlYLhjNZHHW5T67pRvHK+wLkGGuZF7r0lJJVCj7L+v0Rrv34/dlme76A1ZAawbjrqZA3dCPznCMc238/dP41Wf0IueH+fwNY61N88WS+DJ484fhtgAAIABJREFU1Fso7j3xLBYLRitZXMlG/AC0CPXZm52dPXPmzBNPPAHAMIyvfe1rb3rTmyK6sCDYlztJYlmCcOedYlCc7nYjqFdLEvmKp6YR/TIJi8W9QYKr/GEnWPPHYj0Xf97Jb/+Y2cWYkqtXX66DuS+SOUMsaQmeDzF/vNXFnNeI3djOO4n11ejvIQ1Ysd7oYK9ezfh/7YXlUprRNK3rjPlj9LdKCD2xOfXqJAGvKdE0UPSpV+Upy263w847eT5Y/t1Z81del/CMgrx69U4XlQyR+WkXclgukGe3GS/y3A4lwMkyCdxgbveoI6bEatEV9iz80Y9+9Gd/9mc/+clPfvjDH77//vvf+MY3RnJZwbAbf0tiWWby552iV5wGXn4cAMl4/J1NKmnj5XfiQp6FfH8F8pUGPc4/E8v0jzl+IIH6x667wtoW4PlvrzQob2TLYdIi2NDlIMz+Y5nl89H6V3/9Nn0+Iq9/z/0rYUaQ1ztYyBFuPLb1jwnLHo4nBRXMGjle1g3PVq+h+5ZS8lrIYcwyIWc0dK3JmC9ww3vvfHW437NCvsJqIX/6kvnBU+R4CVe4fVQPWoZTkxSrRVfYePxTP/VTH//4x1944YW3vOUtnrXouHGfZTyx8uM6R+44hvpqX0jKLj70aO87m1I/ZtOnI4E8i3sW1lcb7MzSIp2AJnxHqMsQxiKAWKnGclGdZgmy3Fxu0JMcy89KhuzapENNab+zMPuPZeZNo9Vz/ckr5l9djeazs9ul4v0rgeMxtTYrZzGbJUzdrEPa7Vbz1TmTSwKvSngNPfLKck25vSNDl5FnSKy7PVAwrBrkKaWJ5z4Jz6qGBeEsLpMUc1m8ZyXxleuMI8ynL9EPnkocL5KrzaD5seudinUEOYJk573vfe973/ve8K8THvdZxpNCChS41WJv283G4Oi7o9Fj3j2RaCgkseZVx6vruFSnlxv0TYveVxWHOZfFQh4b7X69epVfr04L/UBMyliaaRHAipz5QJnOwG2a6OZyHSc5pwprYmplr5Pb0Nm7xdyEcW9da1HP+mQ2gd3oTp+7GjKJiOKxV0mpHGj9H4DdLqYzhACzOTA3BVWHexbTaVQ1umBzmuS1ugQSa/tMMxOrLOcOvZJzcXaYFl0hk2MAhaR3flzVqGTiYS09c4xyrbXoEn9Xt4O3HCHf3qSO5X4vV6lu4sFZslrCNa60zgP3ySlWi66x026EoeO/fwxgpUiuNNhNoDgcfSWPjZEgU1Z6fodS4BW5ek5T993BksTKj6sacknRyT0r3O/EK1YjULG3zoqU0xki4891o8k9dTnGZuRNiZMEgc1P1ztY9JIBhdzn6GBXw6ZEIUEGZqHCTuD+8UaHWuZ9c5z5Y4eRlnvkibdeRdA/Zt5XdvKcxSHypZQBTAtrX6knE5n9Tg1dtrfFbBast73v2AG5JL5ngTx5e+iX9qev0A+eIgBOlELkx8MLAwEs5GPMjw9VPG77z48BHCuiRwX16vDXNcSo+8deydzZbTqbxaW6XL06HjMQAPM5bHaowLnaQtw/5plzIZDZBa9/7Knn2uhgOkN4JwOHRZcv0yXP9VY8ZFKiaO/23S7dEHpGylPVPfaFB16BvLF3TOHNHzsWfDHq1ZxWl6B/LF6PAb72sCnnqzp8GYxNUyHNMmFJ24S/cMNEgnCLVQ6YFtZ+k/gfWkl85cbQZ+PTl8wPnkoAOF4iV+Seb27sZpkW89kYLboOVzwOlh8XSC7JN1mMWnEqX8YJj4ye67kd+t7VhHQ89t3BkiSdQJLgXJUrg7IQ+3NpJtKcZ8Ao+8dXGvRkmfv/Oiy65NMIWC3kQDekTEoUcTyOMj+mPHdJi8D94/U2XcgTALNZbLH1XEOdLPfCTZ6eS9A/FphzWfC0hw3d93TDcgHuenVIMxAA0xlSE/7C6zpXQO5mJsvwD/ebxDskXeeqtGng9XNWfoyrwmnh3z9n8o4XjP5xHpuqXi1D20DOfzX1WJHwPh7RKk4tdrsjzI/T3vudzm7T950gl3zUqyO4MCaLefLtTSow54Jnftzj5sdB4jFL1judYSzdc3C5LjpVOCy6fPmB55PEs6TMfFAeQH6sRVPWk8m0ptIkmGXmID+ey/H9Mu39Y1d1hFd8FvSP6xpbrTKA90YEmG5YLjA2TYXPj6e8GgRVTSQgdzCTxY6r5nS7TY9I948BPDBL1tu4vffDfvpSv1gNYLVIrglNRf75d0ze0kZ3jjefxUZsWxoOWTz2ra8GsFIUeNcd/nr1czv0PSuJ9TaVqeYG6GDJs5jDtzdC1at1kzKHjxFw/pi6b4ypNOpercorQon4tLNe7cMEMZ9CS3jAWm/j9J/obsmbVH6cIhFWg6oajcTpV7wxxSJEfgwrP65ksMvzyxzuH+864zE7dxfsOqx59o85VZAA0w0zWexq1LGhVEbcJ8Y6IQmGJHkbephw6tX+8mMCvOsoeWSvZD0oVgPIJpFLcttMTQM3m5SX7rv1XAt5peeSI4B/NYBjRSLatRL1vFPg5ccB8NzvdLNFi2lSyeBogVyXkDw0dBqTngvAQp58Z5MKIhmATJKI69XC/rG/66my6oqeTyIAl+vcYSe4ap6++seeK5AvN+hmB1+9xaz+yeTH0dztPQpKAQTsdtuR8c8JHI83OtTKj5MEyQRjmMLRs3C7wfBmOqYzaOhsZ4+aV+7Isz1o+PcDIbbNaQPC58fwKhRVvWoAdpj16jX/F/lDx/ol64s1uqvhofn9f368RK5wUuTzVWqNvTH/X7enRTGFdg/CJezBOVzx2AjSP35gBj9yfHT5Ma/hFAfFtEd+fHYbr5khAE6VIVOyjq9/DGAxh10NEvkx96MgiMcBrF1qnGfKlFfJ+gp/fzNcG6J8jZB5rkC+3qS5JD5zaSgMDqZsxUR4t1tl3rkc2QpdspaZRwieH3cwWI7OXPHk6B9PD7vBWPcb751e4Ozmc7ymmxxPX+1zn4TFUh63hjvZ4fvH8FoEzhsDY+LWV1NgV6OzPj2F372SeOQmpcCnL9EPnBzy9jpRIlc5I0/naxRAjZM9t1g119ks2dVjSUsOVzwOmh//q4fYYTzyeOw5ehgtnvudzu7Q18wCwKkykZF0STo7BsN6MnrHY0F+zDHLRKDkj/dMET+JYJmB8LP8Statr5buH3vpua418GN3Jf7yqmn/WXc0MiNhPRjh3W4tMbM08yFfytOcC0A5QzybCEzsG/3mWBLrmkZd88f7/694cmmJpaWCjJ6LIyMNtjp9uUCe36Ev7NIn1ujnrpiffNk8X/U2a/NEvAi8qlEf9WpX/1jeLNPOUh5zWbywQ+3FaovjJVzl5MfnqkgStuoCQLvH+J3Px2YJEtvD9SBoG85ZsZBEHo93ux6TG9FSTEGs53pumz58zMqP5eJxzHquUhpzwkOxeOBHMH8ctH/M+HvPkadrwqktR6uyodNZ6f6F5wrka036vQvkQo187TZ921L/ZWXMMhFxPEYli+l0BBLrquZhzgVr/jjovJMtP2ZMwTaGC0KO6fO6UPi9XCBrLWDO+fd1rwkLpj+XSUFIkKP8G+fJr33bnM9hLofZLJnL4hceSB71I5Vi4jiaOODVlpjMZMhOd+hTLXnHunnPCvmdl8yNDr532N1olW/Rdb5KX13hmtIz+xELOWx2Y3mMH6543HPOioUk+ngcxfJjeZjbC+yc3aEffTAB4FQZf3HF+wWbBorSyZxfFvMQOFdbZJIify5BvVpsJMKEt+nZLeqxs9NFIUUEK6IdDl8NQ7Tv2cGeZSb3t3Stibcv4wOnEp+9bL5tqX8R6x1yAPE4Y3UuRVcr9VLdOOvVtvx4Nku2u0NXq5tIDYdAR2mkrqPMv7blfqHY+ePXdBwT7dli2xAFLk39yusSv/K66Ouglax1NGG/uVXORnkmM1mnniuwY8l7VhJ//8vGR+5z6vFPlPGNDfY/OV+jb1wgPLl420DB9VmezxHmdFx4DlW9Opg/l4BoFacYrTkXgAQBpdxV7T2KizV6ZtpHfhzA0V6eU2XyhnmveBzUDwQAgY+t9YLaoNii63LDQ5LmnHfypefyrlfT1SL5ByfIn1+mg0uU1O9EuD3Fcpyez0ZQ1ouvf2xSNI19MYd7BNndsHAUacVakKUCw4sDEnZjzINRIzZrvGCIT6U1nU770HM569WBHT3ftkRSBD96l/MpcLxIePXq81X60Dx3nLrF6oHGlx8fqngczJ9LQOT66l1tpPVqCJf0na/Sk6W+jdSpstQIcqx6rjfOkz98h8d5SqJ/zP31+nIjFwhSxJ2zKw16gi+uRt+fK6AfiKeB67UmjhXJyTJZyOFbG/3vsi6XbeRS6AQ25BzGlh+HfSm5eacg88fbXdg7BXM5Z73a3bBwvPXiyaXlApiWmTUvr4wcy9s1vlWnwfCuV/uYd3LqqwPnx/kUHn1v6s0uK/7jHD3XThfpBFkpcPVcbQMF1zFoPke27sB4/JdXzX/yX3yc2IP5cwmIpV7tUzQYkmKKu+Lp7A59zeygWIeWQT1/2Fj1XDJkhGVnzaSC/NhX/icwNawILboEmyQsHKbiDZ360nMJGhCGiapG53MA8P6Tic9e7v+m1juS+XHE/eNo9FwSyqCS1xwBk8Gwk8VslmwPX61beOXsH3OGjy2W8sS9WwkS805Mb9f4Vp0GQ7wI3Fch0O2+GWbjxfcfYfzD+Rx2NepudZ2r0numRRMTTE+LhVxk3nMOxjoepwhZ4+8QdRNMfyhAsBs8GDtdzIywXo1+C5n9Mzy7vR+PAZzgj+gN8FVcjQOxnkvgzwWf8UbwQJlKi+adrvA3LVqQYXFZw0/JIS/8EW626ECn88FT5LOX++/mWocsS/g/eO6WlmenS2cyJBIZqsxHhsB7KNzN7TYWbUmYW8/lvgdKadgXSYnr1cL8WHRhzF1kB/7Rc+C2DrUjU9Ww4zikrrUQfiLLwUqR3HS9Hedq9Mw0EdiNtTj66jsxP57ODDn9etLpIRepvhpRh2TPUYfIcTxB7Dy/gwdm9n9dd02RV2oer9Y0nGvRRkxW6Aci0Fej33yVfS8FoyyVrMgs8HJdNHxsYfdSaPp5zpbSosGe6819odCZaZImOLtNAWx2+i5UnvhqsQuwIlkkm+kkJ1nLaeK3hbzRGdqcOJt1inTc9wAZPrXwlh9bLHP6x54OBEyX8qZ/M5BYEXdt6l47Mxzsien6rHf2dXZRcaKEK66S9YUqvWeKCH4WZg90IUfuxPy4khVJBty0DBptfoyoVyBbeUNkLyeBQGL9zBZ97ez+H0+WvLc8BdjAGi3pBHS+H0jXZCuiLXytQBaUSafTotvyinD42MI+8lT30z9mPlMGXB2es/rAXop8q41luWwjqrt9p4uZrJVGhH0pGX8uAOU0Gj6b3462unv+mHkP2Ou04vnjhRzWWceRmuaRO2YTzPx4zPrHwnr1rk/hqsMy81YLMhUdXxwvMSRd52o4M40p/noMZs114c7Mj2V229lpG6LVucGIUHSKkeurwV/x1DRQ1eiKbb5IRmLdo6IEdAR475Pg3wDiYq8DQSVD/CTyXBmJYYsuX/sk7pkmPON7ANeaWLUN0gxayOsdItmNi+put3SL8zkS3nm/Kuf3Xk5zJTk8NjrUXjZw16uZQ7TT6f06bV0XdYKTBGWW6Kkm7DqD4+06bv3jirB46cufC66Rp0gcPR2sFhmSrnNVeo+4Xs3ytJjPkTtRXz09rET1xKBIRf0D5ZI+ipyeWDqXUcLTcz23Te+fGbql7poil/i5F/rtgEgvzj+e806C0OarfywwNKhkuZ2zmo5UwlvEYLfo8rVP4p4pcTymq7ajwOvmSNPAy1VUpe+6qCRd1pz9TAY7gWyzhl9KqhMZYORpvb1vBgJg1rXiiRlU7LVNz8rzUt65VYICptdjinkqavhfJhEr3v5cfq52JksGt4plljkT9XOSadH1So3eVSYCG9p2j1Fznc3CbbgdCWMdj4tedhZ2DBNxtFciX9I+4nmnYppt0WUXV1ucKnvUq8dhAjJBRE7uuinKj/3FY+G8E69efblOT3olxxiuV4tnph1YkZv3HLzWwOqwoco/OEF+/zytZGQtOXLJaEaerHNngiCf9N7ALUbSebGc8d0/Xu9g0dY/nnGteGJq7Ked9WrRt1guOLcuynR8mEKHccuPxfHY7+ipvV6928W0f7NMT06UnBZda23MZImVY2RZ20TA+UESBLmkj9gkz1jHY/ixOQxmXu1JgL1AAmTMeKOlxKlXP7dDHxjOj0+WyGVhPG6NxwSkQHPkpedijHXyEIyyCCYvrzREm4/3X2HPoiuAg8090+QiJ0W+0aIrw8ZP7z+V+IMLWMjJhlimU2MAqntJ7Z5FlxSv1Om6q74tOTQxlYbfEeTNDl2w9Y8TBKnhhzKzZ2Gv09a9vMfdWxfrOi17nchzTH8unTEIe4AIXHECFNLs9erAZplijpdwZdhi4XyV3jPV/29eE6pHwZQIz2cRx9bFcY/HleFlsQIiN6+2iDo/Ht3yYwveiqez2878uJBCJiFSKvnaRBQf6QTXMlMzkeFvrvfl7lLjd/oFTyLx5uMBlQyxJpgDlBzuniLnOfHYMuey/82bFkgmSeRHR6K62wflSpmRpws1+rFnzIc+Z7zpL4yffnLo23ekD9kB+seOejVcK57Y/eOherVHJ3gpD4fEWsbYmSl0aBpBljvFh2Bwo+bHLNNixqavDmwGIuZY0blS9ly1704IYIo1viWoXc1laRwrJcY/Hnvs0hnQidq82iLieCzXDIuQAmfFkzs/hpekK9ZlEvJkklyLLq1HxfVq+fxYMCTqmJW0I958PGCQY/lqHlvcPUUusMbSuj20e84zRILgfatDrhdiIrnbreXHVotUYNGlm/g/njFf/+fGD/91b1ejv/MDyZsfTj+zRV/a3b8D5T8vAfrHGx1qr1ejL+na/+7h+8fLBbI2vOvQc/gYnBv1wEcbHBC+GYCv5U4WszbLzDBmIAIyCZQzQ+et8zV6zyAes1aSCKru/+YNxn2V6C9y3OOx2CXVTuTmXBbR6qtr/u/UkDBXPK21kU8S95V4xOM4zTLlySQIT9Il7sX6aj1Uhxft2SGciRR4bT4eMBjk82UGYnH3FJiSrhsteoy1jeMX7if/6B7perWXH6cMVVsQXeBbdD27TT913vzkW5MXfyz1se9JvnGepBP4J/cn/u1Z0/ZSsp8Xv/PHhgnNlXw7LKyZ/WPXvJPou7jz47oOz3o1T189Dt0iO4MyjwOZM4cDe/84pvwYwPHikKTrXBWD/JhZr2aKqy1eOxNL+jfu8dixLFZA5ObVFhHmx4YJQtjdiPgophj16rPb/bXHDk6VIXCxHhNHAoHEWhP2j6PSV4PfbbrSoCfL3i8+6ED7Mq+2uJsjsb7WGBp2GnBXGW+al4/HsgtU3vQXBu+XaTeFFdSrrzToG+acG0R++t7EX141BxqoqgZJmW7ZZ/94s4v5nPNmnssRV37s/IfTGdT0/f6xYP4YzPxYwiiDmQM0DZTG4NNnh7cIvOq/CjiT3bewjik/BnB82ILQ3j+esr2tA5ji6lgZ+3gsXa9uGbHkx9mIFKc4iGUSAIpphg7w2W364CzjSsT5cYDiahykE9A4bWBdmB/71leL4jH7trxcl9JzVbJkr17tnS054Om5HMNOwcgl0RXo1/eoavjmBr3dZn+l3eFyLks2OZMhV1m99nIaP3Em8fHn+u/TroaK3HLocsbpgSxmvU0XXUmYYwSZeRqwu5eL9x8DWC4482MZBwKm0GFMPn12HJtDB9R031VA+4qntXb0ZpkWx0u41uz/t0lxrbn/aZ1i6Q8iN2D2ZNzjsXy9Wl764YtITfZHuvzYgukHcnabvsbVPIZEvXocOliCFchiP5Csv30SIk0Kc9ijacCkHgVMi8EzvWFQv/nxVBqGyeiVXms6h50CkEtCJj+2BGW3OV4f9iAqyI+vNtgHiP/lgeTvnzetH1DSnAuWnstfPIbbkXE2iy3b1dZYPYuB1ymVsMdZLhCHhbVMLZe5VXPc+sfgV4mqfpY7Wcxk9k9Cay26VIgrPx7Uq6816XKBDAbBpzKM+6cVT81VwPjHY3aLwk27N+766tGbc8HyA3HHY9fwsYW4Xj0mjgTierWof+xLX62L6ooV1pPIc9Oi7Z/v9Y8DLQm4e4qRIl9rUGa92heS807nqxSAezbJwh5EF/h6rqtNdq/9SB4PH0t88mUTfj4yfvvHjuVOFrPZocV/zO7+oDTSlPg45JIwMfQrlekfM+/wMVFv2LFbldmpSXcZBswO1atj7R/3/9vePIa1JMb1iW6r/NiBfL26bcTSYI9w/jhAWyU8xRSaw32RHsVFm7DQzmqRXG9S3q+7NTb9Y57HsqeeS15fLZYjMDedXJHYJGExqFcHKzncM80YebreBFPP5QtJPdeFGhKEbc6M4SH7+Rx3TPMq/wDxSw8mfut50zBRk57X9zt/vNHBvCsez9n0XIaJJGH4qAxKI3VdqqF7JE/shf268Jw3gMDpe9MceWzwhLdfoOa/C2M9Zq2f2OHTEiEnyvv94/NVevfU/v81nWFYZsaU4wmYhHgsd+yNTV892fXqqQye2aa/9Zw58Pq4UKPHS4QZt1IJzOe4Oy6bBh2HiplgBbLWQ9pj/ljqW3gaGjDr1ZclNklYDIZzAufH7pGna026KvfdBUj+ii7U6P0zhJ8f7w/Zi+vVPKPv+yrk/gr+9JJZ1eiUnLm333mnDdYGIfv8cU0H81sPtHiew8cWy3nYP1A14UqoATnXYo+ml/fI6OFZdNV8mmVaDN7B7S6djcdU+LjNwvp8jdrz42lWvTqmHE/AuMfjaeHudzux6asjm3cavXk1gAdnyX/+wdSlBn3nF3uv+6zxL77T+7NX2M1jC4Fr5vjUq3n946j8Mj0NDZibTiTNuWCb3WwEesjePYULVUa9Oor8WOpuv1CjbzlCeHquXW3fFJbnz9XpQTNFue9HH0z+5rOm/EemnEbdjx+I2wwE/f5x/2prGntXxMANpq6jLHG8Xi6QW7ZflOTG1XyKOAoVDX0sTsN2ptJsY5wA/WMAMxmy06W7GqbShH+oDsVMFk2DWqf5c1V6z5S9Xs34RMekERYw7vG4Ir1Soh3P786XqZOYA+kfA3jnMvkP35e89GOpP3hHMp0gn7tivn1ZEI+5kq5x0XOJ+sdUrK+WrFeLm8foD6G66tUNyAw7WVizmw3dt54LrJEnS0If/t2R9K++UKPff4SfH9uCaDmNpsHwN3VbiTl4+zJJJ/CXV2UzLb/+1Tw913B+zPiHAzeYutyU7dKwxLqmsdNuB+7HjnHQq9Xc8PbvyXcZ7FiWmTGZZQ44ViTXGhTA+RrOTO///VSGMOvVI+4RjMHzVYjYtdxOu4d8DN3NCPcfj375sYPXzpLXzpJfe73oY32qTHiSrmag4mrkZJKE68/lMe9EZIZ5IHFyqmTg3t12uU5PlmUfmZZFVwA/EPS3Lg79TSTDTgCySe+NxVUNSYLTZbLeYR+LHKawliTTsa7nSgPHvarrv/Rg4kOP9mTnnXz2j9dZeq4524on3j1A9hQMNY2Kh48tHBLrmnBF4wBHLSeOTbLh4T2cqxqdlt+Rsoc18lTVsBT15mM71sjT8RLW20PbZpn+XGreyUlF3p/LoHHcsr5EQGIOKj/2xakyXhHlxwffwcokoHHCqsf+Y9baHCaevkuzWZzdpo66iXy9GnuDfMH6x5UMNJPaZfPXmzgWWlwNIC9RQrhQo6enyGKer68e1i3OZxkWXdea3lui338ycfcUmZOrV1tVE/mAvNFh1KsduyJ44daa82kYUp3gpTxu2X5RnreWheOxMyYfPQe8eaea3M/owKpXr7tMTKPlRIlcadBLdXqyNLRCinm2aBux5HgCxj4ey/tzjf388YTEY0G9eiw6WJkE3786In8u5uCpnR85npjKkJ94vDcIyZ0e/v/27j1KrqrOF/hvn6o6p6ofVf1Kd5oQEpImLxEJZBbIirmKoo6MXkSDWQqKg46i41KHWfeKM0vHNSPjGhcsR5ylogyOONdRXqMwguCokyxIEJQIYkIe3dCBpLvz6O56d506te8fu7u6qs45Vacep87ZxffzV3elUr27q+r8au/9279fJl9HsxBxYqrhFpYVS9Y1l38dcnLe6fA8Py/KhiNsxmb/eL48b3EoTKdMc+6XkvycWgMOMPrdu4MXDjr9vbrqac96KstXmNarFUahpUqodvvHtHTkyWFkHe1iUw2uVy9/67dmEkLV+lx1P9rSerVbh52E1d1sMkmH41RxwCSmMqv5Mcf+cZloiBKO94/dWFuw64vZgNkc9TtbfPPQub3sRdNKrNDYZK7lquVXF0hrRTyu2RZTVeieNweSOn3gV0a+QFTn5JgWz4rwZN5Rjq5ZxRHkyRTVnG46YU7rNTscp7Eoi4YombfuRT2bK1udXhGxSOmadLBeTVTfNKsnxByW6BK/o+WS6sBSo6EqrwFRl8phpvRoF50oX692EqsqXqs+LAZC9ouXjR3s7NfozIKLxUCEc3roWIofmuelm8ck6oH4YP/Y7/FYYcQY5W2uv6UaaLrpRNiU6NiwBtqetN9IhM5kuWUCs09OQFbJ56rV/9jp1kPCQVO8kEI/enNgwaAP7zYMTi8lyWExEEGU6Go4ZX0syg7PL3/7coq3ZL3ayfnjo/HFg5uDGrPcbJ63WK+uvI+T9ep6RUMWl1Qi+usnjYqdhVNZvsJmUXQwvJjSVWX6u7he7aCTMRGtjLDS9WqHJZ8qenX7sJkEVVmvdlCj20ysV09nyHk7sgas6WEvJfjh8uRqstnvQH0uC8UCddW5tPfuZMbgUGldX99iIgUxZXFda+xwTsuFqqxXV6+XadOUyWzeqtGemarQj98cSOXp/b8yjsadHj4WivuaPACWAAAgAElEQVTHjc2P10fpaMm2QpWzvHUJB5iD+fFiMZnhCFkuWVcUuRwM00lTPHbYKLouvVYdeaczdOtzhZ8dK1TcaC5eLRRTrOdz3G6SJ+pSOdwlHdBoPsfFQoLYT3HyPJnnxw3k4bvNcr3aSRlRSwNhms3RVIaPujw/nkyVdT4uMu93ZPLUhfXqCn0qzdmUpC+VNSjsTr3MTIvOO1m2U/Whc3tp3KrDbto/+8fV6mXa/oUjQevDtZwqF2ASjj/ghxT6j8sDOYP+5mmjvvVqlc3neLLRPJ3zouxwyRHkl1O0qhVZqZFA7ZS3I3E+FmVENBymGVOgFe+V0jfiijA7Xb5ezYlOpFt/2e21aglwNM67gvTNA2VP8Mks2c2Pi+vVVRp89Wk0X89nqUFtsWhozX5QRZHyy04qz7t98FG4guWGfcNL6/0qm10Q59CaH5qtVV3slRQXey4V/xQzHWJ0KSepCknisYOUrozhyt57pIX1uRwXx/eWXUqXX9arq+4fV8/nsgw23ztUOOv/6X/9pHFwbqkWhLOiDYvjUehHbw5cuVrZtqLO9epc4017xsqPPL2SakExEHKQzzWfI2VpW3ckwqbTlX9P896huUTXTIYGNdbyD8+WJayPJvj71inPz1LpdvvJLDcnVwvFlhJVXgMiF9dhPhcRjXaR6LrofCG34qx8ypf7x2S1B1QzF9JOv0ZivdqlZotCUKF+jcVzFt29zC2e0sivNrPbpajgUn0uzarjzfE0f/1P6zsFVeANLuO037qoRTzmRJy3u3mzJVVh9vW5atQDsQw2LyX5decp/Rq78ufGjofy3z9cmMrU11BdVejuNwZ2rKw3n6vxTZZBjTJ5LmYncZ20AGmt+DBaM+XtSJyPLS30DUcs5selzY+FoTCryK+eTPKWL1YTUVS1OIJ8NM43xtgNG5VvH1x+0VSZhA0ulcyskggteg8kdEfnj0mU6EoT1fM5r6Jsvg+bSQh9auX5l5q5kHbE+ePTC9zhCbeGndND5sVqsjrylMlzrFdX6rOq3W/WzvrVh+bJsgdtFVMZbu5/7k/n9tKEKcW6/akNdtRAo/vHNhPr6Qy9boD9zYXK4WuCX9ga+Nkx/tBkYdDlJ6tPZaey3LJjgUPrl1KsW3XYiRzG42gxHlsceaooBkKipUT53Vq1213BsoT10Titj9JHNyo/OFIo/mon7fO5BjRaXK+2L9wh9k2dn7JdGVlMsXaSJyhIkV9NVlvIVdb5q+tX2YsJ3hsil4plFp3TzSy76URDlUee0livNrPrIlLBpfmxZX+n8QSfzdVRfICIxuO0znExRW9ZrlenGj0p23JV6oFUz68mIkYWz9pUmsQRC4XRW1ax/7g8MP2BUF2T3Qb0qfRKqqlJT/EI8rEUtaQ4FzmIx4fnqZiYarl/PJejvor1aq2y5tdkytFhp3pZxmNRvWS0i7aPKD8eX/w4NmOfxDuwNNoqcWVxvdrZeScSR5AzRIuFMhw9U+GAKb/aH+++CuY5ZVxvsItdv0Yns+4uVgtre2mjzfy4Ij8f/RYtOCyZ6dL82LKJ/USC5wtOC3kK4wm+zpRB4E9jUXZkvrLron8qElTJ5+JUY7ppWf10KsNXlq9etuFYWkyll1O8mXz1sSiJLeSWdD4WavaTOBJf7lI3EmHTphJd5iZm5pYSk62b0JfqDVmUID4a5+ujjIhu3KIUs7pOZi2KVwvFFk9V94/ZvF5HclZxflylxkgF03q1X959FcyHX+Yd/44VwgGKBN0tBiL8nwsCnznfIvBFTb0E0U/CQp9V7X6zTJ7CLnyEtGxiL9KPzzjI+l7+Lwm+rp7zqR7qDtKKCHuxfIrsk2YSZL9eXeC1V7oqph3CVIZWuv+pvILYeGvmEMtYrDg/bk0yFznonlK+Xm1x3snckUkLUL5QlsE+mXTaKLou5vmxWH4U09w3jrL5HP3uFCeiGft8rsEwnckW86vt6mWK+lxOa7mUzo/rWa9e/tv6dr3a3J8+3kQVwgGNtWF+HFOtFzbM+VwZg7qQz1Uh5jC/2p3aZprVCt54gsfU5VYwTkwkpFmvJqKLBtkzp8veZv65ItjNj2suVpPN7sPpLDe3pndbTCVGrVmvfjlFrZsfW2QvlirP57Jo8WTePyaiwXBZ5ZDJJG/PenVxckxEjOjGzYtT5JNWzZ2E4vnjKuFWrNg5r9FRLNFVRz5XeWEW3+Zzmfvhzje6f0xE/Wo75sd2oqbE4TT6H5v1OWuB7NJZsQCzKAo4nuAXDbK64vHRuDTr1US0dagyHqfyvigGQkQhm/7HC1WLZQqaUjn/m8tRr2v9VqtQGEXV5uMxUUvTo4IKVTl+HNeJ0fLVdkXYolHEbI6bi8IOld/zJdfyuSrqgRwtmc0T0fUblAcnC7MLdDJrm8Q7oLHTC2RwUpjtckufSqeyTit70GI8Jlo81+7oP1Uc6/DPp+EKMdMab1xv8LwTEfVr5GoxkOqiphZhLvXwrUKCeOzkvJP4K7r0TAbKC3am8mQU6Nxedsaq0bqdiQTJsl5NRFsHmVjZK0rp3CcV++w6YOoFCtWKq+b5sdv9VquIqayZJJ0VYUrqPGu0rLmToFh9ABWOzC9PN4kowEgLVFaEsOwlUHoEOZMngzdYlay6XlML26PlSZS9Ifrfa5RvHyxoAQraXPnEAmw8V21vOBpix9N17P0PhxcT0Z2nZEeCFfNjP9YDIZGT3KL8aiLq15irxTKrMycqGdz2deISCeKxk/NOC0Zrzl9aqkg6nUjwc3tZsc6tE5k8ZQw+4PK5uha6cJDtP112i3/2j0M269XVDzsJYVM/wam0u/1Wq+hrbn5MROt62dE4P57mZ7VuVlElxbpYKbNoOMKmy7eQLderh7TllK7JlCvJXGS5Xp0o+wBBRDduVm59zrA77ERECiNVoZlstcId3aH6PlIEFYoEKaFTPOd8vbossS7ly3qZZHX4pZkudjdsYG9w+VxDFdHyFk/Viwu5RJZ4XOM+mTxFXKtVEQ6whZIAMB7n66KsX6tjvVqiZC5hUKOQQlMlu4P+WTGzqweSq1oMRAgHaKH8/55I89G2J3MJfTZ5Jc6NxdiTJ3lMZS38FG95oEA4PF9ZZXA4XNkF2XK9ekVkueXiZJ2NN5wzx+Mj87xiwBcOsg0xVn1FZCDMJhLVgopYtK/ruVsZYVNpHtcdNVsk8/lj3+4fhyrnlPONnncionetUdzYyHCooh+JSw0RqpMgHjtZr866eXA7XN7HfiJB5/bSoFZHfvVEgs6VKh4T0dZB9kzJkrV/5sdN5nNVzI9nsu7Wy62iT2NN/knHovSr463p7FRkeaBAOJpYPuwkDEfYTPmuzXyOYqbIUSzgTGK3u6UDLjLH4/EErTclbXxqS42L/oBGLyVr5E73qayueDzaRScy9Z13Kr3m+LZepvni3FhzJz+oWK92dY5nR4J4LDrFVr+PS8WrhYrPquMJfm4vK+ZhOjGe4BIlVwsVKV2pPPlkB0sNUM4qYOQK1h1tS5nP106lefsPOwl9arMpcmNR9usTLV7+rbZebepSNxypnB+bzztReebXsRRvVfWSCtEQK83HWTBoLmeRHLBrvfJv/6vaxWJAo4lEjaSkmOr08LGwsoudSPNEfeedlr/1z7uvgkV9rnpqv/tKTKXS9eqMwTE/tqAqlDd1pqzgUnEuwbR/TOt62UC969XyJFcLFUeeUjr3yQ6W3fzY8f5x2UtpKuPp/nGz82P2coqvbunZoSrxuPSwk2AuCTK3UFmfi8rzuV5Kkkvz4+4QpUqupxMJvrahwD+osRcTNQKn3RlWO6MRmkrXkc9VkeiQ1H3RWs2sz5QD1cz+sbdEWfIiTyoESxCPiajHqhJeKZeKcwlW8+PlOrdOjMdlSq4Wtg7S7yrWq/2xDGUbjx3Mj8351VMZz+bHH9+svOfcpn60mK22eH4ctD6CXFpbo2g4TKb1am6VX12Sz5XkLu0fM6IAWz4Ld9RqsdoJMT+uHlRida5Xr+xiJzI8nnPacbXihdr+xn8OxUz9JKrUUfG5in4k7S+WSbLE4z6VVW+B7Pb8uHjAhi92p+n89epV3Syd57NLv6N/8rnszh/nDCfr1aZ47F1+9eY+1mRdreEIRUMtrgVtNz8250aRab06XyCFWTQBa8/8mIh6Qiy59MH9aJyvj1a9t40Bjb2YrLHRGw3Vtyo72iXmx05LepU+C/kCBZvoO+KqPq1yvdp52TK/CTAy+PJhP+Rz2apZwjpjuJtfXVw7ms7QgMZCynLf8po40TF3CiC47XWD7PdnFn9H/+Rz2Z4/dtDO0hxs3O636rYNMdbal5ZtPI5bxuOyFk/zuvX8r9hykRPNZLh7NR+iKsWXpjilxbnqMqDRyUyNSV6fRj31nB0fjbDjae6842okwIrnj33Sd9ySWKwqvgLEB7L2V9dplWhJC+2MQWHkc1mqeeQp42Zhs9Ir1MTSTLcnREndUYunqTQNhJkUnY8rbC3ZQvZPRQJVsa5fnTNIrfX+qQg2BU5xvbL/gVx+/qfBi4daG4+tzzsdiVcediJTi6e5Bes/5oBGp7OciKYzNBR2sRpaaYr10Thf39DC+GCYONWY/r6mn23qq+MxV3bRkXgdn2jDAcrml996PimNZ6k7uLxtn3B8oMufYiWf5zJ55HPZ6NNY9RRrVwubldZ2H4/z4skly/5uZjIuVgulR578U5FAtWlj7Oz8cVk/iVNZkqUptZ0BrcUrmXYtJQ7H+XmxyhtHyuuBzOUsioEQUYCRqlAmTy8lXKlcXVQWjxPU8Ho1mXbKK3xsk/Lec+u4eI52sclkHYUkwyX7x7497CT0qcsX54abO/lEtGQhtv3NnUiWeGw+dV7B1XyH0vfGeIKKmdIDmqOSmeOmIkGyuKjkyFPSN/lcIZt6IAvO9o8XSqpBnsjwUe/q1/uT3Xq1+bATEfWEFutfCrMLZC4GIgyF2akFPpnibnR2Kupd2j8ucHol1eAmkaij13ARZkvdQeoKWpzMtsNKGnX7thiIUHpMaF6XNblaKG3xJPH+8czMzNTUVEseypK5KlsF9+fHi19PlEx2HZbMHI/LVwxEWB9lx9NcFCj20fxYoZxVhWW94Oi8U2ny8FSaVnpXv96fquwfW36sHAyz00tL1ubmx0UipWsy2eLsswq9Sy0BXk7x0S7W2PafiMctjyujXfWlZBfPEfgnldJSaYunZopX+0FpycyMIWE8fuihh84+++yzzz77hhtuaMmALMVUVr3Fk7vz40Dp/Hh5vdrhEWR516sZ0fn97A+znPxUkcB2/9hJPZDyMv0eNpPwLcuWi2LSaRmiRiLLR54si4EIQ2F2KiuKc7k6P15crz4Sb3CxmogGHaxXN2C0q745d/Gy45/WapZKS3TN5xovlukHsZKSmek8Rdrb/Jiaj8dbt27ds2fP7bff3pLR2DF3va6QcfNvVz4/Xj5J7PAIsnTFq0ttHVps9OSfigS2+8cO6oFEyid/Uxkv+636U9iqRfRhq+RqYTi8XBLEbv+Ylkp0TSbJ1YMGvUvrjQ0ncxFRTKUAa32RqZURVleMDwcXcx3889azVFqiK653zv5xJu9izUc7zT7Pq1atask4qjN32ayQNfigax8hwwEmZgy5As0t8GK5Y4dHkCdKtpyls3WQPTHNyeUK4XURxwTN9ALVfAlU1K+ezljsib7KWeZX2y1W0+IRZC6ancZz3FycSxgU69WtriZWIaounldpJmlDYTQYbv08b7TL+nOknchiLTmW9k3qhqXSwy+yr1eXBpqM4UFl+/ZdYpPJ5JEjR2655RbxraZp119/fTRatqik67quWwTeHoXOZEi3TOMhIqKUTqNh0nWbQn/NCRHN6qTrxtE4re6m4ghjQTqZrvFDM3lK6RRVLH8tCbw2Rt94nrK5AmOUL/kd7J6ptjH/9IxOQVbtRUJEQU5pffk+x5P0+iG3XjY+kc/n8/l8IOD0o36IKK5X/k0OnqF13dZ/2yGVTiQX738mS6u7rP+e/SGaSdNkks7S8u69cLoUmsqQrhuH5+iSJp7Zp95JEYuXWFNWhmkuV+P1Wfq2CgcouZDXwzSfpYhS4z96qDsgLs4GEZ3JUHfAv0OtqVuhuezi75LKkcpsX0INXAAVRan5NnQUj7ds2bKwUDkT/O///u+1a9c6H41hGLquz87Oim9VVdV1vVAoe+YKhULFLUIsxOZyVLDrk06U1lk4UO0OzdAUlslTocDHE+zcXlYcYb/KjiZq/NCJBK3tUSx/KSls6KUjcWU2W+gKsNLf1O6Zao+QoizkCxVHuhcMFmQ1ng5NYVlj+T7TGTYcdutl4xOFJQ7vX3y1l954OM6uGOWWjzGksZns4v1nsywatL3b87NUKFBEsb5DS/QEWTxHhQI/mlDWdjf+Ch3RqOWD/MgY5XmNhy19pjSFpXReKFBSZ91B/75Ko0F2cmFxeHGdrdD8O9SaekNsMrU4/pTONGb7Wm3gAshY7RUXR/F4z549nFf+iQcGBuoaTSwW27x581e/+tUq99F1XdMsEkKGunkib2ia7WgXuBENM01z5fhWt1bIJ7mmBSYzhbEY17TFFZnh7sLvZrmmVfvIcyzLx2KF4n+RjkY0Fs0/G1d7QmV/f7tnqj1Ciq6EKl8OBVaIhKj6a6A3zHN8+ReZzubPiQY0myM6nSEQCAQCAedPVrdWyKcqX9UvxPM3vc76D3VWb+GFxOL940Z+uMf6biPdfP+ssaaXqryLm9cXKaQLXNMCLyb1jQOu/qi6OXkGSt9WXaE8DwQ0jWW5EdXcurg1b6i7MJ5efAEkDWNTl3+HWtNApJA6vfi7LJARi9j+Li5dAB29YAcHB1v+g+tSsz5X1qCwa3vvkaWk3BdLkquJHJXMnEjwc+VMri7aOsQeny74agdLVdiC6TSCXuC9tfb8zPvHUhfLdEMkUJaCTkSc6HCcb7DZji0tCWLZ/FhYEaYDc/zK1e5eqaMhFs/xk1nqCTGfpDs0rPhEpPK+zjosLWYcz8nabFGIqayYm+ZqjrCdZt8e+/fv37Zt2y233PL4449v27btn//5n1syrAo163Ol3ewdXewnMZ4oa9PkJL9a6uRq4aJBtmfKL80WBTVg0VLCyXknTVlOHs4VqEB+SVLzD8103umVFB/QbMNbaYun2QXqtz3vRPkCrXEzmYuIekOUzPOGO0n4Sji4mEaa1H1eD2Q5hs3rcp93Kq1/ns7zLunyq8fGxr797W8Xvx0ZGWnyAS2Vlki1lDVcrV/NMgYn02TXSX71eIL+dLXEL1Ai2jrIbnqSXzbio99iqSRI2ZDq7bc4k+ErJC+W6YZIkFXUyzw4R5vtazUPR1ixxVOV46eiLulql7uqiPNOzRx28o9IgDIGJ2L+aeViqbR4YiLHZc+vLtbn8qTHZbM/sKen5+KLL27JUKoTK412fyBXa42GA7SwHI9L5sfh2uvV43FZi4EUXTDAcgXqbvvSTRWWLZCdnD8uPcxzIk2jHnVa9LPSJQThj3N8S5/tsz8UplPL9UBs2wbHVFKVdsyPEzodidNYzEcv18bIUg+ktHjiXE7+eplLEz+J62W2QUxlVY4gt6E+11yOtEDZMxR10E/iWKNFdP0jEqSNMearFTM1YFGiy1F9rpJmCVMZvhKbxybmfhIH5vhm+3gcYBQJUlKnfIECVs2PiwbD5GpxLiLqVVlCF/NjV39OO4QDJEk9kOX6XHGbhpuyiJbvHyMe2+pTac5+Mpp1eX6cyZd1dirqClLSPiRPZahPZTWDhP9tHWS+6sBqOT/WC7Wby5bmc02jOJeViKk+14E5vsk+HhPRcJjNZLld8+Oia9YpG6s+TvNE/erxBJe3Ak9R8YlI+bseSCxUUp9L8vXq3tDy9TxjuJiTZMdPV9mqqqdYZwwKu1cvM0hZo3KxWhAp1narSR2wWC1sG2LH0z46U2i9Xu1gflz6H6fShORqs+K0rOhg1fkxLZboIs5rdJL+2qWup8eoCukFOtIR+8fhYn61b1q5WAoqVOBU4KQwb3owtBAjUhjlCxRUKJN3MSfJjjR/vNJVETNXa42K9erxBJmDq0jpsmtZ0xmf04noE1sUX5XcsV6vNkh18HlWdLJjRNMZvnWoE56d1qro73R6gQKMVd8UHI6wmQwPKax6PG6PriDlC7Zp3hKJLOVX+3x+TES9IZbQSQuQtAePl8VUFtdpQEP/46r6VKpy5MnVz2XivNO41fx4sGqLp4rzUfIKKf762BtqdH5MRNrS6bUTGRrF/NgkHKCFkr/tgVm+pb/GfxmJ0HSmWvPjduoNMUnbjVcobuQnddsVOJ8QLSXikjd3EnqXWjwZnIJtD4/yxOOqLZCd7B02TCTlTlidJK5+BLlj1qv9RlWYVTzmTuJxMcV6Ks1XIr/apHjsVfhjrcVqWtw/rtb8uJ16Q9RB8ZiIKJWn9h+ErUufSvM5ms/J3dxJEC0lHH64bzlp4nGV9WqDV8vqbJ74oDqeoHWmIgPVjyB3zHq134htwgo5w9FnsuL+6FSGkF9tVpFfXT25WhAtnqo0P26n3lDjnY99Rewfc6KCFxO1usRUmstRXJf7sJMQDVE8V+1srav8/TyXKM3iq+BqsUwiCgconaepND+ryzKfy/Y/TnTKerXfqEsnwkvphdrnj2kxbZUT0ckMXxF2Y3Ryq9g/rpnMRUQjEZrJViuW2U5RlTogmYsW+y1SJu/uxa0lxGRpPkdRf6+rOyF+F1cLPlYhTTyusl7tdqFRkXG3souZn6Aq69VZg5I6H8IV3wXW82NnS0xi2pHKkxbw+7TDExXtpf84R07Wq6fTfC7H+3ywf/z+9cobR70fRvPEeSefFwMR+sT+sd4J69WiZGbG4J5kzEhzQepTac5mJpoxXEyuFsIBi+RqqrpebXk+Clqi4fNOtJSddyLNR02rHSAUQ3JSp5TOa57SHo7QTJbmFsgP+8fXjilrO+J9JxIdfF4MRIgt7h93znp12qP1at8/1UtiKps3X4OJiNqx1h8OWq88VymZOZ4gbB67xP68U+3/K/aPUzqtRDEQG2LJujtIB+f55v7ar+GRCJvJ8LmcL847dQyxkZ/K+7qZhBBT2VyODO6LDYsmRVU2n/OmOBdJNj+2W682XD8oFg4wy8lulfVqJFe7p5n5sVgGnMrwlZgf2yimoDtJ5iKiriBlDTqV9cV6dccQteSSuq+bSQjivNN8Tu5imUIsRAmde3L4mDokHrdhfoz1aj9RFev61SGl9h9cBJupDObHtsJByuY5ER2YdRSPiWhFmB2JUz/mx60jVimk2D8W69VxXe5imUJUpfmcKGiBfC57Vc47tWF+3BW0Xnwe0NjprPV/6ZhiID6kBqzrVzuaHwcok+czGT6Mw042ipUaD8zRJmeNkoYj9GLStrkTNCCyuLHCfV6ci5bO7MZz1AH5XOKzhSfFMkmq/ePFsilmmbyLxauFH74psMHqwhQr6V9d4fA8Py/m6qBevazrgRjc0f7x4no1bcSzY6N45OnAXO3iXMJwhOULvE/+5Ur/CAcXDwLIsF7N5nMFRjXqqkohGmJxrFfXpDBijPJWGV2ZPHe7fs2mPma5FMqWTidXyBfo5RRfI3mnRd8KKaQXKj8GOc+vzho0lSbsH9sRKei5Ak1nnHYLHYmQwjohvdY/lvKrJcjnEodf5nO8A+plRlWK57gnzY9JonhM9i2QXW1+XNOgZpFiPZHga3otzitDS1juH+sFR+eJF+NxhmP/2I5IQT80z9dHmcOX8HCYoiFysH0PTkUClDV4Uo75MS3VA/F6KE0Ta+9eNaqSKR6LU+fm272qbSZYpnQdnOcON96gAZb9JETXpprE5ijmx1WImZnD5GphRZghubq1IkHK5imlU7cXiUV1ETOlTqmXyZbOHyOfq6qYTUmQNuRzVWEZj1+Yp419Xozm1cGcz1VwXMM8HGDZPM3m+IAPii37k1hCOOCgMlfRSMQXxUA6SYBRnlMqz/2/Xh0NUaJjzjuJ+lxuNvCtQqZ43KcyyyNPWYPC3i0ND1itV78wxzdifuwazVQPxHk/lkiQjqd5n+p0JfZVSJT4PjjHNzv+TDnS1Qm5PH4TYDSfk2C9WiT3zC50wnmnriCldM/2QOWKx75crw5bzo8Rj11krgeSc9xwMxygF5PYPK5GzI//6PjwMRFdNsy+dqnv+x7IJhKkU1kJ4jERRUMsz11settO4QDNLmD/uJaYTUmQtEdrC0K/anEE+eAc3+j4Wgb1Cpn6SeQM0pytkYQDNJEgFK+uQhwZmEhw542EtQBdOIg/aYtpCju9wP1fD4SIYmonFMsUelU2lXH9zI4lmeKxXYunrLf51WGaLZ+1n1mgkMI6YOnGt7QAWyhfr9Ydz48jAZpM8mHMj+2FA3Rgjp/dzTpjuiOvxfmxDFeSPq0TNo+FWIimM1ivriWmMsv1aq/ObgvmfK4X5vkmJHO5yTw/XjC4w/1jLUDpPI12uTGuDhEO0DOn+RYHnSTAVeEAncpSjwzr1bFQJyRXC1GVptKol1mLXQlrb+fHAxqrjMdz3LKYF7SKptBCeT0Qh8UyiRaPMYygWKa9cJDtP11HMhe4JBKk0wsS1MskopjaOSuCMZWmM97sgcrw0WuJOHVuls5TxMv8ajqTLYsNOHzsNov944KjZotEFA4QEZpJVKMpNJ+r47ATuEQUSpNjfqxS1uiQF0w0xHIFjnyuGvpUZnP+2Jva34LFevUcbcK1zE3m/sfOzzstxWM8QbbEnwjx2HNiitYtQz5Xn9oJzSQE8Yugn0QN1c47ebl/zE6Xx+OD8xy9Clxlcd7JqDMeY//YXjhICiPsuXguHGBEXJL5MUsb1p11pCM2wj2ZH8vwVC+xO++UNSjs3e9R8SkhX6DjKadV+KEx5nhcR351kAj7x1VFArS2h3lyPYJSkSAFGGkynOt+w2tz3gIAABXxSURBVEo2m+uQ91Q0xIi8qTEl03vOrj6Xt/NjhVFIETXCiIjGE3xtr3UzKGgV6/Vqx/vH3UHq7ZTcEzdEguSwzSK4KhyQoLmTcNlI51zyMD92JGa3Xu1pfjUtlcw8q4sRKnO1hU19Lkd/9n6NvXEUT1A1b1ulXDiAP5H3IkEJmkl0nsX9Y9QDqU4LUK5A5oCcyXtzVqxosKRk5sE5wuFjt4UUZqrPxR0u60VD9NDbZPoY2n6RIK3tRRjwnkTz404SDZGqOGre2nIyxWMi6g1R0tQCOWN4WS+TylOsMT9uA8v5scN8LgBZiL0VaLOoyrxacJXsGhZT2Zxpybq4d+uV0hZPB+c4Dju5TQ1QrjyZE/EYOk84wKQoBtJhYiFvNo9JunjcZ9UCucDJ2/yp0vnxoXkU53KdplDD9asBZBEJYn7sgZjqWYEpya5hfaYSXX6YGBXj8ekFUgMMubtuCyqUL18lyRmIx9BpIgGSorlThzmnh331Em+uJpJdwwY0NlNenNLb5sfCgMZEycwX5lAJxBvO61cDyAL7x54IKXT1WsRjB7YOsadOlsdjw8vi1UJxfoxkrrYJMCrdQXZ+/hhAFhcOsreuwvXkVUSyeHzpCvbkTMX82Mvi1UKxxROSudpGVcpKgiwYpKIIC3SWi4fYB8Yku0RDMyR7si8eYvvP8HzJWZeM4WVxLmFAI5Ff/cI8YX7cHmqg7MgT5scAIDvJ4nEkSOt72fNzy1Nkf+wfU8n82OPBvEqoCiuNx3qBY/8YAKQm3zXs0mG2b6Y8Hns9MRItnvQCTWX46m7Mj9shpJQdQc7hvBMASE6+a9glw2VbyBmDIl6XeO3XaG6Bjyf42h50kmiTihJdyK8GANnJdw0zzY+9z+cKMAoo9OwZJHO1jxqg0hLWOQP7xwAgN/ni8ViUzS7wYj0sP+RzEdGAxvZO4/Bx+1TMj/1QFgYAoBlSXsO2rWC/WTqF7Id8LiIa0GjvDN+I+XG7VLRARjwGANlJeQ27dFgpbiF73kxCGNDomdMoBtI+qkIL5fvHyOcCAKlJeQ27ZAXbN7N4MU77IL+aiAY0ljNw+Lh9VKVs/3jBINXrMm0AAM2QMx4Ps6dO8gIn8kd+NRENaLSqm6F5eNuoAVa6Xo38agCQnZTXsN4QjXaxQ/OcRH61L+bHhGSudjLlc6EeCADITdZr2KXD7MmTnIiyhi/yuYbCbDOSudpIVShXKKkHgn6LACA5H4SyhohTyB86zy/nnT68QSmdroHbLPKrffAyAABomKxzimJVEJ+cd+oN0aDm9SBeTXD+GAA6jKzXsC397OUUT+p+mR9Dm4VQLxMAOous1zBGtHWQPX2KZ/K+yK+GNqvof4x6mQAgO1njMS0tWfskvxrarLJ+NebHACA5ia9hlwwrT87wjD/yq6HNrPaPsUwCABKTOB5fOsz2zhR8ks8FbRZSWA79nQCggzQbyhKJxKOPPnro0KGhoaH3vve9/f39LRmWE4MaRVV2OM79UL8a2kwLUCa//K1e4Dh/DABSa/Ya9rGPfeyHP/xhoVDYvXv3a17zmhMnTrRkWA5duoLN56gL+VyvPiGF9NJ6INg/BgDJNTs//td//ddwOCy+fvOb33zffff95V/+ZdOjcuqSYXb3EZx3ejVSTeedMD8GAKk1ew0rBmMiisfjfX19TT5gXS4dZkTYP341qojHAACycxTKjh8/ns/nK24cGRnRtOWSVHfccUc6nd65c6fdg0xPT+/bt+/yyy8X34ZCodtvv/2ss84qvU8qlXI6cCIiWqfS5piaSydzdf03aFq9z1TLcV1JZpVkMkNEBU6M1GQy6e2Q/Cm/xOuBQG2ev63AoQaeqWAwWDp9tb6Pkwf60Ic+ZN4Y/v73v3/RRReJrx944IEvf/nLv/zlL0sjdIXBwcGxsbHPf/7z4ltFUdatWxcMVg6gp6fHyZCK/riTiNS6/gu0RL3PVGv1dhVojvf0hIkokyctoHs7Ht8SwbjmhQB8Ai9jWbjxTDmKx4899liVf33ooYc+/elP//znP1+/fn21nxQMDg0NveUtb6lvgABWSutz6RzJXAAgvWa3Xh999NEbb7zx4Ycf3rx5c0sGBOCEGljeP84ZpAaQYw8Acmt2WnHHHXekUqkdO3YMDAwMDAx88YtfbMmwAKpTS+qB5Aoc82MAkF2z8+N77723JeMAqEtIoZyxeP44Z2C9GgCkh8sYSKn0vFOugGKZACA9xGOQUml/pxyKgQCA/HAZAymVzo91FMsEAPnhMgZSUgPL552wfwwAHQCXMZAS9o8BoMMgHoOUKuOxgvPHACA3xGOQkhpgpevVyOcCANnhMgZSKs/n4livBgDZIR6DlFSFcoWleiDIrwYA+eEyBlIqy69GPAYA+eEyBlIKKRX9JDwdDQBA0xCPQUqMiC99jfkxAHQAXMZAVgqR2EFGvUwA6AC4jIGsiiWsUS8TADoALmMgq+KRp5xBIdQDAQDJIR6DrFSFLcZj1MsEAPkhHoOsikee9ALHejUAyA6XMZBVsSQI8qsBoAPgMgayUpXF+THOHwNAB0A8BlmpASruH+O8EwDIDpcxkFUxvxrnnQCgA+AyBrJaXq9GPAYA+eEyBrJaXq/G/jEAyA/xGGRVbCmRK5CKeiAAIDnEY5CVqjB9OR57PRoAgObgMgayUgOUMzgR5QyO/GoAkB0uYyCrsvxq7B8DgOQQj0FWatn+sdejAQBoDi5jIKti/WrEYwDoALiMgaxK+y1ivRoAZId4DLLCejUAdBJcxkBWJf0WUb8aAKSHyxjIKqQw1AMBgI6BeAyywv4xAHQSxGOQlaqQXuBElCtw7B8DgOxwGQNZLZ93MpDPBQDSw2UMZFXsJ5HnFMQLGQAkh8sYyKq4fwwA0AEQj0FWqkJ6gQxOAeRWA4D8EI9BVmL/GJvHANAZcCUDWYn16hyaOwFAR0A8BlmpChPxOIRiIAAgP8RjkJVYr9Zx+BgAOgKuZCArVaFcgWP/GAA6A65kICtVoZyB/WMA6BCIxyArNbCUz4VXMQDID1cykNVifjWaSQBAR0A8BlkV16tDSK8GAPkhHoOsRP1qHfvHANAREI9BViX7x5ggA4D0EI9BVqrCdOwfA0CnQDwGWakByhk8h3ogANARcCUDWS3Xr8arGADkhysZyEpdyucK4VUMAPLDlQxkpTAqcOwfA0CHQDwGiTHCejUAdAhcyUBiIYWSOuIxAHQCXMlAYmqAknmsVwNAJ0A8BompCkvpPIR6IAAgv2CT///++++/5557Tp06NTo6+slPfvKSSy5pybAAnFAVSuapT/N6HAAATWs2HhuG8YEPfGB0dHTv3r1XXHHFs88+u3bt2lYMDKC2kEIp7B8DQEdoNh7v3LlTfHHxxRd/5zvfee655xCPoW0W948RjwFAfs3GYyI6ceLEiy++uG/fvnw+v2PHjuYfEMAhVaGkztUA9o8B/GJhYeGiiy7KZrNeD6T1GGP/9V//tXHjRpcev3Y8TqfT9957r/n26667jjFGRHv37r3rrrv2799/7bXX9vT02D3OK6+88sgjj/T394tvFUXZs2fPOeecU3qfVCpV3/DBIz55pgI8FF8gruvJpOH1WHwqv8TrgUBtPnlbNSkej58+ffrAgQNeD6T13v3udx87dmzVqlUNPFPBYDAcDte4T81HyeVyTz31lPn26667Tnxx9dVXX3311QsLC5deeunmzZs/+MEPWj7OqlWr3v72t//0pz+t/uOqRHTwFT88UxE1P5+j3kiopwdr1tZEMK55IQCf8MPbqkmGYSiKUpx6dRJVVSORiHiO3Himasfjvr6+22+/vebdNE07//zzJycnWzEqAEdUhZI66lcDQCdodv/4tttu2759eywW27t374MPPvjZz362JcMCcEJVKJXnqAcCAB2g2XicTCZvvvnmVCp17rnnPvTQQxdddFFLhgXghBpgSZ2rqAcCAPJrNh5/4QtfaMk4ABqgKpTCeScA6Ai4koHEVIUKHPWrAaATIB6DxEQkxvwYAFpC1/Xx8fFMJuPJT8eVDCQmIjHyqwGgeTt37uzr69uwYcPu3bs9GQCuZCAxEYkxPwYA57LZbGlBj0wmk06nieiLX/ziyZMnN23a5NXAcCUDiYlIjP1jAHDuqaee2rZtG+dcfHvVVVc98MADRHT++ed3dXV5OLAW1K8G8Ar2jwGkcDTO753gnvzo94+x1d1lRyLf8IY3hEKhxx9/fPv27RMTE88888xPfvITT8ZWAVcykBjWqwGkUPAmFtv+6I9//ON33HEHEX33u9+97rrrfFJQFvNjkJioBIL+TgA+d16M/d/X+eh9et11133pS1+amZn53ve+99hjj3k9nEWYWYDExHo18qsBoC69vb1XX331rl27NmzYsGXLFq+HswhXMpCYivVqAGjIjTfe+Ktf/epjH/tY8ZbPfe5z27ZtGx8f/9SnPrVt27aZmZk2Dwnr1SAxxGMAaIymaSMjI+9+97uLt3z2s5/9i7/4i+K3AwMDbR4S4jFITA2QwiiIeAwA9XjggQduu+22z3zmM5qmFW8cGRnxcEiEeAxSUxVsHgNA3Z5//vnrr7/++uuv93ogZRCPQWKqgsVqAKjb3/7t33o9BAu4mIHE1ADiMQB0CFzMQGKqwlAsEwA6A+IxSExVFkuCAADIDvvHILGQgmYSAL5TKBRmZ2e9HkXr6bru6uMjHoPE1ACFMD0G8BNN00Kh0Pr1670eSOupqjo4OOje4yMeg8RUzI8BfCYcDh87dszrUUgJ+8cgsX6NhnzRlwUAoFmIxyCxdb3ssT/FGg8AdALEYwAAAO8hHgMAAHgP8RgAAMB7iMcAAADeQzwGAADwno/icaFQ+O53v+v1KMCRBx54YGZmxutRQG0HDx789a9/7fUooDZcACVy//33nzx5suUP66N4nE6nb7nlFq9HAY784Ac/OHDggNejgNr27t374IMPej0KqC2ZTH7lK1/xehTgyPe///0XXnih5Q/ro3gMAADwqoV4DAAA4L221jbK5/NVmn6kUinOeUd2Bek8uq4nEgk8Wf6XSqUWFhbwTPlfIpHo1LZInaeBC6CmaV1dXdXvwzjnzQ3MqYceemjnzp2RSKTKfZLJZE9PT3vGA81Ip9OapgUCaObgd7quG4YRDqPMtwRwAZRFAxfAnp6e5557LhaLVblP++IxAAAA2MH+MQAAgPcQjwEAALyHeAwAAOA9xGMAAADvIR4DAAB4r63nj6vgnP/nf/7noUOH/uRP/uTyyy/3ejhQJp/P/8///M9zzz0XiUTe+c53nnXWWeL2n/zkJ7lcTnx9/vnnb9682bsxwqL77ruvUCiIry+88MLzzjtPfL13797du3evWbNm586dOKjmB4888kgikSh+K95Br7zyyhNPPFG88V3vepemaV6MDmhubu63v/3tmTNn3vve9zLGirf/7Gc/e+6551772te+4x3vKN74+9///tFHHx0eHt61a1fDT5lf5sef+cxn/vEf/5Ex9vGPf/zrX/+618OBMl/+8pf//u///tSpU/v379+yZcv+/fvF7X/+53/+05/+9Be/+MUvfvGLF1980dMxwqL3v//9Dz/8sHhSjh07Jm7893//9/e9731E9K1vfeuDH/ygpwOERU888cQvllx77bXPPvssEf3mN7+56aabircXP+9Cm01PT59zzjk333zzNddcU3oq+Etf+tLnPvc5xtjNN9/8d3/3d+LGRx999K1vfauu6/fee++VV17Z+E/lPjA1NdXd3T09Pc05f/rpp1euXJnL5bweFCwTpdOET3ziE5/85CfF1wMDA8ePH/doUGBNVdV4PF56S6FQ2Lhx48MPP8w5TyaTsVjs0KFDHo0OLOzbt29gYCCTyXDO77///ne84x1ejwi4YRiGYbz88stEZBiGuDGRSESj0cOHD3POjx49Go1GE4kE53zHjh133XUX51zX9TVr1uzZs6exH+qL+fGTTz65adOm4eFhIrr44otzudyhQ4e8HhQsKy3zlk6ne3t7i99+4xvf+MpXvrJv3z4vxgXWbr311n/6p3/67W9/K76dmZk5fPiw2Abq7u5+/etfv2fPHk8HCGXuvPPOa6+9tlhDbXJy8gtf+MI3v/nNU6dOeTuwVzNFURSlMj7u379/cHBwbGyMiNatWzc8PPzMM88YhvH4449fccUVRBQMBt/0pjft3r27wR/a5KBbYmpqamhoqPjtihUrTpw44eF4wM6ePXsefPDBT33qU+Lbq666anBwMJ1OX3XVVV/72te8HRsI11xzTV9f39zc3Nve9jbRT3dqaioWi6mqKu4wPDyM95d/ZDKZe+6558Mf/rD4dnBw8IorrhgYGHjiiSe2bNmCbSBfmZqaWrFiRfFbEapOnTplGEYxhA0PD09NTTX2+L7I54pEIqXbJNlstmbdbWi//fv379q165577inmc915553ii7e85S3vete7Pv3pT5dmPYAn7r77bvHF9u3bP/rRj37kIx+JRCILCwvFO+D95Ss//vGP169ff+GFF4pvd+zYsWPHDvH1hz70oa9//eu33Xabd6ODMpZvJdGUIZfLiTSuZt5fvpgfr169emJiQnydyWTERrq3Q4IKf/jDH975znfeeeedb3rTm8z/unHjxng8nslk2j8wsLNx48ZTp04VCoWzzjprYWFhenpa3D4xMYH3l3/ceeedN9xwg+U/bdq0qfisgR+sXr16cnLSMAwiMgxjcnLynHPOiUajsVisGMImJiZWr17d2OP7Ih5v3749n88/8sgjRHTXXXdt27bt7LPP9npQsOzQoUNXXnnlv/zLv7z97W8v3jg9PS2WZQzDuPXWWy+++GLMujz3yiuvnDx5koh0Xb/tttsuu+wyRVF6enr+7M/+7Fvf+hYRPfXUU0eOHCl9HsFDhw4devrpp3ft2lW85fnnn9d1nYiOHz9+9913b9++3bvRQaULLrhgdHT0Rz/6ERHdc889IyMjF1xwARHt2rXrm9/8JhEdPnx49+7d73nPexr8Aa3JRWvaY489tmrVqrGxsQ0bNjz77LNeDwfKfP7zn+8v8b73vY9zvm/fvuHh4VWrVg0ODm7fvv3AgQNeDxP4L3/5y6GhobPPPntgYODyyy8/evSouP3IkSMXXHDB+vXrV65ced9993k7SCj6h3/4hxtuuKH0lptuuikaja5Zs6avr++v/uqvipm90H5r164tXvQuueQScePevXvXrl07Nja2du3avXv3ihunpqYuu+yyNWvWrFix4jvf+U7DP9FH/RYNw4jH4319fdiDlMj8/HwkEinmCoEfzM3NdXV1mZ+Uubm5np6eYNAXWSNgR9f1ZDLZ39/v9UDAWqFQmJ+fj8ViFQnYzV8MfRSPAQAAXrV8sX8MAADwKod4DAAA4D3EYwAAAO8hHgMAAHgP8RgAAMB7iMcAAADeQzwGAADwHuIxAACA9xCPAQAAvId4DAAA4D3EYwAAAO/9f1uJc450nSZhAAAAAElFTkSuQmCC\" />"
            ]
          }
        }
      ],
      "source": [
        "n = 100\n",
        "ep = randn(n)\n",
        "plot(1:n, ep)"
      ],
      "id": "2f943c1f"
    },
    {
      "cell_type": "markdown",
      "metadata": {},
      "source": [
        "## Loops"
      ],
      "id": "1372b84f-1e7f-4295-98c1-78fa2c045964"
    },
    {
      "cell_type": "code",
      "execution_count": 3,
      "metadata": {},
      "outputs": [
        {
          "output_type": "stream",
          "name": "stdout",
          "text": [
            "[1.281063922121425, 1.678642699765059, 1.6661742885334783, -1.5561466098764933, 0.12104794749142732]"
          ]
        }
      ],
      "source": [
        "n = 100\n",
        "ep = zeros(n)\n",
        "for i in 1:n\n",
        "    ep[i] = randn()\n",
        "end\n",
        "println(ep[1:5])"
      ],
      "id": "b83a62ad"
    },
    {
      "cell_type": "markdown",
      "metadata": {},
      "source": [
        "## Comprehensions"
      ],
      "id": "c5a3e7b8-a874-4a90-a2f8-c953c06ef470"
    },
    {
      "cell_type": "code",
      "execution_count": 4,
      "metadata": {},
      "outputs": [
        {
          "output_type": "stream",
          "name": "stdout",
          "text": [
            "[2i for i = 1:4] = [2, 4, 6, 8]"
          ]
        },
        {
          "output_type": "display_data",
          "metadata": {},
          "data": {
            "text/plain": [
              "4-element Vector{Int64}:\n",
              " 2\n",
              " 4\n",
              " 6\n",
              " 8"
            ]
          }
        }
      ],
      "source": [
        "# Comprehensions\n",
        "@show [2 * i for i in 1:4]"
      ],
      "id": "f32a23ff"
    },
    {
      "cell_type": "markdown",
      "metadata": {},
      "source": [
        "## Manually Calculated Mean"
      ],
      "id": "3223c918-d267-4b70-8ed7-ce141a0dbe89"
    },
    {
      "cell_type": "code",
      "execution_count": 5,
      "metadata": {},
      "outputs": [
        {
          "output_type": "stream",
          "name": "stdout",
          "text": [
            "ep_mean = ep_sum / length(ep) = 0.09342235997220842\n",
            "ep_mean = 0.09342235997220842\n",
            "sum(ep) / length(ep) = 0.09342235997220844\n",
            "sum((e for e = ep)) / length(ep) = 0.09342235997220842"
          ]
        }
      ],
      "source": [
        "ep_sum = 0.0 # careful to use 0.0 here, instead of 0\n",
        "for ep_val in ep\n",
        "    ep_sum = ep_sum + ep_val\n",
        "end\n",
        "@show ep_mean = ep_sum / length(ep)\n",
        "ep_mean ≈ mean(ep)\n",
        "@show ep_mean\n",
        "@show sum(ep) / length(ep)\n",
        "@show sum(e for e in ep) / length(ep); # generator/comprehension"
      ],
      "id": "dbd8f2f5"
    },
    {
      "cell_type": "markdown",
      "metadata": {},
      "source": [
        "## Functions"
      ],
      "id": "ac69103e-71aa-4750-8578-0cf3d78285f2"
    },
    {
      "cell_type": "code",
      "execution_count": 6,
      "metadata": {},
      "outputs": [
        {
          "output_type": "stream",
          "name": "stdout",
          "text": [
            "[1.1242102350567595, 1.7095567815689603, 0.2865712491491993, 2.7192238670655864, 0.5185080067521222]"
          ]
        }
      ],
      "source": [
        "function generatedata(n)\n",
        "    ep = randn(n) # use built in function\n",
        "    for i in eachindex(ep) # or i in 1:length(ep)\n",
        "        ep[i] = ep[i]^2 # squaring the result\n",
        "    end\n",
        "    return ep\n",
        "end\n",
        "data = generatedata(5)\n",
        "println(data)"
      ],
      "id": "a247bcdf"
    },
    {
      "cell_type": "markdown",
      "metadata": {},
      "source": [
        "## Broadcasting"
      ],
      "id": "a36f90aa-cfd4-4699-8979-ce146adb1cf0"
    },
    {
      "cell_type": "code",
      "execution_count": 7,
      "metadata": {},
      "outputs": [
        {
          "output_type": "stream",
          "name": "stdout",
          "text": [
            "generatedata(5) = [0.08872410793395168, 0.38677173609528404, 0.07223492028821682, 0.02901265923064836, 0.010536276333221796]\n",
            "generatedata2(5) = [1.7980842492416973, 0.5323756698802613, 4.251672120670615, 0.04472630932198145, 0.42296857914228403]"
          ]
        }
      ],
      "source": [
        "function generatedata(n)\n",
        "    ep = randn(n) # use built in function\n",
        "    return ep .^ 2\n",
        "end\n",
        "@show generatedata(5)\n",
        "generatedata2(n) = randn(n) .^ 2\n",
        "@show generatedata2(5);"
      ],
      "id": "13b31c81"
    },
    {
      "cell_type": "markdown",
      "metadata": {},
      "source": [
        "## Higher Order Functions"
      ],
      "id": "fc797157-b2c5-4905-bb0b-dbfc6b2c1deb"
    },
    {
      "cell_type": "code",
      "execution_count": 8,
      "metadata": {},
      "outputs": [
        {
          "output_type": "stream",
          "name": "stdout",
          "text": [
            "generatedata3(5, f) = [0.5570319584525302, 0.043172346516699225, 0.08916613643236507, 0.09464003455302845, 0.16869414597424862]"
          ]
        }
      ],
      "source": [
        "generatedata3(n, gen) = gen.(randn(n)) # broadcasts on gen\n",
        "f(x) = x^2 # simple square function\n",
        "@show generatedata3(5, f); # applies f"
      ],
      "id": "1edc5ee4"
    },
    {
      "cell_type": "markdown",
      "metadata": {},
      "source": [
        "## More Plotting Examples"
      ],
      "id": "61223a55-f625-46d0-a40d-baeb5431cc7c"
    },
    {
      "cell_type": "code",
      "execution_count": 9,
      "metadata": {
        "output-location": "column"
      },
      "outputs": [
        {
          "output_type": "display_data",
          "metadata": {},
          "data": {
            "text/html": [
              "<img src=\"data:image/png;base64,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\" />"
            ]
          }
        }
      ],
      "source": [
        "using Distributions\n",
        "function plothistogram(distribution, n)\n",
        "    # n draws from distribution\n",
        "    ep = rand(distribution, n) \n",
        "    return histogram(ep)\n",
        "end\n",
        "lp = Laplace()\n",
        "plothistogram(lp, 500)"
      ],
      "id": "81b9ff09"
    },
    {
      "cell_type": "markdown",
      "metadata": {},
      "source": [
        "## Ranges"
      ],
      "id": "342630d9-da1d-4a82-b31e-f59a7a337541"
    },
    {
      "cell_type": "code",
      "execution_count": 10,
      "metadata": {
        "output-location": "column"
      },
      "outputs": [
        {
          "output_type": "stream",
          "name": "stdout",
          "text": [
            "x = 0.0:0.25:1.0\n",
            "Vector(x) = [0.0, 0.25, 0.5, 0.75, 1.0]"
          ]
        },
        {
          "output_type": "display_data",
          "metadata": {},
          "data": {
            "text/html": [
              "<img src=\"data:image/png;base64,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\" />"
            ]
          }
        }
      ],
      "source": [
        "x = range(0.0, 1.0; length = 5)\n",
        "@show x\n",
        "@show Vector(x)\n",
        "plot(x, sqrt.(x))"
      ],
      "id": "16f44bc9"
    },
    {
      "cell_type": "markdown",
      "metadata": {},
      "source": [
        "## Defining Functions"
      ],
      "id": "489cbf81-3e87-47a2-9127-2e4e7864e829"
    },
    {
      "cell_type": "code",
      "execution_count": 11,
      "metadata": {},
      "outputs": [
        {
          "output_type": "stream",
          "name": "stdout",
          "text": [
            "(f(2), f2(2), f3(2)) = (4, 4, 4)"
          ]
        }
      ],
      "source": [
        "f(x) = x^2\n",
        "function f2(x)\n",
        "    return x^2\n",
        "end\n",
        "f3 = x -> x^2 # assignment not required\n",
        "@show f(2), f2(2), f3(2);"
      ],
      "id": "d10dcf49"
    },
    {
      "cell_type": "markdown",
      "metadata": {},
      "source": [
        "## Default Arguments"
      ],
      "id": "b6790515-5358-4a5e-81a7-2ee97ebfc6f3"
    },
    {
      "cell_type": "code",
      "execution_count": 12,
      "metadata": {},
      "outputs": [
        {
          "output_type": "stream",
          "name": "stdout",
          "text": [
            "f(pi) = 0.36787944117144233\n",
            "f(pi, 2) = 2.718281828459045"
          ]
        }
      ],
      "source": [
        "f(x, a = 1) = exp(cos(a * x))\n",
        "@show f(pi)\n",
        "@show f(pi, 2);"
      ],
      "id": "dac405d9"
    },
    {
      "cell_type": "markdown",
      "metadata": {},
      "source": [
        "## Keyword Arguments"
      ],
      "id": "286e5e3c-43d3-4150-b9da-df88b1c05fe5"
    },
    {
      "cell_type": "code",
      "execution_count": 13,
      "metadata": {},
      "outputs": [
        {
          "output_type": "stream",
          "name": "stdout",
          "text": [
            "f(pi) = 0.36787944117144233\n",
            "f(pi; a = 2) = 2.718281828459045\n",
            "f(pi; a) = 2.718281828459045"
          ]
        }
      ],
      "source": [
        "f(x; a = 1) = exp(cos(a * x))  # note the ; in the definition\n",
        "@show f(pi)\n",
        "@show f(pi; a = 2)\n",
        "a = 2\n",
        "@show f(pi; a); # equivalent to f(pi; a = a)"
      ],
      "id": "5f41b432"
    },
    {
      "cell_type": "markdown",
      "metadata": {},
      "source": [
        "## Closures\n",
        "\n",
        "-   In general, try to avoid globals and closures outside of functions"
      ],
      "id": "6d605427-ab19-4830-a270-2160c5d68bfe"
    },
    {
      "cell_type": "code",
      "execution_count": 14,
      "metadata": {},
      "outputs": [
        {
          "output_type": "stream",
          "name": "stdout",
          "text": [
            "f(1) = 0.2"
          ]
        }
      ],
      "source": [
        "a = 0.2\n",
        "f(x) = a * x^2  # refers to the `a` in the outer scope\n",
        "@show f(1);"
      ],
      "id": "54b57690"
    },
    {
      "cell_type": "markdown",
      "metadata": {},
      "source": [
        "## Closures Inside Functions\n",
        "\n",
        "-   But within a function they are safe and common"
      ],
      "id": "1ef7e51a-e776-4f52-b60e-f053e4604e62"
    },
    {
      "cell_type": "code",
      "execution_count": 15,
      "metadata": {},
      "outputs": [
        {
          "output_type": "stream",
          "name": "stdout",
          "text": [
            "g(0.2) = 0.2"
          ]
        }
      ],
      "source": [
        "function g(a)\n",
        "    f(x) = a * x^2  # refers to the `a` passed in the function\n",
        "    return f(1)\n",
        "end\n",
        "@show g(0.2);"
      ],
      "id": "c3eb7b8a"
    },
    {
      "cell_type": "markdown",
      "metadata": {},
      "source": [
        "## Tuples and Named Tuples"
      ],
      "id": "97c9de50-82a8-4301-b560-0d89d1de9164"
    },
    {
      "cell_type": "code",
      "execution_count": 16,
      "metadata": {},
      "outputs": [
        {
          "output_type": "stream",
          "name": "stdout",
          "text": [
            "t[1] = 1\n",
            "nt = (a = 1, b = 2.0, c = \"hello\")\n",
            "nt.a = 1"
          ]
        }
      ],
      "source": [
        "t = (1, 2.0, \"hello\")\n",
        "@show t[1]\n",
        "nt = (a = 1, b = 2.0, c = \"hello\")\n",
        "@show nt\n",
        "@show nt.a;"
      ],
      "id": "bb0fac7b"
    },
    {
      "cell_type": "markdown",
      "metadata": {},
      "source": [
        "## Tuples Packing and Unpacking"
      ],
      "id": "79ebbab2-98d4-43b7-af48-828374fda490"
    },
    {
      "cell_type": "code",
      "execution_count": 17,
      "metadata": {},
      "outputs": [
        {
          "output_type": "stream",
          "name": "stdout",
          "text": [
            "solve_model(0.1) = (a = 0.010000000000000002, b = 0.020000000000000004, c = 0.030000000000000006)\n",
            "a = 0.010000000000000002, b = 0.020000000000000004, c = 0.030000000000000006"
          ]
        }
      ],
      "source": [
        "function solve_model(x)\n",
        "    a = x^2\n",
        "    b = 2 * a\n",
        "    c = a + b\n",
        "    return (; a, b, c)  # note local scope of tuples!\n",
        "end\n",
        "@show solve_model(0.1)\n",
        "(; a, b, c) = solve_model(0.1)\n",
        "println(\"a = $a, b = $b, c = $c\");"
      ],
      "id": "b1dd0853"
    },
    {
      "cell_type": "markdown",
      "metadata": {},
      "source": [
        "## Array Basics"
      ],
      "id": "dbe48067-5f3c-429e-8bf0-43b65fc62c5f"
    },
    {
      "cell_type": "code",
      "execution_count": 18,
      "metadata": {
        "output-location": "column"
      },
      "outputs": [
        {
          "output_type": "stream",
          "name": "stdout",
          "text": [
            "size(b) = (3,)\n",
            "size(A) = (2, 2)\n",
            "typeof(b) = Vector{Float64}\n",
            "typeof(A) = Matrix{Int64}\n",
            "zeros(3) = [0.0, 0.0, 0.0]\n",
            "ones(2, 2) = [1.0 1.0; 1.0 1.0]\n",
            "fill(1.0, 2, 2) = [1.0 1.0; 1.0 1.0]\n",
            "similar(A) = [0 5786495128; 5072671872 32]\n",
            "A[1, 1] = 1\n",
            "A[1, :] = [1, 2]\n",
            "A[1:end, 1] = [1, 3]"
          ]
        }
      ],
      "source": [
        "b = [1.0, 2.1, 3.0] # 1d array\n",
        "A = [1 2; 3 4] # 2x2 matrix\n",
        "@show size(b)\n",
        "@show size(A)\n",
        "@show typeof(b)\n",
        "@show typeof(A)\n",
        "@show zeros(3)\n",
        "@show ones(2, 2)\n",
        "@show fill(1.0, 2, 2)\n",
        "@show similar(A)\n",
        "@show A[1, 1]\n",
        "@show A[1, :]\n",
        "@show A[1:end, 1];"
      ],
      "id": "7788c092"
    },
    {
      "cell_type": "markdown",
      "metadata": {},
      "source": [
        "## Linear Algebra Basics"
      ],
      "id": "62375589-1d85-4d6a-82d2-a45941909d59"
    },
    {
      "cell_type": "code",
      "execution_count": 19,
      "metadata": {
        "output-location": "column"
      },
      "outputs": [
        {
          "output_type": "stream",
          "name": "stdout",
          "text": [
            "A * b = [5, 11]\n",
            "A' = [1 3; 2 4]\n",
            "dot(b, [5.0, 2.0]) = 9.0\n",
            "b' * b = 5\n",
            "Diagonal([1.0, 2.0]) = [1.0 0.0; 0.0 2.0]\n",
            "I = UniformScaling{Bool}(true)\n",
            "inv(A) = [-1.9999999999999996 0.9999999999999998; 1.4999999999999998 -0.4999999999999999]"
          ]
        }
      ],
      "source": [
        "A = [1 2; 3 4]\n",
        "b = [1, 2]\n",
        "@show A * b # Matrix product\n",
        "@show A' # transpose\n",
        "@show dot(b, [5.0, 2.0]) # dot product\n",
        "@show b' * b # dot product\n",
        "@show Diagonal([1.0, 2.0]) # diagonal matrix\n",
        "@show I # identity matrix\n",
        "@show inv(A); # inverse"
      ],
      "id": "d3ec2682"
    },
    {
      "cell_type": "markdown",
      "metadata": {},
      "source": [
        "## Modifying Vectors\n",
        "\n",
        "-   Scalars and tuples/named tuples are immutable\n",
        "-   Vectors and matrices are mutable"
      ],
      "id": "0de185a9-d210-40a6-ac0b-6845919fca3f"
    },
    {
      "cell_type": "code",
      "execution_count": 20,
      "metadata": {
        "output-location": "column"
      },
      "outputs": [
        {
          "output_type": "stream",
          "name": "stdout",
          "text": [
            "A = [2 2; 3 4]\n",
            "b = [2, 2]\n",
            "b = [3, 4]\n",
            "A = [3 4; 3 4]"
          ]
        }
      ],
      "source": [
        "A = [1 2; 3 4]\n",
        "A[1, 1] = 2\n",
        "@show A\n",
        "b = [1, 2]\n",
        "b[1] = 2\n",
        "@show b\n",
        "b .= [3, 4] # otherwise just renamed\n",
        "@show b\n",
        "A[1, :] .= [3, 4] # assign slice\n",
        "@show A;"
      ],
      "id": "3520384b"
    },
    {
      "cell_type": "markdown",
      "metadata": {},
      "source": [
        "## Learning More\n",
        "\n",
        "-   After this, most of the other material on Julia will become clear as\n",
        "    you go\n",
        "-   This covers part of [Julia\n",
        "    Essentials](https://julia.quantecon.org/getting_started_julia/julia_essentials.html)\n",
        "    and [Fundamental\n",
        "    Types](https://julia.quantecon.org/getting_started_julia/fundamental_types.html)\n",
        "-   Other more advanced lectures, not required for this course, are\n",
        "    -   [Introduction to Types and Generic\n",
        "        Programming](https://julia.quantecon.org/more_julia/generic_programming.html)\n",
        "    -   [Generic\n",
        "        Programming](https://julia.quantecon.org/more_julia/generic_programming.html)\n",
        "    -   [Visual Studio and Other\n",
        "        Tools](https://julia.quantecon.org/software_engineering/tools_editors.html)"
      ],
      "id": "73f8a930-3578-41f4-8ebd-6cca4077b863"
    }
  ],
  "nbformat": 4,
  "nbformat_minor": 5,
  "metadata": {
    "kernelspec": {
      "name": "julia-1.10",
      "display_name": "Julia 1.10.0",
      "language": "julia"
    },
    "language_info": {
      "name": "julia",
      "file_extension": ".jl",
      "mimetype": "application/julia",
      "version": "1.10.0"
    }
  }
}