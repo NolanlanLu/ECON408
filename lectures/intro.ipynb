{
  "cells": [
    {
      "cell_type": "markdown",
      "metadata": {},
      "source": [
        "# ECON408: Computational Methods in Macroeconomics\n",
        "\n",
        "Course Overview and Computational Environment\n",
        "\n",
        "Jesse Perla (University of British Columbia)\n",
        "\n",
        "# Course Overview and Objectives\n",
        "\n",
        "## Course Structure and Prerequisites\n",
        "\n",
        "-   “Macroconomics on a computer”. Mostly macro-finance and macro-labor\n",
        "    -   Not an intro to programming course or stats/econometrics class\n",
        "    -   Less programming than ECON323, more math and theory\n",
        "-   Build experience with computational tools and structural models in\n",
        "    macroeconomics which can help you conduct “counterfactuals”\n",
        "    -   Not much data or empirics\n",
        "    -   Complement to other courses focusing on “field” topics,\n",
        "        empirics, estimation, inference, datascience, etc.\n",
        "\n",
        "## Prerequisites\n",
        "\n",
        "-   You need to have\n",
        "    -   One of ECON 301, ECON 304, ECON 308\n",
        "    -   One of ECON 323, CPSC 103, CPSC 110, MATH 210, COMM 337\n",
        "    -   One of MATH 221, MATH 223.\n",
        "-   **Not negotiable** to have intermediate micro (i.e., macro optional)\n",
        "-   **Not negotiable** to have the formal programming class in some\n",
        "    general purpose language (e.g., Stata and R don’t count, self-study\n",
        "    isn’t enough)\n",
        "-   Math requirement you can talk to me, especially if you took ECON307\n",
        "    or have significant background in linear algebra and multivariate\n",
        "    calculus\n",
        "\n",
        "## Assessments\n",
        "\n",
        "-   Grading:\n",
        "    -   6-8 problem sets: 20% (total)\n",
        "    -   Midterm exam: 30%\n",
        "    -   Final exam: 50%\n",
        "-   Midterm and final examinations will be done in a computer lab or on\n",
        "    your own computer in class. Not testing programming skills\n",
        "-   Problem sets will start off short and easy to help those with less\n",
        "    programming experience, and then build in (economics) complexity.\n",
        "-   **See syllabus** for missed exam policies\n",
        "\n",
        "# Programming Languages\n",
        "\n",
        "## Which Language?\n",
        "\n",
        "-   Plenty of great languages used in economics and finance: Matlab,\n",
        "    Python, Julia, Fortran, C++, Stata, Dynare, R, Stan…\n",
        "    -   All are great for some things, and terrible for others\n",
        "    -   Some are highly specialized and less general purpose than others\n",
        "        (e.g. Stata and R)\n",
        "-   I love specialized languages! But…\n",
        "    -   My philosophy is you will need to learn **at least** two general\n",
        "        purpose programming languages over your career.\n",
        "\n",
        "## Benefits of Learning more Languages\n",
        "\n",
        "Plan for your longrun career, languages come and go…\n",
        "\n",
        "-   The 2nd language makes you a better programmer at both\n",
        "-   The 3rd is even easier as you learn similarities and differences\n",
        "-   Grad School/job applications everyone says they know Python\n",
        "    -   Differentiator to credibly claim you know another serious\n",
        "        language\n",
        "    -   Increasingly important to **signal** computational\n",
        "        sophistication to get jobs\n",
        "    -   Julia is as good as any for that purpose\n",
        "\n",
        "## Advantages of Learning Julia for Economics and Finance\n",
        "\n",
        "-   Python is great for datascience and ML, but “ugly”, verbose, and\n",
        "    slow to use directly for many simulations and computational methods\n",
        "    -   Python wrappers for high-performance code used in ML are great\n",
        "    -   But when an appropriate framework doesn’t exist, writing fast\n",
        "        code yourself in Python is much harder than in Julia\n",
        "    -   Performance in Python usually means C++ or frameworks like JAX\n",
        "-   Julia (and Matlab) is more natural for programming mathematics than\n",
        "    Python. Easier to learn than alternative Python packages.\n",
        "-   Many in economists and finance research use Julia for computational\n",
        "    methods, so it helps you to work as as RA or to get a job as a\n",
        "    predoc\n",
        "\n",
        "## Don’t Worry If You are New to Programming\n",
        "\n",
        "-   Costs of learning languages has decreasing returns to scale\n",
        "    -   Learning the **first programming language is the hardest**\n",
        "-   Julia will come easily if you have the prerequisities (i.e. a course\n",
        "    using Matlab or Python, sadly R is not sufficient preparation)\n",
        "-   Submitting your code in Matlab or Python is not possible given the\n",
        "    course structure and infrastructure\n",
        "\n",
        "# Quantitative, Empirical, and Theoretical Economics\n",
        "\n",
        "## Why Isn’t Big Data ML/Statistics Enough?\n",
        "\n",
        "-   Going well before the big data/ML revolution economists asked\n",
        "    whether they could just use statistical models with enough data\n",
        "    -   Answer: only if you had the right (statistical) model for a\n",
        "        particular experiment, but historical data doesn’t have\n",
        "        variation in crucial directions\n",
        "    -   The right “statistical model” would need to reflect that humans\n",
        "        adapt and make forecasts - responding to policy and incentives\n",
        "    -   Especially difficult in macro because of dynamics and GE effects\n",
        "    -   Cowles Commision, Lucas Critique, Policy Ineffectiveness\n",
        "        Proposition (Sargent and Wallace), Time Inconsistency (Kydland\n",
        "        and Prescott)\n",
        "-   Having more data and fancier statistics doesn’t solve these problems\n",
        "\n",
        "## Forecasts and Distributions\n",
        "\n",
        "-   Summary: conducting experiments with a data generating process (DGP)\n",
        "    is fine, but how to find the right one **for a given problem**?  \n",
        "-   Think probabilistically: the world is a joint distribution of\n",
        "    observables, unobservables (i.e., latent variables), shocks, and\n",
        "    parameters\n",
        "-   Joint distributions let you calculate conditional expectations and\n",
        "    conduct “experiments” by conditioning on different events\n",
        "-   Statistics and machine learning is often criticized as being only\n",
        "    about “prediction” and sometimes “inference”\n",
        "    -   This isn’t quite true, but lets us ask what prediction really\n",
        "        means\n",
        "\n",
        "## Counterfactuals: “What If?”\n",
        "\n",
        "-   Most interesting problems in economics are about counterfactuals\n",
        "    -   What would unemployment have been if the government had not\n",
        "        intervened during the recession?\n",
        "    -   What would have been her income if she had not gone to college,\n",
        "        or if she wasn’t subjected to gender bias?\n",
        "-   By definition these are not observable. If we had the data already\n",
        "    we wouldn’t need to ponder these “What if?”\n",
        "-   How can you answer a question with data that doesn’t exist?"
      ],
      "id": "cd6a589e-5a0f-4569-8f62-c00ea97d9c1e"
    },
    {
      "cell_type": "raw",
      "metadata": {
        "raw_mimetype": "text/html"
      },
      "source": [
        "<center>"
      ],
      "id": "93663129-8c9b-4275-809b-5030b84208bf"
    },
    {
      "cell_type": "markdown",
      "metadata": {},
      "source": [
        "**YOU HAVE TO MAKE SOMETHING UP**"
      ],
      "id": "6c064e38-6b28-4f0a-8e7c-c57141f8a0a6"
    },
    {
      "cell_type": "raw",
      "metadata": {
        "raw_mimetype": "text/html"
      },
      "source": [
        "</center>"
      ],
      "id": "5f1da450-d9e7-49a3-a029-6c14f3addeb3"
    },
    {
      "cell_type": "markdown",
      "metadata": {},
      "source": [
        "## The Role of Theory\n",
        "\n",
        "-   There is no data interpretation without some theory - even if it is\n",
        "    sometimes implicit. Interpreting empirical results require\n",
        "    self-reflection\n",
        "-   The role of both data and theory is then to help constrain the set\n",
        "    of possible counterfactuals for the “what if?”\n",
        "-   So any criticisms of ML or statistics as “merely prediction” are\n",
        "    basically a statement on whether the theory makes sense\n",
        "    -   i.e., if you fit $y = f(X) + \\epsilon$ on data to find a\n",
        "        $\\hat{f}(X)$ function, then theory tells you if you made the\n",
        "        right assumptions (e.g., that the $X$ data is representative and\n",
        "        wouldn’t change for your counterfactual of interest, etc)\n",
        "\n",
        "## Approach in this Course\n",
        "\n",
        "-   Always remember: you need assumptions in one form or another because\n",
        "    the counterfactuals are inherently not in the data\n",
        "-   Broadly there are three approaches to conducting counterfactuals.\n",
        "    They are not mutually exclusive\n",
        "    1.  Structural models emphasize theory as structure on the joint\n",
        "        distribution\n",
        "    2.  Causal inference using matching, instrumental variables, etc.\n",
        "        which use theoretical assumptions on independence to adjust for\n",
        "        bias and missing unobservable (latent) variables\n",
        "    3.  Randomized Experiments/Treatment Effects where you can get good\n",
        "        data which truly randomizes some sort of “treatment”.\n",
        "-   In this course we will focus on **simulations and structural\n",
        "    models** - sometimes called “quantitative economics”\n",
        "\n",
        "## Macroeconomic Models Require Lots of Tools\n",
        "\n",
        "-   Conducting macroeconomic counterfactuals requires a lot of tools\n",
        "    because\n",
        "    -   Macroeconomic decisions are dynamic and often stochastic\n",
        "    -   Agents are forward looking\n",
        "    -   Agents interact through markets and prices, which creates\n",
        "        “general equilibrium” effects (i.e., which are inherently\n",
        "        nonlinear)\n",
        "    -   Heterogeneity leads to the distributional being crucial\n",
        "    -   Agent’s may respond to policies by thinking through the dynamic\n",
        "        effects\n",
        "-   We formalize these assumptions with math, but we are rarely able to\n",
        "    solve them analytically. Use a computer!\n",
        "\n",
        "## Tools Topics\n",
        "\n",
        "See Syllabus for more details\n",
        "\n",
        "1.  Linear algebra and basic scientific computing\n",
        "2.  Geometric Series and Discrete Time Dynamics\n",
        "3.  Basic Stochastic Processes\n",
        "4.  Linear State Space Models\n",
        "5.  Markov Chains\n",
        "6.  Dynamic Programming\n",
        "\n",
        "## Applications Topics\n",
        "\n",
        "The tools are interleaved with applications such as\n",
        "\n",
        "1.  Marginal Propensity to Consume\n",
        "2.  Dynamics of Wealth and Distributions\n",
        "3.  Permanent Income Model\n",
        "4.  Models of Unemployment\n",
        "5.  Asset Pricing\n",
        "6.  Lucas Trees and No-arbitrage Option Pricing\n",
        "7.  Recursive Equilibria and the McCall Search Model\n",
        "8.  Time permitting: Rational Expectations and Firm Equilibria, Growth\n",
        "    Models\n",
        "\n",
        "# Computational Environment\n",
        "\n",
        "## Setup\n",
        "\n",
        "-   You can install Julia on your laptop by following [these\n",
        "    instructions](https://julia.quantecon.org/getting_started_julia/getting_started.html)\n",
        "-   While one can use Julia entirely from just Jupyter notebooks, we\n",
        "    will also introduce basic [GitHub](https://github.com/) and [VS\n",
        "    Code](https://code.visualstudio.com/) usage as well to help broaden\n",
        "    your exposure to computational tools.\n",
        "-   So my suggestion is to challenge yourself to learn VS Code, GitHub,\n",
        "    and other tools. Further **signalling** for RA/predoc/etc. jobs\n",
        "\n",
        "## Summary of Installation\n",
        "\n",
        "1.  Install\n",
        "    [Git](https://git-scm.com/book/en/v2/Getting-Started-Installing-Git/)\n",
        "2.  Install [Anaconda](https://www.anaconda.com/download)\n",
        "3.  Install Julia with\n",
        "    [juliaup](https://github.com/JuliaLang/juliaup#installation)\n",
        "    -   Windows: easiest method is `winget install julia -s msstore` in\n",
        "        a Windows terminal\n",
        "    -   Linux/Mac: in a terminal use\n",
        "        `curl -fsSL https://install.julialang.org | sh`\n",
        "4.  Install [Visual Studio Code (VS\n",
        "    Code)](https://code.visualstudio.com/)\n",
        "5.  Install the [VS Code\n",
        "    Julia](https://marketplace.visualstudio.com/items?itemName=julialang.language-julia)\n",
        "    extension\n",
        "\n",
        "## Install Packages\n",
        "\n",
        "1.  Open the command palette with `<Ctrl+Shift+P>` or `<Cmd+Shift+P>` on\n",
        "    mac and type `> Git: Clone` and choose\n",
        "    `https://github.com/quantecon/lecture-julia.notebooks`\n",
        "\n",
        "2.  Instantiate packages, in VSCode or\n",
        "\n",
        "    -   Run a terminal in that directory\n",
        "    -   Then `julia` and `]` enters package mode\n",
        "    -   `] add IJulia`, which adds to global environment\n",
        "    -   `] activate`, which chooses the `Project.toml` file\n",
        "    -   `] instantiate`\n",
        "\n",
        "3.  Then use VS Code or `jupyter lab` to open\n",
        "\n",
        "## Julia Environment Basics\n",
        "\n",
        "-   Project files keep track of dependencies and make things\n",
        "    reproducible\n",
        "    -   Similar to Python’s virtual environments but easier to use\n",
        "-   VS Code and Jupyter will automatically activate a `Project.toml`\n",
        "    -   In REPL or Jupyter enter `]` for managing packages\n",
        "    -   Can manually activate with `] activate` or\n",
        "        `] activate path/to/project`\n",
        "    -   On commandline, can use `julia --project`\n",
        "    -   If a file doesn’t exist, then `]activate` creates one for the\n",
        "        folder\n",
        "-   With activated project, use `] instantiate` to install all the\n",
        "    packages\n",
        "-   For this course: no package management required after instantiation\n",
        "\n",
        "## Reproducibility\n",
        "\n",
        "-   **ALWAYS** use a `Project.toml` file\n",
        "    -   Keep your global environment as clean\n",
        "    -   Enough to do `] add IJulia`\n",
        "-   Associated with `Project.toml` is a `Manifest.toml` file which\n",
        "    establishes the exact versions for reproducibility\n",
        "    -   `] instantiate` will install the exact versions\n",
        "    -   Less important for us, but very useful for reproducibility in\n",
        "        research to distribute with project\n",
        "\n",
        "## Instantiate This Repo\n",
        "\n",
        "-   Ensure you have cloned this repo,\n",
        "    `https://github.com/jlperla/ECON408`\n",
        "    -   Use VS Code or `git clone`\n",
        "-   If you previously installed the `lecture-julia.notebooks` repo you\n",
        "    won’t need to do `] instantiate` again\n",
        "-   Access all lectures as `.ipynb` in the `/lectures` directory\n",
        "\n",
        "# Crash Course on Julia\n",
        "\n",
        "## Introductory Lectures\n",
        "\n",
        "-   Assuming you are familiar with Matlab or Python, Julia will be easy\n",
        "    to learn\n",
        "-   Adapted from QuantEcon lectures coauthored with John Stachurski and\n",
        "    Thomas J. Sargent\n",
        "    -   [Julia by\n",
        "        Example](https://julia.quantecon.org/getting_started_julia/julia_by_example.html)\n",
        "    -   [Essentials](https://julia.quantecon.org/julia_essentials.html)\n",
        "    -   [Fundamental\n",
        "        Types](https://julia.quantecon.org/getting_started_julia/fundamental_types.html)\n",
        "\n",
        "## Using Packages\n",
        "\n",
        "-   First ensure your project is activated and packages instantiated"
      ],
      "id": "5551a86f-817b-48be-894a-f9c1f8226701"
    },
    {
      "cell_type": "code",
      "execution_count": 2,
      "metadata": {},
      "outputs": [],
      "source": [
        "using LinearAlgebra, Statistics, Plots"
      ],
      "id": "6d5ab0c9"
    },
    {
      "cell_type": "markdown",
      "metadata": {},
      "source": [
        "## Plotting Random Numbers"
      ],
      "id": "a747ef14-11cd-41a3-b794-7ee888deb9b4"
    },
    {
      "cell_type": "code",
      "execution_count": 3,
      "metadata": {
        "output-location": "column"
      },
      "outputs": [
        {
          "output_type": "display_data",
          "metadata": {},
          "data": {
            "text/html": [
              "<img src=\"data:image/png;base64,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\" />"
            ]
          }
        }
      ],
      "source": [
        "n = 20\n",
        "ep = randn(n)\n",
        "plot(1:n, ep;size=(600,400))"
      ],
      "id": "63013bc1"
    },
    {
      "cell_type": "markdown",
      "metadata": {},
      "source": [
        "## Loops"
      ],
      "id": "be186575-cc5f-413f-a3b3-e761fc81561e"
    },
    {
      "cell_type": "code",
      "execution_count": 4,
      "metadata": {},
      "outputs": [
        {
          "output_type": "stream",
          "name": "stdout",
          "text": [
            "[-0.48366924644616077, 1.7103156042089833, -0.03430259855401265, -2.0392481443767783, -0.17110282658665638]"
          ]
        }
      ],
      "source": [
        "n = 100\n",
        "ep = zeros(n)\n",
        "for i in 1:n\n",
        "    ep[i] = randn()\n",
        "end\n",
        "println(ep[1:5])"
      ],
      "id": "79f5eb4b"
    },
    {
      "cell_type": "markdown",
      "metadata": {},
      "source": [
        "## Comprehensions"
      ],
      "id": "8fb4d51f-dc1b-459d-bd68-a629613c727a"
    },
    {
      "cell_type": "code",
      "execution_count": 5,
      "metadata": {},
      "outputs": [
        {
          "output_type": "stream",
          "name": "stdout",
          "text": [
            "[2i for i = 1:4] = [2, 4, 6, 8]"
          ]
        }
      ],
      "source": [
        "# Comprehensions\n",
        "@show [2 * i for i in 1:4];"
      ],
      "id": "ae4b643c"
    },
    {
      "cell_type": "markdown",
      "metadata": {},
      "source": [
        "## Manually Calculated Mean"
      ],
      "id": "5bced524-3ade-4936-b4f4-69482661ea4e"
    },
    {
      "cell_type": "code",
      "execution_count": 6,
      "metadata": {},
      "outputs": [
        {
          "output_type": "stream",
          "name": "stdout",
          "text": [
            "ep_mean = ep_sum / length(ep) = -0.024962319064068393\n",
            "ep_mean ≈ mean(ep) = true\n",
            "ep_mean = -0.024962319064068393\n",
            "sum(ep) / length(ep) = -0.024962319064068393\n",
            "sum((ep_val for ep_val = ep)) / length(ep) = -0.024962319064068393"
          ]
        }
      ],
      "source": [
        "ep_sum = 0.0 # careful to use 0.0 here, instead of 0\n",
        "for ep_val in ep\n",
        "    ep_sum = ep_sum + ep_val\n",
        "end\n",
        "@show ep_mean = ep_sum / length(ep)\n",
        "@show ep_mean ≈ mean(ep)\n",
        "@show ep_mean\n",
        "@show sum(ep) / length(ep)\n",
        "@show sum(ep_val for ep_val in ep) / length(ep); # generator/comprehension"
      ],
      "id": "2e793611"
    },
    {
      "cell_type": "markdown",
      "metadata": {},
      "source": [
        "## Functions"
      ],
      "id": "7bf78bc5-b09b-4327-af10-0b8f8f00ff8d"
    },
    {
      "cell_type": "code",
      "execution_count": 7,
      "metadata": {},
      "outputs": [
        {
          "output_type": "stream",
          "name": "stdout",
          "text": [
            "[0.010170747492566853, 0.3524545056156989, 0.72793514004888, 0.21590647522108097, 0.2048647212589988]"
          ]
        }
      ],
      "source": [
        "function generatedata(n)\n",
        "    ep = randn(n) # use built in function\n",
        "    for i in eachindex(ep) # or i in 1:length(ep)\n",
        "        ep[i] = ep[i]^2 # squaring the result\n",
        "    end\n",
        "    return ep\n",
        "end\n",
        "data = generatedata(5)\n",
        "println(data)"
      ],
      "id": "381ad14b"
    },
    {
      "cell_type": "markdown",
      "metadata": {},
      "source": [
        "## Broadcasting"
      ],
      "id": "ae60a990-5a59-428d-a2ea-d39a1ad53d21"
    },
    {
      "cell_type": "code",
      "execution_count": 8,
      "metadata": {},
      "outputs": [
        {
          "output_type": "stream",
          "name": "stdout",
          "text": [
            "generatedata(5) = [0.25581698691606, 1.0724820838573115, 1.6642733307653297, 0.05046801302761868, 0.8214699262039575]\n",
            "generatedata2(5) = [0.06774039716633455, 0.012579234973672955, 0.5013378053608155, 4.488263336776184, 0.9498463118798596]"
          ]
        }
      ],
      "source": [
        "function generatedata(n)\n",
        "    ep = randn(n) # use built in function\n",
        "    return ep .^ 2\n",
        "end\n",
        "@show generatedata(5)\n",
        "generatedata2(n) = randn(n) .^ 2\n",
        "@show generatedata2(5);"
      ],
      "id": "dc9e0d02"
    },
    {
      "cell_type": "markdown",
      "metadata": {},
      "source": [
        "## Higher Order Functions"
      ],
      "id": "c678c974-7f49-4813-92fc-0336ee7f9a99"
    },
    {
      "cell_type": "code",
      "execution_count": 9,
      "metadata": {},
      "outputs": [
        {
          "output_type": "stream",
          "name": "stdout",
          "text": [
            "generatedata3(5, f) = [0.31470674849490443, 0.5193225104093125, 0.031049091651036878, 0.3411372363319643, 0.08940078112244176]"
          ]
        }
      ],
      "source": [
        "generatedata3(n, gen) = gen.(randn(n)) # broadcasts on gen\n",
        "f(x) = x^2 # simple square function\n",
        "@show generatedata3(5, f); # applies f"
      ],
      "id": "cd532c68"
    },
    {
      "cell_type": "markdown",
      "metadata": {},
      "source": [
        "## More Plotting Examples"
      ],
      "id": "f75a2f33-89b5-4154-8a1e-d7c64ef047dd"
    },
    {
      "cell_type": "code",
      "execution_count": 10,
      "metadata": {
        "output-location": "column"
      },
      "outputs": [
        {
          "output_type": "display_data",
          "metadata": {},
          "data": {
            "text/html": [
              "<img src=\"data:image/png;base64,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\" />"
            ]
          }
        }
      ],
      "source": [
        "using Distributions\n",
        "function plothistogram(dist, n)\n",
        "    # n draws from distribution\n",
        "    ep = rand(dist, n) \n",
        "    return histogram(ep;size=(600,400))\n",
        "end\n",
        "dist = Laplace() # dist != dist in function\n",
        "plothistogram(dist, 500)"
      ],
      "id": "3476440d"
    },
    {
      "cell_type": "markdown",
      "metadata": {},
      "source": [
        "## Changing Types\n",
        "\n",
        "-   The `rand(dist, n)` changes its behavior based on the type of `dist`"
      ],
      "id": "b597dcc9-3154-4ff7-8077-37c7557aac81"
    },
    {
      "cell_type": "code",
      "execution_count": 11,
      "metadata": {
        "output-location": "column"
      },
      "outputs": [
        {
          "output_type": "display_data",
          "metadata": {},
          "data": {
            "text/html": [
              "<img src=\"data:image/png;base64,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\" />"
            ]
          }
        }
      ],
      "source": [
        "dist = Normal()\n",
        "plothistogram(Normal(), 500)"
      ],
      "id": "f75fc4eb"
    },
    {
      "cell_type": "markdown",
      "metadata": {},
      "source": [
        "## Ranges"
      ],
      "id": "e8c83625-874e-4e2a-bda2-aa7d1c980e3d"
    },
    {
      "cell_type": "code",
      "execution_count": 12,
      "metadata": {
        "output-location": "column"
      },
      "outputs": [
        {
          "output_type": "stream",
          "name": "stdout",
          "text": [
            "x = 0.0:0.25:1.0\n",
            "Vector(x) = [0.0, 0.25, 0.5, 0.75, 1.0]"
          ]
        },
        {
          "output_type": "display_data",
          "metadata": {},
          "data": {
            "text/html": [
              "<img src=\"data:image/png;base64,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\" />"
            ]
          }
        }
      ],
      "source": [
        "x = range(0.0, 1.0; length = 5)\n",
        "@show x\n",
        "@show Vector(x)\n",
        "plot(x, sqrt.(x);size=(600,400))"
      ],
      "id": "49ac471a"
    },
    {
      "cell_type": "markdown",
      "metadata": {},
      "source": [
        "## Defining Functions\n",
        "\n",
        "-   You can create anonymous functions as in R, but it is harder for the\n",
        "    compiler because the type `f3` can change. Avoid `->` if name\n",
        "    required"
      ],
      "id": "99654180-1f00-48e5-8b02-d4f992926bfc"
    },
    {
      "cell_type": "code",
      "execution_count": 13,
      "metadata": {},
      "outputs": [
        {
          "output_type": "stream",
          "name": "stdout",
          "text": [
            "(f(2), f2(2), f3(2)) = (4, 4, 4)"
          ]
        }
      ],
      "source": [
        "f(x) = x^2\n",
        "function f2(x)\n",
        "    return x^2\n",
        "end\n",
        "f3 = x -> x^2 # assignment not required\n",
        "@show f(2), f2(2), f3(2);"
      ],
      "id": "8626a7c1"
    },
    {
      "cell_type": "markdown",
      "metadata": {},
      "source": [
        "## Default Arguments"
      ],
      "id": "927303ad-9b17-47fc-9a8f-9266365a26bc"
    },
    {
      "cell_type": "code",
      "execution_count": 14,
      "metadata": {},
      "outputs": [
        {
          "output_type": "stream",
          "name": "stdout",
          "text": [
            "f(pi) = 0.36787944117144233\n",
            "f(pi, 2) = 2.718281828459045"
          ]
        }
      ],
      "source": [
        "f(x, a = 1) = exp(cos(a * x))\n",
        "@show f(pi)\n",
        "@show f(pi, 2);"
      ],
      "id": "fc30e323"
    },
    {
      "cell_type": "markdown",
      "metadata": {},
      "source": [
        "## Keyword Arguments"
      ],
      "id": "53a6ab42-bd0e-4516-bf99-d3a03d42206f"
    },
    {
      "cell_type": "code",
      "execution_count": 15,
      "metadata": {},
      "outputs": [
        {
          "output_type": "stream",
          "name": "stdout",
          "text": [
            "f(pi) = 0.36787944117144233\n",
            "f(pi; a = 2) = 2.718281828459045\n",
            "f(pi; a) = 2.718281828459045"
          ]
        }
      ],
      "source": [
        "f2(x; a = 1) = exp(cos(a * x))  # note the ; in the definition\n",
        "# same as longform\n",
        "function f(x; a = 1)\n",
        "    return exp(cos(a * x))\n",
        "end\n",
        "@show f(pi)\n",
        "@show f(pi; a = 2) # passing in adate\n",
        "a = 2\n",
        "@show f(pi; a); # equivalent to f(pi; a = a)"
      ],
      "id": "ba0d35b4"
    },
    {
      "cell_type": "markdown",
      "metadata": {},
      "source": [
        "## Closures\n",
        "\n",
        "-   In general, try to avoid globals and closures outside of functions"
      ],
      "id": "2b2c27d6-7c22-4e26-9df1-5aba62fa115c"
    },
    {
      "cell_type": "code",
      "execution_count": 16,
      "metadata": {},
      "outputs": [
        {
          "output_type": "stream",
          "name": "stdout",
          "text": [
            "f(1) = 0.2\n",
            "f(1) = 0.3"
          ]
        }
      ],
      "source": [
        "a = 0.2\n",
        "f(x) = a * x^2  # refers to the `a` in the outer scope\n",
        "@show f(1)\n",
        "# The a is captured in this scope by name.  Careful!\n",
        "a = 0.3\n",
        "@show f(1);"
      ],
      "id": "b8d55130"
    },
    {
      "cell_type": "markdown",
      "metadata": {},
      "source": [
        "## Closures Inside Functions\n",
        "\n",
        "-   But within a function they are safe, common, and usually free of\n",
        "    overhead"
      ],
      "id": "1c35eab5-965f-48c1-8c98-8428a27174ff"
    },
    {
      "cell_type": "code",
      "execution_count": 17,
      "metadata": {},
      "outputs": [
        {
          "output_type": "stream",
          "name": "stdout",
          "text": [
            "g(0.2) = 0.2"
          ]
        }
      ],
      "source": [
        "function g(a)\n",
        "    f(x) = a * x^2  # refers to the `a` passed in the function\n",
        "    return f(1)\n",
        "end\n",
        "a = 123.5 # Different scope than the `a` in function\n",
        "@show g(0.2);"
      ],
      "id": "787616a9"
    },
    {
      "cell_type": "markdown",
      "metadata": {},
      "source": [
        "## Tuples and Named Tuples"
      ],
      "id": "69b9bb09-467f-494a-bd58-d1431cc5a12f"
    },
    {
      "cell_type": "code",
      "execution_count": 18,
      "metadata": {},
      "outputs": [
        {
          "output_type": "stream",
          "name": "stdout",
          "text": [
            "t[1] = 1\n",
            "nt = (a = 1, b = 2.0, c = \"hello\")\n",
            "nt.a = 1"
          ]
        }
      ],
      "source": [
        "t = (1, 2.0, \"hello\")\n",
        "@show t[1]\n",
        "nt = (;a = 1, b = 2.0, c = \"hello\")\n",
        "@show nt\n",
        "@show nt.a; # can't use nt[1] or nt[\"a\"]"
      ],
      "id": "a5375242"
    },
    {
      "cell_type": "markdown",
      "metadata": {},
      "source": [
        "## Tuples Packing and Unpacking"
      ],
      "id": "73025505-220e-4a66-9510-b8f1c150a21a"
    },
    {
      "cell_type": "code",
      "execution_count": 19,
      "metadata": {},
      "outputs": [
        {
          "output_type": "stream",
          "name": "stdout",
          "text": [
            "solve_model(0.1) = (a = 0.010000000000000002, b = 0.020000000000000004, c = 0.030000000000000006)\n",
            "a = 0.010000000000000002, c = 0.030000000000000006"
          ]
        }
      ],
      "source": [
        "function solve_model(x)\n",
        "    a = x^2\n",
        "    b = 2 * a\n",
        "    c = a + b\n",
        "    return (; a, b, c)  # note local scope of tuples!\n",
        "end\n",
        "@show solve_model(0.1)\n",
        "# can unpack in different order, or use subset of values\n",
        "(; c, a) = solve_model(0.1)\n",
        "println(\"a = $a, c = $c\");"
      ],
      "id": "a7ae3e5d"
    },
    {
      "cell_type": "markdown",
      "metadata": {},
      "source": [
        "## Array Basics"
      ],
      "id": "15307e03-b1bf-4c2c-8a3c-292164a99984"
    },
    {
      "cell_type": "code",
      "execution_count": 20,
      "metadata": {
        "output-location": "column"
      },
      "outputs": [
        {
          "output_type": "stream",
          "name": "stdout",
          "text": [
            "size(b) = (3,)\n",
            "size(A) = (2, 2)\n",
            "typeof(b) = Vector{Float64}\n",
            "typeof(A) = Matrix{Int64}\n",
            "zeros(3) = [0.0, 0.0, 0.0]\n",
            "ones(2, 2) = [1.0 1.0; 1.0 1.0]\n",
            "fill(1.0, 2, 2) = [1.0 1.0; 1.0 1.0]\n",
            "similar(A) = [784896 2065098802448; 2065098802160 2065098802736]\n",
            "A[1, 1] = 1\n",
            "A[1, :] = [1, 2]\n",
            "A[1:end, 1] = [1, 3]"
          ]
        }
      ],
      "source": [
        "b = [1.0, 2.1, 3.0] # 1d array\n",
        "A = [1 2; 3 4] # 2x2 matrix\n",
        "@show size(b)\n",
        "@show size(A)\n",
        "@show typeof(b)\n",
        "@show typeof(A)\n",
        "@show zeros(3)\n",
        "@show ones(2, 2)\n",
        "@show fill(1.0, 2, 2)\n",
        "@show similar(A)\n",
        "@show A[1, 1]\n",
        "@show A[1, :]\n",
        "@show A[1:end, 1];"
      ],
      "id": "4fecd147"
    },
    {
      "cell_type": "markdown",
      "metadata": {},
      "source": [
        "## Linear Algebra Basics"
      ],
      "id": "958618e6-e759-4bc8-8cc0-6295b93dc3d7"
    },
    {
      "cell_type": "code",
      "execution_count": 21,
      "metadata": {
        "output-location": "column"
      },
      "outputs": [
        {
          "output_type": "stream",
          "name": "stdout",
          "text": [
            "A * b = [5, 11]\n",
            "A' = [1 3; 2 4]\n",
            "dot(b, [5.0, 2.0]) = 9.0\n",
            "b' * b = 5\n",
            "Diagonal([1.0, 2.0]) = [1.0 0.0; 0.0 2.0]\n",
            "I = UniformScaling{Bool}(true)\n",
            "inv(A) = [-1.9999999999999996 0.9999999999999998; 1.4999999999999998 -0.4999999999999999]"
          ]
        }
      ],
      "source": [
        "A = [1 2; 3 4]\n",
        "b = [1, 2]\n",
        "@show A * b # Matrix product\n",
        "@show A' # transpose\n",
        "@show dot(b, [5.0, 2.0]) # dot product\n",
        "@show b' * b # dot product\n",
        "@show Diagonal([1.0, 2.0]) # diagonal matrix\n",
        "@show I # identity matrix\n",
        "@show inv(A); # inverse"
      ],
      "id": "30ce41a2"
    },
    {
      "cell_type": "markdown",
      "metadata": {},
      "source": [
        "## Modifying Vectors\n",
        "\n",
        "-   Scalars and tuples/named tuples are immutable\n",
        "-   Vectors and matrices are mutable"
      ],
      "id": "f7f151a7-3238-46df-a03c-f32e032b53a8"
    },
    {
      "cell_type": "code",
      "execution_count": 22,
      "metadata": {
        "output-location": "column"
      },
      "outputs": [
        {
          "output_type": "stream",
          "name": "stdout",
          "text": [
            "A = [2 2; 3 4]\n",
            "b = [2, 2]\n",
            "b = [3, 4]\n",
            "A = [3 4; 3 4]"
          ]
        }
      ],
      "source": [
        "A = [1 2; 3 4]\n",
        "A[1, 1] = 2\n",
        "@show A\n",
        "b = [1, 2]\n",
        "b[1] = 2\n",
        "@show b\n",
        "b .= [3, 4] # otherwise just renamed\n",
        "@show b\n",
        "A[1, :] .= [3, 4] # assign slice\n",
        "@show A;"
      ],
      "id": "25243752"
    },
    {
      "cell_type": "markdown",
      "metadata": {},
      "source": [
        "## Learning More\n",
        "\n",
        "-   After this, most of the other material on Julia will become clear as\n",
        "    you go\n",
        "-   This covers part of [Julia\n",
        "    Essentials](https://julia.quantecon.org/getting_started_julia/julia_essentials.html)\n",
        "    and [Fundamental\n",
        "    Types](https://julia.quantecon.org/getting_started_julia/fundamental_types.html)\n",
        "-   Other more advanced lectures, not required for this course, are\n",
        "    -   [Introduction to Types and Generic\n",
        "        Programming](https://julia.quantecon.org/more_julia/generic_programming.html)\n",
        "    -   [Generic\n",
        "        Programming](https://julia.quantecon.org/more_julia/generic_programming.html)\n",
        "    -   [Visual Studio and Other\n",
        "        Tools](https://julia.quantecon.org/software_engineering/tools_editors.html)"
      ],
      "id": "7e74e426-8c66-40d4-8e44-75104848e18e"
    }
  ],
  "nbformat": 4,
  "nbformat_minor": 5,
  "metadata": {
    "kernelspec": {
      "name": "julia-1.10",
      "display_name": "Julia 1.10.0",
      "language": "julia"
    },
    "language_info": {
      "name": "julia",
      "file_extension": ".jl",
      "mimetype": "application/julia",
      "version": "1.10.0"
    }
  }
}