{
  "cells": [
    {
      "cell_type": "markdown",
      "metadata": {},
      "source": [
        "# ECON408: Computational Methods in Macroeconomics\n",
        "\n",
        "Course Overview and Computational Environment\n",
        "\n",
        "Jesse Perla (University of British Columbia)\n",
        "\n",
        "# Course Overview and Objectives\n",
        "\n",
        "## Course Structure and Prerequisites\n",
        "\n",
        "-   “Macroconomics on a computer”. Mostly macro-finance and macro-labor\n",
        "    -   Not an intro to programming course or stats/econometrics class\n",
        "    -   Less programming than ECON323, more math and theory\n",
        "-   Build experience with computational tools and structural models in\n",
        "    macroeconomics which can help you conduct “counterfactuals”\n",
        "    -   Not much data or empirics\n",
        "    -   Complement to other courses focusing on “field” topics,\n",
        "        empirics, estimation, inference, datascience, etc.\n",
        "\n",
        "## Prerequisites\n",
        "\n",
        "-   You need to have\n",
        "    -   One of ECON 301, ECON 304, ECON 308\n",
        "    -   One of ECON 323, CPSC 103, CPSC 110, MATH 210, COMM 337\n",
        "    -   One of MATH 221, MATH 223.\n",
        "-   **Not negotiable** to have intermediate micro (i.e., macro optional)\n",
        "-   **Not negotiable** to have the formal programming class in some\n",
        "    general purpose language (e.g., Stata and R don’t count, self-study\n",
        "    isn’t enough)\n",
        "-   Math requirement you can talk to me, especially if you took ECON307\n",
        "    or have significant background in linear algebra and multivariate\n",
        "    calculus\n",
        "\n",
        "## Assessments\n",
        "\n",
        "-   Grading:\n",
        "    -   6-8 problem sets: 20% (total)\n",
        "    -   Midterm exam: 30%\n",
        "    -   Final exam: 50%\n",
        "-   Midterm and final examinations will be done in a computer lab or on\n",
        "    your own computer in class. Not testing programming skills\n",
        "-   Problem sets will start off short and easy to help those with less\n",
        "    programming experience, and then build in (economics) complexity.\n",
        "-   **See syllabus** for missed exam policies\n",
        "\n",
        "# Programming Languages\n",
        "\n",
        "## Which Language?\n",
        "\n",
        "-   Plenty of great languages used in economics and finance: Matlab,\n",
        "    Python, Julia, Fortran, C++, Stata, Dynare, R, Stan…\n",
        "    -   All are great for some things, and terrible for others\n",
        "    -   Some are highly specialized and less general purpose than others\n",
        "        (e.g. Stata and R)\n",
        "-   I love specialized languages! But…\n",
        "    -   My philosophy is you will need to learn **at least** two general\n",
        "        purpose programming languages over your career.\n",
        "\n",
        "## Benefits of Learning more Languages\n",
        "\n",
        "Plan for your longrun career, languages come and go…\n",
        "\n",
        "-   The 2nd language makes you a better programmer at both\n",
        "-   The 3rd is even easier as you learn similarities and differences\n",
        "-   Grad School/job applications everyone says they know Python\n",
        "    -   Differentiator to credibly claim you know another serious\n",
        "        language\n",
        "    -   Increasingly important to **signal** computational\n",
        "        sophistication to get jobs\n",
        "    -   Julia is as good as any for that purpose\n",
        "\n",
        "## Advantages of Learning Julia for Economics and Finance\n",
        "\n",
        "-   Python is great for datascience and ML, but “ugly”, verbose, and\n",
        "    slow to use directly for many simulations and computational methods\n",
        "    -   Python wrappers for high-performance code used in ML are great\n",
        "    -   But when an appropriate framework doesn’t exist, writing fast\n",
        "        code yourself in Python is much harder than in Julia\n",
        "    -   Performance in Python usually means C++ or frameworks like JAX\n",
        "-   Julia (and Matlab) is more natural for programming mathematics than\n",
        "    Python. Easier to learn than alternative Python packages.\n",
        "-   Many in economists and finance research use Julia for computational\n",
        "    methods, so it helps you to work as as RA or to get a job as a\n",
        "    predoc\n",
        "\n",
        "## Don’t Worry If You are New to Programming\n",
        "\n",
        "-   Costs of learning languages has decreasing returns to scale\n",
        "    -   Learning the **first programming language is the hardest**\n",
        "-   Julia will come easily if you have the prerequisities (i.e. a course\n",
        "    using Matlab or Python, sadly R is not sufficient preparation)\n",
        "-   Submitting your code in Matlab or Python is not possible given the\n",
        "    course structure and infrastructure\n",
        "\n",
        "# Quantitative, Empirical, and Theoretical Economics\n",
        "\n",
        "## Why Isn’t Big Data ML/Statistics Enough?\n",
        "\n",
        "-   Going well before the big data/ML revolution economists asked\n",
        "    whether they could just use statistical models with enough data\n",
        "    -   Answer: only if you had the right (statistical) model for a\n",
        "        particular experiment, but historical data doesn’t have\n",
        "        variation in crucial directions\n",
        "    -   The right “statistical model” would need to reflect that humans\n",
        "        adapt and make forecasts - responding to policy and incentives\n",
        "    -   Especially difficult in macro because of dynamics and GE effects\n",
        "    -   Cowles Commision, Lucas Critique, Policy Ineffectiveness\n",
        "        Proposition (Sargent and Wallace), Time Inconsistency (Kydland\n",
        "        and Prescott)\n",
        "-   Having more data and fancier statistics doesn’t solve these problems\n",
        "\n",
        "## Forecasts and Distributions\n",
        "\n",
        "-   Summary: conducting experiments with a data generating process (DGP)\n",
        "    is fine, but how to find the right one **for a given problem**?  \n",
        "-   Think probabilistically: the world is a joint distribution of\n",
        "    observables, unobservables (i.e., latent variables), shocks, and\n",
        "    parameters\n",
        "-   Joint distributions let you calculate conditional expectations and\n",
        "    conduct “experiments” by conditioning on different events\n",
        "-   Statistics and machine learning is often criticized as being only\n",
        "    about “prediction” and sometimes “inference”\n",
        "    -   This isn’t quite true, but lets us ask what prediction really\n",
        "        means\n",
        "\n",
        "## Counterfactuals: “What If?”\n",
        "\n",
        "-   Most interesting problems in economics are about counterfactuals\n",
        "    -   What would unemployment have been if the government had not\n",
        "        intervened during the recession?\n",
        "    -   What would have been her income if she had not gone to college,\n",
        "        or if she wasn’t subjected to gender bias?\n",
        "-   By definition these are not observable. If we had the data already\n",
        "    we wouldn’t need to ponder these “What if?”\n",
        "-   How can you answer a question with data that doesn’t exist?"
      ],
      "id": "fbfc0805-93a2-4ff6-b65c-1202ce9072bb"
    },
    {
      "cell_type": "raw",
      "metadata": {
        "raw_mimetype": "text/html"
      },
      "source": [
        "<center>"
      ],
      "id": "5e96ee53-67a7-4d8d-a49e-3102a00fc3b8"
    },
    {
      "cell_type": "markdown",
      "metadata": {},
      "source": [
        "**YOU HAVE TO MAKE SOMETHING UP**"
      ],
      "id": "15c4e91c-2168-4bb0-ae19-c40f70aff14f"
    },
    {
      "cell_type": "raw",
      "metadata": {
        "raw_mimetype": "text/html"
      },
      "source": [
        "</center>"
      ],
      "id": "fb1f2647-5e3a-4626-9b42-2ce458f1288d"
    },
    {
      "cell_type": "markdown",
      "metadata": {},
      "source": [
        "## The Role of Theory\n",
        "\n",
        "-   There is no data interpretation without some theory - even if it is\n",
        "    sometimes implicit. Interpreting empirical results require\n",
        "    self-reflection\n",
        "-   The role of both data and theory is then to help constrain the set\n",
        "    of possible counterfactuals for the “what if?”\n",
        "-   So any criticisms of ML or statistics as “merely prediction” are\n",
        "    basically a statement on whether the theory makes sense\n",
        "    -   i.e., if you fit $y = f(X) + \\epsilon$ on data to find a\n",
        "        $\\hat{f}(X)$ function, then theory tells you if you made the\n",
        "        right assumptions (e.g., that the $X$ data is representative and\n",
        "        wouldn’t change for your counterfactual of interest, etc)\n",
        "\n",
        "## Approach in this Course\n",
        "\n",
        "-   Always remember: you need assumptions in one form or another because\n",
        "    the counterfactuals are inherently not in the data\n",
        "-   Broadly there are three approaches to conducting counterfactuals.\n",
        "    They are not mutually exclusive\n",
        "    1.  Structural models emphasize theory as structure on the joint\n",
        "        distribution\n",
        "    2.  Causal inference using matching, instrumental variables, etc.\n",
        "        which use theoretical assumptions on independence to adjust for\n",
        "        bias and missing unobservable (latent) variables\n",
        "    3.  Randomized Experiments/Treatment Effects where you can get good\n",
        "        data which truly randomizes some sort of “treatment”.\n",
        "-   In this course we will focus on **simulations and structural\n",
        "    models** - sometimes called “quantitative economics”\n",
        "\n",
        "## Macroeconomic Models Require Lots of Tools\n",
        "\n",
        "-   Conducting macroeconomic counterfactuals requires a lot of tools\n",
        "    because\n",
        "    -   Macroeconomic decisions are dynamic and often stochastic\n",
        "    -   Agents are forward looking\n",
        "    -   Agents interact through markets and prices, which creates\n",
        "        “general equilibrium” effects (i.e., which are inherently\n",
        "        nonlinear)\n",
        "    -   Heterogeneity leads to the distributional being crucial\n",
        "    -   Agent’s may respond to policies by thinking through the dynamic\n",
        "        effects\n",
        "-   We formalize these assumptions with math, but we are rarely able to\n",
        "    solve them analytically. Use a computer!\n",
        "\n",
        "## Tools Topics\n",
        "\n",
        "See Syllabus for more details\n",
        "\n",
        "1.  Linear algebra and basic scientific computing\n",
        "2.  Geometric Series and Discrete Time Dynamics\n",
        "3.  Basic Stochastic Processes\n",
        "4.  Linear State Space Models\n",
        "5.  Markov Chains\n",
        "6.  Dynamic Programming\n",
        "\n",
        "## Applications Topics\n",
        "\n",
        "The tools are interleaved with applications such as\n",
        "\n",
        "1.  Marginal Propensity to Consume\n",
        "2.  Dynamics of Wealth and Distributions\n",
        "3.  Permanent Income Model\n",
        "4.  Models of Unemployment\n",
        "5.  Asset Pricing\n",
        "6.  Lucas Trees and No-arbitrage Option Pricing\n",
        "7.  Recursive Equilibria and the McCall Search Model\n",
        "8.  Time permitting: Rational Expectations and Firm Equilibria, Growth\n",
        "    Models\n",
        "\n",
        "# Computational Environment\n",
        "\n",
        "## Setup\n",
        "\n",
        "-   You can install Julia on your laptop by following [these\n",
        "    instructions](https://julia.quantecon.org/getting_started_julia/getting_started.html)\n",
        "-   While one can use Julia entirely from just Jupyter notebooks, we\n",
        "    will also introduce basic [GitHub](https://github.com/) and [VS\n",
        "    Code](https://code.visualstudio.com/) usage as well to help broaden\n",
        "    your exposure to computational tools.\n",
        "-   So my suggestion is to challenge yourself to learn VS Code, GitHub,\n",
        "    and other tools. Further **signalling** for RA/predoc/etc. jobs\n",
        "\n",
        "## Summary of Installation\n",
        "\n",
        "1.  Install\n",
        "    [Git](https://git-scm.com/book/en/v2/Getting-Started-Installing-Git/)\n",
        "2.  Install [Anaconda](https://www.anaconda.com/download)\n",
        "3.  Install Julia with\n",
        "    [juliaup](https://github.com/JuliaLang/juliaup#installation)\n",
        "    -   Windows: easiest method is `winget install julia -s msstore` in\n",
        "        a Windows terminal\n",
        "    -   Linux/Mac: in a terminal use\n",
        "        `curl -fsSL https://install.julialang.org | sh`\n",
        "4.  Install [Visual Studio Code (VS\n",
        "    Code)](https://code.visualstudio.com/)\n",
        "5.  Install the [VS Code\n",
        "    Julia](https://marketplace.visualstudio.com/items?itemName=julialang.language-julia)\n",
        "    extension\n",
        "\n",
        "## Install Packages\n",
        "\n",
        "1.  Open the command palette with `<Ctrl+Shift+P>` or `<Cmd+Shift+P>` on\n",
        "    mac and type `> Git: Clone` and choose\n",
        "    `https://github.com/quantecon/lecture-julia.notebooks`\n",
        "\n",
        "2.  Instantiate packages, in VSCode or\n",
        "\n",
        "    -   Run a terminal in that directory\n",
        "    -   Then `julia` and `]` enters package mode\n",
        "    -   `] add IJulia`, which adds to global environment\n",
        "    -   `] activate`, which chooses the `Project.toml` file\n",
        "    -   `] instantiate`\n",
        "\n",
        "3.  Then use VS Code or `jupyter lab` to open\n",
        "\n",
        "## Julia Environment Basics\n",
        "\n",
        "-   Project files keep track of dependencies and make things\n",
        "    reproducible\n",
        "    -   Similar to Python’s virtual environments but easier to use\n",
        "-   VS Code and Jupyter will automatically activate a `Project.toml`\n",
        "    -   In REPL or Jupyter enter `]` for managing packages\n",
        "    -   Can manually activate with `] activate` or\n",
        "        `] activate path/to/project`\n",
        "    -   On commandline, can use `julia --project`\n",
        "    -   If a file doesn’t exist, then `]activate` creates one for the\n",
        "        folder\n",
        "-   With activated project, use `] instantiate` to install all the\n",
        "    packages\n",
        "-   For this course: no package management required after instantiation\n",
        "\n",
        "## Reproducibility\n",
        "\n",
        "-   **ALWAYS** use a `Project.toml` file\n",
        "    -   Keep your global environment as clean\n",
        "    -   Enough to do `] add IJulia`\n",
        "-   Associated with `Project.toml` is a `Manifest.toml` file which\n",
        "    establishes the exact versions for reproducibility\n",
        "    -   `] instantiate` will install the exact versions\n",
        "    -   Less important for us, but very useful for reproducibility in\n",
        "        research to distribute with project\n",
        "\n",
        "## Instantiate This Repo\n",
        "\n",
        "-   Ensure you have cloned this repo,\n",
        "    `https://github.com/jlperla/ECON408`\n",
        "    -   Use VS Code or `git clone`\n",
        "-   If you previously installed the `lecture-julia.notebooks` repo you\n",
        "    won’t need to do `] instantiate` again\n",
        "-   Access all lectures as `.ipynb` in the `/lectures` directory\n",
        "\n",
        "# Crash Course on Julia\n",
        "\n",
        "## Introductory Lectures\n",
        "\n",
        "-   Assuming you are familiar with Matlab or Python, Julia will be easy\n",
        "    to learn\n",
        "-   Adapted from QuantEcon lectures coauthored with John Stachurski and\n",
        "    Thomas J. Sargent\n",
        "    -   [Julia by\n",
        "        Example](https://julia.quantecon.org/getting_started_julia/julia_by_example.html)\n",
        "    -   [Essentials](https://julia.quantecon.org/julia_essentials.html)\n",
        "    -   [Fundamental\n",
        "        Types](https://julia.quantecon.org/getting_started_julia/fundamental_types.html)\n",
        "\n",
        "## Using Packages\n",
        "\n",
        "-   First ensure your project is activated and packages instantiated"
      ],
      "id": "8d2b4c7a-3f03-4b17-b4ed-b28df8a30b78"
    },
    {
      "cell_type": "code",
      "execution_count": 2,
      "metadata": {},
      "outputs": [],
      "source": [
        "using LinearAlgebra, Statistics, Plots"
      ],
      "id": "5230fe23"
    },
    {
      "cell_type": "markdown",
      "metadata": {},
      "source": [
        "## Plotting Random Numbers"
      ],
      "id": "ffc5c4f3-9b87-4b84-9005-51f1da433443"
    },
    {
      "cell_type": "code",
      "execution_count": 3,
      "metadata": {
        "output-location": "column"
      },
      "outputs": [
        {
          "output_type": "display_data",
          "metadata": {},
          "data": {
            "text/html": [
              "<img src=\"data:image/png;base64,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\" />"
            ]
          }
        }
      ],
      "source": [
        "n = 20\n",
        "ep = randn(n)\n",
        "plot(1:n, ep;size=(600,400))"
      ],
      "id": "8fec5cba"
    },
    {
      "cell_type": "markdown",
      "metadata": {},
      "source": [
        "## Loops"
      ],
      "id": "618b9fa1-5b54-4e3c-a6cd-8425a0f936ab"
    },
    {
      "cell_type": "code",
      "execution_count": 4,
      "metadata": {},
      "outputs": [
        {
          "output_type": "stream",
          "name": "stdout",
          "text": [
            "[0.9598683195588608, -2.577107826619905, 0.6960426977729468, 2.4294821152776174, 0.11743692255674551]"
          ]
        }
      ],
      "source": [
        "n = 100\n",
        "ep = zeros(n)\n",
        "for i in 1:n\n",
        "    ep[i] = randn()\n",
        "end\n",
        "println(ep[1:5])"
      ],
      "id": "2233e85e"
    },
    {
      "cell_type": "markdown",
      "metadata": {},
      "source": [
        "## Comprehensions"
      ],
      "id": "14e14585-2fea-474c-8717-1b0559b5b8fa"
    },
    {
      "cell_type": "code",
      "execution_count": 5,
      "metadata": {},
      "outputs": [
        {
          "output_type": "stream",
          "name": "stdout",
          "text": [
            "[2i for i = 1:4] = [2, 4, 6, 8]"
          ]
        }
      ],
      "source": [
        "# Comprehensions\n",
        "@show [2 * i for i in 1:4];"
      ],
      "id": "81fa4ec8"
    },
    {
      "cell_type": "markdown",
      "metadata": {},
      "source": [
        "## Manually Calculated Mean"
      ],
      "id": "91048580-ec91-476f-bbab-f6dea20b73f7"
    },
    {
      "cell_type": "code",
      "execution_count": 6,
      "metadata": {},
      "outputs": [
        {
          "output_type": "stream",
          "name": "stdout",
          "text": [
            "ep_mean = ep_sum / length(ep) = -0.13531689360688176\n",
            "ep_mean ≈ mean(ep) = true\n",
            "ep_mean = -0.13531689360688176\n",
            "sum(ep) / length(ep) = -0.1353168936068818\n",
            "sum((ep_val for ep_val = ep)) / length(ep) = -0.13531689360688176"
          ]
        }
      ],
      "source": [
        "ep_sum = 0.0 # careful to use 0.0 here, instead of 0\n",
        "for ep_val in ep\n",
        "    ep_sum = ep_sum + ep_val\n",
        "end\n",
        "@show ep_mean = ep_sum / length(ep)\n",
        "@show ep_mean ≈ mean(ep)\n",
        "@show ep_mean\n",
        "@show sum(ep) / length(ep)\n",
        "@show sum(ep_val for ep_val in ep) / length(ep); # generator/comprehension"
      ],
      "id": "56bd5259"
    },
    {
      "cell_type": "markdown",
      "metadata": {},
      "source": [
        "## Functions"
      ],
      "id": "79406261-0513-48f1-85e2-c3b00ac24134"
    },
    {
      "cell_type": "code",
      "execution_count": 7,
      "metadata": {},
      "outputs": [
        {
          "output_type": "stream",
          "name": "stdout",
          "text": [
            "[0.7463495308269976, 0.5338035074656687, 2.9039096265360604, 0.35871196907774394, 0.21350558721301977]"
          ]
        }
      ],
      "source": [
        "function generatedata(n)\n",
        "    ep = randn(n) # use built in function\n",
        "    for i in eachindex(ep) # or i in 1:length(ep)\n",
        "        ep[i] = ep[i]^2 # squaring the result\n",
        "    end\n",
        "    return ep\n",
        "end\n",
        "data = generatedata(5)\n",
        "println(data)"
      ],
      "id": "80d5a0de"
    },
    {
      "cell_type": "markdown",
      "metadata": {},
      "source": [
        "## Broadcasting"
      ],
      "id": "176c0d38-5c10-4467-bf27-6c6262eb52b4"
    },
    {
      "cell_type": "code",
      "execution_count": 8,
      "metadata": {},
      "outputs": [
        {
          "output_type": "stream",
          "name": "stdout",
          "text": [
            "generatedata(5) = [1.1831542844067182, 0.04463822847513237, 0.510741182188991, 2.3388197937865765, 1.7162062811359324]\n",
            "generatedata2(5) = [0.2895588138926696, 0.007424259033243613, 1.3910714482889077, 0.23250639604475148, 0.05254887233405326]"
          ]
        }
      ],
      "source": [
        "function generatedata(n)\n",
        "    ep = randn(n) # use built in function\n",
        "    return ep .^ 2\n",
        "end\n",
        "@show generatedata(5)\n",
        "generatedata2(n) = randn(n) .^ 2\n",
        "@show generatedata2(5);"
      ],
      "id": "a39d20e6"
    },
    {
      "cell_type": "markdown",
      "metadata": {},
      "source": [
        "## Higher Order Functions"
      ],
      "id": "9cb845b2-a4b0-480e-9734-151621db7ec8"
    },
    {
      "cell_type": "code",
      "execution_count": 9,
      "metadata": {},
      "outputs": [
        {
          "output_type": "stream",
          "name": "stdout",
          "text": [
            "generatedata3(5, f) = [0.0906920087853425, 0.10313099580528694, 0.6967666720424119, 0.1753094442650859, 0.17537896585382426]"
          ]
        }
      ],
      "source": [
        "generatedata3(n, gen) = gen.(randn(n)) # broadcasts on gen\n",
        "f(x) = x^2 # simple square function\n",
        "@show generatedata3(5, f); # applies f"
      ],
      "id": "592faf99"
    },
    {
      "cell_type": "markdown",
      "metadata": {},
      "source": [
        "## More Plotting Examples"
      ],
      "id": "6a0f3216-b82a-4bf0-aec6-6c83dadcb88c"
    },
    {
      "cell_type": "code",
      "execution_count": 10,
      "metadata": {
        "output-location": "column"
      },
      "outputs": [
        {
          "output_type": "display_data",
          "metadata": {},
          "data": {
            "text/html": [
              "<img src=\"data:image/png;base64,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\" />"
            ]
          }
        }
      ],
      "source": [
        "using Distributions\n",
        "function plothistogram(dist, n)\n",
        "    # n draws from distribution\n",
        "    ep = rand(dist, n) \n",
        "    return histogram(ep;size=(600,400))\n",
        "end\n",
        "dist = Laplace() # dist != dist in function\n",
        "plothistogram(dist, 500)"
      ],
      "id": "e5b6ceeb"
    },
    {
      "cell_type": "markdown",
      "metadata": {},
      "source": [
        "## Changing Types\n",
        "\n",
        "-   The `rand(dist, n)` changes its behavior based on the type of `dist`"
      ],
      "id": "514060a0-3130-4b23-9449-30ec4d2f546d"
    },
    {
      "cell_type": "code",
      "execution_count": 11,
      "metadata": {
        "output-location": "column"
      },
      "outputs": [
        {
          "output_type": "display_data",
          "metadata": {},
          "data": {
            "text/html": [
              "<img src=\"data:image/png;base64,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\" />"
            ]
          }
        }
      ],
      "source": [
        "dist = Normal()\n",
        "plothistogram(Normal(), 500)"
      ],
      "id": "82179c5f"
    },
    {
      "cell_type": "markdown",
      "metadata": {},
      "source": [
        "## Ranges"
      ],
      "id": "4b6cb193-e41c-43cc-b652-373daa13307e"
    },
    {
      "cell_type": "code",
      "execution_count": 12,
      "metadata": {
        "output-location": "column"
      },
      "outputs": [
        {
          "output_type": "stream",
          "name": "stdout",
          "text": [
            "x = 0.0:0.25:1.0\n",
            "Vector(x) = [0.0, 0.25, 0.5, 0.75, 1.0]"
          ]
        },
        {
          "output_type": "display_data",
          "metadata": {},
          "data": {
            "text/html": [
              "<img src=\"data:image/png;base64,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\" />"
            ]
          }
        }
      ],
      "source": [
        "x = range(0.0, 1.0; length = 5)\n",
        "@show x\n",
        "@show Vector(x)\n",
        "plot(x, sqrt.(x);size=(600,400))"
      ],
      "id": "3db49f1b"
    },
    {
      "cell_type": "markdown",
      "metadata": {},
      "source": [
        "## Defining Functions\n",
        "\n",
        "-   You can create anonymous functions as in R, but it is harder for the\n",
        "    compiler because the type `f3` can change. Avoid `->` if name\n",
        "    required"
      ],
      "id": "e6101ab8-d573-44c7-b7ae-285f88300532"
    },
    {
      "cell_type": "code",
      "execution_count": 13,
      "metadata": {},
      "outputs": [
        {
          "output_type": "stream",
          "name": "stdout",
          "text": [
            "(f(2), f2(2), f3(2)) = (4, 4, 4)"
          ]
        }
      ],
      "source": [
        "f(x) = x^2\n",
        "function f2(x)\n",
        "    return x^2\n",
        "end\n",
        "f3 = x -> x^2 # assignment not required\n",
        "@show f(2), f2(2), f3(2);"
      ],
      "id": "8de29ba6"
    },
    {
      "cell_type": "markdown",
      "metadata": {},
      "source": [
        "## Default Arguments"
      ],
      "id": "a69ad2d3-18a7-4c79-b9cb-6e91de9aa87c"
    },
    {
      "cell_type": "code",
      "execution_count": 14,
      "metadata": {},
      "outputs": [
        {
          "output_type": "stream",
          "name": "stdout",
          "text": [
            "f(pi) = 0.36787944117144233\n",
            "f(pi, 2) = 2.718281828459045"
          ]
        }
      ],
      "source": [
        "f(x, a = 1) = exp(cos(a * x))\n",
        "@show f(pi)\n",
        "@show f(pi, 2);"
      ],
      "id": "c059b182"
    },
    {
      "cell_type": "markdown",
      "metadata": {},
      "source": [
        "## Keyword Arguments"
      ],
      "id": "db1296db-909e-4be0-9ff7-bcdd699a04cb"
    },
    {
      "cell_type": "code",
      "execution_count": 15,
      "metadata": {},
      "outputs": [
        {
          "output_type": "stream",
          "name": "stdout",
          "text": [
            "f(pi) = 0.36787944117144233\n",
            "f(pi; a = 2) = 2.718281828459045\n",
            "f(pi; a) = 2.718281828459045"
          ]
        }
      ],
      "source": [
        "f2(x; a = 1) = exp(cos(a * x))  # note the ; in the definition\n",
        "# same as longform\n",
        "function f(x; a = 1)\n",
        "    return exp(cos(a * x))\n",
        "end\n",
        "@show f(pi)\n",
        "@show f(pi; a = 2) # passing in adate\n",
        "a = 2\n",
        "@show f(pi; a); # equivalent to f(pi; a = a)"
      ],
      "id": "5f59be98"
    },
    {
      "cell_type": "markdown",
      "metadata": {},
      "source": [
        "## Closures\n",
        "\n",
        "-   In general, try to avoid globals and closures outside of functions"
      ],
      "id": "da92a4e8-a6e0-4955-982e-da0fe8151225"
    },
    {
      "cell_type": "code",
      "execution_count": 16,
      "metadata": {},
      "outputs": [
        {
          "output_type": "stream",
          "name": "stdout",
          "text": [
            "f(1) = 0.2\n",
            "f(1) = 0.3"
          ]
        }
      ],
      "source": [
        "a = 0.2\n",
        "f(x) = a * x^2  # refers to the `a` in the outer scope\n",
        "@show f(1)\n",
        "# The a is captured in this scope by name.  Careful!\n",
        "a = 0.3\n",
        "@show f(1);"
      ],
      "id": "cb9b0236"
    },
    {
      "cell_type": "markdown",
      "metadata": {},
      "source": [
        "## Closures Inside Functions\n",
        "\n",
        "-   But within a function they are safe, common, and usually free of\n",
        "    overhead"
      ],
      "id": "d2b1f867-c1a3-43b7-be45-7636edc39e06"
    },
    {
      "cell_type": "code",
      "execution_count": 17,
      "metadata": {},
      "outputs": [
        {
          "output_type": "stream",
          "name": "stdout",
          "text": [
            "g(0.2) = 0.2"
          ]
        }
      ],
      "source": [
        "function g(a)\n",
        "    f(x) = a * x^2  # refers to the `a` passed in the function\n",
        "    return f(1)\n",
        "end\n",
        "a = 123.5 # Different scope than the `a` in function\n",
        "@show g(0.2);"
      ],
      "id": "7218e56c"
    },
    {
      "cell_type": "markdown",
      "metadata": {},
      "source": [
        "## Tuples and Named Tuples"
      ],
      "id": "d9808429-be8f-4b89-8834-e4ead3f8affc"
    },
    {
      "cell_type": "code",
      "execution_count": 18,
      "metadata": {},
      "outputs": [
        {
          "output_type": "stream",
          "name": "stdout",
          "text": [
            "t[1] = 1\n",
            "nt = (a = 1, b = 2.0, c = \"hello\")\n",
            "nt.a = 1"
          ]
        }
      ],
      "source": [
        "t = (1, 2.0, \"hello\")\n",
        "@show t[1]\n",
        "nt = (;a = 1, b = 2.0, c = \"hello\")\n",
        "@show nt\n",
        "@show nt.a; # can't use nt[1] or nt[\"a\"]"
      ],
      "id": "f34fabd8"
    },
    {
      "cell_type": "markdown",
      "metadata": {},
      "source": [
        "## Tuples Packing and Unpacking"
      ],
      "id": "66117855-4b7d-435a-bf36-4d98f38b0539"
    },
    {
      "cell_type": "code",
      "execution_count": 19,
      "metadata": {},
      "outputs": [
        {
          "output_type": "stream",
          "name": "stdout",
          "text": [
            "solve_model(0.1) = (a = 0.010000000000000002, b = 0.020000000000000004, c = 0.030000000000000006)\n",
            "a = 0.010000000000000002, c = 0.030000000000000006"
          ]
        }
      ],
      "source": [
        "function solve_model(x)\n",
        "    a = x^2\n",
        "    b = 2 * a\n",
        "    c = a + b\n",
        "    return (; a, b, c)  # note local scope of tuples!\n",
        "end\n",
        "@show solve_model(0.1)\n",
        "# can unpack in different order, or use subset of values\n",
        "(; c, a) = solve_model(0.1)\n",
        "println(\"a = $a, c = $c\");"
      ],
      "id": "6a2aaafe"
    },
    {
      "cell_type": "markdown",
      "metadata": {},
      "source": [
        "## Array Basics"
      ],
      "id": "0c68faed-3e67-4fc6-b8f3-f3d62b77067f"
    },
    {
      "cell_type": "code",
      "execution_count": 20,
      "metadata": {
        "output-location": "column"
      },
      "outputs": [
        {
          "output_type": "stream",
          "name": "stdout",
          "text": [
            "size(b) = (3,)\n",
            "size(A) = (2, 2)\n",
            "typeof(b) = Vector{Float64}\n",
            "typeof(A) = Matrix{Int64}\n",
            "zeros(3) = [0.0, 0.0, 0.0]\n",
            "ones(2, 2) = [1.0 1.0; 1.0 1.0]\n",
            "fill(1.0, 2, 2) = [1.0 1.0; 1.0 1.0]\n",
            "similar(A) = [2397690707408 140731946639072; 2397690707408 140731946639072]\n",
            "A[1, 1] = 1\n",
            "A[1, :] = [1, 2]\n",
            "A[1:end, 1] = [1, 3]"
          ]
        }
      ],
      "source": [
        "b = [1.0, 2.1, 3.0] # 1d array\n",
        "A = [1 2; 3 4] # 2x2 matrix\n",
        "@show size(b)\n",
        "@show size(A)\n",
        "@show typeof(b)\n",
        "@show typeof(A)\n",
        "@show zeros(3)\n",
        "@show ones(2, 2)\n",
        "@show fill(1.0, 2, 2)\n",
        "@show similar(A)\n",
        "@show A[1, 1]\n",
        "@show A[1, :]\n",
        "@show A[1:end, 1];"
      ],
      "id": "e0597ad4"
    },
    {
      "cell_type": "markdown",
      "metadata": {},
      "source": [
        "## Linear Algebra Basics"
      ],
      "id": "2f395573-c520-4bcf-bc7b-749cf9af4a54"
    },
    {
      "cell_type": "code",
      "execution_count": 21,
      "metadata": {
        "output-location": "column"
      },
      "outputs": [
        {
          "output_type": "stream",
          "name": "stdout",
          "text": [
            "A * b = [5, 11]\n",
            "A' = [1 3; 2 4]\n",
            "dot(b, [5.0, 2.0]) = 9.0\n",
            "b' * b = 5\n",
            "Diagonal([1.0, 2.0]) = [1.0 0.0; 0.0 2.0]\n",
            "I = UniformScaling{Bool}(true)\n",
            "inv(A) = [-1.9999999999999996 0.9999999999999998; 1.4999999999999998 -0.4999999999999999]"
          ]
        }
      ],
      "source": [
        "A = [1 2; 3 4]\n",
        "b = [1, 2]\n",
        "@show A * b # Matrix product\n",
        "@show A' # transpose\n",
        "@show dot(b, [5.0, 2.0]) # dot product\n",
        "@show b' * b # dot product\n",
        "@show Diagonal([1.0, 2.0]) # diagonal matrix\n",
        "@show I # identity matrix\n",
        "@show inv(A); # inverse"
      ],
      "id": "2a3e742e"
    },
    {
      "cell_type": "markdown",
      "metadata": {},
      "source": [
        "## Modifying Vectors\n",
        "\n",
        "-   Scalars and tuples/named tuples are immutable\n",
        "-   Vectors and matrices are mutable"
      ],
      "id": "9f3cac3f-1119-4a06-ae05-2338fbd5bc26"
    },
    {
      "cell_type": "code",
      "execution_count": 22,
      "metadata": {
        "output-location": "column"
      },
      "outputs": [
        {
          "output_type": "stream",
          "name": "stdout",
          "text": [
            "A = [2 2; 3 4]\n",
            "b = [2, 2]\n",
            "b = [3, 4]\n",
            "A = [3 4; 3 4]"
          ]
        }
      ],
      "source": [
        "A = [1 2; 3 4]\n",
        "A[1, 1] = 2\n",
        "@show A\n",
        "b = [1, 2]\n",
        "b[1] = 2\n",
        "@show b\n",
        "b .= [3, 4] # otherwise just renamed\n",
        "@show b\n",
        "A[1, :] .= [3, 4] # assign slice\n",
        "@show A;"
      ],
      "id": "729bde3a"
    },
    {
      "cell_type": "markdown",
      "metadata": {},
      "source": [
        "## Learning More\n",
        "\n",
        "-   After this, most of the other material on Julia will become clear as\n",
        "    you go\n",
        "-   This covers part of [Julia\n",
        "    Essentials](https://julia.quantecon.org/getting_started_julia/julia_essentials.html)\n",
        "    and [Fundamental\n",
        "    Types](https://julia.quantecon.org/getting_started_julia/fundamental_types.html)\n",
        "-   Other more advanced lectures, not required for this course, are\n",
        "    -   [Introduction to Types and Generic\n",
        "        Programming](https://julia.quantecon.org/more_julia/generic_programming.html)\n",
        "    -   [Generic\n",
        "        Programming](https://julia.quantecon.org/more_julia/generic_programming.html)\n",
        "    -   [Visual Studio and Other\n",
        "        Tools](https://julia.quantecon.org/software_engineering/tools_editors.html)"
      ],
      "id": "25ff64ee-5d3d-4b73-acfb-c26a33e71a98"
    }
  ],
  "nbformat": 4,
  "nbformat_minor": 5,
  "metadata": {
    "kernelspec": {
      "name": "julia-1.10",
      "display_name": "Julia 1.10.0",
      "language": "julia"
    },
    "language_info": {
      "name": "julia",
      "file_extension": ".jl",
      "mimetype": "application/julia",
      "version": "1.10.0"
    }
  }
}