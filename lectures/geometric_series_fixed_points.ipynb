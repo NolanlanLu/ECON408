{
 "cells": [
  {
   "cell_type": "markdown",
   "id": "d77b2858-5dad-4f20-83bc-46f4c8fe2f54",
   "metadata": {},
   "source": [
    "# ECON408: Computational Methods in Macroeconomics\n",
    "\n",
    "Geometric Series, Fixed Points, and Asset Pricing\n",
    "\n",
    "Jesse Perla (University of British Columbia)\n",
    "\n",
    "# Overview\n",
    "\n",
    "## Motivation and Materials\n",
    "\n",
    "-   In this lecture, we will introduce **fixed points**, practice a\n",
    "    little Julia coding, move on to **geometric series**\n",
    "-   The applications will be to **asset pricing** and **Keynesian\n",
    "    multipliers**\n",
    "    -   Asset pricing, in particular, will be something we come back to\n",
    "        repeatedly as a way to practice our tools\n",
    "-   Even for those not interested in finance, you will see that many\n",
    "    problems are tightly related to asset pricing\n",
    "    -   Human capital accumulation, choosing when to accept jobs, etc.\n",
    "\n",
    "## Materials\n",
    "\n",
    "-   Adapted from QuantEcon lectures coauthored with John Stachurski and\n",
    "    Thomas J. Sargent\n",
    "    -   [Julia by\n",
    "        Example](https://julia.quantecon.org/getting_started_julia/julia_by_example.html)\n",
    "    -   [Geometric Series for Elementary\n",
    "        Economics](https://julia.quantecon.org/tools_and_techniques/geom_series.html)"
   ]
  },
  {
   "cell_type": "code",
   "execution_count": 1,
   "id": "c29e74d9",
   "metadata": {},
   "outputs": [
    {
     "ename": "LoadError",
     "evalue": "ArgumentError: Package Plots not found in current path.\n- Run `import Pkg; Pkg.add(\"Plots\")` to install the Plots package.",
     "output_type": "error",
     "traceback": [
      "ArgumentError: Package Plots not found in current path.\n- Run `import Pkg; Pkg.add(\"Plots\")` to install the Plots package.",
      "",
      "Stacktrace:",
      " [1] macro expansion",
      "   @ Base ./loading.jl:1766 [inlined]",
      " [2] macro expansion",
      "   @ Base ./lock.jl:267 [inlined]",
      " [3] __require(into::Module, mod::Symbol)",
      "   @ Base ./loading.jl:1747",
      " [4] #invoke_in_world#3",
      "   @ Base ./essentials.jl:921 [inlined]",
      " [5] invoke_in_world",
      "   @ Base ./essentials.jl:918 [inlined]",
      " [6] require(into::Module, mod::Symbol)",
      "   @ Base ./loading.jl:1740"
     ]
    }
   ],
   "source": [
    "using LinearAlgebra, Statistics, Plots, Random, Distributions, LaTeXStrings\n",
    "default(;legendfontsize=16)"
   ]
  },
  {
   "cell_type": "markdown",
   "id": "13f9ba31-9ee3-47d1-8fd2-2188df650ac5",
   "metadata": {},
   "source": [
    "# Intro to Fixed Points\n",
    "\n",
    "## Fixed Points\n",
    "\n",
    "-   Fixed points are everywhere!\n",
    "    -   Lets first look at the mechanics and practice code, then apply\n",
    "        them.\n",
    "-   Take a mapping $f : X \\to X$ for some set $X$.\n",
    "    -   If there exists an $x^* \\in X$ such that $f(x^*) = x^*$, then\n",
    "        $x^*$: is called a “fixed point” of $f$\n",
    "-   A fixed point is a property of a function, and may not be unique\n",
    "-   Lets walk through the math, and then practice a little more Julia\n",
    "    coding with them\n",
    "\n",
    "## Simple, Linear Example\n",
    "\n",
    "-   For given scalars $y,\\beta$ and a scalar $v$ of interest\n",
    "\n",
    "$$\n",
    "v = y + \\beta v\n",
    "$$\n",
    "\n",
    "-   If $|\\beta| < 1$, then this can can be solved in closed form as\n",
    "    $v = y/(1 - \\beta)$\n",
    "-   Rearrange the equation in terms of a map\n",
    "    $f : \\mathbb R \\to \\mathbb R$\n",
    "\n",
    "$$\n",
    "f(v) := y + \\beta v\n",
    "$$\n",
    "\n",
    "-   Therefore, a fixed point $f(\\cdot)$ is a solution to the above\n",
    "    problem such that $v = f(v)$\n",
    "\n",
    "## Value Function Iteration\n",
    "\n",
    "-   Consider iteration of the map $f$ starting from an initial condition\n",
    "    $v_0$\n",
    "\n",
    "    $$\n",
    "    v^{n+1} = f(v^n)\n",
    "    $$\n",
    "\n",
    "-   Does this converge? Depends on $f(\\cdot)$, as we will explore in\n",
    "    detail\n",
    "\n",
    "    -   It shouldn’t depend on $v^0$ or there is an issue\n",
    "\n",
    "-   See [Banach’s fixed-point\n",
    "    theorem](https://en.wikipedia.org/wiki/Banach_fixed-point_theorem)\n",
    "\n",
    "## When to Stop Iterating?\n",
    "\n",
    "-   If $v^n$ is a scalar, then we can check convergence by looking at\n",
    "    $|v^{n+1} - v^n|$ with some threshold, which may be problem\n",
    "    dependent\n",
    "    -   If $v^n$ will be a vector, so we should use a norm\n",
    "        $||v^{n+1} - v^n||$\n",
    "    -   e.g. the Euclidean norm, `norm(v_new - v_old)` in Julia\n",
    "-   Keep numerical precision in mind! Can see this in Julia with the\n",
    "    following"
   ]
  },
  {
   "cell_type": "code",
   "execution_count": 2,
   "id": "05db9642",
   "metadata": {},
   "outputs": [
    {
     "name": "stdout",
     "output_type": "stream",
     "text": [
      "eps() = 2.220446049250313e-16\n",
      "1.0 + eps() / 2 > 1.0 = false\n"
     ]
    }
   ],
   "source": [
    "@show eps() #machine epsilon, the smallest number such that 1.0 + eps() > 1.0\n",
    "@show 1.0 + eps()/2 > 1.0;"
   ]
  },
  {
   "cell_type": "markdown",
   "id": "5f99d94f-f30b-498f-924a-3fe9db3d9a72",
   "metadata": {},
   "source": [
    "## Verifying with the Linear Example\n",
    "\n",
    "-   For our simple linear map: $f(v) \\equiv y + \\beta v$\n",
    "\n",
    "-   Iteration becomes $v^{n+1} = y + \\beta v^n$. Iterating backwards $$\n",
    "    v^{n+1} = y + \\beta v^n = y + \\beta y + \\beta^2 v^{n-1} = y \\sum_{i=0}^{n-1} \\beta^i + \\beta^n v_0\n",
    "    $$\n",
    "\n",
    "    -   $\\sum_{i=0}^{n-1} \\beta^i = \\frac{1 - \\beta^n}{1 - \\beta}$ and\n",
    "        $\\sum_{i=0}^{\\infty} \\beta^i = \\frac{1}{1 - \\beta}$ if\n",
    "        $|\\beta| < 1$\n",
    "    -   So $n \\to \\infty$, converges to $v = y/(1 - \\beta)$ for all\n",
    "        $v_0$\n",
    "\n",
    "## Implementing with For Loop"
   ]
  },
  {
   "cell_type": "code",
   "execution_count": 3,
   "id": "8948a704",
   "metadata": {},
   "outputs": [
    {
     "name": "stdout",
     "output_type": "stream",
     "text": [
      "Fixed point = 9.999999081896231  |f(x) - x| = 9.181037796679448e-8 in 154 iterations\n"
     ]
    }
   ],
   "source": [
    "y = 1.0\n",
    "beta = 0.9\n",
    "v_iv = 0.8 # initial condition\n",
    "v_old = v_iv\n",
    "normdiff = Inf\n",
    "iter = 1\n",
    "for i in 1:1000\n",
    "    v_new = y + beta * v_old # the f(v) map\n",
    "    normdiff = norm(v_new - v_old)\n",
    "    if normdiff < 1.0E-7 # check convergence\n",
    "        iter = i\n",
    "        break # converged, exit loop\n",
    "    end\n",
    "    v_old = v_new # replace and continue\n",
    "end\n",
    "println(\"Fixed point = $v_old  |f(x) - x| = $normdiff in $iter iterations\");"
   ]
  },
  {
   "cell_type": "markdown",
   "id": "a05a5818-f96e-4897-9933-c41c854edb0a",
   "metadata": {},
   "source": [
    "## Implementing in Julia with While Loop"
   ]
  },
  {
   "cell_type": "code",
   "execution_count": 4,
   "id": "b0ea05f1",
   "metadata": {},
   "outputs": [
    {
     "name": "stdout",
     "output_type": "stream",
     "text": [
      "Fixed point = 9.999999173706609  |f(x) - x| = 9.181037796679448e-8 in 155 iterations\n"
     ]
    }
   ],
   "source": [
    "v_old = v_iv\n",
    "normdiff = Inf\n",
    "iter = 1\n",
    "while normdiff > 1.0E-7 && iter <= 1000\n",
    "    v_new = y + beta * v_old # the f(v) map\n",
    "    normdiff = norm(v_new - v_old)\n",
    "    v_old = v_new # replace and continue\n",
    "    iter = iter + 1\n",
    "end\n",
    "println(\"Fixed point = $v_old  |f(x) - x| = $normdiff in $iter iterations\")"
   ]
  },
  {
   "cell_type": "markdown",
   "id": "723acbff-4649-42d7-9589-3693fe88bf41",
   "metadata": {},
   "source": [
    "## Avoid Global Variables"
   ]
  },
  {
   "cell_type": "code",
   "execution_count": 5,
   "id": "5e61df53",
   "metadata": {},
   "outputs": [
    {
     "name": "stdout",
     "output_type": "stream",
     "text": [
      "Fixed point = 9.999999173706609 |f(x) - x| = 9.181037796679448e-8 in 155 iterations\n"
     ]
    }
   ],
   "source": [
    "function v_fp(beta, y, v_iv; tolerance = 1.0E-7, maxiter=1000)\n",
    "    v_old = v_iv\n",
    "    normdiff = Inf\n",
    "    iter = 1\n",
    "    while normdiff > tolerance && iter <= maxiter\n",
    "        v_new = y + beta * v_old # the f(v) map\n",
    "        normdiff = norm(v_new - v_old)\n",
    "        v_old = v_new\n",
    "        iter = iter + 1\n",
    "    end\n",
    "    return (v_old, normdiff, iter) # returns a tuple\n",
    "end\n",
    "y = 1.0\n",
    "beta = 0.9\n",
    "v_star, normdiff, iter = v_fp(beta, y, 0.8)\n",
    "println(\"Fixed point = $v_star |f(x) - x| = $normdiff in $iter iterations\")"
   ]
  },
  {
   "cell_type": "markdown",
   "id": "04db50da-1ec9-440d-9099-26a5011650d4",
   "metadata": {},
   "source": [
    "## Use a Higher Order Function and Named Tuple\n",
    "\n",
    "-   Why hardcode the mapping? Pass it in as a function\n",
    "-   Lets add in keyword arguments and use a named tuple for clarity"
   ]
  },
  {
   "cell_type": "code",
   "execution_count": 6,
   "id": "686447db",
   "metadata": {},
   "outputs": [
    {
     "data": {
      "text/plain": [
       "fixedpointmap (generic function with 1 method)"
      ]
     },
     "execution_count": 6,
     "metadata": {},
     "output_type": "execute_result"
    }
   ],
   "source": [
    "function fixedpointmap(f, iv; tolerance = 1.0E-7, maxiter=1000)\n",
    "    x_old = iv\n",
    "    normdiff = Inf\n",
    "    iter = 1\n",
    "    while normdiff > tolerance && iter <= maxiter\n",
    "        x_new = f(x_old) # use the passed in map\n",
    "        normdiff = norm(x_new - x_old)\n",
    "        x_old = x_new\n",
    "        iter = iter + 1\n",
    "    end\n",
    "    return (; value = x_old, normdiff, iter) # A named tuple\n",
    "end"
   ]
  },
  {
   "cell_type": "markdown",
   "id": "544e0532-3139-438f-b2ff-a4e3622bbc44",
   "metadata": {},
   "source": [
    "## Passing in a Function"
   ]
  },
  {
   "cell_type": "code",
   "execution_count": 7,
   "id": "762adc99",
   "metadata": {},
   "outputs": [
    {
     "name": "stdout",
     "output_type": "stream",
     "text": [
      "Fixed point = 9.999999918629035 |f(x) - x| = 9.041219328764782e-9 in 177 iterations\n",
      "Fixed point = 9.999999918629035 |f(x) - x| = 9.041219328764782e-9 in 177 iterations\n"
     ]
    }
   ],
   "source": [
    "y = 1.0\n",
    "beta = 0.9\n",
    "v_initial = 0.8\n",
    "f(v) = y + beta * v # note that y and beta are used in the function!\n",
    "sol = fixedpointmap(f, 0.8; tolerance = 1.0E-8) # don't need to pass\n",
    "println(\"Fixed point = $(sol.value) |f(x) - x| = $(sol.normdiff) in $(sol.iter) iterations\")\n",
    "\n",
    "# Or use unpacking notation for the tuples, using anonymous function\n",
    "(; value, normdiff, iter) = fixedpointmap(v -> y + beta * v, # creates an anonymous \"closure\"\n",
    "                                          v_initial; tolerance = 1.0E-8)\n",
    "println(\"Fixed point = $value |f(x) - x| = $normdiff in $iter iterations\")"
   ]
  },
  {
   "cell_type": "markdown",
   "id": "04e17811-cdfe-495b-91b3-de9905421769",
   "metadata": {},
   "source": [
    "## Other Algorithms\n",
    "\n",
    "-   VFI is instructive, but not always the fastest\n",
    "-   Can also write as a “root finding” problem\n",
    "    -   i.e. $\\hat{f}(x) \\equiv f(x) - x$ so that $\\hat{f}(x^*) = 0$ is\n",
    "        the fixed point\n",
    "    -   These can be especially fast if $\\nabla \\hat{f}(\\cdot)$ is\n",
    "        available\n",
    "-   Another is called Anderson Acceleration\n",
    "    -   The fixed-point iteration we have above is a special case\n",
    "\n",
    "## Use Packages with Better Algorithms\n",
    "\n",
    "-   [NLsolve.jl](https://github.com/JuliaNLSolvers/NLsolve.jl/) has\n",
    "    equations for solving equations (and fixed points)\n",
    "    -   e.g., 3 iterations, not 177, for Andersen Acceleration\n",
    "-   Uses multi-dimensional maps, so can write in that way rather than\n",
    "    scalar"
   ]
  },
  {
   "cell_type": "code",
   "execution_count": 8,
   "id": "9fc795a1",
   "metadata": {},
   "outputs": [
    {
     "ename": "LoadError",
     "evalue": "ArgumentError: Package NLsolve not found in current path.\n- Run `import Pkg; Pkg.add(\"NLsolve\")` to install the NLsolve package.",
     "output_type": "error",
     "traceback": [
      "ArgumentError: Package NLsolve not found in current path.\n- Run `import Pkg; Pkg.add(\"NLsolve\")` to install the NLsolve package.",
      "",
      "Stacktrace:",
      " [1] macro expansion",
      "   @ Base ./loading.jl:1766 [inlined]",
      " [2] macro expansion",
      "   @ Base ./lock.jl:267 [inlined]",
      " [3] __require(into::Module, mod::Symbol)",
      "   @ Base ./loading.jl:1747",
      " [4] #invoke_in_world#3",
      "   @ Base ./essentials.jl:921 [inlined]",
      " [5] invoke_in_world",
      "   @ Base ./essentials.jl:918 [inlined]",
      " [6] require(into::Module, mod::Symbol)",
      "   @ Base ./loading.jl:1740"
     ]
    }
   ],
   "source": [
    "using NLsolve\n",
    "# best style\n",
    "y = 1.0\n",
    "beta = 0.9\n",
    "iv = [0.8] # note move to array\n",
    "f(v) = y .+ beta * v # note that y and beta are used in the function!\n",
    "sol = fixedpoint(f, iv) # uses Anderson Acceleration\n",
    "fnorm = norm(f(sol.zero) .- sol.zero)\n",
    "println(\"Fixed point = $(sol.zero) |f(x) - x| = $fnorm  in $(sol.iterations) iterations\")"
   ]
  },
  {
   "cell_type": "markdown",
   "id": "c1f7fb31-fcf7-4c4d-9b1f-e1ac6e1fa18b",
   "metadata": {},
   "source": [
    "# Geometric Series and PDVs\n",
    "\n",
    "## Geometric Series\n",
    "\n",
    "-   Finite geometric series\n",
    "\n",
    "$$\n",
    "1 + c + c^2 + c^3 + \\cdots + c^T  = \\frac{1 - c^{T+1}}{1-c}\n",
    "$$\n",
    "\n",
    "-   Infinite geometric series, requiring $|c| < 1$\n",
    "\n",
    "$$\n",
    "1 + c + c^2 + c^3 + \\cdots = \\frac{1}{1 -c }\n",
    "$$\n",
    "\n",
    "## Discounting\n",
    "\n",
    "-   In discrete time, $t = 0, 1, 2, \\ldots$\n",
    "-   Let $r > 0$ be a one-period **net nominal interest rate**\n",
    "-   A one-period **gross nominal interest rate** $R$ is defined as $$\n",
    "    R = 1 + r > 1\n",
    "    $$\n",
    "-   If the nominal interest rate is $5$ percent, then $r= 0.05$ and\n",
    "    $R = 1.05$\n",
    "\n",
    "## Interpretation as Prices\n",
    "\n",
    "-   The gross nominal interest rate $R$ is an **exchange rate** or\n",
    "    **relative price** of dollars at between times $t$ and $t+1$. The\n",
    "    units of $R$ are dollars at time $t+1$ per dollar at time $t$.\n",
    "-   When people borrow and lend, they trade dollars now for dollars\n",
    "    later or dollars later for dollars now.\n",
    "-   The price at which these exchanges occur is the gross nominal\n",
    "    interest rate.\n",
    "    -   If I sell $x$ dollars to you today, you pay me $R x$ dollars\n",
    "        tomorrow.\n",
    "    -   This means that you borrowed $x$ dollars for me at a gross\n",
    "        interest rate $R$ and a net interest rate $r$.\n",
    "-   In equilibrium, the prices for borrowing and lending should be\n",
    "    related\n",
    "\n",
    "## Where do Interest Rates Come From?\n",
    "\n",
    "-   More later, but consider connection to a discount factor\n",
    "    $\\beta \\in (0,1)$ in **consumer preferences**\n",
    "-   This represents how much consumers value future consumption tomorrow\n",
    "    relative to today\n",
    "-   In some simple cases $R^{-1} = \\beta$ makes sense\n",
    "    -   Much more later, including how to think about cases with\n",
    "        randomness\n",
    "-   For now, just use $R^{-1}$ directly as a discount factor, thinking\n",
    "    about risk-neutrality\n",
    "\n",
    "## Accumulation\n",
    "\n",
    "-   $x, x R, x R^2, \\cdots$ tells us how investment of $x$ dollar value\n",
    "    of an investment **accumulate** through time. Compounding\n",
    "-   Reinvested in the project (i.e., compounding)\n",
    "    -   thus, $1$ dollar invested at time $0$ pays interest $r$ dollars\n",
    "        after one period, so we have $r+1 = R$ dollars at time $1$\n",
    "    -   at time $1$ we reinvest $1+r =R$ dollars and receive interest of\n",
    "        $r R$ dollars at time $2$ plus the **principal** $R$ dollars, so\n",
    "        we receive $r R + R = (1+r)R = R^2$ dollars at the end of period\n",
    "        $2$\n",
    "\n",
    "## Discounting\n",
    "\n",
    "-   $1, R^{-1}, R^{-2}, \\cdots$ tells us how to **discount** future\n",
    "    dollars to get their values in terms of today’s dollars.\n",
    "-   Tells us how much future dollars are worth in terms of today’s\n",
    "    dollars.\n",
    "-   Remember that the units of $R$ are dollars at $t+1$ per dollar at\n",
    "    $t$.\n",
    "    -   the units of $R^{-1}$ are dollars at $t$ per dollar at $t+1$\n",
    "    -   the units of $R^{-2}$ are dollars at $t$ per dollar at $t+2$\n",
    "    -   and so on; the units of $R^{-j}$ are dollars at $t$ per dollar\n",
    "        at $t+j$\n",
    "\n",
    "## Asset Pricing\n",
    "\n",
    "-   An asset has payments stream of $y_t$ dollars at times\n",
    "    $t = 0, 1, 2, \\ldots, G \\equiv 1+g, g > 0$ and $G < R \\equiv 1 + r$\n",
    "\n",
    "    $$\n",
    "    y_t = G^t y_0\n",
    "    $$\n",
    "\n",
    "    -   i.e. grows at $g$ percent, discounted at $r$ percent\n",
    "\n",
    "-   The **present value** of the asset is\n",
    "\n",
    "    $$\n",
    "    \\begin{aligned} \n",
    "    p_0  & = y_0 + y_1/R + y_2/(R^2) + \\cdots = \\sum_{t=0}^{\\infty} y_t (1/R)^t = \\sum_{t=0}^{\\infty} y_0 G^t (1/R)^t \\\\\n",
    "    &= \\sum_{t=0}^{\\infty} y_0 (G/R)^t = y_0/(1 - G R^{-1})\n",
    "    \\end{aligned}\n",
    "    $$\n",
    "\n",
    "## Gordon Formula\n",
    "\n",
    "-   For small $r$ and $g$, use a Taylor series or $r g \\approx 0$ to get\n",
    "\n",
    "    $$\n",
    "    G R^{-1} \\approx 1 + g - r\n",
    "    $$\n",
    "\n",
    "-   Hence,\n",
    "\n",
    "$$\n",
    "p_0  = y_0/(1 - (1+g)/(1+r)) \\approx y_0 / (r - g)\n",
    "$$\n",
    "\n",
    "## Assets with Finite Lives\n",
    "\n",
    "-   Consider an asset that pays $y_t = 0$ for $t > T$ and $y_t = y$ for\n",
    "    $t \\leq T$\n",
    "\n",
    "-   The present value is\n",
    "\n",
    "    $$\n",
    "    \\begin{aligned} \n",
    "    p_0  & \\sum_{t=0}^{T} y_t (1/R)^t = \\sum_{t=0}^{T} y_0 G^t (1/R)^t \\\\\n",
    "    &= \\sum_{t=0}^{T} y_0 (G/R)^t = y_0\\frac{1 - (G/R)^{T+1}}{1 - G/R}\n",
    "    \\end{aligned}\n",
    "    $$\n",
    "\n",
    "-   How large is $(G/R)^{T+1}$?\n",
    "\n",
    "    -   If small, then infinite horizon may be a good approximation\n",
    "\n",
    "## Is Infinite Horizon a Reasonable Approximation?\n",
    "\n",
    "-   Implement these in code to compare"
   ]
  },
  {
   "cell_type": "code",
   "execution_count": 9,
   "id": "8ecfbb20",
   "metadata": {},
   "outputs": [
    {
     "name": "stdout",
     "output_type": "stream",
     "text": [
      "infinite_payoffs(0.01, 0.05, 1.0) = 26.24999999999994\n",
      "finite_payoffs(100, 0.01, 0.05, 1.0) = 25.73063957477331\n"
     ]
    }
   ],
   "source": [
    "infinite_payoffs(g, r, y_0) = y_0 / (1 - (1 + g) * (1 + r)^(-1))\n",
    "function finite_payoffs(T, g, r, y_0)\n",
    "    G = 1 + g\n",
    "    R = 1 + r\n",
    "    return (y_0 * (1 - G^(T + 1) * R^(-T - 1))) / (1 - G * R^(-1))\n",
    "end\n",
    "@show infinite_payoffs(0.01, 0.05, 1.0)\n",
    "@show finite_payoffs(100, 0.01, 0.05, 1.0);"
   ]
  },
  {
   "cell_type": "markdown",
   "id": "72b874ca-970c-48e0-b2df-55097b1c1ff2",
   "metadata": {},
   "source": [
    "## Comparing Different Horizons"
   ]
  },
  {
   "cell_type": "code",
   "execution_count": 10,
   "id": "de468938",
   "metadata": {
    "output-location": "column"
   },
   "outputs": [
    {
     "ename": "LoadError",
     "evalue": "LoadError: UndefVarError: `@L_str` not defined\nin expression starting at In[10]:9",
     "output_type": "error",
     "traceback": [
      "LoadError: UndefVarError: `@L_str` not defined\nin expression starting at In[10]:9",
      ""
     ]
    }
   ],
   "source": [
    "g = 0.01\n",
    "r = 0.05\n",
    "y_0 = 1.0\n",
    "T = 100\n",
    "# broadcast over 0:T\n",
    "p_finite = finite_payoffs.(0:T, g, r, y_0)\n",
    "p_infinite = infinite_payoffs(g, r, y_0)\n",
    "plot(0:T, p_finite,xlabel = \"T\",\n",
    "     label= L\"p_0(T)\", size = (600,400))\n",
    "hline!([p_infinite], linestyle = :dash,\n",
    "       label = L\"p_0(\\infty)\")"
   ]
  },
  {
   "cell_type": "markdown",
   "id": "d592bcec-5822-4752-a058-f89cf60f2f1a",
   "metadata": {},
   "source": [
    "## Discounting vs. Growth\n",
    "\n",
    "-   For $T = \\infty$, we assumed that $G R^{-1} < 1$, or approximately\n",
    "    $g < r$"
   ]
  },
  {
   "cell_type": "code",
   "execution_count": 11,
   "id": "30a404f1",
   "metadata": {
    "output-location": "slide"
   },
   "outputs": [
    {
     "ename": "LoadError",
     "evalue": "LoadError: UndefVarError: `@L_str` not defined\nin expression starting at In[11]:3",
     "output_type": "error",
     "traceback": [
      "LoadError: UndefVarError: `@L_str` not defined\nin expression starting at In[11]:3",
      ""
     ]
    }
   ],
   "source": [
    "T = 10\n",
    "y_0 = 1.0\n",
    "plot(title = L\"Present Value $p_0(T)$\", legend = :topleft, xlabel = \"T\")\n",
    "plot!(finite_payoffs.(0:T, 0.4, 0.9, y_0),\n",
    "      label = L\"r=0.9 \\gg 0.4 = g\")\n",
    "plot!(finite_payoffs.(0:T, 0.4, 0.5, y_0), label = L\"r=0.5 > 0.4 = g\")\n",
    "plot!(finite_payoffs.(0:T, 0.4, 0.4001, y_0),\n",
    "      label = L\"r=0.4001 \\approx 0.4 = g\")\n",
    "plot!(finite_payoffs.(0:T, 0.5, 0.4, y_0), label = L\"r=0.4 < 0.5 = g\")"
   ]
  },
  {
   "cell_type": "markdown",
   "id": "eac6b2ba-6e4a-48ce-848a-8c42642e5696",
   "metadata": {},
   "source": [
    "# Asset Pricing and Fixed Points\n",
    "\n",
    "## Rewriting our Problem\n",
    "\n",
    "-   Lets write a version of the model where $G = 1, y_0 = \\bar{y}$, and\n",
    "    relabel $\\beta \\equiv 1/R$\n",
    "\n",
    "-   The asset price, $p_t$ starting at any $t$ is\n",
    "\n",
    "    $$\n",
    "    p_t = \\sum_{j = 0}^{\\infty}\\beta^j \\bar{y}\n",
    "    $$\n",
    "\n",
    "    -   We also know this is $p_t = \\frac{\\bar{y}}{1 - \\beta}$ but lets\n",
    "        temporarily forget that\n",
    "\n",
    "-   Since this definition works at any $t$,\n",
    "\n",
    "    $$\n",
    "    \\begin{aligned}\n",
    "    p_t &= \\bar{y} + \\beta \\bar{y} + \\beta^2 \\bar{y} + \\cdots\\\\\n",
    "    &= \\bar{y} + \\beta \\left(\\bar{y} + \\beta\\bar{y} + \\cdots\\right)\\\\\n",
    "     &= \\bar{y} + \\beta p_{t+1}\n",
    "    \\end{aligned}\n",
    "    $$\n",
    "\n",
    "## Recursive Formulation\n",
    "\n",
    "-   This shows that the PDV formula fulfills a recursive equation in\n",
    "    $p_t$\n",
    "\n",
    "$$\n",
    "p_t = \\bar{y} + \\beta p_{t+1}\n",
    "$$\n",
    "\n",
    "-   We could also check that $p_t = \\frac{\\bar{y}}{1 - \\beta}$ fulfills\n",
    "    this equation\n",
    "-   There are be other $p_t$ which fulfill it, but we won’t explore that\n",
    "    here\n",
    "-   In cases where the price is time-invariant, write this as a fixed\n",
    "    point\n",
    "\n",
    "$$\n",
    "p = \\bar{y} + \\beta p \\equiv f(p)\n",
    "$$\n",
    "\n",
    "## Recursive Interpretation\n",
    "\n",
    "$$\n",
    "p_t = y_t + \\beta p_{t+1}\n",
    "$$\n",
    "\n",
    "-   The price $p_t$ is the sum of\n",
    "    -   The payoffs you get that period\n",
    "    -   The discounted price of how much you can sell it next period\n",
    "\n",
    "## Solving Numerically"
   ]
  },
  {
   "cell_type": "code",
   "execution_count": 12,
   "id": "8cb00207",
   "metadata": {},
   "outputs": [
    {
     "ename": "LoadError",
     "evalue": "UndefVarError: `fixedpoint` not defined",
     "output_type": "error",
     "traceback": [
      "UndefVarError: `fixedpoint` not defined",
      "",
      "Stacktrace:",
      " [1] top-level scope",
      "   @ In[12]:5"
     ]
    }
   ],
   "source": [
    "y_bar = 1.0\n",
    "beta = 0.9\n",
    "iv = [0.8]\n",
    "f(p) = y_bar .+ beta * p\n",
    "sol = fixedpoint(f, iv) # uses Anderson Acceleration\n",
    "@show y_bar/(1 - beta), sol.zero;"
   ]
  },
  {
   "cell_type": "markdown",
   "id": "bd2cfc04-aab5-4aef-b5e7-d0aaad93e5d6",
   "metadata": {},
   "source": [
    "## A More Complicated Example\n",
    "\n",
    "-   Instead $\\bar{y}$, asset may pay $y_L$ or $y_H$\n",
    "    -   You don’t know the payoff $y_{t+1}$ until $t+1$ occurs\n",
    "    -   You need to assign some probabilities of each occuring\n",
    "-   As with the previous example, lets assume you hold onto the asset\n",
    "    only a single period, then sell it\n",
    "    -   Naturally, the value of the asset to both you and others depends\n",
    "        on $y_{t+1}$\n",
    "    -   We will see much more in [future\n",
    "        lectures](https://julia.quantecon.org/multi_agent_models/markov_asset.html)\n",
    "\n",
    "## Recursive Formulation\n",
    "\n",
    "-   Assume two prices: $p_L$ and $p_H$ for the asset depending on the\n",
    "    $y_t$ $$\n",
    "    \\begin{aligned}\n",
    "    p_L &= y_L + \\beta \\left[ 0.5 p_L + 0.5 p_H \\right]\\\\\n",
    "    p_H &= y_H + \\beta \\left[ 0.5 p_L + 0.5 p_H \\right]\n",
    "    \\end{aligned}\n",
    "    $$\n",
    "\n",
    "-   Stack $p \\equiv \\begin{bmatrix} p_L & p_H \\end{bmatrix}^{\\top}$ and\n",
    "    $y \\equiv \\begin{bmatrix} y_L & y_H \\end{bmatrix}^{\\top}$\n",
    "\n",
    "    $$\n",
    "    p = y + \\beta \\begin{bmatrix} 0.5 & 0.5 \\\\ 0.5 & 0.5 \\end{bmatrix} p\n",
    "    $$\n",
    "\n",
    "    -   We will see later how to write as a mathematical expectation\n",
    "\n",
    "-   We could solve this as a linear equation, but lets use a fixed point\n",
    "\n",
    "## Solving Numerically with a Fixed Point"
   ]
  },
  {
   "cell_type": "code",
   "execution_count": 13,
   "id": "50e9e7ff",
   "metadata": {},
   "outputs": [
    {
     "ename": "LoadError",
     "evalue": "UndefVarError: `fixedpoint` not defined",
     "output_type": "error",
     "traceback": [
      "UndefVarError: `fixedpoint` not defined",
      "",
      "Stacktrace:",
      " [1] top-level scope",
      "   @ In[13]:5"
     ]
    }
   ],
   "source": [
    "y = [0.5, 1.5] #y_L, y_H\n",
    "beta = 0.9\n",
    "iv = [0.8, 0.8]\n",
    "A = [0.5 0.5; 0.5 0.5]\n",
    "sol = fixedpoint(p -> y .+ beta * A * p, iv) # f(p) := y + beta A p\n",
    "p_L, p_H = sol.zero # can unpack a vector\n",
    "@show p_L, p_H, sol.iterations\n",
    "# p = y + beta A p =>  (I - beta A) p = y => p = (I - beta A)^{-1} y\n",
    "@show (I - beta * A) \\ y; # or $inv(I - beta * A) * y"
   ]
  },
  {
   "cell_type": "markdown",
   "id": "b0dd0da1-8015-4934-9af6-0befaa978795",
   "metadata": {},
   "source": [
    "# Keynesian Multipliers\n",
    "\n",
    "## Model without Prices\n",
    "\n",
    "-   $c$: **consumption**, $i$: **investment**, $g$: **government\n",
    "    expenditures**, $y$ **national income**\n",
    "-   Prices don’t adjust/exit to clear markets\n",
    "    -   **Excess supply** of labor and capital (unemployment and unused\n",
    "        capital)\n",
    "    -   Prices and interest rates fail to adjust to make aggregate\n",
    "        **supply equal demand** (e.g., prices and interest rates are\n",
    "        frozen)\n",
    "    -   National income entirely determined by aggregate demand,\n",
    "        $\\uparrow c\\implies \\uparrow y$\n",
    "\n",
    "## Simple Model\n",
    "\n",
    "-   **Assume**: consume a fixed fraction $0 < b < 1$ of the national\n",
    "    income $y_t$\n",
    "    -   $b$ is the **marginal propensity to consume (MPC)**\n",
    "    -   $1-b$ is the **marginal propensity to save**\n",
    "    -   Modern macro would have $b$ adjust to reflect prices, consumer\n",
    "        preferences, etc. and add in prices/production functions\n",
    "-   Leads to three equations in this basic model\n",
    "    -   An accounting identity for the national income, the investment\n",
    "        choice, and the consumer choice above\n",
    "\n",
    "## Equations\n",
    "\n",
    "-   **National income** is an accounting identity: the sum of\n",
    "    consumption, investment, and government expenditures is the national\n",
    "    income\n",
    "\n",
    "    $$\n",
    "    y_t = c_t + i_t + g_t\n",
    "    $$\n",
    "\n",
    "-   **Investment** is the sum of private investment and government\n",
    "    investment. Assume it is fixed here at $i$ and $g$\n",
    "\n",
    "-   **Consumption** $c_t = b y_{t-1}$, i.e. lag on last periods\n",
    "    income/output\n",
    "\n",
    "## Dynamics of Income and Consumption\n",
    "\n",
    "-   Substituting the consumption equation into the national income\n",
    "    equation\n",
    "\n",
    "    $$\n",
    "    \\begin{aligned}\n",
    "    y_t &= c_t + i + g\\\\\n",
    "    y_t &= b y_{t-1} + i + g\\\\\n",
    "    y_t &= b (b y_{t-2} + i + g) + i + g\\\\\n",
    "    y_t &= b^2 y_{t-2} + b (i + g) + (i + g)\n",
    "    \\end{aligned}\n",
    "    $$\n",
    "\n",
    "-   Iterative backwards to a $y_0$,\n",
    "\n",
    "$$\n",
    "y_t = \\sum_{j=0}^{t-1} b^j (i + g) + b^t y_0 = \\frac{1 - b^{t}}{1 - b} (i + g) + b^t y_0\n",
    "$$\n",
    "\n",
    "## Keynesian Multiplier\n",
    "\n",
    "-   Take limit as $t \\to \\infty$ to get\n",
    "\n",
    "    $$\n",
    "    \\lim_{t\\to\\infty}y_t = \\frac{1}{1 - b} (i + g)\n",
    "    $$\n",
    "\n",
    "-   Define the **Keynesian multiplier** is $1/(1-b)$\n",
    "\n",
    "    -   More consumption delivers higher income, which delivers more\n",
    "        consumption, compounding…\n",
    "    -   $i \\to i + \\Delta$ implies $y \\to y + \\Delta/(1-b)$. Same with\n",
    "        $g$\n",
    "\n",
    "-   Is this correct (or useful) of a model?\n",
    "\n",
    "    -   Probably not…gives intuition for more believable models\n",
    "    -   Lets us practice difference equations\n",
    "\n",
    "## Iterating the Difference Equations\n",
    "\n",
    "$$\n",
    "y_t = b y_{t-1} + i + g\n",
    "$$"
   ]
  },
  {
   "cell_type": "code",
   "execution_count": 14,
   "id": "f043f21d",
   "metadata": {},
   "outputs": [
    {
     "data": {
      "text/plain": [
       "y_limit (generic function with 1 method)"
      ]
     },
     "execution_count": 14,
     "metadata": {},
     "output_type": "execute_result"
    }
   ],
   "source": [
    "function calculate_y(i, b, g, T, y_0)\n",
    "    y = zeros(T + 1)\n",
    "    y[1] = i + b * y_0 + g\n",
    "    for t in 2:(T + 1)\n",
    "        y[t] = b * y[t - 1] + i + g\n",
    "    end\n",
    "    return y\n",
    "end\n",
    "y_limit(i, b, g) = (i + g) / (1 - b)"
   ]
  },
  {
   "cell_type": "markdown",
   "id": "52ef0484-87eb-4b6c-8402-5a29dbc1bb3e",
   "metadata": {},
   "source": [
    "## Plotting Dynamics"
   ]
  },
  {
   "cell_type": "code",
   "execution_count": 15,
   "id": "cfc93883",
   "metadata": {
    "output-location": "column"
   },
   "outputs": [
    {
     "ename": "LoadError",
     "evalue": "LoadError: UndefVarError: `@L_str` not defined\nin expression starting at In[15]:8",
     "output_type": "error",
     "traceback": [
      "LoadError: UndefVarError: `@L_str` not defined\nin expression starting at In[15]:8",
      ""
     ]
    }
   ],
   "source": [
    "i_0 = 0.3\n",
    "g_0 = 0.3\n",
    "b = 2/3 # = MPC out of income\n",
    "y_0 = 0\n",
    "T = 100\n",
    "plot(0: T,calculate_y(i_0, b, g_0, T, y_0);\n",
    "     title = \"Aggregate Output\",\n",
    "     size=(600,400), xlabel = L\"t\",\n",
    "     label = L\"y_t\")\n",
    "hline!([y_limit(i_0, b, g_0)];\n",
    "       linestyle = :dash,\n",
    "       label = L\"y_{\\infty}\")"
   ]
  },
  {
   "cell_type": "markdown",
   "id": "07b63446-e201-4cea-9e6e-a62f10534507",
   "metadata": {},
   "source": [
    "## MPCs"
   ]
  },
  {
   "cell_type": "code",
   "execution_count": 16,
   "id": "b7fccf06",
   "metadata": {
    "output-location": "slide"
   },
   "outputs": [
    {
     "ename": "LoadError",
     "evalue": "LoadError: UndefVarError: `@L_str` not defined\nin expression starting at In[16]:3",
     "output_type": "error",
     "traceback": [
      "LoadError: UndefVarError: `@L_str` not defined\nin expression starting at In[16]:3",
      ""
     ]
    }
   ],
   "source": [
    "bs = round.([1 / 3, 2 / 3, 5 / 6, 0.9], digits = 2)\n",
    "plt = plot(title = \"Changing Consumption as a Fraction of Income\",\n",
    "           xlabel = L\"t\", ylabel = L\"y_t\", legend = :topleft)\n",
    "[plot!(plt, 0:T, calculate_y(i_0, b, g_0, T, y_0), label = L\"b = %$b\")\n",
    " for b in bs]\n",
    "plt"
   ]
  },
  {
   "cell_type": "markdown",
   "id": "458fe0bd-ee42-41aa-8244-0b141140d906",
   "metadata": {},
   "source": [
    "## Governments Can (Magically) Expand Output\n",
    "\n",
    "-   Remember the limitation is that demand is too low and there is\n",
    "    excess supply of labor and/or capital\n",
    "-   What if the government increases $g$ by $\\Delta$?\n",
    "    $y \\to y + \\Delta/(1-b)$\n",
    "-   Assume we start at the $y_{\\infty}$ for the $g=0.3$\n",
    "    -   Then we simulate dynamics for a permanent change to $g_1 = 0.4$\n",
    "\n",
    "## Plotting Dynamics for Government Intervention"
   ]
  },
  {
   "cell_type": "code",
   "execution_count": 17,
   "id": "81789d03",
   "metadata": {
    "output-location": "column",
    "tags": []
   },
   "outputs": [
    {
     "ename": "LoadError",
     "evalue": "LoadError: UndefVarError: `@L_str` not defined\nin expression starting at In[17]:7",
     "output_type": "error",
     "traceback": [
      "LoadError: UndefVarError: `@L_str` not defined\nin expression starting at In[17]:7",
      ""
     ]
    }
   ],
   "source": [
    "y_lim = y_limit(i_0, b, g_0)\n",
    "Delta_g = 0.1\n",
    "y_1 = calculate_y(i_0, b,\n",
    "                  g_0 + Delta_g,\n",
    "                  T, y_lim) \n",
    "plot(0: T, y_1, title = \"Aggregate Output\",\n",
    "     size=(600,400), xlabel = L\"t\",\n",
    "     label = L\"y_t\")"
   ]
  },
  {
   "cell_type": "code",
   "execution_count": null,
   "id": "adebbfa4-5a08-4222-b18e-8f89ea994b32",
   "metadata": {},
   "outputs": [],
   "source": []
  }
 ],
 "metadata": {
  "kernelspec": {
   "display_name": "Julia 1.10.0",
   "language": "julia",
   "name": "julia-1.10"
  },
  "language_info": {
   "file_extension": ".jl",
   "mimetype": "application/julia",
   "name": "julia",
   "version": "1.10.0"
  }
 },
 "nbformat": 4,
 "nbformat_minor": 5
}
