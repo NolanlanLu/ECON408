{
  "cells": [
    {
      "cell_type": "markdown",
      "metadata": {},
      "source": [
        "# ECON408: Computational Methods in Macroeconomics\n",
        "\n",
        "To use with Jupyter, clone the repository or download the notebooks.\n",
        "\n",
        "# Lectures\n",
        "\n",
        "1.  <a href=\"intro.html\" target=\"_blank\">Introduction</a>,\n",
        "    <a href=\"intro.ipynb\" target=\"_blank\">Jupyter</a>,\n",
        "    <a href=\"intro.pdf\" target=\"_blank\">PDF</a>\n",
        "2.  <a href=\"geometric_series_fixed_points.html\" target=\"_blank\">Geometric\n",
        "    Series, Fixed Points, and Asset Pricing</a>,\n",
        "    <a href=\"geometric_series_fixed_points.ipynb\"\n",
        "    target=\"_blank\">Jupyter</a>,\n",
        "    <a href=\"geometric_series_fixed_points.pdf\" target=\"_blank\">PDF</a>\n",
        "3.  <a href=\"deterministic_dynamics.html\" target=\"_blank\">Deterministic\n",
        "    Dynamics and Introduction to Growth Models</a>,\n",
        "    <a href=\"deterministic_dynamics.ipynb\" target=\"_blank\">Jupyter</a>,\n",
        "    <a href=\"deterministic_dynamics.pdf\" target=\"_blank\">PDF</a>\n",
        "4.  <a href=\"stochastic_dynamics.html\" target=\"_blank\">Stochastic Dynamics,\n",
        "    AR(1) Processes, and Ergodicity</a>,\n",
        "    <a href=\"stochastic_dynamics.ipynb\" target=\"_blank\">Jupyter</a>,\n",
        "    <a href=\"stochastic_dynamics.pdf\" target=\"_blank\">PDF</a>\n",
        "5.  <a href=\"wealth_distribution_firm_dynamics.html\" target=\"_blank\">Wealth\n",
        "    Distribution, Firm Dynamics, and Inequality</a>,\n",
        "    <a href=\"wealth_distribution_firm_dynamics.ipynb\"\n",
        "    target=\"_blank\">Jupyter</a>,\n",
        "    <a href=\"wealth_distribution_firm_dynamics.pdf\" target=\"_blank\">PDF</a>\n",
        "6.  <a href=\"linear_state_space_models.html\" target=\"_blank\">Linear State\n",
        "    Space Models, Asset Pricing, and the Kalman Filter</a>,\n",
        "    <a href=\"linear_state_space_models.ipynb\" target=\"_blank\">Jupyter</a>,\n",
        "    <a href=\"linear_state_space_models.pdf\" target=\"_blank\">PDF</a>\n",
        "7.  <a href=\"permanent_income.html\" target=\"_blank\">Optimal Consumption,\n",
        "    Savings, and the Permanent Income Model</a>,\n",
        "    <a href=\"permanent_income.ipynb\" target=\"_blank\">Jupyter</a>,\n",
        "    <a href=\"permanent_income.pdf\" target=\"_blank\">PDF</a>"
      ],
      "id": "fedf3515-3e75-42bb-9160-6cb3781c1c1b"
    }
  ],
  "nbformat": 4,
  "nbformat_minor": 5,
  "metadata": {
    "kernelspec": {
      "display_name": "Python 3",
      "language": "python",
      "name": "python3"
    }
  }
}