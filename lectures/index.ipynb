{
  "cells": [
    {
      "cell_type": "markdown",
      "metadata": {},
      "source": [
        "# ECON408: Computational Methods in Macroeconomics\n",
        "\n",
        "To use with Jupyter, clone the repository or download the notebooks.\n",
        "\n",
        "# Lectures\n",
        "\n",
        "1.  <a href=\"intro.html\" target=\"_blank\">Introduction</a>,\n",
        "    <a href=\"intro.ipynb\" target=\"_blank\">Jupyter</a>,\n",
        "    <a href=\"intro.pdf\" target=\"_blank\">PDF</a>\n",
        "2.  <a href=\"geometric_series_fixed_points.html\" target=\"_blank\">Geometric\n",
        "    Series, Fixed Points, and Asset Pricing</a>,\n",
        "    <a href=\"geometric_series_fixed_points.ipynb\"\n",
        "    target=\"_blank\">Jupyter</a>,\n",
        "    <a href=\"geometric_series_fixed_points.pdf\" target=\"_blank\">PDF</a>\n",
        "3.  <a href=\"deterministic_dynamics.html\" target=\"_blank\">Deterministic\n",
        "    Dynamics and Introduction to Growth Models</a>,\n",
        "    <a href=\"deterministic_dynamics.ipynb\" target=\"_blank\">Jupyter</a>,\n",
        "    <a href=\"deterministic_dynamics.pdf\" target=\"_blank\">PDF</a>"
      ],
      "id": "149088b9-366b-443c-9ac4-3bb5c150416f"
    }
  ],
  "nbformat": 4,
  "nbformat_minor": 5,
  "metadata": {
    "kernelspec": {
      "display_name": "Python 3",
      "language": "python",
      "name": "python3"
    }
  }
}