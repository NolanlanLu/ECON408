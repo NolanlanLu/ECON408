{
  "cells": [
    {
      "cell_type": "markdown",
      "metadata": {},
      "source": [
        "# ECON408: Computational Methods in Macroeconomics\n",
        "\n",
        "To use with Jupyter, clone the repository or download the notebooks.\n",
        "\n",
        "# Lectures\n",
        "\n",
        "1.  <a href=\"intro.html\" target=\"_blank\">Introduction</a>,\n",
        "    <a href=\"intro.ipynb\" target=\"_blank\">Jupyter</a>,\n",
        "    <a href=\"intro.pdf\" target=\"_blank\">PDF</a>\n",
        "2.  <a href=\"geometric_series_fixed_points.html\" target=\"_blank\">Geometric\n",
        "    Series, Fixed Points, and Asset Pricing</a>,\n",
        "    <a href=\"geometric_series_fixed_points.ipynb\"\n",
        "    target=\"_blank\">Jupyter</a>,\n",
        "    <a href=\"geometric_series_fixed_points.pdf\" target=\"_blank\">PDF</a>\n",
        "3.  <a href=\"deterministic_dynamics.html\" target=\"_blank\">Deterministic\n",
        "    Dynamics and Introduction to Growth Models</a>,\n",
        "    <a href=\"deterministic_dynamics.ipynb\" target=\"_blank\">Jupyter</a>,\n",
        "    <a href=\"deterministic_dynamics.pdf\" target=\"_blank\">PDF</a>\n",
        "4.  <a href=\"stochastic_dynamics.html\" target=\"_blank\">Stochastic Dynamics,\n",
        "    AR(1) Processes, and Ergodicity</a>,\n",
        "    <a href=\"stochastic_dynamics.ipynb\" target=\"_blank\">Jupyter</a>,\n",
        "    <a href=\"stochastic_dynamics.pdf\" target=\"_blank\">PDF</a>\n",
        "5.  <a href=\"wealth_distribution.html\" target=\"_blank\">Wealth Distribution,\n",
        "    Multiplicative Processes, and Inequality</a>,\n",
        "    <a href=\"wealth_distribution.ipynb\" target=\"_blank\">Jupyter</a>,\n",
        "    <a href=\"wealth_distribution.pdf\" target=\"_blank\">PDF</a>"
      ],
      "id": "3ef0bd14-e3cb-45ff-b5f6-665acad5ea64"
    }
  ],
  "nbformat": 4,
  "nbformat_minor": 5,
  "metadata": {
    "kernelspec": {
      "display_name": "Python 3",
      "language": "python",
      "name": "python3"
    }
  }
}