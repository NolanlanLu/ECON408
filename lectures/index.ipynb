{
  "cells": [
    {
      "cell_type": "markdown",
      "metadata": {},
      "source": [
        "# ECON408: Computational Methods in Macroeconomics\n",
        "\n",
        "To use with Jupyter, clone the repository or download the notebooks.\n",
        "\n",
        "# Lectures\n",
        "\n",
        "1.  <a href=\"intro.html\" target=\"_blank\">Introduction</a>,\n",
        "    <a href=\"intro.ipynb\" target=\"_blank\">Jupyter</a>,\n",
        "    <a href=\"intro.pdf\" target=\"_blank\">PDF</a>"
      ],
      "id": "e2cd10b3-51f1-4b7e-998f-f6c7e0e83a57"
    }
  ],
  "nbformat": 4,
  "nbformat_minor": 5,
  "metadata": {
    "kernelspec": {
      "display_name": "Python 3",
      "language": "python",
      "name": "python3"
    }
  }
}